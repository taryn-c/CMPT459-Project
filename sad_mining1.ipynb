{
 "cells": [
  {
   "cell_type": "markdown",
   "metadata": {},
   "source": [
    "# Phase 1: "
   ]
  },
  {
   "cell_type": "code",
   "execution_count": 1,
   "metadata": {},
   "outputs": [],
   "source": [
    "import numpy as np \n",
    "import pandas as pd\n",
    "import matplotlib.pyplot as plt\n",
    "import seaborn as sns\n",
    "import re\n",
    "from sklearn.feature_extraction.text import TfidfVectorizer, CountVectorizer\n",
    "color = sns.color_palette()"
   ]
  },
  {
   "cell_type": "code",
   "execution_count": 2,
   "metadata": {},
   "outputs": [
    {
     "data": {
      "text/html": [
       "<div>\n",
       "<style scoped>\n",
       "    .dataframe tbody tr th:only-of-type {\n",
       "        vertical-align: middle;\n",
       "    }\n",
       "\n",
       "    .dataframe tbody tr th {\n",
       "        vertical-align: top;\n",
       "    }\n",
       "\n",
       "    .dataframe thead th {\n",
       "        text-align: right;\n",
       "    }\n",
       "</style>\n",
       "<table border=\"1\" class=\"dataframe\">\n",
       "  <thead>\n",
       "    <tr style=\"text-align: right;\">\n",
       "      <th></th>\n",
       "      <th>bathrooms</th>\n",
       "      <th>bedrooms</th>\n",
       "      <th>building_id</th>\n",
       "      <th>created</th>\n",
       "      <th>description</th>\n",
       "      <th>display_address</th>\n",
       "      <th>features</th>\n",
       "      <th>latitude</th>\n",
       "      <th>listing_id</th>\n",
       "      <th>longitude</th>\n",
       "      <th>manager_id</th>\n",
       "      <th>photos</th>\n",
       "      <th>price</th>\n",
       "      <th>street_address</th>\n",
       "      <th>interest_level</th>\n",
       "    </tr>\n",
       "  </thead>\n",
       "  <tbody>\n",
       "    <tr>\n",
       "      <td>4</td>\n",
       "      <td>1.0</td>\n",
       "      <td>1</td>\n",
       "      <td>8579a0b0d54db803821a35a4a615e97a</td>\n",
       "      <td>2016-06-16 05:55:27</td>\n",
       "      <td>Spacious 1 Bedroom 1 Bathroom in Williamsburg!...</td>\n",
       "      <td>145 Borinquen Place</td>\n",
       "      <td>[Dining Room, Pre-War, Laundry in Building, Di...</td>\n",
       "      <td>40.7108</td>\n",
       "      <td>7170325</td>\n",
       "      <td>-73.9539</td>\n",
       "      <td>a10db4590843d78c784171a107bdacb4</td>\n",
       "      <td>[https://photos.renthop.com/2/7170325_3bb5ac84...</td>\n",
       "      <td>2400</td>\n",
       "      <td>145 Borinquen Place</td>\n",
       "      <td>medium</td>\n",
       "    </tr>\n",
       "    <tr>\n",
       "      <td>6</td>\n",
       "      <td>1.0</td>\n",
       "      <td>2</td>\n",
       "      <td>b8e75fc949a6cd8225b455648a951712</td>\n",
       "      <td>2016-06-01 05:44:33</td>\n",
       "      <td>BRAND NEW GUT RENOVATED TRUE 2 BEDROOMFind you...</td>\n",
       "      <td>East 44th</td>\n",
       "      <td>[Doorman, Elevator, Laundry in Building, Dishw...</td>\n",
       "      <td>40.7513</td>\n",
       "      <td>7092344</td>\n",
       "      <td>-73.9722</td>\n",
       "      <td>955db33477af4f40004820b4aed804a0</td>\n",
       "      <td>[https://photos.renthop.com/2/7092344_7663c19a...</td>\n",
       "      <td>3800</td>\n",
       "      <td>230 East 44th</td>\n",
       "      <td>low</td>\n",
       "    </tr>\n",
       "    <tr>\n",
       "      <td>9</td>\n",
       "      <td>1.0</td>\n",
       "      <td>2</td>\n",
       "      <td>cd759a988b8f23924b5a2058d5ab2b49</td>\n",
       "      <td>2016-06-14 15:19:59</td>\n",
       "      <td>**FLEX 2 BEDROOM WITH FULL PRESSURIZED WALL**L...</td>\n",
       "      <td>East 56th Street</td>\n",
       "      <td>[Doorman, Elevator, Laundry in Building, Laund...</td>\n",
       "      <td>40.7575</td>\n",
       "      <td>7158677</td>\n",
       "      <td>-73.9625</td>\n",
       "      <td>c8b10a317b766204f08e613cef4ce7a0</td>\n",
       "      <td>[https://photos.renthop.com/2/7158677_c897a134...</td>\n",
       "      <td>3495</td>\n",
       "      <td>405 East 56th Street</td>\n",
       "      <td>medium</td>\n",
       "    </tr>\n",
       "    <tr>\n",
       "      <td>10</td>\n",
       "      <td>1.5</td>\n",
       "      <td>3</td>\n",
       "      <td>53a5b119ba8f7b61d4e010512e0dfc85</td>\n",
       "      <td>2016-06-24 07:54:24</td>\n",
       "      <td>A Brand New 3 Bedroom 1.5 bath ApartmentEnjoy ...</td>\n",
       "      <td>Metropolitan Avenue</td>\n",
       "      <td>[]</td>\n",
       "      <td>40.7145</td>\n",
       "      <td>7211212</td>\n",
       "      <td>-73.9425</td>\n",
       "      <td>5ba989232d0489da1b5f2c45f6688adc</td>\n",
       "      <td>[https://photos.renthop.com/2/7211212_1ed4542e...</td>\n",
       "      <td>3000</td>\n",
       "      <td>792 Metropolitan Avenue</td>\n",
       "      <td>medium</td>\n",
       "    </tr>\n",
       "    <tr>\n",
       "      <td>15</td>\n",
       "      <td>1.0</td>\n",
       "      <td>0</td>\n",
       "      <td>bfb9405149bfff42a92980b594c28234</td>\n",
       "      <td>2016-06-28 03:50:23</td>\n",
       "      <td>Over-sized Studio w abundant closets. Availabl...</td>\n",
       "      <td>East 34th Street</td>\n",
       "      <td>[Doorman, Elevator, Fitness Center, Laundry in...</td>\n",
       "      <td>40.7439</td>\n",
       "      <td>7225292</td>\n",
       "      <td>-73.9743</td>\n",
       "      <td>2c3b41f588fbb5234d8a1e885a436cfa</td>\n",
       "      <td>[https://photos.renthop.com/2/7225292_901f1984...</td>\n",
       "      <td>2795</td>\n",
       "      <td>340 East 34th Street</td>\n",
       "      <td>low</td>\n",
       "    </tr>\n",
       "    <tr>\n",
       "      <td>...</td>\n",
       "      <td>...</td>\n",
       "      <td>...</td>\n",
       "      <td>...</td>\n",
       "      <td>...</td>\n",
       "      <td>...</td>\n",
       "      <td>...</td>\n",
       "      <td>...</td>\n",
       "      <td>...</td>\n",
       "      <td>...</td>\n",
       "      <td>...</td>\n",
       "      <td>...</td>\n",
       "      <td>...</td>\n",
       "      <td>...</td>\n",
       "      <td>...</td>\n",
       "      <td>...</td>\n",
       "    </tr>\n",
       "    <tr>\n",
       "      <td>124000</td>\n",
       "      <td>1.0</td>\n",
       "      <td>3</td>\n",
       "      <td>92bbbf38baadfde0576fc496bd41749c</td>\n",
       "      <td>2016-04-05 03:58:33</td>\n",
       "      <td>There is 700 square feet of recently renovated...</td>\n",
       "      <td>W 171 Street</td>\n",
       "      <td>[Elevator, Dishwasher, Hardwood Floors]</td>\n",
       "      <td>40.8433</td>\n",
       "      <td>6824800</td>\n",
       "      <td>-73.9396</td>\n",
       "      <td>a61e21da3ba18c7a3d54cfdcc247e1f8</td>\n",
       "      <td>[https://photos.renthop.com/2/6824800_0682be16...</td>\n",
       "      <td>2800</td>\n",
       "      <td>620 W 171 Street</td>\n",
       "      <td>low</td>\n",
       "    </tr>\n",
       "    <tr>\n",
       "      <td>124002</td>\n",
       "      <td>1.0</td>\n",
       "      <td>2</td>\n",
       "      <td>5565db9b7cba3603834c4aa6f2950960</td>\n",
       "      <td>2016-04-02 02:25:31</td>\n",
       "      <td>2 bedroom apartment with updated kitchen, rece...</td>\n",
       "      <td>Broadway</td>\n",
       "      <td>[Common Outdoor Space, Cats Allowed, Dogs Allo...</td>\n",
       "      <td>40.8198</td>\n",
       "      <td>6813268</td>\n",
       "      <td>-73.9578</td>\n",
       "      <td>8f90e5e10e8a2d7cf997f016d89230eb</td>\n",
       "      <td>[https://photos.renthop.com/2/6813268_1e6fcc32...</td>\n",
       "      <td>2395</td>\n",
       "      <td>3333 Broadway</td>\n",
       "      <td>medium</td>\n",
       "    </tr>\n",
       "    <tr>\n",
       "      <td>124004</td>\n",
       "      <td>1.0</td>\n",
       "      <td>1</td>\n",
       "      <td>67997a128056ee1ed7d046bbb856e3c7</td>\n",
       "      <td>2016-04-26 05:42:03</td>\n",
       "      <td>No Brokers Fee * Never Lived 1 Bedroom 1 Bathr...</td>\n",
       "      <td>210 Brighton 15th St</td>\n",
       "      <td>[Dining Room, Elevator, Pre-War, Laundry in Bu...</td>\n",
       "      <td>40.5765</td>\n",
       "      <td>6927093</td>\n",
       "      <td>-73.9554</td>\n",
       "      <td>a10db4590843d78c784171a107bdacb4</td>\n",
       "      <td>[https://photos.renthop.com/2/6927093_93a52104...</td>\n",
       "      <td>1850</td>\n",
       "      <td>210 Brighton 15th St</td>\n",
       "      <td>medium</td>\n",
       "    </tr>\n",
       "    <tr>\n",
       "      <td>124008</td>\n",
       "      <td>1.0</td>\n",
       "      <td>2</td>\n",
       "      <td>3c0574a740154806c18bdf1fddd3d966</td>\n",
       "      <td>2016-04-19 02:47:33</td>\n",
       "      <td>Wonderful Bright Chelsea 2 Bedroom apartment o...</td>\n",
       "      <td>West 21st Street</td>\n",
       "      <td>[Pre-War, Laundry in Unit, Dishwasher, No Fee,...</td>\n",
       "      <td>40.7448</td>\n",
       "      <td>6892816</td>\n",
       "      <td>-74.0017</td>\n",
       "      <td>c3cd45f4381ac371507090e9ffabea80</td>\n",
       "      <td>[https://photos.renthop.com/2/6892816_1a8d087a...</td>\n",
       "      <td>4195</td>\n",
       "      <td>350 West 21st Street</td>\n",
       "      <td>medium</td>\n",
       "    </tr>\n",
       "    <tr>\n",
       "      <td>124009</td>\n",
       "      <td>1.0</td>\n",
       "      <td>3</td>\n",
       "      <td>d89f514c3ed0abaae52cba7017ac0701</td>\n",
       "      <td>2016-04-20 05:34:00</td>\n",
       "      <td>***PRIME MIDTOWN EAST OFF PARK AVE***TRUE 3 BE...</td>\n",
       "      <td>E 54th St</td>\n",
       "      <td>[Dining Room, Elevator, Laundry in Building, D...</td>\n",
       "      <td>40.7594</td>\n",
       "      <td>6901023</td>\n",
       "      <td>-73.9712</td>\n",
       "      <td>e90f2ded843cdb2efd65ef47d9fc8029</td>\n",
       "      <td>[https://photos.renthop.com/2/6901023_02052d90...</td>\n",
       "      <td>4280</td>\n",
       "      <td>123 E 54th St</td>\n",
       "      <td>high</td>\n",
       "    </tr>\n",
       "  </tbody>\n",
       "</table>\n",
       "<p>49352 rows × 15 columns</p>\n",
       "</div>"
      ],
      "text/plain": [
       "        bathrooms  bedrooms                       building_id  \\\n",
       "4             1.0         1  8579a0b0d54db803821a35a4a615e97a   \n",
       "6             1.0         2  b8e75fc949a6cd8225b455648a951712   \n",
       "9             1.0         2  cd759a988b8f23924b5a2058d5ab2b49   \n",
       "10            1.5         3  53a5b119ba8f7b61d4e010512e0dfc85   \n",
       "15            1.0         0  bfb9405149bfff42a92980b594c28234   \n",
       "...           ...       ...                               ...   \n",
       "124000        1.0         3  92bbbf38baadfde0576fc496bd41749c   \n",
       "124002        1.0         2  5565db9b7cba3603834c4aa6f2950960   \n",
       "124004        1.0         1  67997a128056ee1ed7d046bbb856e3c7   \n",
       "124008        1.0         2  3c0574a740154806c18bdf1fddd3d966   \n",
       "124009        1.0         3  d89f514c3ed0abaae52cba7017ac0701   \n",
       "\n",
       "                    created  \\\n",
       "4       2016-06-16 05:55:27   \n",
       "6       2016-06-01 05:44:33   \n",
       "9       2016-06-14 15:19:59   \n",
       "10      2016-06-24 07:54:24   \n",
       "15      2016-06-28 03:50:23   \n",
       "...                     ...   \n",
       "124000  2016-04-05 03:58:33   \n",
       "124002  2016-04-02 02:25:31   \n",
       "124004  2016-04-26 05:42:03   \n",
       "124008  2016-04-19 02:47:33   \n",
       "124009  2016-04-20 05:34:00   \n",
       "\n",
       "                                              description  \\\n",
       "4       Spacious 1 Bedroom 1 Bathroom in Williamsburg!...   \n",
       "6       BRAND NEW GUT RENOVATED TRUE 2 BEDROOMFind you...   \n",
       "9       **FLEX 2 BEDROOM WITH FULL PRESSURIZED WALL**L...   \n",
       "10      A Brand New 3 Bedroom 1.5 bath ApartmentEnjoy ...   \n",
       "15      Over-sized Studio w abundant closets. Availabl...   \n",
       "...                                                   ...   \n",
       "124000  There is 700 square feet of recently renovated...   \n",
       "124002  2 bedroom apartment with updated kitchen, rece...   \n",
       "124004  No Brokers Fee * Never Lived 1 Bedroom 1 Bathr...   \n",
       "124008  Wonderful Bright Chelsea 2 Bedroom apartment o...   \n",
       "124009  ***PRIME MIDTOWN EAST OFF PARK AVE***TRUE 3 BE...   \n",
       "\n",
       "             display_address  \\\n",
       "4        145 Borinquen Place   \n",
       "6                  East 44th   \n",
       "9           East 56th Street   \n",
       "10       Metropolitan Avenue   \n",
       "15          East 34th Street   \n",
       "...                      ...   \n",
       "124000          W 171 Street   \n",
       "124002              Broadway   \n",
       "124004  210 Brighton 15th St   \n",
       "124008      West 21st Street   \n",
       "124009             E 54th St   \n",
       "\n",
       "                                                 features  latitude  \\\n",
       "4       [Dining Room, Pre-War, Laundry in Building, Di...   40.7108   \n",
       "6       [Doorman, Elevator, Laundry in Building, Dishw...   40.7513   \n",
       "9       [Doorman, Elevator, Laundry in Building, Laund...   40.7575   \n",
       "10                                                     []   40.7145   \n",
       "15      [Doorman, Elevator, Fitness Center, Laundry in...   40.7439   \n",
       "...                                                   ...       ...   \n",
       "124000            [Elevator, Dishwasher, Hardwood Floors]   40.8433   \n",
       "124002  [Common Outdoor Space, Cats Allowed, Dogs Allo...   40.8198   \n",
       "124004  [Dining Room, Elevator, Pre-War, Laundry in Bu...   40.5765   \n",
       "124008  [Pre-War, Laundry in Unit, Dishwasher, No Fee,...   40.7448   \n",
       "124009  [Dining Room, Elevator, Laundry in Building, D...   40.7594   \n",
       "\n",
       "        listing_id  longitude                        manager_id  \\\n",
       "4          7170325   -73.9539  a10db4590843d78c784171a107bdacb4   \n",
       "6          7092344   -73.9722  955db33477af4f40004820b4aed804a0   \n",
       "9          7158677   -73.9625  c8b10a317b766204f08e613cef4ce7a0   \n",
       "10         7211212   -73.9425  5ba989232d0489da1b5f2c45f6688adc   \n",
       "15         7225292   -73.9743  2c3b41f588fbb5234d8a1e885a436cfa   \n",
       "...            ...        ...                               ...   \n",
       "124000     6824800   -73.9396  a61e21da3ba18c7a3d54cfdcc247e1f8   \n",
       "124002     6813268   -73.9578  8f90e5e10e8a2d7cf997f016d89230eb   \n",
       "124004     6927093   -73.9554  a10db4590843d78c784171a107bdacb4   \n",
       "124008     6892816   -74.0017  c3cd45f4381ac371507090e9ffabea80   \n",
       "124009     6901023   -73.9712  e90f2ded843cdb2efd65ef47d9fc8029   \n",
       "\n",
       "                                                   photos  price  \\\n",
       "4       [https://photos.renthop.com/2/7170325_3bb5ac84...   2400   \n",
       "6       [https://photos.renthop.com/2/7092344_7663c19a...   3800   \n",
       "9       [https://photos.renthop.com/2/7158677_c897a134...   3495   \n",
       "10      [https://photos.renthop.com/2/7211212_1ed4542e...   3000   \n",
       "15      [https://photos.renthop.com/2/7225292_901f1984...   2795   \n",
       "...                                                   ...    ...   \n",
       "124000  [https://photos.renthop.com/2/6824800_0682be16...   2800   \n",
       "124002  [https://photos.renthop.com/2/6813268_1e6fcc32...   2395   \n",
       "124004  [https://photos.renthop.com/2/6927093_93a52104...   1850   \n",
       "124008  [https://photos.renthop.com/2/6892816_1a8d087a...   4195   \n",
       "124009  [https://photos.renthop.com/2/6901023_02052d90...   4280   \n",
       "\n",
       "                 street_address interest_level  \n",
       "4           145 Borinquen Place         medium  \n",
       "6                 230 East 44th            low  \n",
       "9          405 East 56th Street         medium  \n",
       "10      792 Metropolitan Avenue         medium  \n",
       "15         340 East 34th Street            low  \n",
       "...                         ...            ...  \n",
       "124000         620 W 171 Street            low  \n",
       "124002            3333 Broadway         medium  \n",
       "124004     210 Brighton 15th St         medium  \n",
       "124008     350 West 21st Street         medium  \n",
       "124009            123 E 54th St           high  \n",
       "\n",
       "[49352 rows x 15 columns]"
      ]
     },
     "execution_count": 2,
     "metadata": {},
     "output_type": "execute_result"
    }
   ],
   "source": [
    "train_df = pd.read_json(\"train.json\")\n",
    "train_df"
   ]
  },
  {
   "cell_type": "code",
   "execution_count": 3,
   "metadata": {},
   "outputs": [
    {
     "data": {
      "text/plain": [
       "bathrooms          float64\n",
       "bedrooms             int64\n",
       "building_id         object\n",
       "created             object\n",
       "description         object\n",
       "display_address     object\n",
       "features            object\n",
       "latitude           float64\n",
       "listing_id           int64\n",
       "longitude          float64\n",
       "manager_id          object\n",
       "photos              object\n",
       "price                int64\n",
       "street_address      object\n",
       "interest_level      object\n",
       "dtype: object"
      ]
     },
     "execution_count": 3,
     "metadata": {},
     "output_type": "execute_result"
    }
   ],
   "source": [
    "train_df.dtypes"
   ]
  },
  {
   "cell_type": "markdown",
   "metadata": {},
   "source": [
    "## Visualization of target variable (interest level)"
   ]
  },
  {
   "cell_type": "code",
   "execution_count": 4,
   "metadata": {},
   "outputs": [
    {
     "data": {
      "image/png": "[encoded data removed]",
      "text/plain": [
       "<Figure size 432x432 with 1 Axes>"
      ]
     },
     "metadata": {
      "needs_background": "light"
     },
     "output_type": "display_data"
    }
   ],
   "source": [
    "int_level = train_df['interest_level'].value_counts()\n",
    "\n",
    "plt.figure(figsize=(6,6))\n",
    "sns.barplot(int_level.index, int_level.values, alpha=1, color=color[0])\n",
    "plt.ylabel('Number of Occurrences', fontsize=14, fontweight='bold')\n",
    "plt.xlabel('Interest level', fontsize=14, fontweight='bold')\n",
    "plt.xticks(fontsize=10, fontweight='bold')\n",
    "plt.yticks(fontsize=10, fontweight='bold')\n",
    "plt.show()"
   ]
  },
  {
   "cell_type": "code",
   "execution_count": 5,
   "metadata": {
    "scrolled": true
   },
   "outputs": [
    {
     "data": {
      "image/png": "[encoded data removed]",
      "text/plain": [
       "<Figure size 432x288 with 1 Axes>"
      ]
     },
     "metadata": {},
     "output_type": "display_data"
    }
   ],
   "source": [
    "plt.pie(int_level.values,(0,0,0),int_level.index, autopct='%1.0f%%', \n",
    "       shadow=False, startangle=0,   \n",
    "       pctdistance=1.2,labeldistance=1.4)\n",
    "plt.axis('equal')\n",
    "plt.show()"
   ]
  },
  {
   "cell_type": "markdown",
   "metadata": {},
   "source": [
    "## Hour-wise listing trend"
   ]
  },
  {
   "cell_type": "code",
   "execution_count": 6,
   "metadata": {},
   "outputs": [
    {
     "data": {
      "image/png": "[encoded data removed]",
      "text/plain": [
       "<Figure size 864x432 with 1 Axes>"
      ]
     },
     "metadata": {
      "needs_background": "light"
     },
     "output_type": "display_data"
    }
   ],
   "source": [
    "train_df[\"created\"] = pd.to_datetime(train_df[\"created\"])\n",
    "train_df[\"hour_created\"] = train_df[\"created\"].dt.hour\n",
    "hour = train_df['hour_created'].value_counts()\n",
    "plt.figure(figsize=(12,6))\n",
    "sns.barplot(hour.index, hour.values, alpha=0.8, color=color[1])\n",
    "plt.xlabel('hours', fontsize=12, fontweight='bold')\n",
    "plt.ylabel('# created', fontsize=12, fontweight='bold')\n",
    "plt.xticks(rotation='vertical', fontweight='bold')\n",
    "plt.yticks(fontweight='bold')\n",
    "plt.show()"
   ]
  },
  {
   "cell_type": "code",
   "execution_count": 7,
   "metadata": {},
   "outputs": [
    {
     "name": "stdout",
     "output_type": "stream",
     "text": [
      "Busiest 5:\n",
      " 2    10596\n",
      "3     8318\n",
      "5     7954\n",
      "1     5749\n",
      "4     5021\n",
      "Name: hour_created, dtype: int64\n"
     ]
    }
   ],
   "source": [
    "top5 = hour[:5]\n",
    "print(\"Busiest 5:\\n\",top5)"
   ]
  },
  {
   "cell_type": "markdown",
   "metadata": {},
   "source": [
    "## Visualizing features"
   ]
  },
  {
   "cell_type": "code",
   "execution_count": 8,
   "metadata": {},
   "outputs": [
    {
     "data": {
      "image/png": "[encoded data removed]",
      "text/plain": [
       "<Figure size 576x432 with 1 Axes>"
      ]
     },
     "metadata": {
      "needs_background": "light"
     },
     "output_type": "display_data"
    }
   ],
   "source": [
    "plt.figure(figsize=(8,6))\n",
    "sns.distplot(train_df.price.values, bins=50, kde=False)\n",
    "plt.xlabel('price', fontsize=12, fontweight='bold')\n",
    "plt.xticks(fontweight='bold')\n",
    "plt.yticks(fontweight='bold')\n",
    "plt.show()"
   ]
  },
  {
   "cell_type": "code",
   "execution_count": 9,
   "metadata": {},
   "outputs": [
    {
     "data": {
      "image/png": "[encoded data removed]",
      "text/plain": [
       "<Figure size 576x432 with 1 Axes>"
      ]
     },
     "metadata": {
      "needs_background": "light"
     },
     "output_type": "display_data"
    }
   ],
   "source": [
    "plt.figure(figsize=(8,6))\n",
    "sns.distplot(train_df.bathrooms.values, kde=False)\n",
    "plt.xlabel('bathroom', fontsize=12, fontweight='bold')\n",
    "plt.xticks(fontweight='bold')\n",
    "plt.yticks(fontweight='bold')\n",
    "plt.show()"
   ]
  },
  {
   "cell_type": "code",
   "execution_count": 10,
   "metadata": {},
   "outputs": [
    {
     "data": {
      "image/png": "[encoded data removed]",
      "text/plain": [
       "<Figure size 576x432 with 1 Axes>"
      ]
     },
     "metadata": {
      "needs_background": "light"
     },
     "output_type": "display_data"
    }
   ],
   "source": [
    "plt.figure(figsize=(8,6))\n",
    "sns.distplot(train_df.bedrooms.values, kde=False)\n",
    "plt.xlabel('bedroom', fontsize=12, fontweight='bold')\n",
    "plt.xticks(fontweight='bold')\n",
    "plt.yticks(fontweight='bold')\n",
    "plt.show()"
   ]
  },
  {
   "cell_type": "code",
   "execution_count": 11,
   "metadata": {},
   "outputs": [
    {
     "data": {
      "image/png": "[encoded data removed]",
      "text/plain": [
       "<Figure size 576x432 with 1 Axes>"
      ]
     },
     "metadata": {
      "needs_background": "light"
     },
     "output_type": "display_data"
    }
   ],
   "source": [
    "plt.figure(figsize=(8,6))\n",
    "sns.distplot(train_df.listing_id.values, bins=50, kde=False)\n",
    "plt.xlabel('listing_id', fontsize=12, fontweight='bold')\n",
    "plt.xticks(fontweight='bold')\n",
    "plt.yticks(fontweight='bold')\n",
    "plt.show()"
   ]
  },
  {
   "cell_type": "code",
   "execution_count": 12,
   "metadata": {},
   "outputs": [
    {
     "data": {
      "image/png": "[encoded data removed]",
      "text/plain": [
       "<Figure size 576x432 with 1 Axes>"
      ]
     },
     "metadata": {
      "needs_background": "light"
     },
     "output_type": "display_data"
    }
   ],
   "source": [
    "plt.figure(figsize=(8,6))\n",
    "sns.distplot(train_df.latitude.values, bins=50, kde=False)\n",
    "plt.xlabel('latitude', fontsize=12, fontweight='bold')\n",
    "plt.xticks(fontweight='bold')\n",
    "plt.yticks(fontweight='bold')\n",
    "plt.show()"
   ]
  },
  {
   "cell_type": "code",
   "execution_count": 13,
   "metadata": {},
   "outputs": [
    {
     "data": {
      "image/png": "[encoded data removed]",
      "text/plain": [
       "<Figure size 576x432 with 1 Axes>"
      ]
     },
     "metadata": {
      "needs_background": "light"
     },
     "output_type": "display_data"
    }
   ],
   "source": [
    "plt.figure(figsize=(8,6))\n",
    "sns.distplot(train_df.longitude.values, bins=50, kde=False)\n",
    "plt.xlabel('longitude', fontsize=12, fontweight='bold')\n",
    "plt.xticks(fontweight='bold')\n",
    "plt.yticks(fontweight='bold')\n",
    "plt.show()\n"
   ]
  },
  {
   "cell_type": "markdown",
   "metadata": {},
   "source": [
    "## Handling missing values"
   ]
  },
  {
   "cell_type": "code",
   "execution_count": 14,
   "metadata": {},
   "outputs": [
    {
     "data": {
      "text/plain": [
       "bathrooms          0\n",
       "bedrooms           0\n",
       "building_id        0\n",
       "created            0\n",
       "description        0\n",
       "display_address    0\n",
       "features           0\n",
       "latitude           0\n",
       "listing_id         0\n",
       "longitude          0\n",
       "manager_id         0\n",
       "photos             0\n",
       "price              0\n",
       "street_address     0\n",
       "interest_level     0\n",
       "hour_created       0\n",
       "dtype: int64"
      ]
     },
     "execution_count": 14,
     "metadata": {},
     "output_type": "execute_result"
    }
   ],
   "source": [
    "# check if there are any null/nan values\n",
    "train_df.isnull().sum()"
   ]
  },
  {
   "cell_type": "markdown",
   "metadata": {},
   "source": [
    "### Bedrooms"
   ]
  },
  {
   "cell_type": "code",
   "execution_count": 15,
   "metadata": {},
   "outputs": [
    {
     "data": {
      "text/html": [
       "<div>\n",
       "<style scoped>\n",
       "    .dataframe tbody tr th:only-of-type {\n",
       "        vertical-align: middle;\n",
       "    }\n",
       "\n",
       "    .dataframe tbody tr th {\n",
       "        vertical-align: top;\n",
       "    }\n",
       "\n",
       "    .dataframe thead th {\n",
       "        text-align: right;\n",
       "    }\n",
       "</style>\n",
       "<table border=\"1\" class=\"dataframe\">\n",
       "  <thead>\n",
       "    <tr style=\"text-align: right;\">\n",
       "      <th></th>\n",
       "      <th>bathrooms</th>\n",
       "      <th>building_id</th>\n",
       "      <th>created</th>\n",
       "      <th>description</th>\n",
       "      <th>display_address</th>\n",
       "      <th>features</th>\n",
       "      <th>latitude</th>\n",
       "      <th>listing_id</th>\n",
       "      <th>longitude</th>\n",
       "      <th>manager_id</th>\n",
       "      <th>photos</th>\n",
       "      <th>price</th>\n",
       "      <th>street_address</th>\n",
       "      <th>interest_level</th>\n",
       "      <th>hour_created</th>\n",
       "    </tr>\n",
       "    <tr>\n",
       "      <th>bedrooms</th>\n",
       "      <th></th>\n",
       "      <th></th>\n",
       "      <th></th>\n",
       "      <th></th>\n",
       "      <th></th>\n",
       "      <th></th>\n",
       "      <th></th>\n",
       "      <th></th>\n",
       "      <th></th>\n",
       "      <th></th>\n",
       "      <th></th>\n",
       "      <th></th>\n",
       "      <th></th>\n",
       "      <th></th>\n",
       "      <th></th>\n",
       "    </tr>\n",
       "  </thead>\n",
       "  <tbody>\n",
       "    <tr>\n",
       "      <td>0</td>\n",
       "      <td>9475</td>\n",
       "      <td>9475</td>\n",
       "      <td>9475</td>\n",
       "      <td>9475</td>\n",
       "      <td>9475</td>\n",
       "      <td>9475</td>\n",
       "      <td>9475</td>\n",
       "      <td>9475</td>\n",
       "      <td>9475</td>\n",
       "      <td>9475</td>\n",
       "      <td>9475</td>\n",
       "      <td>9475</td>\n",
       "      <td>9475</td>\n",
       "      <td>9475</td>\n",
       "      <td>9475</td>\n",
       "    </tr>\n",
       "    <tr>\n",
       "      <td>1</td>\n",
       "      <td>15752</td>\n",
       "      <td>15752</td>\n",
       "      <td>15752</td>\n",
       "      <td>15752</td>\n",
       "      <td>15752</td>\n",
       "      <td>15752</td>\n",
       "      <td>15752</td>\n",
       "      <td>15752</td>\n",
       "      <td>15752</td>\n",
       "      <td>15752</td>\n",
       "      <td>15752</td>\n",
       "      <td>15752</td>\n",
       "      <td>15752</td>\n",
       "      <td>15752</td>\n",
       "      <td>15752</td>\n",
       "    </tr>\n",
       "    <tr>\n",
       "      <td>2</td>\n",
       "      <td>14623</td>\n",
       "      <td>14623</td>\n",
       "      <td>14623</td>\n",
       "      <td>14623</td>\n",
       "      <td>14623</td>\n",
       "      <td>14623</td>\n",
       "      <td>14623</td>\n",
       "      <td>14623</td>\n",
       "      <td>14623</td>\n",
       "      <td>14623</td>\n",
       "      <td>14623</td>\n",
       "      <td>14623</td>\n",
       "      <td>14623</td>\n",
       "      <td>14623</td>\n",
       "      <td>14623</td>\n",
       "    </tr>\n",
       "    <tr>\n",
       "      <td>3</td>\n",
       "      <td>7276</td>\n",
       "      <td>7276</td>\n",
       "      <td>7276</td>\n",
       "      <td>7276</td>\n",
       "      <td>7276</td>\n",
       "      <td>7276</td>\n",
       "      <td>7276</td>\n",
       "      <td>7276</td>\n",
       "      <td>7276</td>\n",
       "      <td>7276</td>\n",
       "      <td>7276</td>\n",
       "      <td>7276</td>\n",
       "      <td>7276</td>\n",
       "      <td>7276</td>\n",
       "      <td>7276</td>\n",
       "    </tr>\n",
       "    <tr>\n",
       "      <td>4</td>\n",
       "      <td>1929</td>\n",
       "      <td>1929</td>\n",
       "      <td>1929</td>\n",
       "      <td>1929</td>\n",
       "      <td>1929</td>\n",
       "      <td>1929</td>\n",
       "      <td>1929</td>\n",
       "      <td>1929</td>\n",
       "      <td>1929</td>\n",
       "      <td>1929</td>\n",
       "      <td>1929</td>\n",
       "      <td>1929</td>\n",
       "      <td>1929</td>\n",
       "      <td>1929</td>\n",
       "      <td>1929</td>\n",
       "    </tr>\n",
       "    <tr>\n",
       "      <td>5</td>\n",
       "      <td>247</td>\n",
       "      <td>247</td>\n",
       "      <td>247</td>\n",
       "      <td>247</td>\n",
       "      <td>247</td>\n",
       "      <td>247</td>\n",
       "      <td>247</td>\n",
       "      <td>247</td>\n",
       "      <td>247</td>\n",
       "      <td>247</td>\n",
       "      <td>247</td>\n",
       "      <td>247</td>\n",
       "      <td>247</td>\n",
       "      <td>247</td>\n",
       "      <td>247</td>\n",
       "    </tr>\n",
       "    <tr>\n",
       "      <td>6</td>\n",
       "      <td>46</td>\n",
       "      <td>46</td>\n",
       "      <td>46</td>\n",
       "      <td>46</td>\n",
       "      <td>46</td>\n",
       "      <td>46</td>\n",
       "      <td>46</td>\n",
       "      <td>46</td>\n",
       "      <td>46</td>\n",
       "      <td>46</td>\n",
       "      <td>46</td>\n",
       "      <td>46</td>\n",
       "      <td>46</td>\n",
       "      <td>46</td>\n",
       "      <td>46</td>\n",
       "    </tr>\n",
       "    <tr>\n",
       "      <td>7</td>\n",
       "      <td>2</td>\n",
       "      <td>2</td>\n",
       "      <td>2</td>\n",
       "      <td>2</td>\n",
       "      <td>2</td>\n",
       "      <td>2</td>\n",
       "      <td>2</td>\n",
       "      <td>2</td>\n",
       "      <td>2</td>\n",
       "      <td>2</td>\n",
       "      <td>2</td>\n",
       "      <td>2</td>\n",
       "      <td>2</td>\n",
       "      <td>2</td>\n",
       "      <td>2</td>\n",
       "    </tr>\n",
       "    <tr>\n",
       "      <td>8</td>\n",
       "      <td>2</td>\n",
       "      <td>2</td>\n",
       "      <td>2</td>\n",
       "      <td>2</td>\n",
       "      <td>2</td>\n",
       "      <td>2</td>\n",
       "      <td>2</td>\n",
       "      <td>2</td>\n",
       "      <td>2</td>\n",
       "      <td>2</td>\n",
       "      <td>2</td>\n",
       "      <td>2</td>\n",
       "      <td>2</td>\n",
       "      <td>2</td>\n",
       "      <td>2</td>\n",
       "    </tr>\n",
       "  </tbody>\n",
       "</table>\n",
       "</div>"
      ],
      "text/plain": [
       "          bathrooms  building_id  created  description  display_address  \\\n",
       "bedrooms                                                                  \n",
       "0              9475         9475     9475         9475             9475   \n",
       "1             15752        15752    15752        15752            15752   \n",
       "2             14623        14623    14623        14623            14623   \n",
       "3              7276         7276     7276         7276             7276   \n",
       "4              1929         1929     1929         1929             1929   \n",
       "5               247          247      247          247              247   \n",
       "6                46           46       46           46               46   \n",
       "7                 2            2        2            2                2   \n",
       "8                 2            2        2            2                2   \n",
       "\n",
       "          features  latitude  listing_id  longitude  manager_id  photos  \\\n",
       "bedrooms                                                                  \n",
       "0             9475      9475        9475       9475        9475    9475   \n",
       "1            15752     15752       15752      15752       15752   15752   \n",
       "2            14623     14623       14623      14623       14623   14623   \n",
       "3             7276      7276        7276       7276        7276    7276   \n",
       "4             1929      1929        1929       1929        1929    1929   \n",
       "5              247       247         247        247         247     247   \n",
       "6               46        46          46         46          46      46   \n",
       "7                2         2           2          2           2       2   \n",
       "8                2         2           2          2           2       2   \n",
       "\n",
       "          price  street_address  interest_level  hour_created  \n",
       "bedrooms                                                       \n",
       "0          9475            9475            9475          9475  \n",
       "1         15752           15752           15752         15752  \n",
       "2         14623           14623           14623         14623  \n",
       "3          7276            7276            7276          7276  \n",
       "4          1929            1929            1929          1929  \n",
       "5           247             247             247           247  \n",
       "6            46              46              46            46  \n",
       "7             2               2               2             2  \n",
       "8             2               2               2             2  "
      ]
     },
     "execution_count": 15,
     "metadata": {},
     "output_type": "execute_result"
    }
   ],
   "source": [
    "# aggregate bedroom values by count\n",
    "train_df.groupby('bedrooms').count()"
   ]
  },
  {
   "cell_type": "code",
   "execution_count": 16,
   "metadata": {
    "scrolled": true
   },
   "outputs": [
    {
     "data": {
      "text/plain": [
       "bathrooms          49352\n",
       "building_id        49352\n",
       "created            49352\n",
       "description        49352\n",
       "display_address    49352\n",
       "features           49352\n",
       "latitude           49352\n",
       "listing_id         49352\n",
       "longitude          49352\n",
       "manager_id         49352\n",
       "photos             49352\n",
       "price              49352\n",
       "street_address     49352\n",
       "interest_level     49352\n",
       "hour_created       49352\n",
       "dtype: int64"
      ]
     },
     "execution_count": 16,
     "metadata": {},
     "output_type": "execute_result"
    }
   ],
   "source": [
    "# sum count of all bedroom values\n",
    "train_df.groupby('bedrooms').count().sum()"
   ]
  },
  {
   "cell_type": "markdown",
   "metadata": {},
   "source": [
    "We found 9475 values with a bedroom count of 0. This is simply too high of a number to assume it is an error. Upon checking some photos, we realized that these are probably studio apartments so no bedrooms makes sense. When we aggregated the count of every value of bedrooms, we found there were no missing values."
   ]
  },
  {
   "cell_type": "markdown",
   "metadata": {},
   "source": [
    "### Bathrooms"
   ]
  },
  {
   "cell_type": "code",
   "execution_count": 17,
   "metadata": {},
   "outputs": [
    {
     "data": {
      "text/html": [
       "<div>\n",
       "<style scoped>\n",
       "    .dataframe tbody tr th:only-of-type {\n",
       "        vertical-align: middle;\n",
       "    }\n",
       "\n",
       "    .dataframe tbody tr th {\n",
       "        vertical-align: top;\n",
       "    }\n",
       "\n",
       "    .dataframe thead th {\n",
       "        text-align: right;\n",
       "    }\n",
       "</style>\n",
       "<table border=\"1\" class=\"dataframe\">\n",
       "  <thead>\n",
       "    <tr style=\"text-align: right;\">\n",
       "      <th></th>\n",
       "      <th>bedrooms</th>\n",
       "      <th>building_id</th>\n",
       "      <th>created</th>\n",
       "      <th>description</th>\n",
       "      <th>display_address</th>\n",
       "      <th>features</th>\n",
       "      <th>latitude</th>\n",
       "      <th>listing_id</th>\n",
       "      <th>longitude</th>\n",
       "      <th>manager_id</th>\n",
       "      <th>photos</th>\n",
       "      <th>price</th>\n",
       "      <th>street_address</th>\n",
       "      <th>interest_level</th>\n",
       "      <th>hour_created</th>\n",
       "    </tr>\n",
       "    <tr>\n",
       "      <th>bathrooms</th>\n",
       "      <th></th>\n",
       "      <th></th>\n",
       "      <th></th>\n",
       "      <th></th>\n",
       "      <th></th>\n",
       "      <th></th>\n",
       "      <th></th>\n",
       "      <th></th>\n",
       "      <th></th>\n",
       "      <th></th>\n",
       "      <th></th>\n",
       "      <th></th>\n",
       "      <th></th>\n",
       "      <th></th>\n",
       "      <th></th>\n",
       "    </tr>\n",
       "  </thead>\n",
       "  <tbody>\n",
       "    <tr>\n",
       "      <td>0.0</td>\n",
       "      <td>313</td>\n",
       "      <td>313</td>\n",
       "      <td>313</td>\n",
       "      <td>313</td>\n",
       "      <td>313</td>\n",
       "      <td>313</td>\n",
       "      <td>313</td>\n",
       "      <td>313</td>\n",
       "      <td>313</td>\n",
       "      <td>313</td>\n",
       "      <td>313</td>\n",
       "      <td>313</td>\n",
       "      <td>313</td>\n",
       "      <td>313</td>\n",
       "      <td>313</td>\n",
       "    </tr>\n",
       "    <tr>\n",
       "      <td>1.0</td>\n",
       "      <td>39422</td>\n",
       "      <td>39422</td>\n",
       "      <td>39422</td>\n",
       "      <td>39422</td>\n",
       "      <td>39422</td>\n",
       "      <td>39422</td>\n",
       "      <td>39422</td>\n",
       "      <td>39422</td>\n",
       "      <td>39422</td>\n",
       "      <td>39422</td>\n",
       "      <td>39422</td>\n",
       "      <td>39422</td>\n",
       "      <td>39422</td>\n",
       "      <td>39422</td>\n",
       "      <td>39422</td>\n",
       "    </tr>\n",
       "    <tr>\n",
       "      <td>1.5</td>\n",
       "      <td>645</td>\n",
       "      <td>645</td>\n",
       "      <td>645</td>\n",
       "      <td>645</td>\n",
       "      <td>645</td>\n",
       "      <td>645</td>\n",
       "      <td>645</td>\n",
       "      <td>645</td>\n",
       "      <td>645</td>\n",
       "      <td>645</td>\n",
       "      <td>645</td>\n",
       "      <td>645</td>\n",
       "      <td>645</td>\n",
       "      <td>645</td>\n",
       "      <td>645</td>\n",
       "    </tr>\n",
       "    <tr>\n",
       "      <td>2.0</td>\n",
       "      <td>7660</td>\n",
       "      <td>7660</td>\n",
       "      <td>7660</td>\n",
       "      <td>7660</td>\n",
       "      <td>7660</td>\n",
       "      <td>7660</td>\n",
       "      <td>7660</td>\n",
       "      <td>7660</td>\n",
       "      <td>7660</td>\n",
       "      <td>7660</td>\n",
       "      <td>7660</td>\n",
       "      <td>7660</td>\n",
       "      <td>7660</td>\n",
       "      <td>7660</td>\n",
       "      <td>7660</td>\n",
       "    </tr>\n",
       "    <tr>\n",
       "      <td>2.5</td>\n",
       "      <td>277</td>\n",
       "      <td>277</td>\n",
       "      <td>277</td>\n",
       "      <td>277</td>\n",
       "      <td>277</td>\n",
       "      <td>277</td>\n",
       "      <td>277</td>\n",
       "      <td>277</td>\n",
       "      <td>277</td>\n",
       "      <td>277</td>\n",
       "      <td>277</td>\n",
       "      <td>277</td>\n",
       "      <td>277</td>\n",
       "      <td>277</td>\n",
       "      <td>277</td>\n",
       "    </tr>\n",
       "    <tr>\n",
       "      <td>3.0</td>\n",
       "      <td>745</td>\n",
       "      <td>745</td>\n",
       "      <td>745</td>\n",
       "      <td>745</td>\n",
       "      <td>745</td>\n",
       "      <td>745</td>\n",
       "      <td>745</td>\n",
       "      <td>745</td>\n",
       "      <td>745</td>\n",
       "      <td>745</td>\n",
       "      <td>745</td>\n",
       "      <td>745</td>\n",
       "      <td>745</td>\n",
       "      <td>745</td>\n",
       "      <td>745</td>\n",
       "    </tr>\n",
       "    <tr>\n",
       "      <td>3.5</td>\n",
       "      <td>70</td>\n",
       "      <td>70</td>\n",
       "      <td>70</td>\n",
       "      <td>70</td>\n",
       "      <td>70</td>\n",
       "      <td>70</td>\n",
       "      <td>70</td>\n",
       "      <td>70</td>\n",
       "      <td>70</td>\n",
       "      <td>70</td>\n",
       "      <td>70</td>\n",
       "      <td>70</td>\n",
       "      <td>70</td>\n",
       "      <td>70</td>\n",
       "      <td>70</td>\n",
       "    </tr>\n",
       "    <tr>\n",
       "      <td>4.0</td>\n",
       "      <td>159</td>\n",
       "      <td>159</td>\n",
       "      <td>159</td>\n",
       "      <td>159</td>\n",
       "      <td>159</td>\n",
       "      <td>159</td>\n",
       "      <td>159</td>\n",
       "      <td>159</td>\n",
       "      <td>159</td>\n",
       "      <td>159</td>\n",
       "      <td>159</td>\n",
       "      <td>159</td>\n",
       "      <td>159</td>\n",
       "      <td>159</td>\n",
       "      <td>159</td>\n",
       "    </tr>\n",
       "    <tr>\n",
       "      <td>4.5</td>\n",
       "      <td>29</td>\n",
       "      <td>29</td>\n",
       "      <td>29</td>\n",
       "      <td>29</td>\n",
       "      <td>29</td>\n",
       "      <td>29</td>\n",
       "      <td>29</td>\n",
       "      <td>29</td>\n",
       "      <td>29</td>\n",
       "      <td>29</td>\n",
       "      <td>29</td>\n",
       "      <td>29</td>\n",
       "      <td>29</td>\n",
       "      <td>29</td>\n",
       "      <td>29</td>\n",
       "    </tr>\n",
       "    <tr>\n",
       "      <td>5.0</td>\n",
       "      <td>20</td>\n",
       "      <td>20</td>\n",
       "      <td>20</td>\n",
       "      <td>20</td>\n",
       "      <td>20</td>\n",
       "      <td>20</td>\n",
       "      <td>20</td>\n",
       "      <td>20</td>\n",
       "      <td>20</td>\n",
       "      <td>20</td>\n",
       "      <td>20</td>\n",
       "      <td>20</td>\n",
       "      <td>20</td>\n",
       "      <td>20</td>\n",
       "      <td>20</td>\n",
       "    </tr>\n",
       "    <tr>\n",
       "      <td>5.5</td>\n",
       "      <td>5</td>\n",
       "      <td>5</td>\n",
       "      <td>5</td>\n",
       "      <td>5</td>\n",
       "      <td>5</td>\n",
       "      <td>5</td>\n",
       "      <td>5</td>\n",
       "      <td>5</td>\n",
       "      <td>5</td>\n",
       "      <td>5</td>\n",
       "      <td>5</td>\n",
       "      <td>5</td>\n",
       "      <td>5</td>\n",
       "      <td>5</td>\n",
       "      <td>5</td>\n",
       "    </tr>\n",
       "    <tr>\n",
       "      <td>6.0</td>\n",
       "      <td>4</td>\n",
       "      <td>4</td>\n",
       "      <td>4</td>\n",
       "      <td>4</td>\n",
       "      <td>4</td>\n",
       "      <td>4</td>\n",
       "      <td>4</td>\n",
       "      <td>4</td>\n",
       "      <td>4</td>\n",
       "      <td>4</td>\n",
       "      <td>4</td>\n",
       "      <td>4</td>\n",
       "      <td>4</td>\n",
       "      <td>4</td>\n",
       "      <td>4</td>\n",
       "    </tr>\n",
       "    <tr>\n",
       "      <td>6.5</td>\n",
       "      <td>1</td>\n",
       "      <td>1</td>\n",
       "      <td>1</td>\n",
       "      <td>1</td>\n",
       "      <td>1</td>\n",
       "      <td>1</td>\n",
       "      <td>1</td>\n",
       "      <td>1</td>\n",
       "      <td>1</td>\n",
       "      <td>1</td>\n",
       "      <td>1</td>\n",
       "      <td>1</td>\n",
       "      <td>1</td>\n",
       "      <td>1</td>\n",
       "      <td>1</td>\n",
       "    </tr>\n",
       "    <tr>\n",
       "      <td>7.0</td>\n",
       "      <td>1</td>\n",
       "      <td>1</td>\n",
       "      <td>1</td>\n",
       "      <td>1</td>\n",
       "      <td>1</td>\n",
       "      <td>1</td>\n",
       "      <td>1</td>\n",
       "      <td>1</td>\n",
       "      <td>1</td>\n",
       "      <td>1</td>\n",
       "      <td>1</td>\n",
       "      <td>1</td>\n",
       "      <td>1</td>\n",
       "      <td>1</td>\n",
       "      <td>1</td>\n",
       "    </tr>\n",
       "    <tr>\n",
       "      <td>10.0</td>\n",
       "      <td>1</td>\n",
       "      <td>1</td>\n",
       "      <td>1</td>\n",
       "      <td>1</td>\n",
       "      <td>1</td>\n",
       "      <td>1</td>\n",
       "      <td>1</td>\n",
       "      <td>1</td>\n",
       "      <td>1</td>\n",
       "      <td>1</td>\n",
       "      <td>1</td>\n",
       "      <td>1</td>\n",
       "      <td>1</td>\n",
       "      <td>1</td>\n",
       "      <td>1</td>\n",
       "    </tr>\n",
       "  </tbody>\n",
       "</table>\n",
       "</div>"
      ],
      "text/plain": [
       "           bedrooms  building_id  created  description  display_address  \\\n",
       "bathrooms                                                                 \n",
       "0.0             313          313      313          313              313   \n",
       "1.0           39422        39422    39422        39422            39422   \n",
       "1.5             645          645      645          645              645   \n",
       "2.0            7660         7660     7660         7660             7660   \n",
       "2.5             277          277      277          277              277   \n",
       "3.0             745          745      745          745              745   \n",
       "3.5              70           70       70           70               70   \n",
       "4.0             159          159      159          159              159   \n",
       "4.5              29           29       29           29               29   \n",
       "5.0              20           20       20           20               20   \n",
       "5.5               5            5        5            5                5   \n",
       "6.0               4            4        4            4                4   \n",
       "6.5               1            1        1            1                1   \n",
       "7.0               1            1        1            1                1   \n",
       "10.0              1            1        1            1                1   \n",
       "\n",
       "           features  latitude  listing_id  longitude  manager_id  photos  \\\n",
       "bathrooms                                                                  \n",
       "0.0             313       313         313        313         313     313   \n",
       "1.0           39422     39422       39422      39422       39422   39422   \n",
       "1.5             645       645         645        645         645     645   \n",
       "2.0            7660      7660        7660       7660        7660    7660   \n",
       "2.5             277       277         277        277         277     277   \n",
       "3.0             745       745         745        745         745     745   \n",
       "3.5              70        70          70         70          70      70   \n",
       "4.0             159       159         159        159         159     159   \n",
       "4.5              29        29          29         29          29      29   \n",
       "5.0              20        20          20         20          20      20   \n",
       "5.5               5         5           5          5           5       5   \n",
       "6.0               4         4           4          4           4       4   \n",
       "6.5               1         1           1          1           1       1   \n",
       "7.0               1         1           1          1           1       1   \n",
       "10.0              1         1           1          1           1       1   \n",
       "\n",
       "           price  street_address  interest_level  hour_created  \n",
       "bathrooms                                                       \n",
       "0.0          313             313             313           313  \n",
       "1.0        39422           39422           39422         39422  \n",
       "1.5          645             645             645           645  \n",
       "2.0         7660            7660            7660          7660  \n",
       "2.5          277             277             277           277  \n",
       "3.0          745             745             745           745  \n",
       "3.5           70              70              70            70  \n",
       "4.0          159             159             159           159  \n",
       "4.5           29              29              29            29  \n",
       "5.0           20              20              20            20  \n",
       "5.5            5               5               5             5  \n",
       "6.0            4               4               4             4  \n",
       "6.5            1               1               1             1  \n",
       "7.0            1               1               1             1  \n",
       "10.0           1               1               1             1  "
      ]
     },
     "execution_count": 17,
     "metadata": {},
     "output_type": "execute_result"
    }
   ],
   "source": [
    "# aggregate bathroom values by count\n",
    "train_df.groupby('bathrooms').count()"
   ]
  },
  {
   "cell_type": "code",
   "execution_count": 18,
   "metadata": {
    "scrolled": true
   },
   "outputs": [
    {
     "data": {
      "text/plain": [
       "bedrooms           49352\n",
       "building_id        49352\n",
       "created            49352\n",
       "description        49352\n",
       "display_address    49352\n",
       "features           49352\n",
       "latitude           49352\n",
       "listing_id         49352\n",
       "longitude          49352\n",
       "manager_id         49352\n",
       "photos             49352\n",
       "price              49352\n",
       "street_address     49352\n",
       "interest_level     49352\n",
       "hour_created       49352\n",
       "dtype: int64"
      ]
     },
     "execution_count": 18,
     "metadata": {},
     "output_type": "execute_result"
    }
   ],
   "source": [
    "# sum the count of all bathroom values\n",
    "train_df.groupby('bathrooms').count().sum()"
   ]
  },
  {
   "cell_type": "markdown",
   "metadata": {},
   "source": [
    "Again, we found no missing values for bathrooms."
   ]
  },
  {
   "cell_type": "markdown",
   "metadata": {},
   "source": [
    "### Building ID"
   ]
  },
  {
   "cell_type": "code",
   "execution_count": 19,
   "metadata": {},
   "outputs": [
    {
     "name": "stdout",
     "output_type": "stream",
     "text": [
      "number of missing values:  8286\n"
     ]
    }
   ],
   "source": [
    "#building_id\n",
    "\n",
    "whichrow = 0\n",
    "count = 0\n",
    "for row in train_df['building_id']:\n",
    "    if row=='0' or any(c.isalpha() for c in row) == False:\n",
    "        count+=1\n",
    "        whichrow+=1\n",
    "    else:\n",
    "        whichrow += 1\n",
    "print (\"number of missing values: \", count)\n",
    "#train_df.head(30)"
   ]
  },
  {
   "cell_type": "markdown",
   "metadata": {},
   "source": [
    "It's unlikely that building ID has any effect on the interest level of a listing so we left these values."
   ]
  },
  {
   "cell_type": "markdown",
   "metadata": {},
   "source": [
    "### Description"
   ]
  },
  {
   "cell_type": "code",
   "execution_count": 20,
   "metadata": {},
   "outputs": [
    {
     "name": "stdout",
     "output_type": "stream",
     "text": [
      "number of missing values:  3336\n"
     ]
    }
   ],
   "source": [
    "#description\n",
    "\n",
    "whichrow = 0\n",
    "count = 0\n",
    "for row in train_df['description']:\n",
    "    if  any(c.isalpha() for c in row) == False:\n",
    "        count+=1\n",
    "        whichrow+=1\n",
    "    else:\n",
    "        whichrow += 1\n",
    "print (\"number of missing values: \", count)\n",
    "#train_df.head(50)"
   ]
  },
  {
   "cell_type": "markdown",
   "metadata": {},
   "source": [
    "### Features"
   ]
  },
  {
   "cell_type": "code",
   "execution_count": 21,
   "metadata": {},
   "outputs": [
    {
     "name": "stdout",
     "output_type": "stream",
     "text": [
      "number of missing values:  3218\n"
     ]
    }
   ],
   "source": [
    "#features\n",
    "\n",
    "whichrow = 0\n",
    "count = 0\n",
    "for row in train_df['features']:\n",
    "    if row==[]:\n",
    "        count+=1\n",
    "        whichrow+=1\n",
    "    else:\n",
    "        whichrow += 1\n",
    "print (\"number of missing values: \", count)\n",
    "#train_df.head(50)"
   ]
  },
  {
   "cell_type": "code",
   "execution_count": 22,
   "metadata": {},
   "outputs": [
    {
     "name": "stdout",
     "output_type": "stream",
     "text": [
      "number of missing values:  0\n"
     ]
    }
   ],
   "source": [
    "#created\n",
    "\n",
    "import datetime\n",
    "\n",
    "whichrow = 0\n",
    "count = 0\n",
    "for row in train_df['created']:\n",
    "    if isinstance(row, datetime.datetime) == False:\n",
    "        count+=1\n",
    "        whichrow+=1\n",
    "    else:\n",
    "        whichrow += 1\n",
    "print (\"number of missing values: \", count)"
   ]
  },
  {
   "cell_type": "code",
   "execution_count": 23,
   "metadata": {},
   "outputs": [
    {
     "name": "stdout",
     "output_type": "stream",
     "text": [
      "number of missing values:  141\n"
     ]
    }
   ],
   "source": [
    "#display_address\n",
    "\n",
    "whichrow = 0\n",
    "count = 0\n",
    "for row in train_df['display_address']:\n",
    "    if any(c.isalpha() for c in row) == False:\n",
    "        count+=1\n",
    "        whichrow+=1\n",
    "    else:\n",
    "        whichrow += 1\n",
    "print (\"number of missing values: \", count)"
   ]
  },
  {
   "cell_type": "code",
   "execution_count": 24,
   "metadata": {},
   "outputs": [
    {
     "name": "stdout",
     "output_type": "stream",
     "text": [
      "number of missing values:  13\n"
     ]
    }
   ],
   "source": [
    "#street_address\n",
    "\n",
    "whichrow = 0\n",
    "count = 0\n",
    "for row in train_df['street_address']:\n",
    "    if any(c.isalpha() for c in row) == False :\n",
    "        count+=1\n",
    "        whichrow+=1\n",
    "    else:\n",
    "        whichrow += 1\n",
    "print (\"number of missing values: \", count)"
   ]
  },
  {
   "cell_type": "code",
   "execution_count": 25,
   "metadata": {},
   "outputs": [
    {
     "name": "stdout",
     "output_type": "stream",
     "text": [
      "number of missing values:  12\n"
     ]
    }
   ],
   "source": [
    "#latitude\n",
    "\n",
    "whichrow = 0\n",
    "count = 0\n",
    "for row in train_df['latitude']:\n",
    "    if row==0:\n",
    "        count+=1\n",
    "        whichrow+=1\n",
    "    else:\n",
    "        whichrow += 1\n",
    "print (\"number of missing values: \", count)"
   ]
  },
  {
   "cell_type": "code",
   "execution_count": 26,
   "metadata": {},
   "outputs": [
    {
     "name": "stdout",
     "output_type": "stream",
     "text": [
      "number of missing values:  0\n"
     ]
    }
   ],
   "source": [
    "#listing_id\n",
    "\n",
    "whichrow = 0\n",
    "count = 0\n",
    "for row in train_df['listing_id']:\n",
    "    if row==0 or row=='null':\n",
    "        count+=1\n",
    "        whichrow+=1\n",
    "    else:\n",
    "        whichrow += 1\n",
    "print (\"number of missing values: \", count)"
   ]
  },
  {
   "cell_type": "code",
   "execution_count": 27,
   "metadata": {},
   "outputs": [
    {
     "name": "stdout",
     "output_type": "stream",
     "text": [
      "number of missing values:  12\n"
     ]
    }
   ],
   "source": [
    "#longitude\n",
    "\n",
    "whichrow = 0\n",
    "count = 0\n",
    "for row in train_df['longitude']:\n",
    "    if row==0:\n",
    "        count+=1\n",
    "        whichrow+=1\n",
    "    else:\n",
    "        whichrow += 1\n",
    "print (\"number of missing values: \", count)"
   ]
  },
  {
   "cell_type": "code",
   "execution_count": 28,
   "metadata": {},
   "outputs": [
    {
     "name": "stdout",
     "output_type": "stream",
     "text": [
      "number of missing values:  0\n"
     ]
    }
   ],
   "source": [
    "#manager_id\n",
    "\n",
    "whichrow = 0\n",
    "count = 0\n",
    "for row in train_df['manager_id']:\n",
    "    if  row==0 or row =='0' or any(c.isalpha() for c in row) == False:\n",
    "        count+=1\n",
    "        whichrow+=1\n",
    "    else:\n",
    "        whichrow += 1\n",
    "print (\"number of missing values: \", count)"
   ]
  },
  {
   "cell_type": "code",
   "execution_count": 29,
   "metadata": {},
   "outputs": [
    {
     "name": "stdout",
     "output_type": "stream",
     "text": [
      "number of missing values:  3615\n"
     ]
    }
   ],
   "source": [
    "#photos\n",
    "\n",
    "whichrow = 0\n",
    "count = 0\n",
    "for row in train_df['photos']:\n",
    "    if  any(isinstance(c,str) for c in row) == False:\n",
    "        count+=1\n",
    "        whichrow+=1\n",
    "    else:\n",
    "        whichrow += 1\n",
    "print (\"number of missing values: \", count)"
   ]
  },
  {
   "cell_type": "code",
   "execution_count": 30,
   "metadata": {},
   "outputs": [
    {
     "name": "stdout",
     "output_type": "stream",
     "text": [
      "number of missing values:  0\n"
     ]
    }
   ],
   "source": [
    "#price\n",
    "\n",
    "whichrow = 0\n",
    "count = 0\n",
    "for row in train_df['price']:\n",
    "    if row==0:\n",
    "        count+=1\n",
    "        whichrow+=1\n",
    "    else:\n",
    "        whichrow += 1\n",
    "print (\"number of missing values: \", count)"
   ]
  },
  {
   "cell_type": "code",
   "execution_count": 31,
   "metadata": {},
   "outputs": [
    {
     "name": "stdout",
     "output_type": "stream",
     "text": [
      "number of missing values:  0\n"
     ]
    }
   ],
   "source": [
    "#interest_level\n",
    "\n",
    "whichrow = 0\n",
    "count = 0\n",
    "list= [\"low\", \"medium\", \"high\"]\n",
    "for row in train_df['interest_level']:\n",
    "    if row not in list :\n",
    "        count+=1\n",
    "        whichrow+=1\n",
    "    else:\n",
    "        whichrow += 1\n",
    "print (\"number of missing values: \", count)"
   ]
  },
  {
   "cell_type": "markdown",
   "metadata": {},
   "source": [
    "#### Impactful missing values will be replaced by the mean of their respective column in the next section"
   ]
  },
  {
   "cell_type": "markdown",
   "metadata": {},
   "source": [
    "## Handling outliers\n",
    "\n",
    "### Prices"
   ]
  },
  {
   "cell_type": "code",
   "execution_count": 33,
   "metadata": {
    "scrolled": true
   },
   "outputs": [
    {
     "name": "stdout",
     "output_type": "stream",
     "text": [
      "number of mild outliers: 2788\n"
     ]
    }
   ],
   "source": [
    "# prices (inner fences=mild outliers)\n",
    "\n",
    "q25, q75 = np.percentile(train_df['price'].values, 25), np.percentile(train_df['price'].values, 75)\n",
    "iqr = q75-q25\n",
    "cutoff = iqr * 1.5\n",
    "lower, upper = q25 - cutoff, q75 + cutoff\n",
    "outliers = [x for x in train_df['price'].values if x > upper or x < lower]\n",
    "print (\"number of mild outliers:\", len(outliers))"
   ]
  },
  {
   "cell_type": "markdown",
   "metadata": {},
   "source": [
    "### Before Handling"
   ]
  },
  {
   "cell_type": "code",
   "execution_count": 35,
   "metadata": {},
   "outputs": [
    {
     "name": "stdout",
     "output_type": "stream",
     "text": [
      "100.0\n",
      "6500.0\n",
      "43\n",
      "4490000\n"
     ]
    },
    {
     "data": {
      "image/png": "[encoded data removed]",
      "text/plain": [
       "<Figure size 432x288 with 1 Axes>"
      ]
     },
     "metadata": {
      "needs_background": "light"
     },
     "output_type": "display_data"
    }
   ],
   "source": [
    "print(lower)\n",
    "print(upper)\n",
    "sns.boxplot(y=train_df['price'])\n",
    "print(min(train_df['price']))\n",
    "print(max(train_df['price']))"
   ]
  },
  {
   "cell_type": "markdown",
   "metadata": {},
   "source": [
    "### After Handling"
   ]
  },
  {
   "cell_type": "code",
   "execution_count": 36,
   "metadata": {},
   "outputs": [
    {
     "name": "stdout",
     "output_type": "stream",
     "text": [
      "3271.047117945194\n",
      "401.0\n",
      "6500.0\n"
     ]
    },
    {
     "data": {
      "image/png": "[encoded data removed]",
      "text/plain": [
       "<Figure size 432x288 with 1 Axes>"
      ]
     },
     "metadata": {
      "needs_background": "light"
     },
     "output_type": "display_data"
    }
   ],
   "source": [
    "from scipy import nanmean\n",
    "import math\n",
    "\n",
    "whichrow = 0\n",
    "for row in train_df['price']:\n",
    "    if row>upper or row<lower:\n",
    "        train_df.loc[train_df.index[whichrow], 'price'] = np.nan\n",
    "        whichrow+=1\n",
    "    else:\n",
    "        whichrow += 1\n",
    "        \n",
    "mean_val =nanmean(train_df['price'])\n",
    "print(mean_val)\n",
    "\n",
    "whichrow = 0\n",
    "for row in train_df['price']:\n",
    "    if math.isnan(row):\n",
    "        train_df.loc[train_df.index[whichrow],'price'] = mean_val\n",
    "        whichrow+=1\n",
    "    else:\n",
    "        whichrow+=1\n",
    "\n",
    "# after handling\n",
    "sns.boxplot(y=train_df['price'], whis = [0,100])\n",
    "print(min(train_df['price']))\n",
    "print(max(train_df['price']))"
   ]
  },
  {
   "cell_type": "markdown",
   "metadata": {},
   "source": [
    "### Latitude"
   ]
  },
  {
   "cell_type": "code",
   "execution_count": 37,
   "metadata": {},
   "outputs": [],
   "source": [
    "q25, q75 = np.percentile(train_df['latitude'].values, 25), np.percentile(train_df['latitude'].values, 75)\n",
    "iqr = q75-q25\n",
    "cutoff = iqr * 1.5\n",
    "lower, upper = q25 - cutoff, q75 + cutoff\n",
    "outliers = [x for x in train_df['latitude'].values if x > upper or x < lower]\n",
    "print (\"number of mild outliers:\", len(outliers))"
   ]
  },
  {
   "cell_type": "markdown",
   "metadata": {},
   "source": [
    "### Before Handling"
   ]
  },
  {
   "cell_type": "code",
   "execution_count": 39,
   "metadata": {},
   "outputs": [
    {
     "name": "stdout",
     "output_type": "stream",
     "text": [
      "40.6593\n",
      "40.8433\n",
      "0.0\n",
      "44.8835\n"
     ]
    },
    {
     "data": {
      "image/png": "[encoded data removed]",
      "text/plain": [
       "<Figure size 432x288 with 1 Axes>"
      ]
     },
     "metadata": {
      "needs_background": "light"
     },
     "output_type": "display_data"
    }
   ],
   "source": [
    "print(lower)\n",
    "print(upper)\n",
    "sns.boxplot(y=train_df['latitude'])\n",
    "print(min(train_df['latitude']))\n",
    "print(max(train_df['latitude']))"
   ]
  },
  {
   "cell_type": "markdown",
   "metadata": {},
   "source": [
    "### After Handling"
   ]
  },
  {
   "cell_type": "code",
   "execution_count": 40,
   "metadata": {},
   "outputs": [
    {
     "name": "stdout",
     "output_type": "stream",
     "text": [
      "40.75069010965837\n",
      "40.6594\n",
      "40.8433\n"
     ]
    },
    {
     "data": {
      "image/png": "[encoded data removed]",
      "text/plain": [
       "<Figure size 432x288 with 1 Axes>"
      ]
     },
     "metadata": {
      "needs_background": "light"
     },
     "output_type": "display_data"
    }
   ],
   "source": [
    "whichrow = 0\n",
    "for row in train_df['latitude']:\n",
    "    if row>upper or row<lower:\n",
    "        train_df.loc[train_df.index[whichrow], 'latitude'] = np.nan\n",
    "        whichrow+=1\n",
    "    else:\n",
    "        whichrow += 1\n",
    "        \n",
    "mean_val = nanmean(train_df['latitude'])\n",
    "print(mean_val)\n",
    "whichrow = 0\n",
    "for row in train_df['latitude']:\n",
    "    if row == None:\n",
    "        train_df.loc[train_df.index[whichrow],'latitude'] = mean_val\n",
    "        whichrow+=1\n",
    "    else:\n",
    "        whichrow+=1\n",
    "\n",
    "# after handling\n",
    "sns.boxplot(y=train_df['latitude'], whis = [0,100])\n",
    "print(min(train_df['latitude']))\n",
    "print(max(train_df['latitude']))"
   ]
  },
  {
   "cell_type": "markdown",
   "metadata": {},
   "source": [
    "### Longitude"
   ]
  },
  {
   "cell_type": "code",
   "execution_count": 41,
   "metadata": {},
   "outputs": [],
   "source": [
    "q25, q75 = np.percentile(train_df['longitude'].values, 25), np.percentile(train_df['longitude'].values, 75)\n",
    "iqr = q75-q25\n",
    "cutoff = iqr * 1.5\n",
    "lower, upper = q25 - cutoff, q75 + cutoff\n",
    "outliers = [x for x in train_df['longitude'].values if x > upper or x < lower]\n",
    "print (\"number of mild outliers:\", len(outliers))"
   ]
  },
  {
   "cell_type": "markdown",
   "metadata": {},
   "source": [
    "### Before Handling"
   ]
  },
  {
   "cell_type": "code",
   "execution_count": 43,
   "metadata": {},
   "outputs": [
    {
     "name": "stdout",
     "output_type": "stream",
     "text": [
      "-73.89945000000003\n",
      "-74.04704999999998\n",
      "-118.271\n",
      "0.0\n"
     ]
    },
    {
     "data": {
      "image/png": "[encoded data removed]",
      "text/plain": [
       "<Figure size 432x288 with 1 Axes>"
      ]
     },
     "metadata": {
      "needs_background": "light"
     },
     "output_type": "display_data"
    }
   ],
   "source": [
    "print(upper)\n",
    "print(lower)\n",
    "sns.boxplot(y=train_df['longitude'])\n",
    "print(min(train_df['longitude']))\n",
    "print(max(train_df['longitude']))"
   ]
  },
  {
   "cell_type": "markdown",
   "metadata": {},
   "source": [
    "### After Handling"
   ]
  },
  {
   "cell_type": "code",
   "execution_count": 44,
   "metadata": {},
   "outputs": [
    {
     "name": "stdout",
     "output_type": "stream",
     "text": [
      "-73.97500617409327\n",
      "-74.0454\n",
      "-73.8995\n"
     ]
    },
    {
     "data": {
      "image/png": "[encoded data removed]",
      "text/plain": [
       "<Figure size 432x288 with 1 Axes>"
      ]
     },
     "metadata": {
      "needs_background": "light"
     },
     "output_type": "display_data"
    }
   ],
   "source": [
    "whichrow = 0\n",
    "for row in train_df['longitude']:\n",
    "    if row>upper or row<lower:\n",
    "        train_df.loc[train_df.index[whichrow], 'longitude'] = np.nan\n",
    "        whichrow+=1\n",
    "    else:\n",
    "        whichrow += 1\n",
    "        \n",
    "mean_val = nanmean(train_df['longitude'])\n",
    "print(mean_val)\n",
    "whichrow = 0\n",
    "for row in train_df['longitude']:\n",
    "    if row == None:\n",
    "        train_df.loc[train_df.index[whichrow],'longitude'] = mean_val\n",
    "        whichrow+=1\n",
    "    else:\n",
    "        whichrow+=1\n",
    "\n",
    "# after handling\n",
    "sns.boxplot(y=train_df['longitude'] , whis = [0,100])\n",
    "print(min(train_df['longitude']))\n",
    "print(max(train_df['longitude']))"
   ]
  },
  {
   "cell_type": "markdown",
   "metadata": {},
   "source": [
    "### Bedrooms"
   ]
  },
  {
   "cell_type": "code",
   "execution_count": 45,
   "metadata": {},
   "outputs": [
    {
     "data": {
      "text/plain": [
       "<matplotlib.axes._subplots.AxesSubplot at 0x27f69fe3208>"
      ]
     },
     "execution_count": 45,
     "metadata": {},
     "output_type": "execute_result"
    },
    {
     "data": {
      "image/png": "[encoded data removed]",
      "text/plain": [
       "<Figure size 432x288 with 1 Axes>"
      ]
     },
     "metadata": {
      "needs_background": "light"
     },
     "output_type": "display_data"
    }
   ],
   "source": [
    "sns.boxplot(y=train_df['bedrooms'])"
   ]
  },
  {
   "cell_type": "markdown",
   "metadata": {},
   "source": [
    "### Bathroom"
   ]
  },
  {
   "cell_type": "code",
   "execution_count": 46,
   "metadata": {},
   "outputs": [
    {
     "data": {
      "text/plain": [
       "<matplotlib.axes._subplots.AxesSubplot at 0x27f69fc5188>"
      ]
     },
     "execution_count": 46,
     "metadata": {},
     "output_type": "execute_result"
    },
    {
     "data": {
      "image/png": "[encoded data removed]",
      "text/plain": [
       "<Figure size 432x288 with 1 Axes>"
      ]
     },
     "metadata": {
      "needs_background": "light"
     },
     "output_type": "display_data"
    }
   ],
   "source": [
    "sns.boxplot(y=train_df['bathrooms'])"
   ]
  },
  {
   "cell_type": "markdown",
   "metadata": {},
   "source": [
    "### Bathroom and Bedrooms\n",
    "\n",
    "Outlier detection for bathrooms and bedrooms isn't meaningful because all values fall within a tidy distribution. All bathroom values lie between 0-4 and all bedroom values lie between 0-3, which makes sense for studio apartments and shared bathrooms.\n",
    "\n",
    "### Created\n",
    "\n",
    "Since no missing values were found, it doesn't seem meaningful to detect outliers since the only outlier values would be missing values or dates that don't exist (not one of 365 days in a year).\n",
    "\n",
    "### Building ID, Manager ID, Listing ID\n",
    "\n",
    "Again, not meaningful for outliers because there is no real meaning to these values, other than to identify the listing.\n",
    "\n",
    "### Photos, Description, Features, Addresses\n",
    "\n",
    "No discernable way to identify outliers until we are able to extract these features. Outliers would probably be photos of objects other than the listing, and text that doesn't relate, or an address outside of New York."
   ]
  },
  {
   "cell_type": "markdown",
   "metadata": {},
   "source": [
    "## Text feature extraction"
   ]
  },
  {
   "cell_type": "markdown",
   "metadata": {},
   "source": [
    "### Count Number of Words"
   ]
  },
  {
   "cell_type": "code",
   "execution_count": 47,
   "metadata": {},
   "outputs": [
    {
     "data": {
      "text/plain": [
       "4      54\n",
       "6     122\n",
       "9     105\n",
       "10     86\n",
       "15     32\n",
       "16    122\n",
       "18     64\n",
       "19     59\n",
       "23     51\n",
       "32    179\n",
       "Name: d_word_count, dtype: int64"
      ]
     },
     "execution_count": 47,
     "metadata": {},
     "output_type": "execute_result"
    }
   ],
   "source": [
    "import string\n",
    "from string import punctuation\n",
    "\n",
    "def counting(s):\n",
    "    num=0\n",
    "    words = s.translate(str.maketrans('', '', string.punctuation)).split()\n",
    "    if len(words) == 0:\n",
    "        return 0\n",
    "    for w in words:\n",
    "        if w !='br' and all(c.isalpha() for c in w):\n",
    "            num+=1\n",
    "    return num\n",
    "\n",
    "train_df['d_word_count'] = train_df['description'].apply(lambda x: counting(x))\n",
    "train_df['d_word_count'].head(10)"
   ]
  },
  {
   "cell_type": "markdown",
   "metadata": {},
   "source": [
    "### Count Number of Characters in Description"
   ]
  },
  {
   "cell_type": "code",
   "execution_count": 48,
   "metadata": {},
   "outputs": [
    {
     "data": {
      "text/plain": [
       "4      553\n",
       "6      827\n",
       "9      799\n",
       "10     588\n",
       "15     344\n",
       "16     907\n",
       "18     489\n",
       "19     439\n",
       "23     379\n",
       "32    1374\n",
       "Name: d_char_count, dtype: int64"
      ]
     },
     "execution_count": 48,
     "metadata": {},
     "output_type": "execute_result"
    }
   ],
   "source": [
    "train_df['d_char_count'] = train_df['description'].str.len()\n",
    "train_df['d_char_count'].head(10)"
   ]
  },
  {
   "cell_type": "markdown",
   "metadata": {},
   "source": [
    "### Find Average Word Length"
   ]
  },
  {
   "cell_type": "code",
   "execution_count": 49,
   "metadata": {},
   "outputs": [
    {
     "data": {
      "text/plain": [
       "4     4.662162\n",
       "6     5.039062\n",
       "9     5.086207\n",
       "10    4.673913\n",
       "15    6.153846\n",
       "16    5.515625\n",
       "18    5.449275\n",
       "19    5.800000\n",
       "23    5.846154\n",
       "32    5.215385\n",
       "Name: d_avg_wlen, dtype: float64"
      ]
     },
     "execution_count": 49,
     "metadata": {},
     "output_type": "execute_result"
    }
   ],
   "source": [
    "\n",
    "\n",
    "def avg_word(s):\n",
    "    words = s.translate(str.maketrans('', '', string.punctuation)).split()\n",
    "    if len(words) == 0:\n",
    "        return 0\n",
    "    iterate = (len(w) for w in words if w !='br' and all(c.isalpha() for c in w))\n",
    "    return(sum(np.fromiter(iterate,int))/len(words))\n",
    "\n",
    "\n",
    "train_df['d_avg_wlen'] = train_df['description'].apply(lambda x: avg_word(x) )\n",
    "train_df['d_avg_wlen'].head(10)"
   ]
  },
  {
   "cell_type": "markdown",
   "metadata": {},
   "source": [
    "### Count Number of Stop Words"
   ]
  },
  {
   "cell_type": "code",
   "execution_count": 50,
   "metadata": {},
   "outputs": [
    {
     "name": "stderr",
     "output_type": "stream",
     "text": [
      "[nltk_data] Downloading package stopwords to\n",
      "[nltk_data]     C:\\Users\\kylez\\AppData\\Roaming\\nltk_data...\n",
      "[nltk_data]   Package stopwords is already up-to-date!\n"
     ]
    },
    {
     "data": {
      "text/plain": [
       "4      8\n",
       "6     41\n",
       "9     29\n",
       "10     8\n",
       "15     0\n",
       "16    27\n",
       "18     0\n",
       "19    11\n",
       "23     9\n",
       "32    34\n",
       "Name: d_stopwords, dtype: int64"
      ]
     },
     "execution_count": 50,
     "metadata": {},
     "output_type": "execute_result"
    }
   ],
   "source": [
    "import nltk\n",
    "nltk.download('stopwords')\n",
    "from nltk.corpus import stopwords\n",
    "stop = stopwords.words('english')\n",
    "\n",
    "train_df['d_stopwords']= train_df['description'].apply(lambda x: len([x for x in x.translate(str.maketrans('', '', string.punctuation)).split() if x in stop]))\n",
    "train_df['d_stopwords'].head(10)"
   ]
  },
  {
   "cell_type": "markdown",
   "metadata": {},
   "source": [
    "### Count Numeric Value in Description"
   ]
  },
  {
   "cell_type": "code",
   "execution_count": 51,
   "metadata": {},
   "outputs": [
    {
     "data": {
      "text/plain": [
       "4     2\n",
       "6     3\n",
       "9     3\n",
       "10    2\n",
       "15    2\n",
       "16    3\n",
       "18    1\n",
       "19    0\n",
       "23    0\n",
       "32    5\n",
       "Name: d_num, dtype: int64"
      ]
     },
     "execution_count": 51,
     "metadata": {},
     "output_type": "execute_result"
    }
   ],
   "source": [
    "train_df['d_num']= train_df['description'].apply(lambda x: len([x for x in x.translate(str.maketrans('', '', string.punctuation)).split() if x.isnumeric() == True]))\n",
    "train_df['d_num'].head(10)"
   ]
  },
  {
   "cell_type": "markdown",
   "metadata": {},
   "source": [
    "### Count Number of Special Characters"
   ]
  },
  {
   "cell_type": "code",
   "execution_count": 52,
   "metadata": {},
   "outputs": [
    {
     "data": {
      "text/plain": [
       "4     81\n",
       "6     42\n",
       "9     57\n",
       "10    43\n",
       "15    40\n",
       "16    51\n",
       "18    34\n",
       "19    28\n",
       "23    20\n",
       "32    89\n",
       "Name: d_punc, dtype: int64"
      ]
     },
     "execution_count": 52,
     "metadata": {},
     "output_type": "execute_result"
    }
   ],
   "source": [
    "def num_punc(s):\n",
    "    num = 0\n",
    "    words = s.split()\n",
    "    for w in words:\n",
    "        for c in w:\n",
    "            if c in punctuation:\n",
    "                num+=1\n",
    "    return num\n",
    "\n",
    "train_df['d_punc']= train_df['description'].apply(lambda x: num_punc(x))\n",
    "train_df['d_punc'].head(10)"
   ]
  },
  {
   "cell_type": "markdown",
   "metadata": {},
   "source": [
    "### Count Words That Contain At Least One Upper Letter"
   ]
  },
  {
   "cell_type": "code",
   "execution_count": 53,
   "metadata": {},
   "outputs": [
    {
     "data": {
      "text/plain": [
       "4     41\n",
       "6     34\n",
       "9     26\n",
       "10    56\n",
       "15    25\n",
       "16    26\n",
       "18    61\n",
       "19    19\n",
       "23    12\n",
       "32    85\n",
       "Name: d_contain_upper, dtype: int64"
      ]
     },
     "execution_count": 53,
     "metadata": {},
     "output_type": "execute_result"
    }
   ],
   "source": [
    "train_df['d_contain_upper']= train_df['description'].apply(lambda x: len([x for x in x.translate(str.maketrans('', '', string.punctuation)).split() if any(c.isupper() for c in x)]))\n",
    "train_df['d_contain_upper'].head(10)"
   ]
  },
  {
   "cell_type": "markdown",
   "metadata": {},
   "source": [
    "### Count Words With All Uppercase"
   ]
  },
  {
   "cell_type": "code",
   "execution_count": 54,
   "metadata": {},
   "outputs": [
    {
     "data": {
      "text/plain": [
       "4      4\n",
       "6      7\n",
       "9      6\n",
       "10     5\n",
       "15     2\n",
       "16     1\n",
       "18    60\n",
       "19     0\n",
       "23     5\n",
       "32     3\n",
       "Name: d_all_upper, dtype: int64"
      ]
     },
     "execution_count": 54,
     "metadata": {},
     "output_type": "execute_result"
    }
   ],
   "source": [
    "train_df['d_all_upper']= train_df['description'].apply(lambda x: len([x for x in x.translate(str.maketrans('', '', string.punctuation)).split() if x.isupper()]))\n",
    "train_df['d_all_upper'].head(10)"
   ]
  },
  {
   "cell_type": "markdown",
   "metadata": {},
   "source": [
    "### Encode unicode to strings"
   ]
  },
  {
   "cell_type": "code",
   "execution_count": 58,
   "metadata": {},
   "outputs": [],
   "source": [
    "train_df['description'] = train_df['description'].apply(lambda x: x.encode('utf-8').strip())"
   ]
  },
  {
   "cell_type": "code",
   "execution_count": 59,
   "metadata": {},
   "outputs": [],
   "source": [
    "# vectorize each description into a new column by frequency\n",
    "# common stop words are excluded like a, the, in, etc.\n",
    "# matches tokens of length 2+\n",
    "\n",
    "vectorizer = TfidfVectorizer(analyzer='word', stop_words='english', token_pattern=r'^[a-zA-Z][a-zA-Z]+')\n",
    "vectorizer.fit(train_df['description'].values);\n",
    "train_df['desc_vect'] = train_df['description'].apply(lambda x: vectorizer.transform([x]))\n",
    "# print(vectorizer.vocabulary_)  #shows all tokens"
   ]
  },
  {
   "cell_type": "markdown",
   "metadata": {},
   "source": [
    "### Top 100 less meaningful words in description"
   ]
  },
  {
   "cell_type": "code",
   "execution_count": 60,
   "metadata": {},
   "outputs": [
    {
     "name": "stdout",
     "output_type": "stream",
     "text": [
      "top100 less meaningful:  ['young', 'yes', 'xxxxxxxxxxxxxxxxxxxxxxxxxxxxxxxxxxxxxxxxxxxxxxxxxxxxxxxxxxxxxxxxxxxxxxxxxxxxxxxxxxx', 'xxxxxxxxxxxxthe', 'xxxl', 'xxl', 'xx', 'xtra', 'xlarge', 'xl', 'wwwwwwwwwwwwwwwwwww', 'www', 'wrap', 'wpn', 'wow', 'wouldn', 'world', 'working', 'words', 'wood', 'wont', 'wondrous', 'wonderfully', 'wonderful', 'won', 'wolf', 'woff', 'winter', 'winning', 'wing', 'windows', 'windowed', 'williamsburgs', 'williamsburg', 'wide', 'wic', 'whoa', 'whitewashed', 'white', 'whirlpool', 'west', 'welcome', 'wedding', 'website', 'wdejjkljqalqw', 'way', 'waterfront', 'water', 'watch', 'washington', 'washer', 'wash', 'warm', 'wanting', 'want', 'walls', 'wall', 'walking', 'walk', 'wake', 'waived', 'wait', 'voluminous', 'voice', 'vivid', 'visit', 'views', 'view', 'video', 'vibrant', 'vented', 'vddcddvvx', 'vast', 'various', 'value', 'vacant', 'uws', 'utterly', 'utilities', 'uptown', 'upstairs', 'upscale', 'uppert', 'upper', 'upgraded', 'upeer', 'updated', 'unreal', 'unparalleled', 'unmatched', 'unlike', 'university', 'units', 'unit', 'uniquely', 'unique', 'union', 'unfurnished', 'undervalued', 'underpriced']\n"
     ]
    }
   ],
   "source": [
    "top100_less_meaningful = sorted(vectorizer.vocabulary_, key=vectorizer.vocabulary_.get, reverse=True)[:100]\n",
    "print('top100 less meaningful: ',top100_less_meaningful)"
   ]
  },
  {
   "cell_type": "code",
   "execution_count": 61,
   "metadata": {},
   "outputs": [],
   "source": [
    "# vectorize each description into a new column by count\n",
    "# matches words of lenght 2+\n",
    "\n",
    "vectorizer = CountVectorizer(token_pattern=r'^[a-zA-Z][a-zA-Z]+', stop_words='english')\n",
    "vectorizer.fit(train_df['description'].values);\n",
    "train_df['desc_vect'] = train_df['description'].apply(lambda x: vectorizer.transform([x]))\n"
   ]
  },
  {
   "cell_type": "markdown",
   "metadata": {},
   "source": [
    "### Top 100 common words in descriptions"
   ]
  },
  {
   "cell_type": "code",
   "execution_count": 62,
   "metadata": {},
   "outputs": [
    {
     "name": "stdout",
     "output_type": "stream",
     "text": [
      "top100 common words in description:  ['young', 'yes', 'xxxxxxxxxxxxxxxxxxxxxxxxxxxxxxxxxxxxxxxxxxxxxxxxxxxxxxxxxxxxxxxxxxxxxxxxxxxxxxxxxxx', 'xxxxxxxxxxxxthe', 'xxxl', 'xxl', 'xx', 'xtra', 'xlarge', 'xl', 'wwwwwwwwwwwwwwwwwww', 'www', 'wrap', 'wpn', 'wow', 'wouldn', 'world', 'working', 'words', 'wood', 'wont', 'wondrous', 'wonderfully', 'wonderful', 'won', 'wolf', 'woff', 'winter', 'winning', 'wing', 'windows', 'windowed', 'williamsburgs', 'williamsburg', 'wide', 'wic', 'whoa', 'whitewashed', 'white', 'whirlpool', 'west', 'welcome', 'wedding', 'website', 'wdejjkljqalqw', 'way', 'waterfront', 'water', 'watch', 'washington', 'washer', 'wash', 'warm', 'wanting', 'want', 'walls', 'wall', 'walking', 'walk', 'wake', 'waived', 'wait', 'voluminous', 'voice', 'vivid', 'visit', 'views', 'view', 'video', 'vibrant', 'vented', 'vddcddvvx', 'vast', 'various', 'value', 'vacant', 'uws', 'utterly', 'utilities', 'uptown', 'upstairs', 'upscale', 'uppert', 'upper', 'upgraded', 'upeer', 'updated', 'unreal', 'unparalleled', 'unmatched', 'unlike', 'university', 'units', 'unit', 'uniquely', 'unique', 'union', 'unfurnished', 'undervalued', 'underpriced']\n"
     ]
    }
   ],
   "source": [
    "description_top100_common = sorted(vectorizer.vocabulary_, key=vectorizer.vocabulary_.get, reverse=True)[:100]\n",
    "print('top100 common words in description: ',description_top100_common)"
   ]
  },
  {
   "cell_type": "code",
   "execution_count": 63,
   "metadata": {},
   "outputs": [],
   "source": [
    "# convert features list to string\n",
    "train_df['features'] = train_df['features'].apply(lambda x: ' '.join(x))"
   ]
  },
  {
   "cell_type": "code",
   "execution_count": 64,
   "metadata": {},
   "outputs": [],
   "source": [
    "# vectorize features in new column by count\n",
    "\n",
    "vectorizer.fit(train_df['features'].values);\n",
    "train_df['feat_vect'] = train_df['features'].apply(lambda x: vectorizer.transform([x]))\n",
    "#print(vectorizer.vocabulary_) #shows all tokens"
   ]
  },
  {
   "cell_type": "markdown",
   "metadata": {},
   "source": [
    "### Top 100 common words in features"
   ]
  },
  {
   "cell_type": "code",
   "execution_count": 65,
   "metadata": {},
   "outputs": [
    {
     "name": "stdout",
     "output_type": "stream",
     "text": [
      "top100 common words in features :  ['yard', 'wood', 'wonderful', 'wifi', 'washer', 'walk', 'views', 'view', 'triplex', 'townhouse', 'terrace', 'swimming', 'storage', 'stainless', 'short', 'roof', 'residents', 'renovated', 'reduced', 'recreational', 'queen', 'private', 'prewar', 'pre', 'postwar', 'pool', 'pets', 'patio', 'parking', 'outdoor', 'offering', 'nyu', 'newly', 'new', 'multi', 'low', 'loft', 'live', 'laundry', 'high', 'hardwood', 'half', 'gym', 'gut', 'great', 'gramercy', 'garden', 'garage', 'furnished', 'french', 'fitness', 'fireplace', 'exposed', 'exclusive', 'elevator', 'eat', 'dw', 'duplex', 'doorman', 'dogs', 'dishwasher', 'dining', 'decorative', 'deco', 'deck', 'courtyard', 'common', 'close', 'childrens', 'cats', 'cable', 'building', 'brand', 'bike', 'balcony', 'available', 'assigned', 'air', 'actual', 'absolute']\n"
     ]
    }
   ],
   "source": [
    "features_top100_common = sorted(vectorizer.vocabulary_, key=vectorizer.vocabulary_.get, reverse=True)[:100]\n",
    "print('top100 common words in features : ', features_top100_common)"
   ]
  },
  {
   "cell_type": "markdown",
   "metadata": {},
   "source": [
    "## Image feature extraction"
   ]
  },
  {
   "cell_type": "markdown",
   "metadata": {},
   "source": [
    "### Get Image"
   ]
  },
  {
   "cell_type": "code",
   "execution_count": 66,
   "metadata": {},
   "outputs": [
    {
     "name": "stdout",
     "output_type": "stream",
     "text": [
      "[[[202 202 202]\n",
      "  [202 202 202]\n",
      "  [202 202 202]\n",
      "  ...\n",
      "  [161 163 162]\n",
      "  [162 164 163]\n",
      "  [162 164 163]]\n",
      "\n",
      " [[202 202 202]\n",
      "  [202 202 202]\n",
      "  [202 202 202]\n",
      "  ...\n",
      "  [161 163 162]\n",
      "  [162 164 163]\n",
      "  [162 164 163]]\n",
      "\n",
      " [[203 203 203]\n",
      "  [203 203 203]\n",
      "  [203 203 203]\n",
      "  ...\n",
      "  [161 163 162]\n",
      "  [161 163 162]\n",
      "  [161 163 162]]\n",
      "\n",
      " ...\n",
      "\n",
      " [[204 204 204]\n",
      "  [204 204 204]\n",
      "  [203 203 203]\n",
      "  ...\n",
      "  [ 69  62  43]\n",
      "  [ 69  62  44]\n",
      "  [ 69  62  44]]\n",
      "\n",
      " [[204 204 204]\n",
      "  [204 204 204]\n",
      "  [203 203 203]\n",
      "  ...\n",
      "  [ 66  57  40]\n",
      "  [ 66  57  40]\n",
      "  [ 66  57  40]]\n",
      "\n",
      " [[203 203 203]\n",
      "  [203 203 203]\n",
      "  [202 202 202]\n",
      "  ...\n",
      "  [ 64  55  40]\n",
      "  [ 64  55  38]\n",
      "  [ 64  55  40]]]\n"
     ]
    }
   ],
   "source": [
    "import glob\n",
    "import imageio\n",
    "\n",
    "im2_list = []\n",
    "shape_list = []\n",
    "config = glob.glob(\"C:/Users/kylez/images_sample/**/*.jpg\", recursive = True)\n",
    "for filename in config:\n",
    "    im2 = imageio.imread(str(filename))\n",
    "    im2_list.append(im2)\n",
    "    shape_list.append(im2.shape)\n",
    "print(im2_list[0])"
   ]
  },
  {
   "cell_type": "markdown",
   "metadata": {},
   "source": [
    "### Show Image"
   ]
  },
  {
   "cell_type": "code",
   "execution_count": 67,
   "metadata": {},
   "outputs": [
    {
     "data": {
      "image/png": "[encoded data removed]",
      "text/plain": [
       "<Figure size 432x288 with 1 Axes>"
      ]
     },
     "metadata": {
      "needs_background": "light"
     },
     "output_type": "display_data"
    }
   ],
   "source": [
    "implot = plt.imshow(im2_list[0])\n",
    "implot\n",
    "plt.show()\n",
    "print(shape_list[0])\n",
    "print(im2_list[0].shape)"
   ]
  },
  {
   "cell_type": "markdown",
   "metadata": {},
   "source": [
    "### Get Image Patches"
   ]
  },
  {
   "cell_type": "code",
   "execution_count": 69,
   "metadata": {},
   "outputs": [
    {
     "name": "stdout",
     "output_type": "stream",
     "text": [
      "Patches shape: (271575, 2, 2, 3)\n",
      "[[[202 202 202]\n",
      "  [202 202 202]]\n",
      "\n",
      " [[202 202 202]\n",
      "  [202 202 202]]]\n"
     ]
    }
   ],
   "source": [
    "from sklearn.feature_extraction import image\n",
    "\n",
    "l = len(im2_list)\n",
    "patches_list = []\n",
    "for i in range (0,l):\n",
    "    patches = image.extract_patches_2d(im2_list[i], (2,2) )\n",
    "    patches_list.append(patches)\n",
    "print('Patches shape: {}'.format(patches_list[0].shape))\n",
    "print(patches_list[0][0])\n",
    "# print(patches_list[0])"
   ]
  },
  {
   "cell_type": "markdown",
   "metadata": {},
   "source": [
    "### Reconstruct Image From Patches and Construct Tables"
   ]
  },
  {
   "cell_type": "code",
   "execution_count": 70,
   "metadata": {},
   "outputs": [
    {
     "data": {
      "image/png": "[encoded data removed]",
      "text/plain": [
       "<Figure size 432x288 with 1 Axes>"
      ]
     },
     "metadata": {
      "needs_background": "light"
     },
     "output_type": "display_data"
    },
    {
     "data": {
      "text/html": [
       "<div>\n",
       "<style scoped>\n",
       "    .dataframe tbody tr th:only-of-type {\n",
       "        vertical-align: middle;\n",
       "    }\n",
       "\n",
       "    .dataframe tbody tr th {\n",
       "        vertical-align: top;\n",
       "    }\n",
       "\n",
       "    .dataframe thead th {\n",
       "        text-align: right;\n",
       "    }\n",
       "</style>\n",
       "<table border=\"1\" class=\"dataframe\">\n",
       "  <thead>\n",
       "    <tr style=\"text-align: right;\">\n",
       "      <th></th>\n",
       "      <th>images</th>\n",
       "      <th>patches</th>\n",
       "    </tr>\n",
       "  </thead>\n",
       "  <tbody>\n",
       "    <tr>\n",
       "      <td>0</td>\n",
       "      <td>img1</td>\n",
       "      <td>[[[[202 202 202], [202 202 202]], [[202 202 20...</td>\n",
       "    </tr>\n",
       "    <tr>\n",
       "      <td>1</td>\n",
       "      <td>img2</td>\n",
       "      <td>[[[[191 192 194], [191 192 194]], [[191 192 19...</td>\n",
       "    </tr>\n",
       "    <tr>\n",
       "      <td>2</td>\n",
       "      <td>img3</td>\n",
       "      <td>[[[[184 190 190], [184 190 190]], [[184 190 19...</td>\n",
       "    </tr>\n",
       "    <tr>\n",
       "      <td>3</td>\n",
       "      <td>img4</td>\n",
       "      <td>[[[[175 173 174], [174 172 173]], [[174 172 17...</td>\n",
       "    </tr>\n",
       "    <tr>\n",
       "      <td>4</td>\n",
       "      <td>img5</td>\n",
       "      <td>[[[[217 217 217], [217 217 217]], [[217 217 21...</td>\n",
       "    </tr>\n",
       "    <tr>\n",
       "      <td>5</td>\n",
       "      <td>img6</td>\n",
       "      <td>[[[[190 189 185], [191 190 186]], [[190 189 18...</td>\n",
       "    </tr>\n",
       "    <tr>\n",
       "      <td>6</td>\n",
       "      <td>img7</td>\n",
       "      <td>[[[[ 95 137 187], [ 96 136 187]], [[ 96 138 18...</td>\n",
       "    </tr>\n",
       "    <tr>\n",
       "      <td>7</td>\n",
       "      <td>img8</td>\n",
       "      <td>[[[[255 255 255], [255 255 255]], [[255 255 25...</td>\n",
       "    </tr>\n",
       "    <tr>\n",
       "      <td>8</td>\n",
       "      <td>img9</td>\n",
       "      <td>[[[[161 155 143], [161 155 143]], [[162 156 14...</td>\n",
       "    </tr>\n",
       "    <tr>\n",
       "      <td>9</td>\n",
       "      <td>img10</td>\n",
       "      <td>[[[[226 224 211], [224 225 211]], [[224 225 21...</td>\n",
       "    </tr>\n",
       "  </tbody>\n",
       "</table>\n",
       "</div>"
      ],
      "text/plain": [
       "  images                                            patches\n",
       "0   img1  [[[[202 202 202], [202 202 202]], [[202 202 20...\n",
       "1   img2  [[[[191 192 194], [191 192 194]], [[191 192 19...\n",
       "2   img3  [[[[184 190 190], [184 190 190]], [[184 190 19...\n",
       "3   img4  [[[[175 173 174], [174 172 173]], [[174 172 17...\n",
       "4   img5  [[[[217 217 217], [217 217 217]], [[217 217 21...\n",
       "5   img6  [[[[190 189 185], [191 190 186]], [[190 189 18...\n",
       "6   img7  [[[[ 95 137 187], [ 96 136 187]], [[ 96 138 18...\n",
       "7   img8  [[[[255 255 255], [255 255 255]], [[255 255 25...\n",
       "8   img9  [[[[161 155 143], [161 155 143]], [[162 156 14...\n",
       "9  img10  [[[[226 224 211], [224 225 211]], [[224 225 21..."
      ]
     },
     "execution_count": 70,
     "metadata": {},
     "output_type": "execute_result"
    }
   ],
   "source": [
    "length = len(im2_list)\n",
    "\n",
    "temp = []\n",
    "for i in range (1,length):\n",
    "    temp += [\"img\"+str(i)]\n",
    "    \n",
    "tempdict = dict.fromkeys(temp, [])\n",
    "\n",
    "for i in range(1,length+1):\n",
    "    tempdict[\"img\"+str(i)] = patches_list[int(i)-1]\n",
    "\n",
    "\n",
    "# reconstruct from patches and show image \n",
    "tempf = im2_list[0]\n",
    "tempimg =image.reconstruct_from_patches_2d(patches_list[0],(426, 640, 3))\n",
    "np.testing.assert_array_equal(tempf,tempimg)\n",
    "\n",
    "implot = plt.imshow(tempimg.astype(int))\n",
    "plt.show()\n",
    "\n",
    "\n",
    "# build table\n",
    "a = zip(temp,patches_list)\n",
    "img_pat = pd.DataFrame(a, columns = ['images','patches'])\n",
    "img_pat.head(10)"
   ]
  },
  {
   "cell_type": "markdown",
   "metadata": {},
   "source": [
    "### Extracting Colour Histogram"
   ]
  },
  {
   "cell_type": "code",
   "execution_count": 71,
   "metadata": {},
   "outputs": [
    {
     "data": {
      "image/png": "[encoded data removed]",
      "text/plain": [
       "<Figure size 432x288 with 1 Axes>"
      ]
     },
     "metadata": {
      "needs_background": "light"
     },
     "output_type": "display_data"
    }
   ],
   "source": [
    "test_img = im2_list[0]\n",
    "plt.hist(test_img.ravel(),256,[0,256]);\n",
    "plt.show()"
   ]
  },
  {
   "cell_type": "code",
   "execution_count": 72,
   "metadata": {},
   "outputs": [],
   "source": [
    "\n",
    "colorhist = []\n",
    "for i in im2_list:\n",
    "    colorhist.append(i.ravel())\n",
    "# print(colorhist)\n",
    "\n",
    "b = zip(temp,colorhist)\n",
    "img_ravel = pd.DataFrame(b, columns = ['images','.ravel()'])\n",
    "img_ravel.head(10)"
   ]
  },
  {
   "cell_type": "code",
   "execution_count": 74,
   "metadata": {},
   "outputs": [
    {
     "data": {
      "image/png": "[encoded data removed]",
      "text/plain": [
       "<Figure size 432x288 with 1 Axes>"
      ]
     },
     "metadata": {
      "needs_background": "light"
     },
     "output_type": "display_data"
    }
   ],
   "source": [
    "import cv2\n",
    "  \n",
    "color = ('r','g','b')\n",
    "for i,col in enumerate(color):\n",
    "    histr = cv2.calcHist([test_img],[i],None,[256],[0,256])\n",
    "    plt.plot(histr,color = col)\n",
    "    plt.xlim([0,256])\n",
    "    plt.title(\"Color Histogram\")\n",
    "    plt.xlabel(\"Bins\")\n",
    "    plt.ylabel(\"Number of Pixels\")\n",
    "plt.show()"
   ]
  },
  {
   "cell_type": "code",
   "execution_count": 75,
   "metadata": {},
   "outputs": [
    {
     "data": {
      "image/png": "[encoded data removed]",
      "text/plain": [
       "<Figure size 432x288 with 1 Axes>"
      ]
     },
     "metadata": {
      "needs_background": "light"
     },
     "output_type": "display_data"
    }
   ],
   "source": [
    "for image in im2_list:\n",
    "    color = ('b','g','r')\n",
    "    for i,col in enumerate(color):\n",
    "        histr = cv2.calcHist([image],[i],None,[256],[0,256])\n",
    "        plt.plot(histr,color = col)\n",
    "        plt.xlim([0,256])\n",
    "        plt.title(\"Color Histogram\")\n",
    "        plt.xlabel(\"Bins\")\n",
    "        plt.ylabel(\"Number of Pixels\")\n",
    "plt.show()\n",
    "# print(histr)"
   ]
  },
  {
   "cell_type": "markdown",
   "metadata": {},
   "source": [
    "### Shi-Tomasi Corner Detector & Good Features to Track"
   ]
  },
  {
   "cell_type": "code",
   "execution_count": 76,
   "metadata": {},
   "outputs": [
    {
     "data": {
      "text/html": [
       "<div>\n",
       "<style scoped>\n",
       "    .dataframe tbody tr th:only-of-type {\n",
       "        vertical-align: middle;\n",
       "    }\n",
       "\n",
       "    .dataframe tbody tr th {\n",
       "        vertical-align: top;\n",
       "    }\n",
       "\n",
       "    .dataframe thead th {\n",
       "        text-align: right;\n",
       "    }\n",
       "</style>\n",
       "<table border=\"1\" class=\"dataframe\">\n",
       "  <thead>\n",
       "    <tr style=\"text-align: right;\">\n",
       "      <th></th>\n",
       "      <th>images</th>\n",
       "      <th>25 corners</th>\n",
       "    </tr>\n",
       "  </thead>\n",
       "  <tbody>\n",
       "    <tr>\n",
       "      <td>0</td>\n",
       "      <td>img1</td>\n",
       "      <td>[[[266, 143]], [[171, 309]], [[348, 130]], [[2...</td>\n",
       "    </tr>\n",
       "    <tr>\n",
       "      <td>1</td>\n",
       "      <td>img2</td>\n",
       "      <td>[[[184, 236]], [[185, 124]], [[195, 236]], [[1...</td>\n",
       "    </tr>\n",
       "    <tr>\n",
       "      <td>2</td>\n",
       "      <td>img3</td>\n",
       "      <td>[[[354, 347]], [[365, 357]], [[265, 350]], [[3...</td>\n",
       "    </tr>\n",
       "    <tr>\n",
       "      <td>3</td>\n",
       "      <td>img4</td>\n",
       "      <td>[[[342, 202]], [[263, 202]], [[330, 244]], [[5...</td>\n",
       "    </tr>\n",
       "    <tr>\n",
       "      <td>4</td>\n",
       "      <td>img5</td>\n",
       "      <td>[[[136, 264]], [[154, 214]], [[145, 241]], [[1...</td>\n",
       "    </tr>\n",
       "    <tr>\n",
       "      <td>5</td>\n",
       "      <td>img6</td>\n",
       "      <td>[[[519, 265]], [[235, 354]], [[478, 73]], [[35...</td>\n",
       "    </tr>\n",
       "    <tr>\n",
       "      <td>6</td>\n",
       "      <td>img7</td>\n",
       "      <td>[[[519, 299]], [[225, 323]], [[525, 259]], [[4...</td>\n",
       "    </tr>\n",
       "    <tr>\n",
       "      <td>7</td>\n",
       "      <td>img8</td>\n",
       "      <td>[[[10, 495]], [[11, 432]], [[10, 300]], [[234,...</td>\n",
       "    </tr>\n",
       "    <tr>\n",
       "      <td>8</td>\n",
       "      <td>img9</td>\n",
       "      <td>[[[298, 153]], [[300, 278]], [[229, 150]], [[3...</td>\n",
       "    </tr>\n",
       "    <tr>\n",
       "      <td>9</td>\n",
       "      <td>img10</td>\n",
       "      <td>[[[160, 75]], [[278, 119]], [[174, 95]], [[411...</td>\n",
       "    </tr>\n",
       "  </tbody>\n",
       "</table>\n",
       "</div>"
      ],
      "text/plain": [
       "  images                                         25 corners\n",
       "0   img1  [[[266, 143]], [[171, 309]], [[348, 130]], [[2...\n",
       "1   img2  [[[184, 236]], [[185, 124]], [[195, 236]], [[1...\n",
       "2   img3  [[[354, 347]], [[365, 357]], [[265, 350]], [[3...\n",
       "3   img4  [[[342, 202]], [[263, 202]], [[330, 244]], [[5...\n",
       "4   img5  [[[136, 264]], [[154, 214]], [[145, 241]], [[1...\n",
       "5   img6  [[[519, 265]], [[235, 354]], [[478, 73]], [[35...\n",
       "6   img7  [[[519, 299]], [[225, 323]], [[525, 259]], [[4...\n",
       "7   img8  [[[10, 495]], [[11, 432]], [[10, 300]], [[234,...\n",
       "8   img9  [[[298, 153]], [[300, 278]], [[229, 150]], [[3...\n",
       "9  img10  [[[160, 75]], [[278, 119]], [[174, 95]], [[411..."
      ]
     },
     "execution_count": 76,
     "metadata": {},
     "output_type": "execute_result"
    }
   ],
   "source": [
    "\n",
    "top25_corners = []\n",
    "\n",
    "for image in im2_list:\n",
    "    gray = cv2.cvtColor(image,cv2.COLOR_BGR2GRAY)\n",
    "    corners = cv2.goodFeaturesToTrack(gray,25,0.01,10)\n",
    "    corners = np.int0(corners)\n",
    "    top25_corners.append(corners)\n",
    "    # print(corners)\n",
    "    \n",
    "# print(top25_corners)\n",
    "\n",
    "c = zip(temp,top25_corners)\n",
    "\n",
    "\n",
    "# table matching images to their corners\n",
    "img_25corners = pd.DataFrame(c, columns = ['images','25 corners'])\n",
    "img_25corners.head(10)"
   ]
  },
  {
   "cell_type": "code",
   "execution_count": 77,
   "metadata": {},
   "outputs": [
    {
     "data": {
      "image/png": "[encoded data removed]",
      "text/plain": [
       "<Figure size 432x288 with 1 Axes>"
      ]
     },
     "metadata": {
      "needs_background": "light"
     },
     "output_type": "display_data"
    }
   ],
   "source": [
    "import copy\n",
    "\n",
    "demo = copy.deepcopy(im2_list[0])\n",
    "gray = cv2.cvtColor(demo,cv2.COLOR_BGR2GRAY)\n",
    "corners = cv2.goodFeaturesToTrack(gray,25,0.01,10)\n",
    "corners = np.int0(corners)\n",
    "\n",
    "for i in corners:\n",
    "    x,y = i.ravel()\n",
    "    cv2.circle(demo,(x,y),4,255,-1)\n",
    "\n",
    "plt.imshow(demo)\n",
    "plt.show()"
   ]
  }
 ],
 "metadata": {
  "kernelspec": {
   "display_name": "Python 3",
   "language": "python",
   "name": "python3"
  },
  "language_info": {
   "codemirror_mode": {
    "name": "ipython",
    "version": 3
   },
   "file_extension": ".py",
   "mimetype": "text/x-python",
   "name": "python",
   "nbconvert_exporter": "python",
   "pygments_lexer": "ipython3",
   "version": "3.7.4"
  }
 },
 "nbformat": 4,
 "nbformat_minor": 4
}
