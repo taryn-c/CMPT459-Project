{
  "nbformat": 4,
  "nbformat_minor": 0,
  "metadata": {
    "kernelspec": {
      "display_name": "Python 3",
      "language": "python",
      "name": "python3"
    },
    "language_info": {
      "codemirror_mode": {
        "name": "ipython",
        "version": 2
      },
      "file_extension": ".py",
      "mimetype": "text/x-python",
      "name": "python",
      "nbconvert_exporter": "python",
      "pygments_lexer": "ipython2",
      "version": "2.7.12"
    },
    "colab": {
      "name": "sad_mining1.ipynb",
      "provenance": [],
      "collapsed_sections": [
        "eYRt6EdH3dkA",
        "vaY2AMKu3dkE",
        "rITBM0PZ3dkN",
        "CyCwuaF63dkb",
        "UmZ37ImX3dkg",
        "JkSwP5mZ3dkj",
        "X1DP8pgh3dlb"
      ]
    }
  },
  "cells": [
    {
      "cell_type": "markdown",
      "metadata": {
        "id": "k-HwRnXF3djO",
        "colab_type": "text"
      },
      "source": [
        "# Phase 1: "
      ]
    },
    {
      "cell_type": "code",
      "metadata": {
        "id": "5aAdwKMX3djQ",
        "colab_type": "code",
        "colab": {}
      },
      "source": [
        "import numpy as np \n",
        "import pandas as pd\n",
        "import matplotlib.pyplot as plt\n",
        "import seaborn as sns\n",
        "from sklearn.feature_extraction.text import TfidfVectorizer, CountVectorizer\n",
        "\n",
        "color = sns.color_palette()\n",
        "\n",
        "%matplotlib inline\n",
        "\n",
        "pd.options.mode.chained_assignment = None  # default='warn'"
      ],
      "execution_count": 0,
      "outputs": []
    },
    {
      "cell_type": "code",
      "metadata": {
        "id": "r-MNTvLD3djU",
        "colab_type": "code",
        "colab": {
          "base_uri": "https://localhost:8080/",
          "height": 1000
        },
        "outputId": "0a2602cc-4555-4858-9762-f3395e7bb7f6"
      },
      "source": [
        "train_df = pd.read_json(\"train.json\")\n",
        "train_df"
      ],
      "execution_count": 3,
      "outputs": [
        {
          "output_type": "execute_result",
          "data": {
            "text/html": [
              "<div>\n",
              "<style scoped>\n",
              "    .dataframe tbody tr th:only-of-type {\n",
              "        vertical-align: middle;\n",
              "    }\n",
              "\n",
              "    .dataframe tbody tr th {\n",
              "        vertical-align: top;\n",
              "    }\n",
              "\n",
              "    .dataframe thead th {\n",
              "        text-align: right;\n",
              "    }\n",
              "</style>\n",
              "<table border=\"1\" class=\"dataframe\">\n",
              "  <thead>\n",
              "    <tr style=\"text-align: right;\">\n",
              "      <th></th>\n",
              "      <th>bathrooms</th>\n",
              "      <th>bedrooms</th>\n",
              "      <th>building_id</th>\n",
              "      <th>created</th>\n",
              "      <th>description</th>\n",
              "      <th>display_address</th>\n",
              "      <th>features</th>\n",
              "      <th>latitude</th>\n",
              "      <th>listing_id</th>\n",
              "      <th>longitude</th>\n",
              "      <th>manager_id</th>\n",
              "      <th>photos</th>\n",
              "      <th>price</th>\n",
              "      <th>street_address</th>\n",
              "      <th>interest_level</th>\n",
              "    </tr>\n",
              "  </thead>\n",
              "  <tbody>\n",
              "    <tr>\n",
              "      <th>4</th>\n",
              "      <td>1.0</td>\n",
              "      <td>1</td>\n",
              "      <td>8579a0b0d54db803821a35a4a615e97a</td>\n",
              "      <td>2016-06-16 05:55:27</td>\n",
              "      <td>Spacious 1 Bedroom 1 Bathroom in Williamsburg!...</td>\n",
              "      <td>145 Borinquen Place</td>\n",
              "      <td>[Dining Room, Pre-War, Laundry in Building, Di...</td>\n",
              "      <td>40.7108</td>\n",
              "      <td>7170325</td>\n",
              "      <td>-73.9539</td>\n",
              "      <td>a10db4590843d78c784171a107bdacb4</td>\n",
              "      <td>[https://photos.renthop.com/2/7170325_3bb5ac84...</td>\n",
              "      <td>2400</td>\n",
              "      <td>145 Borinquen Place</td>\n",
              "      <td>medium</td>\n",
              "    </tr>\n",
              "    <tr>\n",
              "      <th>6</th>\n",
              "      <td>1.0</td>\n",
              "      <td>2</td>\n",
              "      <td>b8e75fc949a6cd8225b455648a951712</td>\n",
              "      <td>2016-06-01 05:44:33</td>\n",
              "      <td>BRAND NEW GUT RENOVATED TRUE 2 BEDROOMFind you...</td>\n",
              "      <td>East 44th</td>\n",
              "      <td>[Doorman, Elevator, Laundry in Building, Dishw...</td>\n",
              "      <td>40.7513</td>\n",
              "      <td>7092344</td>\n",
              "      <td>-73.9722</td>\n",
              "      <td>955db33477af4f40004820b4aed804a0</td>\n",
              "      <td>[https://photos.renthop.com/2/7092344_7663c19a...</td>\n",
              "      <td>3800</td>\n",
              "      <td>230 East 44th</td>\n",
              "      <td>low</td>\n",
              "    </tr>\n",
              "    <tr>\n",
              "      <th>9</th>\n",
              "      <td>1.0</td>\n",
              "      <td>2</td>\n",
              "      <td>cd759a988b8f23924b5a2058d5ab2b49</td>\n",
              "      <td>2016-06-14 15:19:59</td>\n",
              "      <td>**FLEX 2 BEDROOM WITH FULL PRESSURIZED WALL**L...</td>\n",
              "      <td>East 56th Street</td>\n",
              "      <td>[Doorman, Elevator, Laundry in Building, Laund...</td>\n",
              "      <td>40.7575</td>\n",
              "      <td>7158677</td>\n",
              "      <td>-73.9625</td>\n",
              "      <td>c8b10a317b766204f08e613cef4ce7a0</td>\n",
              "      <td>[https://photos.renthop.com/2/7158677_c897a134...</td>\n",
              "      <td>3495</td>\n",
              "      <td>405 East 56th Street</td>\n",
              "      <td>medium</td>\n",
              "    </tr>\n",
              "    <tr>\n",
              "      <th>10</th>\n",
              "      <td>1.5</td>\n",
              "      <td>3</td>\n",
              "      <td>53a5b119ba8f7b61d4e010512e0dfc85</td>\n",
              "      <td>2016-06-24 07:54:24</td>\n",
              "      <td>A Brand New 3 Bedroom 1.5 bath ApartmentEnjoy ...</td>\n",
              "      <td>Metropolitan Avenue</td>\n",
              "      <td>[]</td>\n",
              "      <td>40.7145</td>\n",
              "      <td>7211212</td>\n",
              "      <td>-73.9425</td>\n",
              "      <td>5ba989232d0489da1b5f2c45f6688adc</td>\n",
              "      <td>[https://photos.renthop.com/2/7211212_1ed4542e...</td>\n",
              "      <td>3000</td>\n",
              "      <td>792 Metropolitan Avenue</td>\n",
              "      <td>medium</td>\n",
              "    </tr>\n",
              "    <tr>\n",
              "      <th>15</th>\n",
              "      <td>1.0</td>\n",
              "      <td>0</td>\n",
              "      <td>bfb9405149bfff42a92980b594c28234</td>\n",
              "      <td>2016-06-28 03:50:23</td>\n",
              "      <td>Over-sized Studio w abundant closets. Availabl...</td>\n",
              "      <td>East 34th Street</td>\n",
              "      <td>[Doorman, Elevator, Fitness Center, Laundry in...</td>\n",
              "      <td>40.7439</td>\n",
              "      <td>7225292</td>\n",
              "      <td>-73.9743</td>\n",
              "      <td>2c3b41f588fbb5234d8a1e885a436cfa</td>\n",
              "      <td>[https://photos.renthop.com/2/7225292_901f1984...</td>\n",
              "      <td>2795</td>\n",
              "      <td>340 East 34th Street</td>\n",
              "      <td>low</td>\n",
              "    </tr>\n",
              "    <tr>\n",
              "      <th>...</th>\n",
              "      <td>...</td>\n",
              "      <td>...</td>\n",
              "      <td>...</td>\n",
              "      <td>...</td>\n",
              "      <td>...</td>\n",
              "      <td>...</td>\n",
              "      <td>...</td>\n",
              "      <td>...</td>\n",
              "      <td>...</td>\n",
              "      <td>...</td>\n",
              "      <td>...</td>\n",
              "      <td>...</td>\n",
              "      <td>...</td>\n",
              "      <td>...</td>\n",
              "      <td>...</td>\n",
              "    </tr>\n",
              "    <tr>\n",
              "      <th>124000</th>\n",
              "      <td>1.0</td>\n",
              "      <td>3</td>\n",
              "      <td>92bbbf38baadfde0576fc496bd41749c</td>\n",
              "      <td>2016-04-05 03:58:33</td>\n",
              "      <td>There is 700 square feet of recently renovated...</td>\n",
              "      <td>W 171 Street</td>\n",
              "      <td>[Elevator, Dishwasher, Hardwood Floors]</td>\n",
              "      <td>40.8433</td>\n",
              "      <td>6824800</td>\n",
              "      <td>-73.9396</td>\n",
              "      <td>a61e21da3ba18c7a3d54cfdcc247e1f8</td>\n",
              "      <td>[https://photos.renthop.com/2/6824800_0682be16...</td>\n",
              "      <td>2800</td>\n",
              "      <td>620 W 171 Street</td>\n",
              "      <td>low</td>\n",
              "    </tr>\n",
              "    <tr>\n",
              "      <th>124002</th>\n",
              "      <td>1.0</td>\n",
              "      <td>2</td>\n",
              "      <td>5565db9b7cba3603834c4aa6f2950960</td>\n",
              "      <td>2016-04-02 02:25:31</td>\n",
              "      <td>2 bedroom apartment with updated kitchen, rece...</td>\n",
              "      <td>Broadway</td>\n",
              "      <td>[Common Outdoor Space, Cats Allowed, Dogs Allo...</td>\n",
              "      <td>40.8198</td>\n",
              "      <td>6813268</td>\n",
              "      <td>-73.9578</td>\n",
              "      <td>8f90e5e10e8a2d7cf997f016d89230eb</td>\n",
              "      <td>[https://photos.renthop.com/2/6813268_1e6fcc32...</td>\n",
              "      <td>2395</td>\n",
              "      <td>3333 Broadway</td>\n",
              "      <td>medium</td>\n",
              "    </tr>\n",
              "    <tr>\n",
              "      <th>124004</th>\n",
              "      <td>1.0</td>\n",
              "      <td>1</td>\n",
              "      <td>67997a128056ee1ed7d046bbb856e3c7</td>\n",
              "      <td>2016-04-26 05:42:03</td>\n",
              "      <td>No Brokers Fee * Never Lived 1 Bedroom 1 Bathr...</td>\n",
              "      <td>210 Brighton 15th St</td>\n",
              "      <td>[Dining Room, Elevator, Pre-War, Laundry in Bu...</td>\n",
              "      <td>40.5765</td>\n",
              "      <td>6927093</td>\n",
              "      <td>-73.9554</td>\n",
              "      <td>a10db4590843d78c784171a107bdacb4</td>\n",
              "      <td>[https://photos.renthop.com/2/6927093_93a52104...</td>\n",
              "      <td>1850</td>\n",
              "      <td>210 Brighton 15th St</td>\n",
              "      <td>medium</td>\n",
              "    </tr>\n",
              "    <tr>\n",
              "      <th>124008</th>\n",
              "      <td>1.0</td>\n",
              "      <td>2</td>\n",
              "      <td>3c0574a740154806c18bdf1fddd3d966</td>\n",
              "      <td>2016-04-19 02:47:33</td>\n",
              "      <td>Wonderful Bright Chelsea 2 Bedroom apartment o...</td>\n",
              "      <td>West 21st Street</td>\n",
              "      <td>[Pre-War, Laundry in Unit, Dishwasher, No Fee,...</td>\n",
              "      <td>40.7448</td>\n",
              "      <td>6892816</td>\n",
              "      <td>-74.0017</td>\n",
              "      <td>c3cd45f4381ac371507090e9ffabea80</td>\n",
              "      <td>[https://photos.renthop.com/2/6892816_1a8d087a...</td>\n",
              "      <td>4195</td>\n",
              "      <td>350 West 21st Street</td>\n",
              "      <td>medium</td>\n",
              "    </tr>\n",
              "    <tr>\n",
              "      <th>124009</th>\n",
              "      <td>1.0</td>\n",
              "      <td>3</td>\n",
              "      <td>d89f514c3ed0abaae52cba7017ac0701</td>\n",
              "      <td>2016-04-20 05:34:00</td>\n",
              "      <td>***PRIME MIDTOWN EAST OFF PARK AVE***TRUE 3 BE...</td>\n",
              "      <td>E 54th St</td>\n",
              "      <td>[Dining Room, Elevator, Laundry in Building, D...</td>\n",
              "      <td>40.7594</td>\n",
              "      <td>6901023</td>\n",
              "      <td>-73.9712</td>\n",
              "      <td>e90f2ded843cdb2efd65ef47d9fc8029</td>\n",
              "      <td>[https://photos.renthop.com/2/6901023_02052d90...</td>\n",
              "      <td>4280</td>\n",
              "      <td>123 E 54th St</td>\n",
              "      <td>high</td>\n",
              "    </tr>\n",
              "  </tbody>\n",
              "</table>\n",
              "<p>49352 rows × 15 columns</p>\n",
              "</div>"
            ],
            "text/plain": [
              "        bathrooms  bedrooms  ...           street_address interest_level\n",
              "4             1.0         1  ...      145 Borinquen Place         medium\n",
              "6             1.0         2  ...            230 East 44th            low\n",
              "9             1.0         2  ...     405 East 56th Street         medium\n",
              "10            1.5         3  ...  792 Metropolitan Avenue         medium\n",
              "15            1.0         0  ...     340 East 34th Street            low\n",
              "...           ...       ...  ...                      ...            ...\n",
              "124000        1.0         3  ...         620 W 171 Street            low\n",
              "124002        1.0         2  ...            3333 Broadway         medium\n",
              "124004        1.0         1  ...     210 Brighton 15th St         medium\n",
              "124008        1.0         2  ...     350 West 21st Street         medium\n",
              "124009        1.0         3  ...            123 E 54th St           high\n",
              "\n",
              "[49352 rows x 15 columns]"
            ]
          },
          "metadata": {
            "tags": []
          },
          "execution_count": 3
        }
      ]
    },
    {
      "cell_type": "code",
      "metadata": {
        "id": "0ZJm91t93djZ",
        "colab_type": "code",
        "colab": {},
        "outputId": "5b8e1108-9dd3-4984-a2f0-8846b1d0f208"
      },
      "source": [
        "train_df.dtypes"
      ],
      "execution_count": 0,
      "outputs": [
        {
          "output_type": "execute_result",
          "data": {
            "text/plain": [
              "bathrooms          float64\n",
              "bedrooms             int64\n",
              "building_id         object\n",
              "created             object\n",
              "description         object\n",
              "display_address     object\n",
              "features            object\n",
              "interest_level      object\n",
              "latitude           float64\n",
              "listing_id           int64\n",
              "longitude          float64\n",
              "manager_id          object\n",
              "photos              object\n",
              "price                int64\n",
              "street_address      object\n",
              "dtype: object"
            ]
          },
          "metadata": {
            "tags": []
          },
          "execution_count": 40
        }
      ]
    },
    {
      "cell_type": "markdown",
      "metadata": {
        "id": "THtnvgRK3djc",
        "colab_type": "text"
      },
      "source": [
        "## Visualization of target variable (interest level)"
      ]
    },
    {
      "cell_type": "code",
      "metadata": {
        "id": "sNFmJ0EE3djd",
        "colab_type": "code",
        "colab": {},
        "outputId": "099eddf2-358f-4ad4-eb40-1fb1b4501420"
      },
      "source": [
        "int_level = train_df['interest_level'].value_counts()\n",
        "\n",
        "plt.figure(figsize=(6,6))\n",
        "sns.barplot(int_level.index, int_level.values, alpha=1, color=color[0])\n",
        "plt.ylabel('Number of Occurrences', fontsize=14, fontweight='bold')\n",
        "plt.xlabel('Interest level', fontsize=14, fontweight='bold')\n",
        "plt.xticks(fontsize=10, fontweight='bold')\n",
        "plt.yticks(fontsize=10, fontweight='bold')\n",
        "plt.show()"
      ],
      "execution_count": 0,
      "outputs": [
        {
          "output_type": "display_data",
          "data": {
            "image/png": "[encoded data removed]",
            "text/plain": [
              "<Figure size 432x432 with 1 Axes>"
            ]
          },
          "metadata": {
            "tags": [],
            "needs_background": "light"
          }
        }
      ]
    },
    {
      "cell_type": "code",
      "metadata": {
        "scrolled": true,
        "id": "aca4VVGC3djg",
        "colab_type": "code",
        "colab": {},
        "outputId": "d30ff92e-d853-4732-b3d6-893ca69ad2c1"
      },
      "source": [
        "plt.pie(int_level.values,(0,0,0),int_level.index, autopct='%1.0f%%', \n",
        "       shadow=False, startangle=0,   \n",
        "       pctdistance=1.2,labeldistance=1.4)\n",
        "plt.axis('equal')\n",
        "plt.show()"
      ],
      "execution_count": 0,
      "outputs": [
        {
          "output_type": "display_data",
          "data": {
            "image/png": "[encoded data removed]",
            "text/plain": [
              "<Figure size 432x288 with 1 Axes>"
            ]
          },
          "metadata": {
            "tags": []
          }
        }
      ]
    },
    {
      "cell_type": "markdown",
      "metadata": {
        "id": "SVCyJLil3djj",
        "colab_type": "text"
      },
      "source": [
        "## Hour-wise listing trend"
      ]
    },
    {
      "cell_type": "code",
      "metadata": {
        "id": "QiSD7osB3djl",
        "colab_type": "code",
        "colab": {},
        "outputId": "d8a64502-9484-4959-d128-289310f39f4c"
      },
      "source": [
        "train_df[\"created\"] = pd.to_datetime(train_df[\"created\"])\n",
        "train_df[\"hour_created\"] = train_df[\"created\"].dt.hour\n",
        "hour = train_df['hour_created'].value_counts()\n",
        "plt.figure(figsize=(12,6))\n",
        "sns.barplot(hour.index, hour.values, alpha=0.8, color=color[3])\n",
        "plt.xlabel('hours', fontsize=12, fontweight='bold')\n",
        "plt.ylabel('# created', fontsize=12, fontweight='bold')\n",
        "plt.xticks(rotation='vertical', fontweight='bold')\n",
        "plt.yticks(fontweight='bold')\n",
        "plt.show()"
      ],
      "execution_count": 0,
      "outputs": [
        {
          "output_type": "display_data",
          "data": {
            "image/png": "[encoded data removed]",
            "text/plain": [
              "<Figure size 864x432 with 1 Axes>"
            ]
          },
          "metadata": {
            "tags": [],
            "needs_background": "light"
          }
        }
      ]
    },
    {
      "cell_type": "code",
      "metadata": {
        "id": "v-TzeBFZ3djp",
        "colab_type": "code",
        "colab": {},
        "outputId": "fdf6323e-ab43-4c05-9f41-81776bd331fe"
      },
      "source": [
        "top5 = hour[:5]\n",
        "print(\"Busiest 5:\\n\",top5)"
      ],
      "execution_count": 0,
      "outputs": [
        {
          "output_type": "stream",
          "text": [
            "('Busiest 5:\\n', 2    10596\n",
            "3     8318\n",
            "5     7954\n",
            "1     5749\n",
            "4     5021\n",
            "Name: hour_created, dtype: int64)\n"
          ],
          "name": "stdout"
        }
      ]
    },
    {
      "cell_type": "markdown",
      "metadata": {
        "id": "vMBarNCd3djt",
        "colab_type": "text"
      },
      "source": [
        "## Visualizing features"
      ]
    },
    {
      "cell_type": "code",
      "metadata": {
        "id": "LiaJoJbk3dju",
        "colab_type": "code",
        "colab": {},
        "outputId": "a2c0ec7c-e3aa-4e3d-b119-029434356b90"
      },
      "source": [
        "llimit_p = np.percentile(train_df.price.values, 1)\n",
        "ulimit_p = np.percentile(train_df.price.values, 99)\n",
        "train_df['price'].loc[train_df['price']<llimit_p] = llimit_p\n",
        "train_df['price'].loc[train_df['price']>ulimit_p] = ulimit_p\n",
        "\n",
        "plt.figure(figsize=(8,6))\n",
        "sns.distplot(train_df.price.values, bins=50, kde=False)\n",
        "plt.xlabel('price', fontsize=12, fontweight='bold')\n",
        "plt.xticks(fontweight='bold')\n",
        "plt.yticks(fontweight='bold')\n",
        "plt.show()"
      ],
      "execution_count": 0,
      "outputs": [
        {
          "output_type": "display_data",
          "data": {
            "image/png": "[encoded data removed]",
            "text/plain": [
              "<Figure size 576x432 with 1 Axes>"
            ]
          },
          "metadata": {
            "tags": [],
            "needs_background": "light"
          }
        }
      ]
    },
    {
      "cell_type": "code",
      "metadata": {
        "id": "YgZemyj03djy",
        "colab_type": "code",
        "colab": {},
        "outputId": "3867a72e-1d50-4671-a1f1-25ef200983ea"
      },
      "source": [
        "llimit_bath = np.percentile(train_df.bathrooms.values, 1)\n",
        "ulimit_bath = np.percentile(train_df.bathrooms.values, 99)\n",
        "train_df['bathrooms'].loc[train_df['bathrooms']<llimit_bath] = llimit_bath\n",
        "train_df['bathrooms'].loc[train_df['bathrooms']>ulimit_bath] = ulimit_bath\n",
        "\n",
        "plt.figure(figsize=(8,6))\n",
        "sns.distplot(train_df.bathrooms.values, kde=False)\n",
        "plt.xlabel('bathroom', fontsize=12, fontweight='bold')\n",
        "plt.xticks(fontweight='bold')\n",
        "plt.yticks(fontweight='bold')\n",
        "plt.show()"
      ],
      "execution_count": 0,
      "outputs": [
        {
          "output_type": "display_data",
          "data": {
            "image/png": "[encoded data removed]",
            "text/plain": [
              "<Figure size 576x432 with 1 Axes>"
            ]
          },
          "metadata": {
            "tags": [],
            "needs_background": "light"
          }
        }
      ]
    },
    {
      "cell_type": "code",
      "metadata": {
        "id": "eqPEXs1V3dj1",
        "colab_type": "code",
        "colab": {},
        "outputId": "9d76752d-f63b-4b10-cf54-3730a0965385"
      },
      "source": [
        "llimit_bed = np.percentile(train_df.bedrooms.values, 1)\n",
        "ulimit_bed = np.percentile(train_df.bedrooms.values, 99)\n",
        "train_df['bedrooms'].loc[train_df['bedrooms']<llimit_bed] = llimit_bed\n",
        "train_df['bedrooms'].loc[train_df['bedrooms']>ulimit_bed] = ulimit_bed\n",
        "\n",
        "plt.figure(figsize=(8,6))\n",
        "sns.distplot(train_df.bedrooms.values, kde=False)\n",
        "plt.xlabel('bedroom', fontsize=12, fontweight='bold')\n",
        "plt.xticks(fontweight='bold')\n",
        "plt.yticks(fontweight='bold')\n",
        "plt.show()"
      ],
      "execution_count": 0,
      "outputs": [
        {
          "output_type": "display_data",
          "data": {
            "image/png": "[encoded data removed]",
            "text/plain": [
              "<Figure size 576x432 with 1 Axes>"
            ]
          },
          "metadata": {
            "tags": [],
            "needs_background": "light"
          }
        }
      ]
    },
    {
      "cell_type": "code",
      "metadata": {
        "id": "BVUAQ5083dj3",
        "colab_type": "code",
        "colab": {},
        "outputId": "356d562d-1c60-4b37-c74e-3a059f8740ab"
      },
      "source": [
        "llimit_lid = np.percentile(train_df.listing_id.values, 1)\n",
        "ulimit_lid = np.percentile(train_df.listing_id.values, 99)\n",
        "train_df['listing_id'].loc[train_df['listing_id']<llimit_lid] = llimit_lid\n",
        "train_df['listing_id'].loc[train_df['listing_id']>ulimit_lid] = ulimit_lid\n",
        "\n",
        "plt.figure(figsize=(8,6))\n",
        "sns.distplot(train_df.listing_id.values, bins=50, kde=False)\n",
        "plt.xlabel('listing_id', fontsize=12, fontweight='bold')\n",
        "plt.xticks(fontweight='bold')\n",
        "plt.yticks(fontweight='bold')\n",
        "plt.show()"
      ],
      "execution_count": 0,
      "outputs": [
        {
          "output_type": "display_data",
          "data": {
            "image/png": "[encoded data removed]",
            "text/plain": [
              "<Figure size 576x432 with 1 Axes>"
            ]
          },
          "metadata": {
            "tags": [],
            "needs_background": "light"
          }
        }
      ]
    },
    {
      "cell_type": "code",
      "metadata": {
        "id": "d3U-A4jO3dj7",
        "colab_type": "code",
        "colab": {},
        "outputId": "f3773438-8641-44ee-a20c-72abbbcabf07"
      },
      "source": [
        "llimit_la = np.percentile(train_df.latitude.values, 1)\n",
        "ulimit_la = np.percentile(train_df.latitude.values, 99)\n",
        "train_df['latitude'].loc[train_df['latitude']<llimit_la] = llimit_la\n",
        "train_df['latitude'].loc[train_df['latitude']>ulimit_la] = ulimit_la\n",
        "\n",
        "plt.figure(figsize=(8,6))\n",
        "sns.distplot(train_df.latitude.values, bins=50, kde=False)\n",
        "plt.xlabel('latitude', fontsize=12, fontweight='bold')\n",
        "plt.xticks(fontweight='bold')\n",
        "plt.yticks(fontweight='bold')\n",
        "plt.show()"
      ],
      "execution_count": 0,
      "outputs": [
        {
          "output_type": "display_data",
          "data": {
            "image/png": "[encoded data removed]",
            "text/plain": [
              "<Figure size 576x432 with 1 Axes>"
            ]
          },
          "metadata": {
            "tags": [],
            "needs_background": "light"
          }
        }
      ]
    },
    {
      "cell_type": "code",
      "metadata": {
        "id": "epdoqdd13dj9",
        "colab_type": "code",
        "colab": {},
        "outputId": "27fd8076-03d5-45cd-b281-33aa824d2c1a"
      },
      "source": [
        "llimit_lo = np.percentile(train_df.longitude.values, 1)\n",
        "ulimit_lo = np.percentile(train_df.longitude.values, 99)\n",
        "train_df['longitude'].loc[train_df['longitude']<llimit_lo] = llimit_lo\n",
        "train_df['longitude'].loc[train_df['longitude']>ulimit_lo] = ulimit_lo\n",
        "\n",
        "plt.figure(figsize=(8,6))\n",
        "sns.distplot(train_df.longitude.values, bins=50, kde=False)\n",
        "plt.xlabel('longitude', fontsize=12, fontweight='bold')\n",
        "plt.xticks(fontweight='bold')\n",
        "plt.yticks(fontweight='bold')\n",
        "plt.show()\n"
      ],
      "execution_count": 0,
      "outputs": [
        {
          "output_type": "display_data",
          "data": {
            "image/png": "[encoded data removed]",
            "text/plain": [
              "<Figure size 576x432 with 1 Axes>"
            ]
          },
          "metadata": {
            "tags": [],
            "needs_background": "light"
          }
        }
      ]
    },
    {
      "cell_type": "markdown",
      "metadata": {
        "id": "eYRt6EdH3dkA",
        "colab_type": "text"
      },
      "source": [
        "## Handling missing values"
      ]
    },
    {
      "cell_type": "code",
      "metadata": {
        "id": "VTwmNSMQ3dkB",
        "colab_type": "code",
        "colab": {},
        "outputId": "f94723eb-d76e-44e3-e52b-4e7f69c4a0c7"
      },
      "source": [
        "# check if there are any null/nan values\n",
        "\n",
        "train_df.isnull().sum()"
      ],
      "execution_count": 0,
      "outputs": [
        {
          "output_type": "execute_result",
          "data": {
            "text/plain": [
              "bathrooms          0\n",
              "bedrooms           0\n",
              "building_id        0\n",
              "created            0\n",
              "description        0\n",
              "display_address    0\n",
              "features           0\n",
              "interest_level     0\n",
              "latitude           0\n",
              "listing_id         0\n",
              "longitude          0\n",
              "manager_id         0\n",
              "photos             0\n",
              "price              0\n",
              "street_address     0\n",
              "desc_vect          0\n",
              "feat_vect          0\n",
              "dtype: int64"
            ]
          },
          "metadata": {
            "tags": []
          },
          "execution_count": 105
        }
      ]
    },
    {
      "cell_type": "markdown",
      "metadata": {
        "id": "vaY2AMKu3dkE",
        "colab_type": "text"
      },
      "source": [
        "### Bedrooms"
      ]
    },
    {
      "cell_type": "code",
      "metadata": {
        "id": "421YQmsl3dkF",
        "colab_type": "code",
        "colab": {},
        "outputId": "db1314aa-f1da-4682-fa7a-9a11d353ce9e"
      },
      "source": [
        "train_df.groupby('bedrooms').count()"
      ],
      "execution_count": 0,
      "outputs": [
        {
          "output_type": "execute_result",
          "data": {
            "text/html": [
              "<div>\n",
              "<style scoped>\n",
              "    .dataframe tbody tr th:only-of-type {\n",
              "        vertical-align: middle;\n",
              "    }\n",
              "\n",
              "    .dataframe tbody tr th {\n",
              "        vertical-align: top;\n",
              "    }\n",
              "\n",
              "    .dataframe thead th {\n",
              "        text-align: right;\n",
              "    }\n",
              "</style>\n",
              "<table border=\"1\" class=\"dataframe\">\n",
              "  <thead>\n",
              "    <tr style=\"text-align: right;\">\n",
              "      <th></th>\n",
              "      <th>bathrooms</th>\n",
              "      <th>building_id</th>\n",
              "      <th>created</th>\n",
              "      <th>description</th>\n",
              "      <th>display_address</th>\n",
              "      <th>features</th>\n",
              "      <th>interest_level</th>\n",
              "      <th>latitude</th>\n",
              "      <th>listing_id</th>\n",
              "      <th>longitude</th>\n",
              "      <th>manager_id</th>\n",
              "      <th>photos</th>\n",
              "      <th>price</th>\n",
              "      <th>street_address</th>\n",
              "      <th>hour_created</th>\n",
              "    </tr>\n",
              "    <tr>\n",
              "      <th>bedrooms</th>\n",
              "      <th></th>\n",
              "      <th></th>\n",
              "      <th></th>\n",
              "      <th></th>\n",
              "      <th></th>\n",
              "      <th></th>\n",
              "      <th></th>\n",
              "      <th></th>\n",
              "      <th></th>\n",
              "      <th></th>\n",
              "      <th></th>\n",
              "      <th></th>\n",
              "      <th></th>\n",
              "      <th></th>\n",
              "      <th></th>\n",
              "    </tr>\n",
              "  </thead>\n",
              "  <tbody>\n",
              "    <tr>\n",
              "      <th>0.0</th>\n",
              "      <td>9475</td>\n",
              "      <td>9475</td>\n",
              "      <td>9475</td>\n",
              "      <td>9475</td>\n",
              "      <td>9475</td>\n",
              "      <td>9475</td>\n",
              "      <td>9475</td>\n",
              "      <td>9475</td>\n",
              "      <td>9475</td>\n",
              "      <td>9475</td>\n",
              "      <td>9475</td>\n",
              "      <td>9475</td>\n",
              "      <td>9475</td>\n",
              "      <td>9475</td>\n",
              "      <td>9475</td>\n",
              "    </tr>\n",
              "    <tr>\n",
              "      <th>1.0</th>\n",
              "      <td>15752</td>\n",
              "      <td>15752</td>\n",
              "      <td>15752</td>\n",
              "      <td>15752</td>\n",
              "      <td>15752</td>\n",
              "      <td>15752</td>\n",
              "      <td>15752</td>\n",
              "      <td>15752</td>\n",
              "      <td>15752</td>\n",
              "      <td>15752</td>\n",
              "      <td>15752</td>\n",
              "      <td>15752</td>\n",
              "      <td>15752</td>\n",
              "      <td>15752</td>\n",
              "      <td>15752</td>\n",
              "    </tr>\n",
              "    <tr>\n",
              "      <th>2.0</th>\n",
              "      <td>14623</td>\n",
              "      <td>14623</td>\n",
              "      <td>14623</td>\n",
              "      <td>14623</td>\n",
              "      <td>14623</td>\n",
              "      <td>14623</td>\n",
              "      <td>14623</td>\n",
              "      <td>14623</td>\n",
              "      <td>14623</td>\n",
              "      <td>14623</td>\n",
              "      <td>14623</td>\n",
              "      <td>14623</td>\n",
              "      <td>14623</td>\n",
              "      <td>14623</td>\n",
              "      <td>14623</td>\n",
              "    </tr>\n",
              "    <tr>\n",
              "      <th>3.0</th>\n",
              "      <td>7276</td>\n",
              "      <td>7276</td>\n",
              "      <td>7276</td>\n",
              "      <td>7276</td>\n",
              "      <td>7276</td>\n",
              "      <td>7276</td>\n",
              "      <td>7276</td>\n",
              "      <td>7276</td>\n",
              "      <td>7276</td>\n",
              "      <td>7276</td>\n",
              "      <td>7276</td>\n",
              "      <td>7276</td>\n",
              "      <td>7276</td>\n",
              "      <td>7276</td>\n",
              "      <td>7276</td>\n",
              "    </tr>\n",
              "    <tr>\n",
              "      <th>4.0</th>\n",
              "      <td>2226</td>\n",
              "      <td>2226</td>\n",
              "      <td>2226</td>\n",
              "      <td>2226</td>\n",
              "      <td>2226</td>\n",
              "      <td>2226</td>\n",
              "      <td>2226</td>\n",
              "      <td>2226</td>\n",
              "      <td>2226</td>\n",
              "      <td>2226</td>\n",
              "      <td>2226</td>\n",
              "      <td>2226</td>\n",
              "      <td>2226</td>\n",
              "      <td>2226</td>\n",
              "      <td>2226</td>\n",
              "    </tr>\n",
              "  </tbody>\n",
              "</table>\n",
              "</div>"
            ],
            "text/plain": [
              "          bathrooms  building_id  created  description  display_address  \\\n",
              "bedrooms                                                                  \n",
              "0.0            9475         9475     9475         9475             9475   \n",
              "1.0           15752        15752    15752        15752            15752   \n",
              "2.0           14623        14623    14623        14623            14623   \n",
              "3.0            7276         7276     7276         7276             7276   \n",
              "4.0            2226         2226     2226         2226             2226   \n",
              "\n",
              "          features  interest_level  latitude  listing_id  longitude  \\\n",
              "bedrooms                                                              \n",
              "0.0           9475            9475      9475        9475       9475   \n",
              "1.0          15752           15752     15752       15752      15752   \n",
              "2.0          14623           14623     14623       14623      14623   \n",
              "3.0           7276            7276      7276        7276       7276   \n",
              "4.0           2226            2226      2226        2226       2226   \n",
              "\n",
              "          manager_id  photos  price  street_address  hour_created  \n",
              "bedrooms                                                           \n",
              "0.0             9475    9475   9475            9475          9475  \n",
              "1.0            15752   15752  15752           15752         15752  \n",
              "2.0            14623   14623  14623           14623         14623  \n",
              "3.0             7276    7276   7276            7276          7276  \n",
              "4.0             2226    2226   2226            2226          2226  "
            ]
          },
          "metadata": {
            "tags": []
          },
          "execution_count": 15
        }
      ]
    },
    {
      "cell_type": "code",
      "metadata": {
        "scrolled": true,
        "id": "p1YRHv2K3dkI",
        "colab_type": "code",
        "colab": {},
        "outputId": "b5fa7f7d-d687-40e4-eb16-5299974be6d3"
      },
      "source": [
        "train_df.groupby('bedrooms').count().sum()"
      ],
      "execution_count": 0,
      "outputs": [
        {
          "output_type": "execute_result",
          "data": {
            "text/plain": [
              "bathrooms          49352\n",
              "building_id        49352\n",
              "created            49352\n",
              "description        49352\n",
              "display_address    49352\n",
              "features           49352\n",
              "interest_level     49352\n",
              "latitude           49352\n",
              "listing_id         49352\n",
              "longitude          49352\n",
              "manager_id         49352\n",
              "photos             49352\n",
              "price              49352\n",
              "street_address     49352\n",
              "hour_created       49352\n",
              "dtype: int64"
            ]
          },
          "metadata": {
            "tags": []
          },
          "execution_count": 16
        }
      ]
    },
    {
      "cell_type": "markdown",
      "metadata": {
        "id": "cEE94aOw3dkM",
        "colab_type": "text"
      },
      "source": [
        "We found 9475 values with a bedroom count of 0. This is simply too high of a number to assume it is an error. Upon checking some photos, we realized that these are probably studio apartments so no bedrooms makes sense. When we aggregated the count of every value of bedrooms, we found there were no missing values."
      ]
    },
    {
      "cell_type": "markdown",
      "metadata": {
        "id": "rITBM0PZ3dkN",
        "colab_type": "text"
      },
      "source": [
        "### Bathrooms"
      ]
    },
    {
      "cell_type": "code",
      "metadata": {
        "id": "A5mTB-vr3dkO",
        "colab_type": "code",
        "colab": {},
        "outputId": "670fdd1f-d88b-4dac-9c0a-c767b04e2fc8"
      },
      "source": [
        "train_df.groupby('bathrooms').count()"
      ],
      "execution_count": 0,
      "outputs": [
        {
          "output_type": "execute_result",
          "data": {
            "text/html": [
              "<div>\n",
              "<style scoped>\n",
              "    .dataframe tbody tr th:only-of-type {\n",
              "        vertical-align: middle;\n",
              "    }\n",
              "\n",
              "    .dataframe tbody tr th {\n",
              "        vertical-align: top;\n",
              "    }\n",
              "\n",
              "    .dataframe thead th {\n",
              "        text-align: right;\n",
              "    }\n",
              "</style>\n",
              "<table border=\"1\" class=\"dataframe\">\n",
              "  <thead>\n",
              "    <tr style=\"text-align: right;\">\n",
              "      <th></th>\n",
              "      <th>bedrooms</th>\n",
              "      <th>building_id</th>\n",
              "      <th>created</th>\n",
              "      <th>description</th>\n",
              "      <th>display_address</th>\n",
              "      <th>features</th>\n",
              "      <th>interest_level</th>\n",
              "      <th>latitude</th>\n",
              "      <th>listing_id</th>\n",
              "      <th>longitude</th>\n",
              "      <th>manager_id</th>\n",
              "      <th>photos</th>\n",
              "      <th>price</th>\n",
              "      <th>street_address</th>\n",
              "      <th>hour_created</th>\n",
              "    </tr>\n",
              "    <tr>\n",
              "      <th>bathrooms</th>\n",
              "      <th></th>\n",
              "      <th></th>\n",
              "      <th></th>\n",
              "      <th></th>\n",
              "      <th></th>\n",
              "      <th></th>\n",
              "      <th></th>\n",
              "      <th></th>\n",
              "      <th></th>\n",
              "      <th></th>\n",
              "      <th></th>\n",
              "      <th></th>\n",
              "      <th></th>\n",
              "      <th></th>\n",
              "      <th></th>\n",
              "    </tr>\n",
              "  </thead>\n",
              "  <tbody>\n",
              "    <tr>\n",
              "      <th>1.0</th>\n",
              "      <td>39735</td>\n",
              "      <td>39735</td>\n",
              "      <td>39735</td>\n",
              "      <td>39735</td>\n",
              "      <td>39735</td>\n",
              "      <td>39735</td>\n",
              "      <td>39735</td>\n",
              "      <td>39735</td>\n",
              "      <td>39735</td>\n",
              "      <td>39735</td>\n",
              "      <td>39735</td>\n",
              "      <td>39735</td>\n",
              "      <td>39735</td>\n",
              "      <td>39735</td>\n",
              "      <td>39735</td>\n",
              "    </tr>\n",
              "    <tr>\n",
              "      <th>1.5</th>\n",
              "      <td>645</td>\n",
              "      <td>645</td>\n",
              "      <td>645</td>\n",
              "      <td>645</td>\n",
              "      <td>645</td>\n",
              "      <td>645</td>\n",
              "      <td>645</td>\n",
              "      <td>645</td>\n",
              "      <td>645</td>\n",
              "      <td>645</td>\n",
              "      <td>645</td>\n",
              "      <td>645</td>\n",
              "      <td>645</td>\n",
              "      <td>645</td>\n",
              "      <td>645</td>\n",
              "    </tr>\n",
              "    <tr>\n",
              "      <th>2.0</th>\n",
              "      <td>7660</td>\n",
              "      <td>7660</td>\n",
              "      <td>7660</td>\n",
              "      <td>7660</td>\n",
              "      <td>7660</td>\n",
              "      <td>7660</td>\n",
              "      <td>7660</td>\n",
              "      <td>7660</td>\n",
              "      <td>7660</td>\n",
              "      <td>7660</td>\n",
              "      <td>7660</td>\n",
              "      <td>7660</td>\n",
              "      <td>7660</td>\n",
              "      <td>7660</td>\n",
              "      <td>7660</td>\n",
              "    </tr>\n",
              "    <tr>\n",
              "      <th>2.5</th>\n",
              "      <td>277</td>\n",
              "      <td>277</td>\n",
              "      <td>277</td>\n",
              "      <td>277</td>\n",
              "      <td>277</td>\n",
              "      <td>277</td>\n",
              "      <td>277</td>\n",
              "      <td>277</td>\n",
              "      <td>277</td>\n",
              "      <td>277</td>\n",
              "      <td>277</td>\n",
              "      <td>277</td>\n",
              "      <td>277</td>\n",
              "      <td>277</td>\n",
              "      <td>277</td>\n",
              "    </tr>\n",
              "    <tr>\n",
              "      <th>3.0</th>\n",
              "      <td>1035</td>\n",
              "      <td>1035</td>\n",
              "      <td>1035</td>\n",
              "      <td>1035</td>\n",
              "      <td>1035</td>\n",
              "      <td>1035</td>\n",
              "      <td>1035</td>\n",
              "      <td>1035</td>\n",
              "      <td>1035</td>\n",
              "      <td>1035</td>\n",
              "      <td>1035</td>\n",
              "      <td>1035</td>\n",
              "      <td>1035</td>\n",
              "      <td>1035</td>\n",
              "      <td>1035</td>\n",
              "    </tr>\n",
              "  </tbody>\n",
              "</table>\n",
              "</div>"
            ],
            "text/plain": [
              "           bedrooms  building_id  created  description  display_address  \\\n",
              "bathrooms                                                                 \n",
              "1.0           39735        39735    39735        39735            39735   \n",
              "1.5             645          645      645          645              645   \n",
              "2.0            7660         7660     7660         7660             7660   \n",
              "2.5             277          277      277          277              277   \n",
              "3.0            1035         1035     1035         1035             1035   \n",
              "\n",
              "           features  interest_level  latitude  listing_id  longitude  \\\n",
              "bathrooms                                                              \n",
              "1.0           39735           39735     39735       39735      39735   \n",
              "1.5             645             645       645         645        645   \n",
              "2.0            7660            7660      7660        7660       7660   \n",
              "2.5             277             277       277         277        277   \n",
              "3.0            1035            1035      1035        1035       1035   \n",
              "\n",
              "           manager_id  photos  price  street_address  hour_created  \n",
              "bathrooms                                                           \n",
              "1.0             39735   39735  39735           39735         39735  \n",
              "1.5               645     645    645             645           645  \n",
              "2.0              7660    7660   7660            7660          7660  \n",
              "2.5               277     277    277             277           277  \n",
              "3.0              1035    1035   1035            1035          1035  "
            ]
          },
          "metadata": {
            "tags": []
          },
          "execution_count": 17
        }
      ]
    },
    {
      "cell_type": "code",
      "metadata": {
        "scrolled": true,
        "id": "ON55y-qe3dkR",
        "colab_type": "code",
        "colab": {},
        "outputId": "1e0d8947-aa5c-4f5e-e345-3bacfc6f3e48"
      },
      "source": [
        "train_df.groupby('bathrooms').count().sum()"
      ],
      "execution_count": 0,
      "outputs": [
        {
          "output_type": "execute_result",
          "data": {
            "text/plain": [
              "bedrooms           49352\n",
              "building_id        49352\n",
              "created            49352\n",
              "description        49352\n",
              "display_address    49352\n",
              "features           49352\n",
              "interest_level     49352\n",
              "latitude           49352\n",
              "listing_id         49352\n",
              "longitude          49352\n",
              "manager_id         49352\n",
              "photos             49352\n",
              "price              49352\n",
              "street_address     49352\n",
              "hour_created       49352\n",
              "dtype: int64"
            ]
          },
          "metadata": {
            "tags": []
          },
          "execution_count": 18
        }
      ]
    },
    {
      "cell_type": "markdown",
      "metadata": {
        "id": "jEm2Stlk3dkZ",
        "colab_type": "text"
      },
      "source": [
        "Again, we found no missing values for bathrooms."
      ]
    },
    {
      "cell_type": "markdown",
      "metadata": {
        "id": "CyCwuaF63dkb",
        "colab_type": "text"
      },
      "source": [
        "### Building ID"
      ]
    },
    {
      "cell_type": "code",
      "metadata": {
        "id": "zjagToSv3dkd",
        "colab_type": "code",
        "colab": {},
        "outputId": "8c6c25a9-1746-4de9-ba65-5207546eedd7"
      },
      "source": [
        "#building_id\n",
        "\n",
        "whichrow = 0\n",
        "count = 0\n",
        "for row in train_df['building_id']:\n",
        "    if row=='0':\n",
        "        count+=1 or any(c.isalpha() for c in row) == False\n",
        "        #train_df.loc[train_df.index[whichrow], 'building_id'] = np.nan\n",
        "        whichrow+=1\n",
        "    else:\n",
        "        whichrow += 1\n",
        "print (\"number of missing values: \", count)\n",
        "#train_df.head(30)"
      ],
      "execution_count": 0,
      "outputs": [
        {
          "output_type": "stream",
          "text": [
            "('number of missing values: ', 8286)\n"
          ],
          "name": "stdout"
        }
      ]
    },
    {
      "cell_type": "markdown",
      "metadata": {
        "id": "8llJf8_Y3dkf",
        "colab_type": "text"
      },
      "source": [
        "It's unlikely that building ID has any effect on the interest level of a listing so we left these values."
      ]
    },
    {
      "cell_type": "markdown",
      "metadata": {
        "id": "UmZ37ImX3dkg",
        "colab_type": "text"
      },
      "source": [
        "### Description"
      ]
    },
    {
      "cell_type": "code",
      "metadata": {
        "id": "ycK54wSG3dkh",
        "colab_type": "code",
        "colab": {},
        "outputId": "43c4b791-1ee0-4770-cd9a-dc8a65f7e7da"
      },
      "source": [
        "#description\n",
        "\n",
        "whichrow = 0\n",
        "count = 0\n",
        "for row in train_df['description']:\n",
        "    if  any(c.isalpha() for c in row) == False:\n",
        "        count+=1\n",
        "        train_df.loc[train_df.index[whichrow], 'description'] = np.nan\n",
        "        whichrow+=1\n",
        "    else:\n",
        "        whichrow += 1\n",
        "print (\"number of missing values: \", count)\n",
        "#train_df.head(50)"
      ],
      "execution_count": 0,
      "outputs": [
        {
          "output_type": "stream",
          "text": [
            "('number of missing values: ', 3336)\n"
          ],
          "name": "stdout"
        }
      ]
    },
    {
      "cell_type": "markdown",
      "metadata": {
        "id": "JkSwP5mZ3dkj",
        "colab_type": "text"
      },
      "source": [
        "### Features"
      ]
    },
    {
      "cell_type": "code",
      "metadata": {
        "id": "ksC79N9U3dkj",
        "colab_type": "code",
        "colab": {},
        "outputId": "a8aa209c-5785-43d5-9967-096c5a96bd46"
      },
      "source": [
        "#features\n",
        "\n",
        "whichrow = 0\n",
        "count = 0\n",
        "for row in train_df['features']:\n",
        "    if row==[]:\n",
        "        count+=1\n",
        "        #train_df.loc[train_df.index[whichrow], 'features'] = np.nan\n",
        "        whichrow+=1\n",
        "    else:\n",
        "        whichrow += 1\n",
        "print (\"number of missing values: \", count)\n",
        "#train_df.head(50)"
      ],
      "execution_count": 0,
      "outputs": [
        {
          "output_type": "stream",
          "text": [
            "('number of missing values: ', 3218)\n"
          ],
          "name": "stdout"
        }
      ]
    },
    {
      "cell_type": "code",
      "metadata": {
        "id": "CBWhu-Mg3dkm",
        "colab_type": "code",
        "colab": {},
        "outputId": "74073482-a017-4eb3-c823-2537d1b6ed33"
      },
      "source": [
        "#created\n",
        "\n",
        "whichrow = 0\n",
        "count = 0\n",
        "for row in train_df['created']:\n",
        "    if any(c.isalpha() for c in row) == False:\n",
        "        count+=1\n",
        "        #train_df.loc[train_df.index[whichrow], 'created'] = np.nan\n",
        "        whichrow+=1\n",
        "    else:\n",
        "        whichrow += 1\n",
        "print (\"number of missing values: \", count)"
      ],
      "execution_count": 0,
      "outputs": [
        {
          "output_type": "stream",
          "text": [
            "('number of missing values: ', 49352)\n"
          ],
          "name": "stdout"
        }
      ]
    },
    {
      "cell_type": "code",
      "metadata": {
        "id": "L-2Nsd9b3dko",
        "colab_type": "code",
        "colab": {},
        "outputId": "16295afe-3258-4a6d-c673-9593c0ee7bda"
      },
      "source": [
        "#display_address\n",
        "\n",
        "whichrow = 0\n",
        "count = 0\n",
        "for row in train_df['display_address']:\n",
        "    if any(c.isalpha() for c in row) == False:\n",
        "        count+=1\n",
        "        #train_df.loc[train_df.index[whichrow], 'display_address'] = np.nan\n",
        "        whichrow+=1\n",
        "    else:\n",
        "        whichrow += 1\n",
        "print (\"number of missing values: \", count)"
      ],
      "execution_count": 0,
      "outputs": [
        {
          "output_type": "stream",
          "text": [
            "('number of missing values: ', 141)\n"
          ],
          "name": "stdout"
        }
      ]
    },
    {
      "cell_type": "code",
      "metadata": {
        "id": "rvX3qZmk3dkr",
        "colab_type": "code",
        "colab": {},
        "outputId": "3a55e7b1-3bb2-4de2-8dd0-d4766a95fcd4"
      },
      "source": [
        "#street_address\n",
        "\n",
        "whichrow = 0\n",
        "count = 0\n",
        "for row in train_df['street_address']:\n",
        "    if any(c.isalpha() for c in row) == False :\n",
        "        count+=1\n",
        "        #train_df.loc[train_df.index[whichrow], 'street_address'] = np.nan\n",
        "        whichrow+=1\n",
        "    else:\n",
        "        whichrow += 1\n",
        "print (\"number of missing values: \", count)"
      ],
      "execution_count": 0,
      "outputs": [
        {
          "output_type": "stream",
          "text": [
            "('number of missing values: ', 13)\n"
          ],
          "name": "stdout"
        }
      ]
    },
    {
      "cell_type": "code",
      "metadata": {
        "id": "dBJxOciL3dku",
        "colab_type": "code",
        "colab": {},
        "outputId": "d59f2b26-2b0a-4a33-b121-ef8ce7dec110"
      },
      "source": [
        "#latitude\n",
        "\n",
        "whichrow = 0\n",
        "count = 0\n",
        "for row in train_df['latitude']:\n",
        "    if row==0:\n",
        "        count+=1\n",
        "        #train_df.loc[train_df.index[whichrow], 'latitude'] = np.nan\n",
        "        whichrow+=1\n",
        "    else:\n",
        "        whichrow += 1\n",
        "print (\"number of missing values: \", count)"
      ],
      "execution_count": 0,
      "outputs": [
        {
          "output_type": "stream",
          "text": [
            "('number of missing values: ', 0)\n"
          ],
          "name": "stdout"
        }
      ]
    },
    {
      "cell_type": "code",
      "metadata": {
        "id": "8-GhZfDm3dkw",
        "colab_type": "code",
        "colab": {},
        "outputId": "0ee1b9ea-ad29-42d0-8f63-7bdc55eebc7d"
      },
      "source": [
        "#listing_id\n",
        "\n",
        "whichrow = 0\n",
        "count = 0\n",
        "for row in train_df['listing_id']:\n",
        "    if row==0 or row=='null':\n",
        "        count+=1\n",
        "        #train_df.loc[train_df.index[whichrow], 'listing_id'] = np.nan\n",
        "        whichrow+=1\n",
        "    else:\n",
        "        whichrow += 1\n",
        "print (\"number of missing values: \", count)"
      ],
      "execution_count": 0,
      "outputs": [
        {
          "output_type": "stream",
          "text": [
            "('number of missing values: ', 0)\n"
          ],
          "name": "stdout"
        }
      ]
    },
    {
      "cell_type": "code",
      "metadata": {
        "id": "sR_Ujf6e3dkz",
        "colab_type": "code",
        "colab": {},
        "outputId": "56bcc50e-ec09-4ff3-c251-9d7e201dfd94"
      },
      "source": [
        "#longitude\n",
        "\n",
        "whichrow = 0\n",
        "count = 0\n",
        "for row in train_df['longitude']:\n",
        "    if row==0 or row=='null':\n",
        "        count+=1\n",
        "        #train_df.loc[train_df.index[whichrow], 'longitude'] = np.nan\n",
        "        whichrow+=1\n",
        "    else:\n",
        "        whichrow += 1\n",
        "print (\"number of missing values: \", count)"
      ],
      "execution_count": 0,
      "outputs": [
        {
          "output_type": "stream",
          "text": [
            "('number of missing values: ', 12)\n"
          ],
          "name": "stdout"
        }
      ]
    },
    {
      "cell_type": "code",
      "metadata": {
        "id": "x4I72ZOl3dk1",
        "colab_type": "code",
        "colab": {},
        "outputId": "f442d68d-d87c-4e06-f162-32fe5c1d8314"
      },
      "source": [
        "#manager_id\n",
        "\n",
        "whichrow = 0\n",
        "count = 0\n",
        "for row in train_df['manager_id']:\n",
        "    if  row==0 or any(c.isalpha() for c in row) == False:\n",
        "        count+=1\n",
        "        #train_df.loc[train_df.index[whichrow], 'manager_id'] = np.nan\n",
        "        whichrow+=1\n",
        "    else:\n",
        "        whichrow += 1\n",
        "print (\"number of missing values: \", count)"
      ],
      "execution_count": 0,
      "outputs": [
        {
          "output_type": "stream",
          "text": [
            "('number of missing values: ', 0)\n"
          ],
          "name": "stdout"
        }
      ]
    },
    {
      "cell_type": "code",
      "metadata": {
        "id": "kQg1UBlJ3dk4",
        "colab_type": "code",
        "colab": {},
        "outputId": "f7349f9d-90dc-4115-fac5-8382bdc3b909"
      },
      "source": [
        "#photos\n",
        "\n",
        "whichrow = 0\n",
        "count = 0\n",
        "for row in train_df['photos']:\n",
        "    if  any(isinstance(c,str) for c in row) == False:\n",
        "        count+=1\n",
        "        #train_df.loc[train_df.index[whichrow], 'photos'] = np.nan\n",
        "        whichrow+=1\n",
        "    else:\n",
        "        whichrow += 1\n",
        "print (\"number of missing values: \", count)"
      ],
      "execution_count": 0,
      "outputs": [
        {
          "output_type": "stream",
          "text": [
            "('number of missing values: ', 49352)\n"
          ],
          "name": "stdout"
        }
      ]
    },
    {
      "cell_type": "code",
      "metadata": {
        "id": "RkwI_0oY3dk6",
        "colab_type": "code",
        "colab": {},
        "outputId": "11aa8bac-f45e-46cc-99b6-678246bd3576"
      },
      "source": [
        "#price\n",
        "\n",
        "whichrow = 0\n",
        "count = 0\n",
        "for row in train_df['price']:\n",
        "    if row==0:\n",
        "        count+=1\n",
        "        #train_df.loc[train_df.index[whichrow], 'price'] = np.nan\n",
        "        whichrow+=1\n",
        "    else:\n",
        "        whichrow += 1\n",
        "print (\"number of missing values: \", count)"
      ],
      "execution_count": 0,
      "outputs": [
        {
          "output_type": "stream",
          "text": [
            "('number of missing values: ', 0)\n"
          ],
          "name": "stdout"
        }
      ]
    },
    {
      "cell_type": "code",
      "metadata": {
        "id": "WcsG7z2n3dk_",
        "colab_type": "code",
        "colab": {},
        "outputId": "d63db38d-ef39-4564-e05a-1262b30f4abb"
      },
      "source": [
        "#interest_level\n",
        "\n",
        "whichrow = 0\n",
        "count = 0\n",
        "list= [\"low\", \"medium\", \"high\"]\n",
        "for row in train_df['interest_level']:\n",
        "    if row not in list :\n",
        "        count+=1\n",
        "        #train_df.loc[train_df.index[whichrow], 'interest_level'] = np.nan\n",
        "        whichrow+=1\n",
        "    else:\n",
        "        whichrow += 1\n",
        "print (\"number of missing values: \", count)"
      ],
      "execution_count": 0,
      "outputs": [
        {
          "output_type": "stream",
          "text": [
            "('number of missing values: ', 0)\n"
          ],
          "name": "stdout"
        }
      ]
    },
    {
      "cell_type": "code",
      "metadata": {
        "id": "ZBLEBwD93dlD",
        "colab_type": "code",
        "colab": {}
      },
      "source": [
        "#print( train_df['photos'])"
      ],
      "execution_count": 0,
      "outputs": []
    },
    {
      "cell_type": "code",
      "metadata": {
        "id": "yjXMbj8v3dlG",
        "colab_type": "code",
        "colab": {}
      },
      "source": [
        "#pd.options.display.max_colwidth = 10"
      ],
      "execution_count": 0,
      "outputs": []
    },
    {
      "cell_type": "markdown",
      "metadata": {
        "id": "CP3oDOuM3dlJ",
        "colab_type": "text"
      },
      "source": [
        "## Handling outliers"
      ]
    },
    {
      "cell_type": "code",
      "metadata": {
        "id": "ZHyU5pa33dlJ",
        "colab_type": "code",
        "colab": {
          "base_uri": "https://localhost:8080/",
          "height": 34
        },
        "outputId": "be318c65-e65c-491a-88c0-2954b45c2a30"
      },
      "source": [
        "q25, q75 = np.percentile(train_df['price'].values, 25), np.percentile(train_df['price'].values, 75)\n",
        "iqr = q75-q25\n",
        "cutoff = iqr * 1.5\n",
        "\n",
        "# calculate inner tukey fences \n",
        "lower, upper = q25 - cutoff, q75 + cutoff\n",
        "outliers = [x for x in train_df['price'].values if x > upper or x < lower]\n",
        "len(outliers)"
      ],
      "execution_count": 4,
      "outputs": [
        {
          "output_type": "execute_result",
          "data": {
            "text/plain": [
              "2788"
            ]
          },
          "metadata": {
            "tags": []
          },
          "execution_count": 4
        }
      ]
    },
    {
      "cell_type": "code",
      "metadata": {
        "id": "Yp5jm9jM5U-7",
        "colab_type": "code",
        "colab": {
          "base_uri": "https://localhost:8080/",
          "height": 269
        },
        "outputId": "6138b795-45ed-492e-8cf2-04d3e6d6e8f6"
      },
      "source": [
        "sns.boxplot(y=train_df['price'])"
      ],
      "execution_count": 16,
      "outputs": [
        {
          "output_type": "execute_result",
          "data": {
            "text/plain": [
              "<matplotlib.axes._subplots.AxesSubplot at 0x7f17efa7d6d8>"
            ]
          },
          "metadata": {
            "tags": []
          },
          "execution_count": 16
        },
        {
          "output_type": "display_data",
          "data": {
            "image/png": "[encoded data removed]",
            "text/plain": [
              "<Figure size 432x288 with 1 Axes>"
            ]
          },
          "metadata": {
            "tags": []
          }
        }
      ]
    },
    {
      "cell_type": "code",
      "metadata": {
        "id": "Wc5PqKPZ-nqF",
        "colab_type": "code",
        "colab": {
          "base_uri": "https://localhost:8080/",
          "height": 269
        },
        "outputId": "e8756f8c-a249-4f82-8fdd-15f386275a61"
      },
      "source": [
        "sns.boxplot(y=train_df['bedrooms'])"
      ],
      "execution_count": 17,
      "outputs": [
        {
          "output_type": "execute_result",
          "data": {
            "text/plain": [
              "<matplotlib.axes._subplots.AxesSubplot at 0x7f17efa64f98>"
            ]
          },
          "metadata": {
            "tags": []
          },
          "execution_count": 17
        },
        {
          "output_type": "display_data",
          "data": {
            "image/png": "[encoded data removed]",
            "text/plain": [
              "<Figure size 432x288 with 1 Axes>"
            ]
          },
          "metadata": {
            "tags": []
          }
        }
      ]
    },
    {
      "cell_type": "code",
      "metadata": {
        "id": "DmhGTTwZ-k1B",
        "colab_type": "code",
        "colab": {
          "base_uri": "https://localhost:8080/",
          "height": 269
        },
        "outputId": "6f74e476-e7c8-41e1-8e23-69f0f11ab1a2"
      },
      "source": [
        "sns.boxplot(y=train_df['bathrooms'])"
      ],
      "execution_count": 18,
      "outputs": [
        {
          "output_type": "execute_result",
          "data": {
            "text/plain": [
              "<matplotlib.axes._subplots.AxesSubplot at 0x7f17efad4e48>"
            ]
          },
          "metadata": {
            "tags": []
          },
          "execution_count": 18
        },
        {
          "output_type": "display_data",
          "data": {
            "image/png": "[encoded data removed]",
            "text/plain": [
              "<Figure size 432x288 with 1 Axes>"
            ]
          },
          "metadata": {
            "tags": []
          }
        }
      ]
    },
    {
      "cell_type": "code",
      "metadata": {
        "id": "xxIkGCF6-2xE",
        "colab_type": "code",
        "colab": {
          "base_uri": "https://localhost:8080/",
          "height": 269
        },
        "outputId": "0a252178-5672-4226-8a10-2defe1422d40"
      },
      "source": [
        "sns.boxplot(y=train_df['latitude'])"
      ],
      "execution_count": 19,
      "outputs": [
        {
          "output_type": "execute_result",
          "data": {
            "text/plain": [
              "<matplotlib.axes._subplots.AxesSubplot at 0x7f17efac0748>"
            ]
          },
          "metadata": {
            "tags": []
          },
          "execution_count": 19
        },
        {
          "output_type": "display_data",
          "data": {
            "image/png": "[encoded data removed]",
            "text/plain": [
              "<Figure size 432x288 with 1 Axes>"
            ]
          },
          "metadata": {
            "tags": []
          }
        }
      ]
    },
    {
      "cell_type": "code",
      "metadata": {
        "id": "QDYUIMSV_DGA",
        "colab_type": "code",
        "colab": {
          "base_uri": "https://localhost:8080/",
          "height": 269
        },
        "outputId": "baf345a9-5597-4dc8-b3c3-aa7b603e0e4f"
      },
      "source": [
        "sns.boxplot(y=train_df['longitude'])"
      ],
      "execution_count": 20,
      "outputs": [
        {
          "output_type": "execute_result",
          "data": {
            "text/plain": [
              "<matplotlib.axes._subplots.AxesSubplot at 0x7f17efac0ac8>"
            ]
          },
          "metadata": {
            "tags": []
          },
          "execution_count": 20
        },
        {
          "output_type": "display_data",
          "data": {
            "image/png": "[encoded data removed]",
            "text/plain": [
              "<Figure size 432x288 with 1 Axes>"
            ]
          },
          "metadata": {
            "tags": []
          }
        }
      ]
    },
    {
      "cell_type": "code",
      "metadata": {
        "id": "iNEuEihf7Zm2",
        "colab_type": "code",
        "colab": {
          "base_uri": "https://localhost:8080/",
          "height": 289
        },
        "outputId": "d39940a0-7c74-453f-eacc-10b560319598"
      },
      "source": [
        "#train_df.loc[train_df['price'].idxmax()] this shit is like avg 16k/6.5k "
      ],
      "execution_count": 10,
      "outputs": [
        {
          "output_type": "execute_result",
          "data": {
            "text/plain": [
              "bathrooms                                                          1\n",
              "bedrooms                                                           2\n",
              "building_id                         cd25bbea2af848ebe9821da820b725da\n",
              "created                                          2016-06-24 05:02:11\n",
              "description                                                         \n",
              "display_address                                        Hudson Street\n",
              "features           [Doorman, Elevator, Cats Allowed, Dogs Allowed...\n",
              "latitude                                                     40.7299\n",
              "listing_id                                                   7208764\n",
              "longitude                                                   -74.0071\n",
              "manager_id                          d1737922fe92ccb0dc37ba85589e6415\n",
              "photos                                                            []\n",
              "price                                                        4490000\n",
              "street_address                                     421 Hudson Street\n",
              "interest_level                                                   low\n",
              "Name: 32611, dtype: object"
            ]
          },
          "metadata": {
            "tags": []
          },
          "execution_count": 10
        }
      ]
    },
    {
      "cell_type": "code",
      "metadata": {
        "id": "pRFd4SJU3dlM",
        "colab_type": "code",
        "colab": {},
        "outputId": "169d9482-b683-4ebe-cce0-f5725127abe6"
      },
      "source": [
        "\n",
        "whichrow = 0\n",
        "count =0\n",
        "for row in train_df['price']:\n",
        "    if row<llimit_p/2 or row>ulimit_p*2:\n",
        "        #train_df.loc[train_df.index[whichrow], 'price'] = np.nan\n",
        "        whichrow+=1\n",
        "        count+=1\n",
        "    else:\n",
        "        whichrow+=1\n",
        "        \n",
        "print (\"number of outliers: \", count)\n",
        "\n",
        "        "
      ],
      "execution_count": 0,
      "outputs": [
        {
          "output_type": "stream",
          "text": [
            "('number of outliers: ', 76)\n"
          ],
          "name": "stdout"
        }
      ]
    },
    {
      "cell_type": "code",
      "metadata": {
        "id": "5GCYzvUe3dlP",
        "colab_type": "code",
        "colab": {}
      },
      "source": [
        "whichrow = 0\n",
        "count =0\n",
        "for row in train_df['latitude']:\n",
        "    if row<llimit_la or row>ulimit_la:\n",
        "        #train_df.loc[train_df.index[whichrow], 'price'] = np.nan\n",
        "        whichrow+=1\n",
        "        count+=1\n",
        "    else:\n",
        "        whichrow+=1\n",
        "        \n",
        "print (\"number of outliers: \", count)\n"
      ],
      "execution_count": 0,
      "outputs": []
    },
    {
      "cell_type": "code",
      "metadata": {
        "id": "a-hcpQVi3dlS",
        "colab_type": "code",
        "colab": {}
      },
      "source": [
        "whichrow = 0\n",
        "count =0\n",
        "for row in train_df['longitude']:\n",
        "    if row<llimit_lo or row>ulimit_lo:\n",
        "        #train_df.loc[train_df.index[whichrow], 'price'] = np.nan\n",
        "        whichrow+=1\n",
        "        count+=1\n",
        "    else:\n",
        "        whichrow+=1\n",
        "        \n",
        "print (\"number of outliers: \", count)\n"
      ],
      "execution_count": 0,
      "outputs": []
    },
    {
      "cell_type": "code",
      "metadata": {
        "id": "-okoAnEn3dlV",
        "colab_type": "code",
        "colab": {}
      },
      "source": [
        "whichrow = 0\n",
        "count =0\n",
        "for row in train_df['bathrooms']:\n",
        "    if row>ulimit_bath:\n",
        "    #if row<llimit_bath or row>ulimit_bath:\n",
        "        #train_df.loc[train_df.index[whichrow], 'price'] = np.nan\n",
        "        whichrow+=1\n",
        "        count+=1\n",
        "    else:\n",
        "        whichrow+=1\n",
        "        \n",
        "print (\"number of outliers: \", count)"
      ],
      "execution_count": 0,
      "outputs": []
    },
    {
      "cell_type": "code",
      "metadata": {
        "id": "kEHm3moj3dlY",
        "colab_type": "code",
        "colab": {}
      },
      "source": [
        "whichrow = 0\n",
        "count =0\n",
        "for row in train_df['bedrooms']:\n",
        "    if row<llimit_bed or row>ulimit_bed:\n",
        "        #train_df.loc[train_df.index[whichrow], 'price'] = np.nan\n",
        "        whichrow+=1\n",
        "        count+=1\n",
        "    else:\n",
        "        whichrow+=1\n",
        "        \n",
        "print (\"number of outliers: \", count)"
      ],
      "execution_count": 0,
      "outputs": []
    },
    {
      "cell_type": "markdown",
      "metadata": {
        "id": "8x7WSYMe3dla",
        "colab_type": "text"
      },
      "source": [
        "## Text feature extraction"
      ]
    },
    {
      "cell_type": "markdown",
      "metadata": {
        "id": "X1DP8pgh3dlb",
        "colab_type": "text"
      },
      "source": [
        "### Encode unicode to strings"
      ]
    },
    {
      "cell_type": "code",
      "metadata": {
        "id": "wjbkra3y3dlc",
        "colab_type": "code",
        "colab": {}
      },
      "source": [
        "train_df['description'] = train_df['description'].apply(lambda x: x.encode('utf-8').strip())"
      ],
      "execution_count": 0,
      "outputs": []
    },
    {
      "cell_type": "code",
      "metadata": {
        "id": "AcVSAk3I3dlh",
        "colab_type": "code",
        "colab": {}
      },
      "source": [
        "# vectorize each description into a new column by frequency\n",
        "# common stop words are excluded like a, the, in, etc.\n",
        "# matches tokens of length 2+\n",
        "\n",
        "vectorizer = TfidfVectorizer(analyzer='word', stop_words='english', token_pattern=r'^[a-zA-Z][a-zA-Z]+')\n",
        "vectorizer.fit(train_df['description'].values)\n",
        "train_df['desc_vect'] = train_df['description'].apply(lambda x: vectorizer.transform([x]))\n",
        "#vectorizer.vocabulary_  #shows all tokens"
      ],
      "execution_count": 0,
      "outputs": []
    },
    {
      "cell_type": "code",
      "metadata": {
        "id": "LPoRC0713dlk",
        "colab_type": "code",
        "colab": {},
        "outputId": "0b94ea83-bd4a-4c9b-d032-cec2f4f22efa"
      },
      "source": [
        "# vectorize each description into a new column by count\n",
        "# matches words of lenght 2+\n",
        "\n",
        "vectorizer = CountVectorizer(token_pattern=r'^[a-zA-Z][a-zA-Z]+', stop_words='english')\n",
        "vectorizer.fit(train_df['description'].values)\n",
        "#train_df['desc_vect'] = train_df['description'].apply(lambda x: vectorizer.transform([x]))\n"
      ],
      "execution_count": 0,
      "outputs": [
        {
          "output_type": "execute_result",
          "data": {
            "text/plain": [
              "CountVectorizer(analyzer=u'word', binary=False, decode_error=u'strict',\n",
              "        dtype=<type 'numpy.int64'>, encoding=u'utf-8', input=u'content',\n",
              "        lowercase=True, max_df=1.0, max_features=None, min_df=1,\n",
              "        ngram_range=(1, 1), preprocessor=None, stop_words='english',\n",
              "        strip_accents=None, token_pattern='^[a-zA-Z][a-zA-Z]+',\n",
              "        tokenizer=None, vocabulary=None)"
            ]
          },
          "metadata": {
            "tags": []
          },
          "execution_count": 86
        }
      ]
    },
    {
      "cell_type": "code",
      "metadata": {
        "id": "UOq6CIOL3dlo",
        "colab_type": "code",
        "colab": {}
      },
      "source": [
        "# convert features list to string\n",
        "train_df['features'] = train_df['features'].apply(lambda x: ' '.join(x))"
      ],
      "execution_count": 0,
      "outputs": []
    },
    {
      "cell_type": "code",
      "metadata": {
        "id": "8OTHN-Wr3dlq",
        "colab_type": "code",
        "colab": {},
        "outputId": "9fd16440-5ca3-4e11-f7a7-afa3a891a17c"
      },
      "source": [
        "# vectorize features in new column by count\n",
        "\n",
        "vectorizer.fit(train_df['features'].values)\n",
        "train_df['feat_vect'] = train_df['features'].apply(lambda x: vectorizer.transform([x]))\n",
        "# vectorizer.vocabulary_  #shows all tokens"
      ],
      "execution_count": 0,
      "outputs": [
        {
          "output_type": "execute_result",
          "data": {
            "text/plain": [
              "{u'absolute': 0,\n",
              " u'actual': 1,\n",
              " u'air': 2,\n",
              " u'assigned': 3,\n",
              " u'available': 4,\n",
              " u'balcony': 5,\n",
              " u'bike': 6,\n",
              " u'brand': 7,\n",
              " u'building': 8,\n",
              " u'cable': 9,\n",
              " u'cats': 10,\n",
              " u'childrens': 11,\n",
              " u'close': 12,\n",
              " u'common': 13,\n",
              " u'courtyard': 14,\n",
              " u'deck': 15,\n",
              " u'deco': 16,\n",
              " u'decorative': 17,\n",
              " u'dining': 18,\n",
              " u'dishwasher': 19,\n",
              " u'dogs': 20,\n",
              " u'doorman': 21,\n",
              " u'duplex': 22,\n",
              " u'dw': 23,\n",
              " u'eat': 24,\n",
              " u'elevator': 25,\n",
              " u'exclusive': 26,\n",
              " u'exposed': 27,\n",
              " u'fireplace': 28,\n",
              " u'fitness': 29,\n",
              " u'french': 30,\n",
              " u'furnished': 31,\n",
              " u'garage': 32,\n",
              " u'garden': 33,\n",
              " u'gramercy': 34,\n",
              " u'great': 35,\n",
              " u'gut': 36,\n",
              " u'gym': 37,\n",
              " u'half': 38,\n",
              " u'hardwood': 39,\n",
              " u'high': 40,\n",
              " u'laundry': 41,\n",
              " u'live': 42,\n",
              " u'loft': 43,\n",
              " u'low': 44,\n",
              " u'multi': 45,\n",
              " u'new': 46,\n",
              " u'newly': 47,\n",
              " u'nyu': 48,\n",
              " u'offering': 49,\n",
              " u'outdoor': 50,\n",
              " u'parking': 51,\n",
              " u'patio': 52,\n",
              " u'pets': 53,\n",
              " u'pool': 54,\n",
              " u'postwar': 55,\n",
              " u'pre': 56,\n",
              " u'prewar': 57,\n",
              " u'private': 58,\n",
              " u'queen': 59,\n",
              " u'recreational': 60,\n",
              " u'reduced': 61,\n",
              " u'renovated': 62,\n",
              " u'residents': 63,\n",
              " u'roof': 64,\n",
              " u'short': 65,\n",
              " u'stainless': 66,\n",
              " u'storage': 67,\n",
              " u'swimming': 68,\n",
              " u'terrace': 69,\n",
              " u'townhouse': 70,\n",
              " u'triplex': 71,\n",
              " u'view': 72,\n",
              " u'views': 73,\n",
              " u'walk': 74,\n",
              " u'washer': 75,\n",
              " u'wifi': 76,\n",
              " u'wonderful': 77,\n",
              " u'wood': 78,\n",
              " u'yard': 79}"
            ]
          },
          "metadata": {
            "tags": []
          },
          "execution_count": 88
        }
      ]
    },
    {
      "cell_type": "markdown",
      "metadata": {
        "id": "LOnWNFSM3dlt",
        "colab_type": "text"
      },
      "source": [
        "## Image feature extraction"
      ]
    }
  ]
}