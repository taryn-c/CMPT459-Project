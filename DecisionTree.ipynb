{
 "cells": [
  {
   "cell_type": "markdown",
   "metadata": {},
   "source": [
    "# Phase 2: Decision Tree Classifier"
   ]
  },
  {
   "cell_type": "code",
   "execution_count": 1,
   "metadata": {},
   "outputs": [],
   "source": [
    "from Preprocessing import *;\n",
    "from sklearn.model_selection import StratifiedKFold,KFold,train_test_split;\n",
    "from sklearn.preprocessing import LabelEncoder, OneHotEncoder;\n",
    "from sklearn.tree import DecisionTreeClassifier;\n",
    "from sklearn.ensemble import RandomForestClassifier;\n",
    "from sklearn.metrics import accuracy_score, confusion_matrix, classification_report;\n",
    "from sklearn.feature_extraction.text import TfidfVectorizer,CountVectorizer;\n",
    "from pandas.api.types import CategoricalDtype\n",
    "plt.style.use('ggplot')"
   ]
  },
  {
   "cell_type": "code",
   "execution_count": 2,
   "metadata": {
    "scrolled": true
   },
   "outputs": [],
   "source": [
    "data = train_df.reset_index(drop=True)"
   ]
  },
  {
   "cell_type": "markdown",
   "metadata": {},
   "source": [
    "## Processing test dataset"
   ]
  },
  {
   "cell_type": "code",
   "execution_count": 3,
   "metadata": {},
   "outputs": [],
   "source": [
    "test = pd.read_json(\"test.json\")\n",
    "test = test.reset_index(drop=True)"
   ]
  },
  {
   "cell_type": "code",
   "execution_count": 4,
   "metadata": {
    "scrolled": true
   },
   "outputs": [],
   "source": [
    "# convert column to datetime\n",
    "test[\"created\"] = pd.to_datetime(test[\"created\"])\n",
    "# add hour created column\n",
    "test[\"hour_created\"] = test[\"created\"].dt.hour"
   ]
  },
  {
   "cell_type": "code",
   "execution_count": 5,
   "metadata": {},
   "outputs": [],
   "source": [
    "# label encode\n",
    "test[\"address\"] = test[\"display_address\"].astype('category')\n",
    "test[\"address\"] = test[\"address\"].cat.codes\n",
    "test[\"manager_id\"] = test[\"manager_id\"].astype('category')\n",
    "test[\"manager\"] = test[\"manager_id\"].cat.codes\n",
    "test.drop(['manager_id'], axis=1, inplace=True)\n",
    "test[\"building_id\"] = test[\"building_id\"].astype('category')\n",
    "test[\"building\"] = test[\"building_id\"].cat.codes\n",
    "test.drop(['building_id'], axis=1, inplace=True)"
   ]
  },
  {
   "cell_type": "code",
   "execution_count": 6,
   "metadata": {
    "scrolled": true
   },
   "outputs": [],
   "source": [
    "test.drop(['photos','street_address','features','description','created','display_address'], axis=1, inplace=True)"
   ]
  },
  {
   "cell_type": "markdown",
   "metadata": {},
   "source": [
    "# 1. Feature Selection\n",
    "\n",
    "Since the listing_id is unique to each lising, it really isn't relevant for our model and will be removed. We will also remove the photos column because we won't be using this in our model either. We will also remove street_address because we can use the display_address as a categorical value since this is just the general street that the listing is on. This helps identify the general neighbourhood the listing is in for the buyer. The description, created, and features columns are removed because these are represented by newly extracted feature columns from the previous milestone."
   ]
  },
  {
   "cell_type": "code",
   "execution_count": 7,
   "metadata": {},
   "outputs": [],
   "source": [
    "data.drop(['photos','listing_id','street_address','features','description','created'], axis=1, inplace=True)"
   ]
  },
  {
   "cell_type": "markdown",
   "metadata": {},
   "source": [
    "## Binarize data by label encoding"
   ]
  },
  {
   "cell_type": "code",
   "execution_count": 8,
   "metadata": {},
   "outputs": [
    {
     "data": {
      "text/plain": [
       "CategoricalDtype(categories=[u'high', u'medium', u'low'], ordered=True)"
      ]
     },
     "execution_count": 8,
     "metadata": {},
     "output_type": "execute_result"
    }
   ],
   "source": [
    "cat_type = CategoricalDtype(categories=[\"high\", \"medium\", \"low\"],ordered=True)\n",
    "cat_type"
   ]
  },
  {
   "cell_type": "code",
   "execution_count": 9,
   "metadata": {},
   "outputs": [],
   "source": [
    "# high-0, medium-1, low-2\n",
    "data[\"interest_level\"] = data[\"interest_level\"].astype(cat_type)\n",
    "data[\"target\"] = data[\"interest_level\"].cat.codes\n",
    "data.drop(['interest_level'], axis=1, inplace=True)"
   ]
  },
  {
   "cell_type": "code",
   "execution_count": 10,
   "metadata": {},
   "outputs": [],
   "source": [
    "data[\"address\"] = data[\"display_address\"].astype('category')\n",
    "data[\"address\"] = data[\"address\"].cat.codes\n",
    "data.drop(['display_address'], axis=1, inplace=True)"
   ]
  },
  {
   "cell_type": "code",
   "execution_count": 11,
   "metadata": {},
   "outputs": [],
   "source": [
    "data[\"building_id\"] = data[\"building_id\"].astype('category')\n",
    "data[\"building\"] = data[\"building_id\"].cat.codes\n",
    "data.drop(['building_id'], axis=1, inplace=True)"
   ]
  },
  {
   "cell_type": "code",
   "execution_count": 12,
   "metadata": {},
   "outputs": [],
   "source": [
    "data[\"manager_id\"] = data[\"manager_id\"].astype('category')\n",
    "data[\"manager\"] = data[\"manager_id\"].cat.codes\n",
    "data.drop(['manager_id'], axis=1, inplace=True)"
   ]
  },
  {
   "cell_type": "markdown",
   "metadata": {},
   "source": [
    "## Split the data\n",
    "\n",
    "I will split our input and target variables into X and y respectively. We will also split into training and test data so we can see if our models are overfitting the data."
   ]
  },
  {
   "cell_type": "code",
   "execution_count": 13,
   "metadata": {},
   "outputs": [],
   "source": [
    "X = data.drop(['target'], axis=1)\n",
    "y = data['target']\n",
    "X_tr, X_test, y_tr, y_test = train_test_split(X,y)"
   ]
  },
  {
   "cell_type": "code",
   "execution_count": 14,
   "metadata": {},
   "outputs": [],
   "source": [
    "X_test.reset_index(inplace=True,drop=True)\n",
    "X_tr.reset_index(inplace=True,drop=True)"
   ]
  },
  {
   "cell_type": "markdown",
   "metadata": {},
   "source": [
    "## Fisher score\n",
    "\n",
    "Since this is only valid for numerica features, we must first take a subset of our data. We will separate the data based on interest level to calculate the mean and standard deviation of each class. These values will be used to calculate the fisher score for each feature. We can then use a filtering technique to find the most relevant features based on the scores. "
   ]
  },
  {
   "cell_type": "code",
   "execution_count": 15,
   "metadata": {},
   "outputs": [],
   "source": [
    "# take subset\n",
    "numeric = ['bathrooms','bedrooms','latitude','longitude','price','hour_created','address','manager','building']\n",
    "num_data = data[['bathrooms','bedrooms','latitude','longitude','price','hour_created','address','manager','building','target']]"
   ]
  },
  {
   "cell_type": "code",
   "execution_count": 16,
   "metadata": {
    "scrolled": true
   },
   "outputs": [],
   "source": [
    "# separate data by interest level\n",
    "high = num_data[num_data['target'] == 2].drop(['target'], axis=1)\n",
    "med = num_data[num_data['target'] == 1].drop(['target'], axis=1)\n",
    "low = num_data[num_data['target'] == 0].drop(['target'], axis=1)"
   ]
  },
  {
   "cell_type": "code",
   "execution_count": 17,
   "metadata": {},
   "outputs": [],
   "source": [
    "# calculate mean of each feature in each class\n",
    "avg_if = np.array([high.mean(),\n",
    "      med.mean(),\n",
    "      low.mean()])\n",
    "#calculate mean of each feature\n",
    "avg_f = np.array(num_data.drop(['target'], axis=1).mean())"
   ]
  },
  {
   "cell_type": "code",
   "execution_count": 18,
   "metadata": {
    "scrolled": true
   },
   "outputs": [],
   "source": [
    "# calculate variance for each feature\n",
    "var = np.square(np.array([high.std(),\n",
    "      med.std(),\n",
    "      low.std()]))\n",
    "\n",
    "# calculate probability of each class\n",
    "prob = np.array([high.shape[0]/float(data.shape[0]),\n",
    "             med.shape[0]/float(data.shape[0]),\n",
    "             low.shape[0]/float(data.shape[0])]\n",
    ")"
   ]
  },
  {
   "cell_type": "code",
   "execution_count": 19,
   "metadata": {
    "scrolled": true
   },
   "outputs": [
    {
     "data": {
      "text/plain": [
       "[1.4391986856950884e-10,\n",
       " 1.5495308224893388e-10,\n",
       " 1.0336764419360136e-10,\n",
       " 7.75380886324851e-11,\n",
       " 0.0008348517025325086,\n",
       " 0.000695716318490876,\n",
       " 0.0011911021471335808,\n",
       " 0.0010447074295786081,\n",
       " 0.0019208781511415576]"
      ]
     },
     "execution_count": 19,
     "metadata": {},
     "output_type": "execute_result"
    }
   ],
   "source": [
    "fisher = []\n",
    "numerator = []\n",
    "denomerator = []\n",
    "\n",
    "for feat in np.arange(0,avg_if.shape[1]):\n",
    "    for class_i in np.arange(0,avg_if.shape[0]):\n",
    "        numerator.append(np.array(prob[class_i]*np.square(avg_if[class_i][feat]-avg_f[feat])))\n",
    "        denomerator.append(np.array(prob[class_i]*var[class_i]))      \n",
    "    fisher.append(np.array(numerator).sum()/np.array(denomerator).sum())\n",
    "fisher"
   ]
  },
  {
   "cell_type": "code",
   "execution_count": 20,
   "metadata": {},
   "outputs": [],
   "source": [
    "top3 = ['building', 'manager', 'address']\n",
    "top5 = ['building', 'manager', 'address','price', 'hour_created']"
   ]
  },
  {
   "cell_type": "markdown",
   "metadata": {},
   "source": [
    "From the Fisher scores, it looks like the building, address, and manager have the top 3 fisher scores, in that order.  Price and hour the listing was created also have decent fisher scores. The worst was longitude and the rest weren't that far off either with 10 significant digits. "
   ]
  },
  {
   "cell_type": "markdown",
   "metadata": {},
   "source": [
    "# 2. Train Classifiers"
   ]
  },
  {
   "cell_type": "markdown",
   "metadata": {},
   "source": [
    "## First Version\n",
    "\n",
    "The classifier doesn't accept the extracted text features from the previous milestone so for the first classifier they were removed and the classifier was trained for the numerical data only. The 3 features with the highest fisher scores are selected for the first classifier. These are building, address, and manager. The default Gini index was used to determine the best split for each node. The classifier predicted with average 62.33% accuracy. You can see the classifier is biased and has higher precision, recall, and f1 scores for the low interest class. More than triple the high interest."
   ]
  },
  {
   "cell_type": "code",
   "execution_count": 21,
   "metadata": {},
   "outputs": [
    {
     "data": {
      "text/plain": [
       "[0.6208672086720867,\n",
       " 0.6334688346883469,\n",
       " 0.6313863667163573,\n",
       " 0.6250169399647649,\n",
       " 0.6305732484076433]"
      ]
     },
     "execution_count": 21,
     "metadata": {},
     "output_type": "execute_result"
    }
   ],
   "source": [
    "# perform cross-validation for first set of classifiers\n",
    "kf = KFold(n_splits=5)\n",
    "acc_scores = []\n",
    "best_acc = 0\n",
    "for train_index, valid_index in kf.split(X_tr):\n",
    "    # split data\n",
    "    X_train, X_valid = X_tr.iloc[train_index], X_tr.iloc[valid_index]\n",
    "    y_train, y_valid = y_tr.iloc[train_index], y_tr.iloc[valid_index]\n",
    "    # Create classifier object\n",
    "    clf = DecisionTreeClassifier(criterion=\"gini\", random_state=0)\n",
    "    # Train Decision Tree Classifer\n",
    "    clf = clf.fit(np.array(X_train[top3]),np.array(y_train),check_input=False)\n",
    "    #Predict the response for test dataset\n",
    "    y_pred = clf.predict(X_valid[top3])\n",
    "    acc = accuracy_score(y_valid, y_pred)\n",
    "    acc_scores.append(acc)\n",
    "    if acc > best_acc:\n",
    "        best_acc = acc\n",
    "        best_clf = clf\n",
    "acc_scores"
   ]
  },
  {
   "cell_type": "code",
   "execution_count": 22,
   "metadata": {},
   "outputs": [
    {
     "data": {
      "text/plain": [
       "0.6282625196898398"
      ]
     },
     "execution_count": 22,
     "metadata": {},
     "output_type": "execute_result"
    }
   ],
   "source": [
    "np.array(acc_scores).mean()"
   ]
  },
  {
   "cell_type": "code",
   "execution_count": 23,
   "metadata": {
    "scrolled": true
   },
   "outputs": [
    {
     "name": "stdout",
     "output_type": "stream",
     "text": [
      "              precision    recall  f1-score   support\n",
      "\n",
      "        high       0.22      0.24      0.23       573\n",
      "      medium       0.34      0.36      0.35      1635\n",
      "         low       0.78      0.76      0.77      5171\n",
      "\n",
      "   micro avg       0.63      0.63      0.63      7379\n",
      "   macro avg       0.45      0.45      0.45      7379\n",
      "weighted avg       0.64      0.63      0.64      7379\n",
      "\n"
     ]
    }
   ],
   "source": [
    "print(classification_report(y_valid, y_pred, target_names=['high', 'medium','low']))"
   ]
  },
  {
   "cell_type": "code",
   "execution_count": 24,
   "metadata": {},
   "outputs": [
    {
     "data": {
      "text/plain": [
       "0.6224390243902439"
      ]
     },
     "execution_count": 24,
     "metadata": {},
     "output_type": "execute_result"
    }
   ],
   "source": [
    "# Check overfitting\n",
    "y_pred = clf.predict(X_test[top3])\n",
    "acc = accuracy_score(y_test, y_pred)\n",
    "acc"
   ]
  },
  {
   "cell_type": "code",
   "execution_count": 25,
   "metadata": {},
   "outputs": [],
   "source": [
    "# use best classifier on test dataset\n",
    "y_pred = best_clf.predict_proba(test[top3])"
   ]
  },
  {
   "cell_type": "code",
   "execution_count": 26,
   "metadata": {},
   "outputs": [],
   "source": [
    "listing_id = test['listing_id'].values\n",
    "listing_id = listing_id.reshape(listing_id.shape[0],1)"
   ]
  },
  {
   "cell_type": "code",
   "execution_count": 27,
   "metadata": {},
   "outputs": [],
   "source": [
    "# Test output for log loss\n",
    "test_prob = np.concatenate((listing_id,y_pred),axis=1)\n",
    "np.savetxt('test_v1.csv',test_prob, delimiter=',',header='listing_id,high,medium,low')"
   ]
  },
  {
   "cell_type": "markdown",
   "metadata": {},
   "source": [
    "## Second Version\n",
    "\n",
    "Top 5 features according to Fisher scores were used for this classifier. Gini index was used to determine the best split for each node. The classifier predicted with the same average accuracy (62.49%) as the first version."
   ]
  },
  {
   "cell_type": "code",
   "execution_count": 28,
   "metadata": {},
   "outputs": [
    {
     "data": {
      "text/plain": [
       "[0.6235772357723577,\n",
       " 0.631029810298103,\n",
       " 0.6347743596693319,\n",
       " 0.6072638568911777,\n",
       " 0.6279983737633825]"
      ]
     },
     "execution_count": 28,
     "metadata": {},
     "output_type": "execute_result"
    }
   ],
   "source": [
    "# perform cross-validation for first set of classifiers\n",
    "kf = KFold(n_splits=5)\n",
    "acc_scores = []\n",
    "for train_index, valid_index in kf.split(X_tr):\n",
    "    # split data\n",
    "    X_train, X_valid = X_tr.iloc[train_index], X_tr.iloc[valid_index]\n",
    "    y_train, y_valid = y_tr.iloc[train_index], y_tr.iloc[valid_index]\n",
    "    # Create classifier object\n",
    "    clf = DecisionTreeClassifier(criterion=\"gini\", random_state=0)\n",
    "    # Train Decision Tree Classifer\n",
    "    clf = clf.fit(np.array(X_train[top5]),np.array(y_train),check_input=False)\n",
    "    #Predict the response for test dataset\n",
    "    y_pred = clf.predict(X_valid[top5])\n",
    "    acc = accuracy_score(y_valid, y_pred)\n",
    "    acc_scores.append(acc)\n",
    "    if acc > best_acc:\n",
    "        best_acc = acc\n",
    "        best_clf = clf\n",
    "acc_scores"
   ]
  },
  {
   "cell_type": "code",
   "execution_count": 29,
   "metadata": {},
   "outputs": [
    {
     "data": {
      "text/plain": [
       "0.6249287272788706"
      ]
     },
     "execution_count": 29,
     "metadata": {},
     "output_type": "execute_result"
    }
   ],
   "source": [
    "np.array(acc_scores).mean()"
   ]
  },
  {
   "cell_type": "code",
   "execution_count": 30,
   "metadata": {
    "scrolled": true
   },
   "outputs": [
    {
     "name": "stdout",
     "output_type": "stream",
     "text": [
      "              precision    recall  f1-score   support\n",
      "\n",
      "        high       0.23      0.24      0.24       573\n",
      "      medium       0.32      0.33      0.32      1635\n",
      "         low       0.78      0.76      0.77      5171\n",
      "\n",
      "   micro avg       0.63      0.63      0.63      7379\n",
      "   macro avg       0.44      0.45      0.44      7379\n",
      "weighted avg       0.63      0.63      0.63      7379\n",
      "\n"
     ]
    }
   ],
   "source": [
    "print(classification_report(y_valid, y_pred, target_names=['high', 'medium','low']))"
   ]
  },
  {
   "cell_type": "code",
   "execution_count": 31,
   "metadata": {},
   "outputs": [
    {
     "data": {
      "text/plain": [
       "0.625040650406504"
      ]
     },
     "execution_count": 31,
     "metadata": {},
     "output_type": "execute_result"
    }
   ],
   "source": [
    "# Check overfitting\n",
    "y_pred = clf.predict(X_test[top5])\n",
    "acc = accuracy_score(y_test, y_pred)\n",
    "acc"
   ]
  },
  {
   "cell_type": "markdown",
   "metadata": {},
   "source": [
    "## Third Version\n",
    "\n",
    "All numeric features were used for this classifier. The default Gini index was used to determine the best split for each node like before. The classifier predicted with average 64.72% accuracy. It looks like the classifier has slightly better accuracy with all features."
   ]
  },
  {
   "cell_type": "code",
   "execution_count": 32,
   "metadata": {},
   "outputs": [
    {
     "data": {
      "text/plain": [
       "[0.6390243902439025,\n",
       " 0.6490514905149052,\n",
       " 0.6509012061254913,\n",
       " 0.6468356145819216,\n",
       " 0.6499525680986583]"
      ]
     },
     "execution_count": 32,
     "metadata": {},
     "output_type": "execute_result"
    }
   ],
   "source": [
    "# perform cross-validation for first set of classifiers\n",
    "kf = KFold(n_splits=5)\n",
    "acc_scores = []\n",
    "for train_index, valid_index in kf.split(X_tr):\n",
    "    # split data\n",
    "    X_train, X_valid = X_tr.iloc[train_index], X_tr.iloc[valid_index]\n",
    "    y_train, y_valid = y_tr.iloc[train_index], y_tr.iloc[valid_index]\n",
    "    # Create classifier object\n",
    "    clf = DecisionTreeClassifier(criterion=\"gini\", random_state=0)\n",
    "    # Train Decision Tree Classifer\n",
    "    clf = clf.fit(np.array(X_train[numeric]),np.array(y_train),check_input=False)\n",
    "    #Predict the response for test dataset\n",
    "    y_pred = clf.predict(X_valid[numeric])\n",
    "    acc = accuracy_score(y_valid, y_pred)\n",
    "    acc_scores.append(acc)\n",
    "    if acc > best_acc:\n",
    "        best_acc = acc\n",
    "        best_clf = clf\n",
    "acc_scores"
   ]
  },
  {
   "cell_type": "code",
   "execution_count": 33,
   "metadata": {},
   "outputs": [
    {
     "data": {
      "text/plain": [
       "0.6471530539129758"
      ]
     },
     "execution_count": 33,
     "metadata": {},
     "output_type": "execute_result"
    }
   ],
   "source": [
    "np.array(acc_scores).mean()"
   ]
  },
  {
   "cell_type": "code",
   "execution_count": 34,
   "metadata": {
    "scrolled": true
   },
   "outputs": [
    {
     "name": "stdout",
     "output_type": "stream",
     "text": [
      "              precision    recall  f1-score   support\n",
      "\n",
      "        high       0.29      0.30      0.29       573\n",
      "      medium       0.34      0.36      0.35      1635\n",
      "         low       0.80      0.78      0.79      5171\n",
      "\n",
      "   micro avg       0.65      0.65      0.65      7379\n",
      "   macro avg       0.48      0.48      0.48      7379\n",
      "weighted avg       0.66      0.65      0.65      7379\n",
      "\n"
     ]
    }
   ],
   "source": [
    "print(classification_report(y_valid, y_pred, target_names=['high', 'medium','low']))"
   ]
  },
  {
   "cell_type": "code",
   "execution_count": 35,
   "metadata": {},
   "outputs": [
    {
     "data": {
      "text/plain": [
       "0.6448780487804878"
      ]
     },
     "execution_count": 35,
     "metadata": {},
     "output_type": "execute_result"
    }
   ],
   "source": [
    "# Check overfitting\n",
    "y_pred = clf.predict(X_test[numeric])\n",
    "acc = accuracy_score(y_test, y_pred)\n",
    "acc"
   ]
  },
  {
   "cell_type": "markdown",
   "metadata": {},
   "source": [
    "## Fourth Version\n",
    "\n",
    "We can check the distribution of the target to see if stratifying the samples will help us identify any under-represented classes."
   ]
  },
  {
   "cell_type": "code",
   "execution_count": 36,
   "metadata": {
    "scrolled": false
   },
   "outputs": [
    {
     "data": {
      "image/png": "[encoded data removed]",
      "text/plain": [
       "<Figure size 1080x432 with 1 Axes>"
      ]
     },
     "metadata": {
      "needs_background": "light"
     },
     "output_type": "display_data"
    }
   ],
   "source": [
    "int_level = train_df['interest_level'].value_counts()\n",
    "plt.figure(figsize=(15,6))\n",
    "sns.barplot(int_level.index, int_level.values, alpha=1, order=['low','medium','high'],color=color[0])\n",
    "plt.ylabel('Number of Occurrences', fontsize=14, fontweight='bold')\n",
    "plt.xlabel('Interest level', fontsize=14, fontweight='bold')\n",
    "plt.title('Target distribution', fontsize=16, fontweight='bold')\n",
    "plt.show()"
   ]
  },
  {
   "cell_type": "code",
   "execution_count": 37,
   "metadata": {},
   "outputs": [
    {
     "name": "stdout",
     "output_type": "stream",
     "text": [
      "(0.6947578104355957, 0.2276358314531374, 0.07760635811126694)\n"
     ]
    }
   ],
   "source": [
    "int_all = int_level.sum()\n",
    "prob_h = int_level[0]/float(int_all)\n",
    "prob_m = int_level[1]/float(int_all)\n",
    "prob_l = int_level[2]/float(int_all)\n",
    "print(prob_h, prob_m, prob_l)"
   ]
  },
  {
   "cell_type": "markdown",
   "metadata": {},
   "source": [
    "Since the distribution of our target is skewed, we should stratify our data when spliting so it represents our data well. All numeric features were used for this classifier. Gini index was used to determine the best split for each node. A stratified k-fold cross validation method was used. The classifier predicted with average 65.02% accuracy, which is ever so slightly better than regular k-fold cross validation."
   ]
  },
  {
   "cell_type": "code",
   "execution_count": 38,
   "metadata": {},
   "outputs": [
    {
     "data": {
      "text/plain": [
       "[0.6395663956639567,\n",
       " 0.6504065040650406,\n",
       " 0.6535230352303523,\n",
       " 0.652798482179157,\n",
       " 0.654513418270534]"
      ]
     },
     "execution_count": 38,
     "metadata": {},
     "output_type": "execute_result"
    }
   ],
   "source": [
    "# perform cross-validation for first set of classifiers\n",
    "kf = StratifiedKFold(n_splits=5)\n",
    "acc_scores = []\n",
    "for train_index, valid_index in kf.split(X_tr, y_tr):\n",
    "    # split data\n",
    "    X_train, X_valid = X_tr.iloc[train_index], X_tr.iloc[valid_index]\n",
    "    y_train, y_valid = y_tr.iloc[train_index], y_tr.iloc[valid_index]\n",
    "    # Create classifier object\n",
    "    clf = DecisionTreeClassifier(criterion=\"gini\", random_state=0)\n",
    "    # Train Decision Tree Classifer\n",
    "    clf = clf.fit(np.array(X_train[numeric]),np.array(y_train),check_input=False)\n",
    "    #Predict the response for test dataset\n",
    "    y_pred = clf.predict(X_valid[numeric])\n",
    "    acc = accuracy_score(y_valid, y_pred)\n",
    "    acc_scores.append(acc)\n",
    "    if acc > best_acc:\n",
    "        best_acc = acc\n",
    "        best_clf = clf\n",
    "acc_scores"
   ]
  },
  {
   "cell_type": "code",
   "execution_count": 39,
   "metadata": {
    "scrolled": true
   },
   "outputs": [
    {
     "data": {
      "text/plain": [
       "0.6501615670818081"
      ]
     },
     "execution_count": 39,
     "metadata": {},
     "output_type": "execute_result"
    }
   ],
   "source": [
    "np.array(acc_scores).mean()"
   ]
  },
  {
   "cell_type": "code",
   "execution_count": 40,
   "metadata": {
    "scrolled": true
   },
   "outputs": [
    {
     "name": "stdout",
     "output_type": "stream",
     "text": [
      "              precision    recall  f1-score   support\n",
      "\n",
      "        high       0.28      0.30      0.29       571\n",
      "      medium       0.36      0.36      0.36      1668\n",
      "         low       0.80      0.79      0.79      5139\n",
      "\n",
      "   micro avg       0.65      0.65      0.65      7378\n",
      "   macro avg       0.48      0.48      0.48      7378\n",
      "weighted avg       0.66      0.65      0.66      7378\n",
      "\n"
     ]
    }
   ],
   "source": [
    "print(classification_report(y_valid, y_pred, target_names=['high', 'medium','low']))"
   ]
  },
  {
   "cell_type": "code",
   "execution_count": 41,
   "metadata": {},
   "outputs": [
    {
     "data": {
      "text/plain": [
       "0.6455284552845528"
      ]
     },
     "execution_count": 41,
     "metadata": {},
     "output_type": "execute_result"
    }
   ],
   "source": [
    "# Check overfitting\n",
    "y_pred = clf.predict(X_test[numeric])\n",
    "acc = accuracy_score(y_test, y_pred)\n",
    "acc"
   ]
  },
  {
   "cell_type": "markdown",
   "metadata": {},
   "source": [
    "## Fifth Version\n",
    "\n",
    "All numeric features were used for this classifier. Entropy was used to determine the best split for each node. A stratified k-fold cross validation method was used. The classifier predicted with average 65.41% accuracy, which is ever so slightly worse than using gini index to find the best split."
   ]
  },
  {
   "cell_type": "code",
   "execution_count": 42,
   "metadata": {},
   "outputs": [
    {
     "data": {
      "text/plain": [
       "[0.6490514905149052,\n",
       " 0.6574525745257452,\n",
       " 0.6621951219512195,\n",
       " 0.6548312779509419,\n",
       " 0.6470588235294118]"
      ]
     },
     "execution_count": 42,
     "metadata": {},
     "output_type": "execute_result"
    }
   ],
   "source": [
    "# perform cross-validation for first set of classifiers\n",
    "kf = StratifiedKFold(n_splits=5)\n",
    "acc_scores = []\n",
    "best_acc = 0\n",
    "for train_index, valid_index in kf.split(X_tr, y_tr):\n",
    "    # split data\n",
    "    X_train, X_valid = X_tr.iloc[train_index], X_tr.iloc[valid_index]\n",
    "    y_train, y_valid = y_tr.iloc[train_index], y_tr.iloc[valid_index]\n",
    "    # Create classifier object\n",
    "    clf = DecisionTreeClassifier(criterion=\"entropy\", random_state=0)\n",
    "    # Train Decision Tree Classifer\n",
    "    clf = clf.fit(np.array(X_train[numeric]),np.array(y_train),check_input=False)\n",
    "    #Predict the response for test dataset\n",
    "    y_pred = clf.predict(X_valid[numeric])\n",
    "    acc = accuracy_score(y_valid, y_pred)\n",
    "    acc_scores.append(acc)\n",
    "    if acc > best_acc:\n",
    "        best_acc = acc\n",
    "        best_clf = clf\n",
    "acc_scores"
   ]
  },
  {
   "cell_type": "code",
   "execution_count": 43,
   "metadata": {},
   "outputs": [
    {
     "data": {
      "text/plain": [
       "0.6541178576944447"
      ]
     },
     "execution_count": 43,
     "metadata": {},
     "output_type": "execute_result"
    }
   ],
   "source": [
    "np.array(acc_scores).mean()"
   ]
  },
  {
   "cell_type": "code",
   "execution_count": 44,
   "metadata": {},
   "outputs": [
    {
     "name": "stdout",
     "output_type": "stream",
     "text": [
      "              precision    recall  f1-score   support\n",
      "\n",
      "        high       0.29      0.31      0.30       571\n",
      "      medium       0.34      0.35      0.34      1668\n",
      "         low       0.80      0.78      0.79      5139\n",
      "\n",
      "   micro avg       0.65      0.65      0.65      7378\n",
      "   macro avg       0.47      0.48      0.48      7378\n",
      "weighted avg       0.66      0.65      0.65      7378\n",
      "\n"
     ]
    }
   ],
   "source": [
    "print(classification_report(y_valid, y_pred, target_names=['high', 'medium','low']))"
   ]
  },
  {
   "cell_type": "code",
   "execution_count": 45,
   "metadata": {},
   "outputs": [
    {
     "data": {
      "text/plain": [
       "0.6452032520325204"
      ]
     },
     "execution_count": 45,
     "metadata": {},
     "output_type": "execute_result"
    }
   ],
   "source": [
    "# Check overfitting\n",
    "y_pred = clf.predict(X_test[numeric])\n",
    "acc = accuracy_score(y_test, y_pred)\n",
    "acc"
   ]
  },
  {
   "cell_type": "markdown",
   "metadata": {},
   "source": [
    "## Sixth Version\n",
    "\n",
    "All numeric features were used for this classifier. Gini index was used to determine the best split for each node since it performed slightly better. A stratified k-fold cross validation method was used. Minimum support was changed to 3 to combat overfitting. The classifier predicted with average 65.49% accuracy."
   ]
  },
  {
   "cell_type": "code",
   "execution_count": 46,
   "metadata": {},
   "outputs": [
    {
     "data": {
      "text/plain": [
       "[0.6478319783197832,\n",
       " 0.6554200542005421,\n",
       " 0.6570460704607046,\n",
       " 0.6632335004743191,\n",
       " 0.6511249661154784]"
      ]
     },
     "execution_count": 46,
     "metadata": {},
     "output_type": "execute_result"
    }
   ],
   "source": [
    "# perform cross-validation for first set of classifiers\n",
    "kf = StratifiedKFold(n_splits=5)\n",
    "acc_scores = []\n",
    "for train_index, valid_index in kf.split(X_tr, y_tr):\n",
    "    # split data\n",
    "    X_train, X_valid = X_tr.iloc[train_index], X_tr.iloc[valid_index]\n",
    "    y_train, y_valid = y_tr.iloc[train_index], y_tr.iloc[valid_index]\n",
    "    # Create classifier object\n",
    "    clf = DecisionTreeClassifier(criterion=\"gini\", random_state=0,min_samples_leaf=3)\n",
    "    # Train Decision Tree Classifer\n",
    "    clf = clf.fit(np.array(X_train[numeric]),np.array(y_train),check_input=False)\n",
    "    #Predict the response for test dataset\n",
    "    y_pred = clf.predict(X_valid[numeric])\n",
    "    acc = accuracy_score(y_valid, y_pred)\n",
    "    acc_scores.append(acc)\n",
    "    if acc > best_acc:\n",
    "        best_acc = acc\n",
    "        best_clf = clf\n",
    "acc_scores"
   ]
  },
  {
   "cell_type": "code",
   "execution_count": 47,
   "metadata": {},
   "outputs": [
    {
     "data": {
      "text/plain": [
       "0.6549313139141655"
      ]
     },
     "execution_count": 47,
     "metadata": {},
     "output_type": "execute_result"
    }
   ],
   "source": [
    "np.array(acc_scores).mean()"
   ]
  },
  {
   "cell_type": "code",
   "execution_count": 48,
   "metadata": {},
   "outputs": [
    {
     "name": "stdout",
     "output_type": "stream",
     "text": [
      "              precision    recall  f1-score   support\n",
      "\n",
      "        high       0.29      0.32      0.30       571\n",
      "      medium       0.35      0.36      0.35      1668\n",
      "         low       0.80      0.78      0.79      5139\n",
      "\n",
      "   micro avg       0.65      0.65      0.65      7378\n",
      "   macro avg       0.48      0.49      0.48      7378\n",
      "weighted avg       0.66      0.65      0.65      7378\n",
      "\n"
     ]
    }
   ],
   "source": [
    "print(classification_report(y_valid, y_pred, target_names=['high', 'medium','low']))"
   ]
  },
  {
   "cell_type": "code",
   "execution_count": 49,
   "metadata": {},
   "outputs": [
    {
     "data": {
      "text/plain": [
       "0.6499186991869919"
      ]
     },
     "execution_count": 49,
     "metadata": {},
     "output_type": "execute_result"
    }
   ],
   "source": [
    "# Check overfitting\n",
    "y_pred = clf.predict(X_test[numeric])\n",
    "acc = accuracy_score(y_test, y_pred)\n",
    "acc"
   ]
  },
  {
   "cell_type": "markdown",
   "metadata": {},
   "source": [
    "## Seventh Version\n",
    "\n",
    "We can introduce our extracted text features for this version."
   ]
  },
  {
   "cell_type": "markdown",
   "metadata": {},
   "source": [
    "### Hot encode features vector\n",
    "\n",
    "The Decision Tree classifier in the sklearn sorts each feature to split the data and doesn't support features that are vectors. So to use any text features we must hot encode them. However, the description vectors are 1119 long so we will only do the features. Looking at the two text features, it seems like description might not be that helpful because there are a lot of irrelevant words/strings in most of them like 'XXX'. "
   ]
  },
  {
   "cell_type": "code",
   "execution_count": 50,
   "metadata": {},
   "outputs": [],
   "source": [
    "feat = X_tr['feat_vect'].apply(lambda x: x.toarray().tolist())\n",
    "feat_list = []\n",
    "for i in feat:\n",
    "    feat_list.append(i)"
   ]
  },
  {
   "cell_type": "code",
   "execution_count": 51,
   "metadata": {
    "scrolled": true
   },
   "outputs": [],
   "source": [
    "X2 = pd.DataFrame(np.array(feat_list).reshape(np.array(feat_list).shape[0],np.array(feat_list).shape[2]))\n",
    "X2 = X_tr[numeric].join(X2)"
   ]
  },
  {
   "cell_type": "code",
   "execution_count": 52,
   "metadata": {},
   "outputs": [],
   "source": [
    "feat = X_test['feat_vect'].apply(lambda x: x.toarray().tolist())\n",
    "feat_list = []\n",
    "for i in feat:\n",
    "    feat_list.append(i)"
   ]
  },
  {
   "cell_type": "code",
   "execution_count": 53,
   "metadata": {
    "scrolled": true
   },
   "outputs": [],
   "source": [
    "X_test2 = pd.DataFrame(np.array(feat_list).reshape(np.array(feat_list).shape[0],np.array(feat_list).shape[2]))\n",
    "X_test = X_test[numeric].join(X_test2)"
   ]
  },
  {
   "cell_type": "markdown",
   "metadata": {},
   "source": [
    "All numeric features and the hot encoded features were used for this classifier. Gini was used to determine the best split for each node. A stratified k-fold cross validation method was used. Minimum support was changed to 3 to combat overfitting seen from the previous versions. The classifier predicted with average 53.55% accuracy, which is significantly worse than the previous. Looking at the tfidf vectors of the features column, it looks like each one only has one value out of the 79 word dictionary. The features of most listing must be very similar or have very rare words. The classifier is no longer overfitting but the hot encoded data is throwing off the classifier. It must be splitting the data using these columns closer to the root node, which isn't very helpful."
   ]
  },
  {
   "cell_type": "code",
   "execution_count": 54,
   "metadata": {},
   "outputs": [
    {
     "data": {
      "text/plain": [
       "[0.6547425474254742,\n",
       " 0.6592140921409214,\n",
       " 0.6593495934959349,\n",
       " 0.654018159642228,\n",
       " 0.6603415559772297]"
      ]
     },
     "execution_count": 54,
     "metadata": {},
     "output_type": "execute_result"
    }
   ],
   "source": [
    "# perform cross-validation for first set of classifiers\n",
    "kf = StratifiedKFold(n_splits=5)\n",
    "acc_scores = []\n",
    "for train_index, valid_index in kf.split(X2, y_tr):\n",
    "    # split data\n",
    "    X_train, X_valid = X2.iloc[train_index], X2.iloc[valid_index]\n",
    "    y_train, y_valid = y_tr.iloc[train_index], y_tr.iloc[valid_index]\n",
    "    # Create classifier object\n",
    "    clf = DecisionTreeClassifier(criterion=\"gini\", random_state=0,min_samples_leaf=3)\n",
    "    # Train Decision Tree Classifer\n",
    "    clf = clf.fit(np.array(X_train),np.array(y_train),check_input=False)\n",
    "    #Predict the response for test dataset\n",
    "    y_pred = clf.predict(X_valid)\n",
    "    acc = accuracy_score(y_valid, y_pred)\n",
    "    acc_scores.append(acc)\n",
    "    if acc > best_acc:\n",
    "        best_acc = acc\n",
    "        best_clf = clf\n",
    "acc_scores"
   ]
  },
  {
   "cell_type": "code",
   "execution_count": 55,
   "metadata": {},
   "outputs": [
    {
     "data": {
      "text/plain": [
       "0.6575331897363575"
      ]
     },
     "execution_count": 55,
     "metadata": {},
     "output_type": "execute_result"
    }
   ],
   "source": [
    "np.array(acc_scores).mean()"
   ]
  },
  {
   "cell_type": "code",
   "execution_count": 56,
   "metadata": {},
   "outputs": [
    {
     "name": "stdout",
     "output_type": "stream",
     "text": [
      "              precision    recall  f1-score   support\n",
      "\n",
      "        high       0.28      0.29      0.28       571\n",
      "      medium       0.37      0.37      0.37      1668\n",
      "         low       0.80      0.80      0.80      5139\n",
      "\n",
      "   micro avg       0.66      0.66      0.66      7378\n",
      "   macro avg       0.48      0.48      0.48      7378\n",
      "weighted avg       0.66      0.66      0.66      7378\n",
      "\n"
     ]
    }
   ],
   "source": [
    "print(classification_report(y_valid, y_pred, target_names=['high', 'medium','low']))"
   ]
  },
  {
   "cell_type": "code",
   "execution_count": 57,
   "metadata": {},
   "outputs": [
    {
     "data": {
      "text/plain": [
       "0.6514634146341464"
      ]
     },
     "execution_count": 57,
     "metadata": {},
     "output_type": "execute_result"
    }
   ],
   "source": [
    "# Check overfitting\n",
    "y_pred = clf.predict(X_test)\n",
    "acc = accuracy_score(y_test, y_pred)\n",
    "acc"
   ]
  },
  {
   "cell_type": "markdown",
   "metadata": {},
   "source": [
    "## Eighth Version\n",
    "\n",
    "All numeric features and the features were used for this classifier. Gini index seemed to do slightly better so it was used to determine the best split for each node. A stratified k-fold cross validation method was used. Minimum support was changed to 100 and the classifier predicted with average 71.13% accuracy, which is a large improvement. Recall the low interest class was at an all time high with 1.00. The classifier doesn't seem to be predicting the medium or high interest classes corectly at all. There seems to be no overfitting since the performance on the test dataset is only off by less than 1%."
   ]
  },
  {
   "cell_type": "code",
   "execution_count": 58,
   "metadata": {
    "scrolled": true
   },
   "outputs": [
    {
     "data": {
      "text/plain": [
       "[0.7065040650406504,\n",
       " 0.7149051490514905,\n",
       " 0.7116531165311654,\n",
       " 0.7048380539368478,\n",
       " 0.7186229330441855]"
      ]
     },
     "execution_count": 58,
     "metadata": {},
     "output_type": "execute_result"
    }
   ],
   "source": [
    "# perform cross-validation for first set of classifiers\n",
    "kf = StratifiedKFold(n_splits=5)\n",
    "acc_scores = []\n",
    "for train_index, valid_index in kf.split(X2, y_tr):\n",
    "    # split data\n",
    "    X_train, X_valid = X2.iloc[train_index], X2.iloc[valid_index]\n",
    "    y_train, y_valid = y_tr.iloc[train_index], y_tr.iloc[valid_index]\n",
    "    # Create classifier object\n",
    "    clf = DecisionTreeClassifier(criterion=\"gini\", random_state=0,min_samples_leaf=100)\n",
    "    # Train Decision Tree Classifer\n",
    "    clf = clf.fit(np.array(X_train),np.array(y_train),check_input=False)\n",
    "    #Predict the response for test dataset\n",
    "    y_pred = clf.predict(X_valid)\n",
    "    acc = accuracy_score(y_valid, y_pred)\n",
    "    acc_scores.append(acc)\n",
    "    if acc > best_acc:\n",
    "        best_acc = acc\n",
    "        best_clf = clf\n",
    "acc_scores"
   ]
  },
  {
   "cell_type": "code",
   "execution_count": 59,
   "metadata": {},
   "outputs": [
    {
     "data": {
      "text/plain": [
       "0.711304663520868"
      ]
     },
     "execution_count": 59,
     "metadata": {},
     "output_type": "execute_result"
    }
   ],
   "source": [
    "np.array(acc_scores).mean()"
   ]
  },
  {
   "cell_type": "code",
   "execution_count": 60,
   "metadata": {
    "scrolled": true
   },
   "outputs": [
    {
     "name": "stdout",
     "output_type": "stream",
     "text": [
      "              precision    recall  f1-score   support\n",
      "\n",
      "        high       0.51      0.17      0.25       571\n",
      "      medium       0.44      0.26      0.33      1668\n",
      "         low       0.77      0.93      0.84      5139\n",
      "\n",
      "   micro avg       0.72      0.72      0.72      7378\n",
      "   macro avg       0.57      0.45      0.48      7378\n",
      "weighted avg       0.68      0.72      0.68      7378\n",
      "\n"
     ]
    }
   ],
   "source": [
    "print(classification_report(y_valid, y_pred, target_names=['high', 'medium','low']))"
   ]
  },
  {
   "cell_type": "code",
   "execution_count": 61,
   "metadata": {},
   "outputs": [
    {
     "data": {
      "text/plain": [
       "0.7078048780487805"
      ]
     },
     "execution_count": 61,
     "metadata": {},
     "output_type": "execute_result"
    }
   ],
   "source": [
    "# Check overfitting\n",
    "y_pred = clf.predict(X_test)\n",
    "acc = accuracy_score(y_test, y_pred)\n",
    "acc"
   ]
  },
  {
   "cell_type": "markdown",
   "metadata": {},
   "source": [
    "## Ninth Version\n",
    "\n",
    "Here we're trying a Random Forest to try and combat inconsistent data creating very different trees. Playing with the parameters, number of folds, and features also gets the same results, on average, as before. Although we do get one classifier that performs the best with an accuracy of 69.92%. This classifier will be used for testing."
   ]
  },
  {
   "cell_type": "code",
   "execution_count": 73,
   "metadata": {
    "scrolled": true
   },
   "outputs": [
    {
     "data": {
      "text/plain": [
       "[0.6998103494987808,\n",
       " 0.697913844486589,\n",
       " 0.6987266323489569,\n",
       " 0.7010840108401084,\n",
       " 0.6994579945799458,\n",
       " 0.7001897533206831,\n",
       " 0.6985632962862565,\n",
       " 0.700731905665492,\n",
       " 0.698292220113852,\n",
       " 0.6968546637744034]"
      ]
     },
     "execution_count": 73,
     "metadata": {},
     "output_type": "execute_result"
    }
   ],
   "source": [
    "# perform cross-validation for first set of classifiers\n",
    "kf = StratifiedKFold(n_splits=10)\n",
    "acc_scores = []\n",
    "for train_index, valid_index in kf.split(X2, y_tr):\n",
    "    # split data\n",
    "    X_train, X_valid = X2.iloc[train_index], X2.iloc[valid_index]\n",
    "    y_train, y_valid = y_tr.iloc[train_index], y_tr.iloc[valid_index]\n",
    "    # Create classifier object\n",
    "    clf = RandomForestClassifier(criterion=\"gini\", random_state=0,min_samples_leaf=20,n_estimators=50,min_samples_split=100)\n",
    "    # Train Decision Tree Classifer\n",
    "    clf = clf.fit(np.array(X_train),np.array(y_train))\n",
    "    #Predict the response for test dataset\n",
    "    y_pred = clf.predict(X_valid)\n",
    "    acc = accuracy_score(y_valid, y_pred)\n",
    "    acc_scores.append(acc)\n",
    "    if acc > best_acc:\n",
    "        best_clf = clf\n",
    "acc_scores"
   ]
  },
  {
   "cell_type": "code",
   "execution_count": 68,
   "metadata": {},
   "outputs": [
    {
     "data": {
      "text/plain": [
       "0.6991624670915069"
      ]
     },
     "execution_count": 68,
     "metadata": {},
     "output_type": "execute_result"
    }
   ],
   "source": [
    "np.array(acc_scores).mean()"
   ]
  },
  {
   "cell_type": "code",
   "execution_count": 69,
   "metadata": {
    "scrolled": true
   },
   "outputs": [
    {
     "name": "stdout",
     "output_type": "stream",
     "text": [
      "              precision    recall  f1-score   support\n",
      "\n",
      "        high       0.67      0.01      0.01       285\n",
      "      medium       0.30      0.01      0.02       834\n",
      "         low       0.70      1.00      0.82      2569\n",
      "\n",
      "   micro avg       0.70      0.70      0.70      3688\n",
      "   macro avg       0.55      0.34      0.28      3688\n",
      "weighted avg       0.61      0.70      0.58      3688\n",
      "\n"
     ]
    }
   ],
   "source": [
    "print(classification_report(y_valid, y_pred, target_names=['high', 'medium','low']))"
   ]
  },
  {
   "cell_type": "code",
   "execution_count": 65,
   "metadata": {},
   "outputs": [
    {
     "data": {
      "text/plain": [
       "0.6895121951219512"
      ]
     },
     "execution_count": 65,
     "metadata": {},
     "output_type": "execute_result"
    }
   ],
   "source": [
    "# Check overfitting\n",
    "y_pred = clf.predict(X_test)\n",
    "acc = accuracy_score(y_test, y_pred)\n",
    "acc"
   ]
  },
  {
   "cell_type": "markdown",
   "metadata": {},
   "source": [
    "## Tenth Version\n",
    "\n",
    "Here we're trying a Random Forest to try and combat inconsistent data creating very different trees. Playing with the parameters, number of folds, and features also gets the same results, on average, as before. Although we do get one classifier that performs the best with an accuracy of 72.55%. This classifier will be used for testing."
   ]
  },
  {
   "cell_type": "code",
   "execution_count": 86,
   "metadata": {
    "scrolled": true
   },
   "outputs": [
    {
     "data": {
      "text/plain": [
       "[0.7233811975074506,\n",
       " 0.7206719046328908,\n",
       " 0.7282579246816581,\n",
       " 0.7284552845528456,\n",
       " 0.724390243902439,\n",
       " 0.7300081322851721,\n",
       " 0.7199783139062076,\n",
       " 0.720791542423421,\n",
       " 0.7343453510436433,\n",
       " 0.7242407809110629]"
      ]
     },
     "execution_count": 86,
     "metadata": {},
     "output_type": "execute_result"
    }
   ],
   "source": [
    "# perform cross-validation for first set of classifiers\n",
    "kf = StratifiedKFold(n_splits=10)\n",
    "acc_scores = []\n",
    "for train_index, valid_index in kf.split(X2, y_tr):\n",
    "    # split data\n",
    "    X_train, X_valid = X2.iloc[train_index], X2.iloc[valid_index]\n",
    "    y_train, y_valid = y_tr.iloc[train_index], y_tr.iloc[valid_index]\n",
    "    # Create classifier object\n",
    "    clf = RandomForestClassifier(criterion=\"gini\", random_state=0,min_samples_leaf=20,n_estimators=50)\n",
    "    # Train Decision Tree Classifer\n",
    "    clf = clf.fit(np.array(X_train[numeric]),np.array(y_train))\n",
    "    #Predict the response for test dataset\n",
    "    y_pred = clf.predict(X_valid[numeric])\n",
    "    acc = accuracy_score(y_valid, y_pred)\n",
    "    acc_scores.append(acc)\n",
    "    if acc > best_acc:\n",
    "        best_clf = clf\n",
    "acc_scores"
   ]
  },
  {
   "cell_type": "code",
   "execution_count": 87,
   "metadata": {},
   "outputs": [
    {
     "data": {
      "text/plain": [
       "0.7254520675846791"
      ]
     },
     "execution_count": 87,
     "metadata": {},
     "output_type": "execute_result"
    }
   ],
   "source": [
    "np.array(acc_scores).mean()"
   ]
  },
  {
   "cell_type": "code",
   "execution_count": 88,
   "metadata": {
    "scrolled": true
   },
   "outputs": [
    {
     "name": "stdout",
     "output_type": "stream",
     "text": [
      "              precision    recall  f1-score   support\n",
      "\n",
      "        high       0.47      0.14      0.22       285\n",
      "      medium       0.48      0.20      0.28       834\n",
      "         low       0.76      0.96      0.85      2569\n",
      "\n",
      "   micro avg       0.72      0.72      0.72      3688\n",
      "   macro avg       0.57      0.43      0.45      3688\n",
      "weighted avg       0.67      0.72      0.67      3688\n",
      "\n"
     ]
    }
   ],
   "source": [
    "print(classification_report(y_valid, y_pred, target_names=['high', 'medium','low']))"
   ]
  },
  {
   "cell_type": "code",
   "execution_count": 89,
   "metadata": {},
   "outputs": [
    {
     "data": {
      "text/plain": [
       "0.7169105691056911"
      ]
     },
     "execution_count": 89,
     "metadata": {},
     "output_type": "execute_result"
    }
   ],
   "source": [
    "# Check overfitting\n",
    "y_pred = clf.predict(X_test[numeric])\n",
    "acc = accuracy_score(y_test, y_pred)\n",
    "acc"
   ]
  },
  {
   "cell_type": "markdown",
   "metadata": {},
   "source": [
    "# 4. Predictions on  test dataset\n",
    "\n",
    "Score (multiclass log-loss) = 0.65105 using a Random Forest classifier, the eighth version of classifiers. The benchmark of sample submission is 0.78598 so our classifier isn’t that far off. \n",
    "\n",
    "- Decision-tree learners can create over-complex trees that do not generalise the data well. This is called overfitting. Mechanisms such as pruning (not currently supported), setting the minimum number of samples required at a leaf node or setting the maximum depth of the tree are necessary to avoid this problem.\n",
    "\n",
    "- Decision trees can be unstable because small variations in the data might result in a completely different tree being generated. This problem is mitigated by using decision trees within an ensemble."
   ]
  },
  {
   "cell_type": "code",
   "execution_count": 84,
   "metadata": {},
   "outputs": [],
   "source": [
    "# use best classifier on test dataset\n",
    "y_pred = best_clf.predict_proba(test[numeric])"
   ]
  },
  {
   "cell_type": "code",
   "execution_count": 85,
   "metadata": {},
   "outputs": [],
   "source": [
    "# Test output for log loss\n",
    "test_prob = np.concatenate((listing_id,y_pred),axis=1)\n",
    "np.savetxt('test_best.csv',test_prob, delimiter=',',header='listing_id,high,medium,low')"
   ]
  }
 ],
 "metadata": {
  "jupytext": {
   "formats": "ipynb,Rmd"
  },
  "kernelspec": {
   "display_name": "Python 3",
   "language": "python",
   "name": "python3"
  },
  "language_info": {
   "codemirror_mode": {
    "name": "ipython",
    "version": 2
   },
   "file_extension": ".py",
   "mimetype": "text/x-python",
   "name": "python",
   "nbconvert_exporter": "python",
   "pygments_lexer": "ipython2",
   "version": "2.7.12"
  }
 },
 "nbformat": 4,
 "nbformat_minor": 2
}
