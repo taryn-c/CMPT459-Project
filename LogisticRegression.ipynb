{
  "nbformat": 4,
  "nbformat_minor": 0,
  "metadata": {
    "colab": {
      "name": "LogisticRegression.ipynb",
      "provenance": [],
      "collapsed_sections": [],
      "toc_visible": true
    },
    "kernelspec": {
      "name": "python3",
      "display_name": "Python 3"
    }
  },
  "cells": [
    {
      "cell_type": "markdown",
      "metadata": {
        "id": "FbJQejbcgrVF",
        "colab_type": "text"
      },
      "source": [
        "##Importing Libraries\n"
      ]
    },
    {
      "cell_type": "code",
      "metadata": {
        "id": "V21YiBesTBZo",
        "colab_type": "code",
        "colab": {}
      },
      "source": [
        "import pandas as pd\n",
        "import numpy as np\n",
        "from sklearn import preprocessing\n",
        "import matplotlib.pyplot as plt\n",
        "# from sklearn.linear_model import LogisticRegression\n",
        "from sklearn.linear_model import LogisticRegressionCV\n",
        "from sklearn.model_selection import train_test_split\n",
        "import seaborn as sns\n",
        "from sklearn import metrics\n",
        "from sklearn.metrics import log_loss\n",
        "train_df = pd.read_json(\"train.json\")\n",
        "test_df = pd.read_json(\"test.json\")"
      ],
      "execution_count": 0,
      "outputs": []
    },
    {
      "cell_type": "markdown",
      "metadata": {
        "id": "x-HooaDNgyjo",
        "colab_type": "text"
      },
      "source": [
        "##Training Data"
      ]
    },
    {
      "cell_type": "code",
      "metadata": {
        "id": "1XU1tn6ZCSNm",
        "colab_type": "code",
        "outputId": "fecc5bc3-5a79-42a6-cbab-7f39c044d1d2",
        "colab": {
          "base_uri": "https://localhost:8080/",
          "height": 419
        }
      },
      "source": [
        "train_df[\"created\"] = pd.to_datetime(train_df[\"created\"])\n",
        "# train_df[\"created_year\"] = train_df[\"created\"].dt.year\n",
        "# train_df[\"created_month\"] = train_df[\"created\"].dt.month\n",
        "# train_df[\"created_day\"] = train_df[\"created\"].dt.day\n",
        "# train_df[\"num_features\"] = train_df[\"features\"].apply(len)\n",
        "# train_df[\"num_photos\"] = train_df[\"photos\"].apply(len)\n",
        "# train_df= pd.merge(train_df, b_id, how = 'left', on=['building_id'])\n",
        "# train_df= pd.merge(train_df, m_id, how = 'left', on=['manager_id'])\n",
        "train_df.drop(columns=['created', 'display_address', 'description', 'street_address', 'photos'], inplace=True)\n",
        "train_df.drop(columns=['building_id', 'manager_id', 'listing_id'], inplace=True)\n",
        "# train_df.drop(columns=['longitude', 'latitude'], inplace=True)\n",
        "train_df.drop(columns=['features'], inplace=True)\n",
        "train_df"
      ],
      "execution_count": 3,
      "outputs": [
        {
          "output_type": "execute_result",
          "data": {
            "text/html": [
              "<div>\n",
              "<style scoped>\n",
              "    .dataframe tbody tr th:only-of-type {\n",
              "        vertical-align: middle;\n",
              "    }\n",
              "\n",
              "    .dataframe tbody tr th {\n",
              "        vertical-align: top;\n",
              "    }\n",
              "\n",
              "    .dataframe thead th {\n",
              "        text-align: right;\n",
              "    }\n",
              "</style>\n",
              "<table border=\"1\" class=\"dataframe\">\n",
              "  <thead>\n",
              "    <tr style=\"text-align: right;\">\n",
              "      <th></th>\n",
              "      <th>bathrooms</th>\n",
              "      <th>bedrooms</th>\n",
              "      <th>latitude</th>\n",
              "      <th>longitude</th>\n",
              "      <th>price</th>\n",
              "      <th>interest_level</th>\n",
              "    </tr>\n",
              "  </thead>\n",
              "  <tbody>\n",
              "    <tr>\n",
              "      <th>4</th>\n",
              "      <td>1.0</td>\n",
              "      <td>1</td>\n",
              "      <td>40.7108</td>\n",
              "      <td>-73.9539</td>\n",
              "      <td>2400</td>\n",
              "      <td>medium</td>\n",
              "    </tr>\n",
              "    <tr>\n",
              "      <th>6</th>\n",
              "      <td>1.0</td>\n",
              "      <td>2</td>\n",
              "      <td>40.7513</td>\n",
              "      <td>-73.9722</td>\n",
              "      <td>3800</td>\n",
              "      <td>low</td>\n",
              "    </tr>\n",
              "    <tr>\n",
              "      <th>9</th>\n",
              "      <td>1.0</td>\n",
              "      <td>2</td>\n",
              "      <td>40.7575</td>\n",
              "      <td>-73.9625</td>\n",
              "      <td>3495</td>\n",
              "      <td>medium</td>\n",
              "    </tr>\n",
              "    <tr>\n",
              "      <th>10</th>\n",
              "      <td>1.5</td>\n",
              "      <td>3</td>\n",
              "      <td>40.7145</td>\n",
              "      <td>-73.9425</td>\n",
              "      <td>3000</td>\n",
              "      <td>medium</td>\n",
              "    </tr>\n",
              "    <tr>\n",
              "      <th>15</th>\n",
              "      <td>1.0</td>\n",
              "      <td>0</td>\n",
              "      <td>40.7439</td>\n",
              "      <td>-73.9743</td>\n",
              "      <td>2795</td>\n",
              "      <td>low</td>\n",
              "    </tr>\n",
              "    <tr>\n",
              "      <th>...</th>\n",
              "      <td>...</td>\n",
              "      <td>...</td>\n",
              "      <td>...</td>\n",
              "      <td>...</td>\n",
              "      <td>...</td>\n",
              "      <td>...</td>\n",
              "    </tr>\n",
              "    <tr>\n",
              "      <th>124000</th>\n",
              "      <td>1.0</td>\n",
              "      <td>3</td>\n",
              "      <td>40.8433</td>\n",
              "      <td>-73.9396</td>\n",
              "      <td>2800</td>\n",
              "      <td>low</td>\n",
              "    </tr>\n",
              "    <tr>\n",
              "      <th>124002</th>\n",
              "      <td>1.0</td>\n",
              "      <td>2</td>\n",
              "      <td>40.8198</td>\n",
              "      <td>-73.9578</td>\n",
              "      <td>2395</td>\n",
              "      <td>medium</td>\n",
              "    </tr>\n",
              "    <tr>\n",
              "      <th>124004</th>\n",
              "      <td>1.0</td>\n",
              "      <td>1</td>\n",
              "      <td>40.5765</td>\n",
              "      <td>-73.9554</td>\n",
              "      <td>1850</td>\n",
              "      <td>medium</td>\n",
              "    </tr>\n",
              "    <tr>\n",
              "      <th>124008</th>\n",
              "      <td>1.0</td>\n",
              "      <td>2</td>\n",
              "      <td>40.7448</td>\n",
              "      <td>-74.0017</td>\n",
              "      <td>4195</td>\n",
              "      <td>medium</td>\n",
              "    </tr>\n",
              "    <tr>\n",
              "      <th>124009</th>\n",
              "      <td>1.0</td>\n",
              "      <td>3</td>\n",
              "      <td>40.7594</td>\n",
              "      <td>-73.9712</td>\n",
              "      <td>4280</td>\n",
              "      <td>high</td>\n",
              "    </tr>\n",
              "  </tbody>\n",
              "</table>\n",
              "<p>49352 rows × 6 columns</p>\n",
              "</div>"
            ],
            "text/plain": [
              "        bathrooms  bedrooms  latitude  longitude  price interest_level\n",
              "4             1.0         1   40.7108   -73.9539   2400         medium\n",
              "6             1.0         2   40.7513   -73.9722   3800            low\n",
              "9             1.0         2   40.7575   -73.9625   3495         medium\n",
              "10            1.5         3   40.7145   -73.9425   3000         medium\n",
              "15            1.0         0   40.7439   -73.9743   2795            low\n",
              "...           ...       ...       ...        ...    ...            ...\n",
              "124000        1.0         3   40.8433   -73.9396   2800            low\n",
              "124002        1.0         2   40.8198   -73.9578   2395         medium\n",
              "124004        1.0         1   40.5765   -73.9554   1850         medium\n",
              "124008        1.0         2   40.7448   -74.0017   4195         medium\n",
              "124009        1.0         3   40.7594   -73.9712   4280           high\n",
              "\n",
              "[49352 rows x 6 columns]"
            ]
          },
          "metadata": {
            "tags": []
          },
          "execution_count": 3
        }
      ]
    },
    {
      "cell_type": "code",
      "metadata": {
        "id": "MqREjnZeCR_A",
        "colab_type": "code",
        "colab": {}
      },
      "source": [
        "# train_df['interest_level'].value_counts()"
      ],
      "execution_count": 0,
      "outputs": []
    },
    {
      "cell_type": "markdown",
      "metadata": {
        "id": "AIg3FUAXg0eq",
        "colab_type": "text"
      },
      "source": [
        "##Testing Data"
      ]
    },
    {
      "cell_type": "code",
      "metadata": {
        "id": "vTAp13aGHsx_",
        "colab_type": "code",
        "colab": {
          "base_uri": "https://localhost:8080/",
          "height": 419
        },
        "outputId": "ea1bedb7-7bf1-44fb-bc8a-6d6683082e1c"
      },
      "source": [
        "test_df2 = test_df.copy()\n",
        "test_df2[\"created\"] = pd.to_datetime(test_df2[\"created\"])\n",
        "# test_df2[\"created_year\"] = test_df2[\"created\"].dt.year\n",
        "# test_df2[\"created_month\"] = test_df2[\"created\"].dt.month\n",
        "# test_df2[\"created_day\"] = test_df2[\"created\"].dt.day\n",
        "# test_df2[\"num_features\"] = test_df2[\"features\"].apply(len)\n",
        "# test_df2[\"num_photos\"] = test_df2[\"photos\"].apply(len)\n",
        "# test_df2= pd.merge(test_df2, b_id, how = 'left', on=['building_id'])\n",
        "# test_df2= pd.merge(test_df2, m_id, how = 'left', on=['manager_id'])\n",
        "test_df2.drop(columns=['created', 'display_address', 'description', 'street_address', 'photos'], inplace=True)\n",
        "test_df2.drop(columns=['building_id', 'manager_id', 'listing_id'], inplace=True)\n",
        "# test_df2.drop(columns=['longitude', 'latitude'], inplace=True)\n",
        "test_df2.drop(columns=['features'], inplace=True)\n",
        "test_df2"
      ],
      "execution_count": 5,
      "outputs": [
        {
          "output_type": "execute_result",
          "data": {
            "text/html": [
              "<div>\n",
              "<style scoped>\n",
              "    .dataframe tbody tr th:only-of-type {\n",
              "        vertical-align: middle;\n",
              "    }\n",
              "\n",
              "    .dataframe tbody tr th {\n",
              "        vertical-align: top;\n",
              "    }\n",
              "\n",
              "    .dataframe thead th {\n",
              "        text-align: right;\n",
              "    }\n",
              "</style>\n",
              "<table border=\"1\" class=\"dataframe\">\n",
              "  <thead>\n",
              "    <tr style=\"text-align: right;\">\n",
              "      <th></th>\n",
              "      <th>bathrooms</th>\n",
              "      <th>bedrooms</th>\n",
              "      <th>latitude</th>\n",
              "      <th>longitude</th>\n",
              "      <th>price</th>\n",
              "    </tr>\n",
              "  </thead>\n",
              "  <tbody>\n",
              "    <tr>\n",
              "      <th>0</th>\n",
              "      <td>1.0</td>\n",
              "      <td>1</td>\n",
              "      <td>40.7185</td>\n",
              "      <td>-73.9865</td>\n",
              "      <td>2950</td>\n",
              "    </tr>\n",
              "    <tr>\n",
              "      <th>1</th>\n",
              "      <td>1.0</td>\n",
              "      <td>2</td>\n",
              "      <td>40.7278</td>\n",
              "      <td>-74.0000</td>\n",
              "      <td>2850</td>\n",
              "    </tr>\n",
              "    <tr>\n",
              "      <th>2</th>\n",
              "      <td>1.0</td>\n",
              "      <td>0</td>\n",
              "      <td>40.7260</td>\n",
              "      <td>-74.0026</td>\n",
              "      <td>2295</td>\n",
              "    </tr>\n",
              "    <tr>\n",
              "      <th>3</th>\n",
              "      <td>1.0</td>\n",
              "      <td>2</td>\n",
              "      <td>40.7321</td>\n",
              "      <td>-74.0028</td>\n",
              "      <td>2900</td>\n",
              "    </tr>\n",
              "    <tr>\n",
              "      <th>5</th>\n",
              "      <td>1.0</td>\n",
              "      <td>1</td>\n",
              "      <td>40.7054</td>\n",
              "      <td>-74.0095</td>\n",
              "      <td>3254</td>\n",
              "    </tr>\n",
              "    <tr>\n",
              "      <th>...</th>\n",
              "      <td>...</td>\n",
              "      <td>...</td>\n",
              "      <td>...</td>\n",
              "      <td>...</td>\n",
              "      <td>...</td>\n",
              "    </tr>\n",
              "    <tr>\n",
              "      <th>124003</th>\n",
              "      <td>1.0</td>\n",
              "      <td>1</td>\n",
              "      <td>40.7925</td>\n",
              "      <td>-73.9454</td>\n",
              "      <td>1700</td>\n",
              "    </tr>\n",
              "    <tr>\n",
              "      <th>124005</th>\n",
              "      <td>1.0</td>\n",
              "      <td>2</td>\n",
              "      <td>40.7456</td>\n",
              "      <td>-73.9797</td>\n",
              "      <td>4195</td>\n",
              "    </tr>\n",
              "    <tr>\n",
              "      <th>124006</th>\n",
              "      <td>1.0</td>\n",
              "      <td>0</td>\n",
              "      <td>40.7416</td>\n",
              "      <td>-73.9829</td>\n",
              "      <td>2400</td>\n",
              "    </tr>\n",
              "    <tr>\n",
              "      <th>124007</th>\n",
              "      <td>2.0</td>\n",
              "      <td>2</td>\n",
              "      <td>40.7485</td>\n",
              "      <td>-73.9800</td>\n",
              "      <td>6895</td>\n",
              "    </tr>\n",
              "    <tr>\n",
              "      <th>124010</th>\n",
              "      <td>1.0</td>\n",
              "      <td>3</td>\n",
              "      <td>40.7447</td>\n",
              "      <td>-73.9741</td>\n",
              "      <td>4695</td>\n",
              "    </tr>\n",
              "  </tbody>\n",
              "</table>\n",
              "<p>74659 rows × 5 columns</p>\n",
              "</div>"
            ],
            "text/plain": [
              "        bathrooms  bedrooms  latitude  longitude  price\n",
              "0             1.0         1   40.7185   -73.9865   2950\n",
              "1             1.0         2   40.7278   -74.0000   2850\n",
              "2             1.0         0   40.7260   -74.0026   2295\n",
              "3             1.0         2   40.7321   -74.0028   2900\n",
              "5             1.0         1   40.7054   -74.0095   3254\n",
              "...           ...       ...       ...        ...    ...\n",
              "124003        1.0         1   40.7925   -73.9454   1700\n",
              "124005        1.0         2   40.7456   -73.9797   4195\n",
              "124006        1.0         0   40.7416   -73.9829   2400\n",
              "124007        2.0         2   40.7485   -73.9800   6895\n",
              "124010        1.0         3   40.7447   -73.9741   4695\n",
              "\n",
              "[74659 rows x 5 columns]"
            ]
          },
          "metadata": {
            "tags": []
          },
          "execution_count": 5
        }
      ]
    },
    {
      "cell_type": "code",
      "metadata": {
        "id": "Ee7fmvAKY_kK",
        "colab_type": "code",
        "colab": {}
      },
      "source": [
        "# train_df[\"features\"].apply(len)"
      ],
      "execution_count": 0,
      "outputs": []
    },
    {
      "cell_type": "code",
      "metadata": {
        "id": "rSzniZwwavzk",
        "colab_type": "code",
        "colab": {}
      },
      "source": [
        "# test_df[\"features\"].apply(len)"
      ],
      "execution_count": 0,
      "outputs": []
    },
    {
      "cell_type": "markdown",
      "metadata": {
        "id": "Zi2So3NSg7nC",
        "colab_type": "text"
      },
      "source": [
        "##Logistic Regression Classifier"
      ]
    },
    {
      "cell_type": "code",
      "metadata": {
        "id": "FW_u6dObZ8xG",
        "colab_type": "code",
        "colab": {}
      },
      "source": [
        "target_map = {'high':0, 'medium':1, 'low':2}\n",
        "X = train_df[train_df.columns.difference(['interest_level'])]\n",
        "y = np.array(train_df['interest_level'].apply(lambda x: target_map[x]))\n",
        "X_train, X_val, y_train, y_val = train_test_split(X, y, test_size=0.33)\n",
        "lr = LogisticRegressionCV(cv=5, random_state=0)\n",
        "lr.fit(X_train, y_train)\n",
        "y_val_pred = lr.predict_proba(X_val)\n",
        "y_val_pred_acc = lr.predict(X_val)"
      ],
      "execution_count": 0,
      "outputs": []
    },
    {
      "cell_type": "code",
      "metadata": {
        "id": "QYVawqOiZ_Ek",
        "colab_type": "code",
        "outputId": "82ba561c-7c17-4d52-9da0-72c65f10c67f",
        "colab": {
          "base_uri": "https://localhost:8080/",
          "height": 34
        }
      },
      "source": [
        "logloss = metrics.log_loss(y_val, y_val_pred)\n",
        "logloss"
      ],
      "execution_count": 9,
      "outputs": [
        {
          "output_type": "execute_result",
          "data": {
            "text/plain": [
              "0.7383085566688727"
            ]
          },
          "metadata": {
            "tags": []
          },
          "execution_count": 9
        }
      ]
    },
    {
      "cell_type": "code",
      "metadata": {
        "id": "2VCMQ6UQaArd",
        "colab_type": "code",
        "outputId": "841db0aa-c6b8-43dc-890d-f95b3d8c50de",
        "colab": {
          "base_uri": "https://localhost:8080/",
          "height": 34
        }
      },
      "source": [
        "accuracy = metrics.accuracy_score(y_val, y_val_pred_acc)\n",
        "accuracy"
      ],
      "execution_count": 10,
      "outputs": [
        {
          "output_type": "execute_result",
          "data": {
            "text/plain": [
              "0.6952784429299441"
            ]
          },
          "metadata": {
            "tags": []
          },
          "execution_count": 10
        }
      ]
    },
    {
      "cell_type": "markdown",
      "metadata": {
        "id": "VL8alNwRhA6d",
        "colab_type": "text"
      },
      "source": [
        "##Confusion Matrix "
      ]
    },
    {
      "cell_type": "code",
      "metadata": {
        "id": "3aZTbNGJJmk9",
        "colab_type": "code",
        "outputId": "11f9629d-4192-41a0-a506-7cf0d84ccafe",
        "colab": {
          "base_uri": "https://localhost:8080/",
          "height": 68
        }
      },
      "source": [
        "metrics.confusion_matrix(y_val, y_val_pred_acc)"
      ],
      "execution_count": 11,
      "outputs": [
        {
          "output_type": "execute_result",
          "data": {
            "text/plain": [
              "array([[    0,     2,  1223],\n",
              "       [    0,     1,  3738],\n",
              "       [    0,     0, 11323]])"
            ]
          },
          "metadata": {
            "tags": []
          },
          "execution_count": 11
        }
      ]
    },
    {
      "cell_type": "markdown",
      "metadata": {
        "id": "uEMbUg1PhDIa",
        "colab_type": "text"
      },
      "source": [
        "##Submission File"
      ]
    },
    {
      "cell_type": "code",
      "metadata": {
        "id": "97YBBgLhcta1",
        "colab_type": "code",
        "colab": {}
      },
      "source": [
        "X_test = test_df2\n",
        "y_test = lr.predict_proba(X_test)\n",
        "sub = pd.DataFrame()\n",
        "sub['listing_id'] = test_df['listing_id']\n",
        "for label in ['high', 'medium', 'low']:\n",
        "  sub[label] = y_test[:, target_map[label]]\n",
        "sub.to_csv(\"submission.csv\", index=False)"
      ],
      "execution_count": 0,
      "outputs": []
    }
  ]
}