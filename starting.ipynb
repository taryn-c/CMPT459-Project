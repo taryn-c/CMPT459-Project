{
 "cells": [
  {
   "cell_type": "markdown",
   "metadata": {
    "colab_type": "text",
    "id": "70OSIJ_cwKmJ"
   },
   "source": [
    "# Phase 1: Exploratory data analysis and data pre-processing\n",
    "\n",
    "### Taryn Chung (301239706), ZeYu Zhu (301341176), Kearro Chow (301279961)"
   ]
  },
  {
   "cell_type": "code",
   "execution_count": 1,
   "metadata": {
    "colab": {
     "base_uri": "https://localhost:8080/",
     "height": 34
    },
    "colab_type": "code",
    "id": "vmW3vdCnwSIs",
    "outputId": "2baf24cc-1f5f-4620-a58e-d356c6cf27fc"
   },
   "outputs": [
    {
     "name": "stdout",
     "output_type": "stream",
     "text": [
      "Drive already mounted at /content/drive; to attempt to forcibly remount, call drive.mount(\"/content/drive\", force_remount=True).\n"
     ]
    }
   ],
   "source": [
    "from google.colab import drive\n",
    "drive.mount('/content/drive')"
   ]
  },
  {
   "cell_type": "code",
   "execution_count": null,
   "metadata": {
    "colab": {},
    "colab_type": "code",
    "id": "7mERw8zZwKmM"
   },
   "outputs": [],
   "source": [
    "import numpy as np \n",
    "import pandas as pd\n",
    "import matplotlib.pyplot as plt\n",
    "import seaborn as sns\n",
    "import re\n",
    "from sklearn.feature_extraction.text import TfidfVectorizer, CountVectorizer\n",
    "color = sns.color_palette()"
   ]
  },
  {
   "cell_type": "code",
   "execution_count": 3,
   "metadata": {
    "colab": {
     "base_uri": "https://localhost:8080/",
     "height": 649
    },
    "colab_type": "code",
    "id": "IRr3jxGiwKmP",
    "outputId": "7f094c45-5b99-4ec8-cfa8-e14c97a16e6d"
   },
   "outputs": [
    {
     "data": {
      "text/html": [
       "<div>\n",
       "<style scoped>\n",
       "    .dataframe tbody tr th:only-of-type {\n",
       "        vertical-align: middle;\n",
       "    }\n",
       "\n",
       "    .dataframe tbody tr th {\n",
       "        vertical-align: top;\n",
       "    }\n",
       "\n",
       "    .dataframe thead th {\n",
       "        text-align: right;\n",
       "    }\n",
       "</style>\n",
       "<table border=\"1\" class=\"dataframe\">\n",
       "  <thead>\n",
       "    <tr style=\"text-align: right;\">\n",
       "      <th></th>\n",
       "      <th>bathrooms</th>\n",
       "      <th>bedrooms</th>\n",
       "      <th>building_id</th>\n",
       "      <th>created</th>\n",
       "      <th>description</th>\n",
       "      <th>display_address</th>\n",
       "      <th>features</th>\n",
       "      <th>latitude</th>\n",
       "      <th>listing_id</th>\n",
       "      <th>longitude</th>\n",
       "      <th>manager_id</th>\n",
       "      <th>photos</th>\n",
       "      <th>price</th>\n",
       "      <th>street_address</th>\n",
       "      <th>interest_level</th>\n",
       "    </tr>\n",
       "  </thead>\n",
       "  <tbody>\n",
       "    <tr>\n",
       "      <th>4</th>\n",
       "      <td>1.0</td>\n",
       "      <td>1</td>\n",
       "      <td>8579a0b0d54db803821a35a4a615e97a</td>\n",
       "      <td>2016-06-16 05:55:27</td>\n",
       "      <td>Spacious 1 Bedroom 1 Bathroom in Williamsburg!...</td>\n",
       "      <td>145 Borinquen Place</td>\n",
       "      <td>[Dining Room, Pre-War, Laundry in Building, Di...</td>\n",
       "      <td>40.7108</td>\n",
       "      <td>7170325</td>\n",
       "      <td>-73.9539</td>\n",
       "      <td>a10db4590843d78c784171a107bdacb4</td>\n",
       "      <td>[https://photos.renthop.com/2/7170325_3bb5ac84...</td>\n",
       "      <td>2400</td>\n",
       "      <td>145 Borinquen Place</td>\n",
       "      <td>medium</td>\n",
       "    </tr>\n",
       "    <tr>\n",
       "      <th>6</th>\n",
       "      <td>1.0</td>\n",
       "      <td>2</td>\n",
       "      <td>b8e75fc949a6cd8225b455648a951712</td>\n",
       "      <td>2016-06-01 05:44:33</td>\n",
       "      <td>BRAND NEW GUT RENOVATED TRUE 2 BEDROOMFind you...</td>\n",
       "      <td>East 44th</td>\n",
       "      <td>[Doorman, Elevator, Laundry in Building, Dishw...</td>\n",
       "      <td>40.7513</td>\n",
       "      <td>7092344</td>\n",
       "      <td>-73.9722</td>\n",
       "      <td>955db33477af4f40004820b4aed804a0</td>\n",
       "      <td>[https://photos.renthop.com/2/7092344_7663c19a...</td>\n",
       "      <td>3800</td>\n",
       "      <td>230 East 44th</td>\n",
       "      <td>low</td>\n",
       "    </tr>\n",
       "    <tr>\n",
       "      <th>9</th>\n",
       "      <td>1.0</td>\n",
       "      <td>2</td>\n",
       "      <td>cd759a988b8f23924b5a2058d5ab2b49</td>\n",
       "      <td>2016-06-14 15:19:59</td>\n",
       "      <td>**FLEX 2 BEDROOM WITH FULL PRESSURIZED WALL**L...</td>\n",
       "      <td>East 56th Street</td>\n",
       "      <td>[Doorman, Elevator, Laundry in Building, Laund...</td>\n",
       "      <td>40.7575</td>\n",
       "      <td>7158677</td>\n",
       "      <td>-73.9625</td>\n",
       "      <td>c8b10a317b766204f08e613cef4ce7a0</td>\n",
       "      <td>[https://photos.renthop.com/2/7158677_c897a134...</td>\n",
       "      <td>3495</td>\n",
       "      <td>405 East 56th Street</td>\n",
       "      <td>medium</td>\n",
       "    </tr>\n",
       "    <tr>\n",
       "      <th>10</th>\n",
       "      <td>1.5</td>\n",
       "      <td>3</td>\n",
       "      <td>53a5b119ba8f7b61d4e010512e0dfc85</td>\n",
       "      <td>2016-06-24 07:54:24</td>\n",
       "      <td>A Brand New 3 Bedroom 1.5 bath ApartmentEnjoy ...</td>\n",
       "      <td>Metropolitan Avenue</td>\n",
       "      <td>[]</td>\n",
       "      <td>40.7145</td>\n",
       "      <td>7211212</td>\n",
       "      <td>-73.9425</td>\n",
       "      <td>5ba989232d0489da1b5f2c45f6688adc</td>\n",
       "      <td>[https://photos.renthop.com/2/7211212_1ed4542e...</td>\n",
       "      <td>3000</td>\n",
       "      <td>792 Metropolitan Avenue</td>\n",
       "      <td>medium</td>\n",
       "    </tr>\n",
       "    <tr>\n",
       "      <th>15</th>\n",
       "      <td>1.0</td>\n",
       "      <td>0</td>\n",
       "      <td>bfb9405149bfff42a92980b594c28234</td>\n",
       "      <td>2016-06-28 03:50:23</td>\n",
       "      <td>Over-sized Studio w abundant closets. Availabl...</td>\n",
       "      <td>East 34th Street</td>\n",
       "      <td>[Doorman, Elevator, Fitness Center, Laundry in...</td>\n",
       "      <td>40.7439</td>\n",
       "      <td>7225292</td>\n",
       "      <td>-73.9743</td>\n",
       "      <td>2c3b41f588fbb5234d8a1e885a436cfa</td>\n",
       "      <td>[https://photos.renthop.com/2/7225292_901f1984...</td>\n",
       "      <td>2795</td>\n",
       "      <td>340 East 34th Street</td>\n",
       "      <td>low</td>\n",
       "    </tr>\n",
       "  </tbody>\n",
       "</table>\n",
       "</div>"
      ],
      "text/plain": [
       "    bathrooms  bedrooms  ...           street_address interest_level\n",
       "4         1.0         1  ...      145 Borinquen Place         medium\n",
       "6         1.0         2  ...            230 East 44th            low\n",
       "9         1.0         2  ...     405 East 56th Street         medium\n",
       "10        1.5         3  ...  792 Metropolitan Avenue         medium\n",
       "15        1.0         0  ...     340 East 34th Street            low\n",
       "\n",
       "[5 rows x 15 columns]"
      ]
     },
     "execution_count": 3,
     "metadata": {
      "tags": []
     },
     "output_type": "execute_result"
    }
   ],
   "source": [
    "train_df = pd.read_json(\"train.json\")\n",
    "train_df.head()"
   ]
  },
  {
   "cell_type": "markdown",
   "metadata": {
    "colab_type": "text",
    "id": "iMMtvoFUwKmT"
   },
   "source": [
    "## Visualization of target variable (interest level)"
   ]
  },
  {
   "cell_type": "code",
   "execution_count": null,
   "metadata": {
    "colab": {},
    "colab_type": "code",
    "id": "2cvrvk6PwKmU"
   },
   "outputs": [],
   "source": [
    "# int_level = train_df['interest_level'].value_counts()\n",
    "\n",
    "# plt.figure(figsize=(6,6))\n",
    "# sns.barplot(int_level.index, int_level.values, alpha=1, color=color[0])\n",
    "# plt.ylabel('Number of Occurrences', fontsize=14, fontweight='bold')\n",
    "# plt.xlabel('Interest level', fontsize=14, fontweight='bold')\n",
    "# plt.xticks(fontsize=10, fontweight='bold')\n",
    "# plt.yticks(fontsize=10, fontweight='bold')\n",
    "# plt.show()"
   ]
  },
  {
   "cell_type": "code",
   "execution_count": null,
   "metadata": {
    "colab": {},
    "colab_type": "code",
    "id": "CmuHZ50JwKmW",
    "scrolled": true
   },
   "outputs": [],
   "source": [
    "# plt.pie(int_level.values,(0,0,0),int_level.index, autopct='%1.0f%%', \n",
    "#        shadow=False, startangle=0,   \n",
    "#        pctdistance=1.2,labeldistance=1.4)\n",
    "# plt.axis('equal')\n",
    "# plt.show()"
   ]
  },
  {
   "cell_type": "markdown",
   "metadata": {
    "colab_type": "text",
    "id": "NLDji0a1wKmZ"
   },
   "source": [
    "## Hour-wise listing trend"
   ]
  },
  {
   "cell_type": "code",
   "execution_count": null,
   "metadata": {
    "colab": {},
    "colab_type": "code",
    "id": "10GIbcCTwKma"
   },
   "outputs": [],
   "source": [
    "# train_df[\"created\"] = pd.to_datetime(train_df[\"created\"])\n",
    "# train_df[\"hour_created\"] = train_df[\"created\"].dt.hour\n",
    "# hour = train_df['hour_created'].value_counts()\n",
    "# plt.figure(figsize=(12,6))\n",
    "# sns.barplot(hour.index, hour.values, alpha=0.8, color=color[1])\n",
    "# plt.xlabel('hours', fontsize=12, fontweight='bold')\n",
    "# plt.ylabel('# created', fontsize=12, fontweight='bold')\n",
    "# plt.xticks(rotation='vertical', fontweight='bold')\n",
    "# plt.yticks(fontweight='bold')\n",
    "# plt.show()"
   ]
  },
  {
   "cell_type": "code",
   "execution_count": null,
   "metadata": {
    "colab": {},
    "colab_type": "code",
    "id": "GXQReY8DwKme"
   },
   "outputs": [],
   "source": [
    "# top5 = hour[:5]\n",
    "# print(\"Busiest 5 Hours:\\n\",top5)"
   ]
  },
  {
   "cell_type": "markdown",
   "metadata": {
    "colab_type": "text",
    "id": "NcZy-30fwKmh"
   },
   "source": [
    "## Visualizing features"
   ]
  },
  {
   "cell_type": "code",
   "execution_count": null,
   "metadata": {
    "colab": {},
    "colab_type": "code",
    "id": "gbCsKCXRwKmi"
   },
   "outputs": [],
   "source": [
    "# plt.figure(figsize=(8,6))\n",
    "# sns.distplot(train_df.price.values, bins=50, kde=False)\n",
    "# plt.xlabel('price', fontsize=12, fontweight='bold')\n",
    "# plt.xticks(fontweight='bold')\n",
    "# plt.yticks(fontweight='bold')\n",
    "# plt.show()"
   ]
  },
  {
   "cell_type": "code",
   "execution_count": null,
   "metadata": {
    "colab": {},
    "colab_type": "code",
    "id": "hqP0CwaewKmk"
   },
   "outputs": [],
   "source": [
    "# plt.figure(figsize=(8,6))\n",
    "# sns.distplot(train_df.bathrooms.values, kde=False)\n",
    "# plt.xlabel('bathroom', fontsize=12, fontweight='bold')\n",
    "# plt.xticks(fontweight='bold')\n",
    "# plt.yticks(fontweight='bold')\n",
    "# plt.show()"
   ]
  },
  {
   "cell_type": "code",
   "execution_count": null,
   "metadata": {
    "colab": {},
    "colab_type": "code",
    "id": "ofCLyD3awKmn"
   },
   "outputs": [],
   "source": [
    "# plt.figure(figsize=(8,6))\n",
    "# sns.distplot(train_df.bedrooms.values, kde=False)\n",
    "# plt.xlabel('bedroom', fontsize=12, fontweight='bold')\n",
    "# plt.xticks(fontweight='bold')\n",
    "# plt.yticks(fontweight='bold')\n",
    "# plt.show()"
   ]
  },
  {
   "cell_type": "code",
   "execution_count": null,
   "metadata": {
    "colab": {},
    "colab_type": "code",
    "id": "mTIekSm4wKmq"
   },
   "outputs": [],
   "source": [
    "# plt.figure(figsize=(8,6))\n",
    "# sns.distplot(train_df.listing_id.values, kde=False)\n",
    "# plt.xlabel('listing_id', fontsize=12, fontweight='bold')\n",
    "# plt.xticks(fontweight='bold')\n",
    "# plt.yticks(fontweight='bold')\n",
    "# plt.show()"
   ]
  },
  {
   "cell_type": "code",
   "execution_count": null,
   "metadata": {
    "colab": {},
    "colab_type": "code",
    "id": "DkdBVJenwKmt"
   },
   "outputs": [],
   "source": [
    "# plt.figure(figsize=(8,6))\n",
    "# sns.distplot(train_df.latitude.values,kde=False)\n",
    "# plt.xlabel('latitude', fontsize=12, fontweight='bold')\n",
    "# plt.xticks(fontweight='bold')\n",
    "# plt.yticks(fontweight='bold')\n",
    "# plt.show()"
   ]
  },
  {
   "cell_type": "code",
   "execution_count": null,
   "metadata": {
    "colab": {},
    "colab_type": "code",
    "id": "CaylzTpLwKmw"
   },
   "outputs": [],
   "source": [
    "# plt.figure(figsize=(8,6))\n",
    "# sns.distplot(train_df.longitude.values, kde=False)\n",
    "# plt.xlabel('longitude', fontsize=12, fontweight='bold')\n",
    "# plt.xticks(fontweight='bold')\n",
    "# plt.yticks(fontweight='bold')\n",
    "# plt.show()\n"
   ]
  },
  {
   "cell_type": "markdown",
   "metadata": {
    "colab_type": "text",
    "id": "dc_-I1AqwKmy"
   },
   "source": [
    "## Handling missing values"
   ]
  },
  {
   "cell_type": "code",
   "execution_count": 13,
   "metadata": {
    "colab": {
     "base_uri": "https://localhost:8080/",
     "height": 289
    },
    "colab_type": "code",
    "id": "jaT77-gYwKmz",
    "outputId": "13407666-bce0-4886-d8fe-905655bbae19"
   },
   "outputs": [
    {
     "data": {
      "text/plain": [
       "bathrooms          0\n",
       "bedrooms           0\n",
       "building_id        0\n",
       "created            0\n",
       "description        0\n",
       "display_address    0\n",
       "features           0\n",
       "latitude           0\n",
       "listing_id         0\n",
       "longitude          0\n",
       "manager_id         0\n",
       "photos             0\n",
       "price              0\n",
       "street_address     0\n",
       "interest_level     0\n",
       "dtype: int64"
      ]
     },
     "execution_count": 13,
     "metadata": {
      "tags": []
     },
     "output_type": "execute_result"
    }
   ],
   "source": [
    "# check if there are any null/nan values\n",
    "train_df.isnull().sum()"
   ]
  },
  {
   "cell_type": "markdown",
   "metadata": {
    "colab_type": "text",
    "id": "llQBVmAgwKm3"
   },
   "source": [
    "### Bedrooms"
   ]
  },
  {
   "cell_type": "code",
   "execution_count": null,
   "metadata": {
    "colab": {},
    "colab_type": "code",
    "id": "-d9xrc0WwKm4"
   },
   "outputs": [],
   "source": [
    "# aggregate bedroom values by count\n",
    "train_df.groupby('bedrooms').count();"
   ]
  },
  {
   "cell_type": "code",
   "execution_count": 15,
   "metadata": {
    "colab": {
     "base_uri": "https://localhost:8080/",
     "height": 272
    },
    "colab_type": "code",
    "id": "mgWJlRxfwKm7",
    "outputId": "6045af82-466e-456f-8659-fe5aa0cd2251",
    "scrolled": true
   },
   "outputs": [
    {
     "data": {
      "text/plain": [
       "bathrooms          49352\n",
       "building_id        49352\n",
       "created            49352\n",
       "description        49352\n",
       "display_address    49352\n",
       "features           49352\n",
       "latitude           49352\n",
       "listing_id         49352\n",
       "longitude          49352\n",
       "manager_id         49352\n",
       "photos             49352\n",
       "price              49352\n",
       "street_address     49352\n",
       "interest_level     49352\n",
       "dtype: int64"
      ]
     },
     "execution_count": 15,
     "metadata": {
      "tags": []
     },
     "output_type": "execute_result"
    }
   ],
   "source": [
    "# sum count of all bedroom values\n",
    "train_df.groupby('bedrooms').count().sum()"
   ]
  },
  {
   "cell_type": "markdown",
   "metadata": {
    "colab_type": "text",
    "id": "SIID6IDLwKm_"
   },
   "source": [
    "We found 9475 values with a bedroom count of 0. This is simply too high of a number to assume it is an error. Upon checking some photos, we realized that these are probably studio apartments so no bedrooms makes sense. When we aggregated the count of every value of bedrooms, we found there were no missing values."
   ]
  },
  {
   "cell_type": "markdown",
   "metadata": {
    "colab_type": "text",
    "id": "InSaeWgiwKnA"
   },
   "source": [
    "### Bathrooms"
   ]
  },
  {
   "cell_type": "code",
   "execution_count": null,
   "metadata": {
    "colab": {},
    "colab_type": "code",
    "id": "MRJbpPXPwKnA"
   },
   "outputs": [],
   "source": [
    "# aggregate bathroom values by count\n",
    "train_df.groupby('bathrooms').count();"
   ]
  },
  {
   "cell_type": "code",
   "execution_count": 17,
   "metadata": {
    "colab": {
     "base_uri": "https://localhost:8080/",
     "height": 272
    },
    "colab_type": "code",
    "id": "lXq0hLgFwKnD",
    "outputId": "184bfa16-5ce3-4e3d-fce6-dbd4500a531c",
    "scrolled": true
   },
   "outputs": [
    {
     "data": {
      "text/plain": [
       "bedrooms           49352\n",
       "building_id        49352\n",
       "created            49352\n",
       "description        49352\n",
       "display_address    49352\n",
       "features           49352\n",
       "latitude           49352\n",
       "listing_id         49352\n",
       "longitude          49352\n",
       "manager_id         49352\n",
       "photos             49352\n",
       "price              49352\n",
       "street_address     49352\n",
       "interest_level     49352\n",
       "dtype: int64"
      ]
     },
     "execution_count": 17,
     "metadata": {
      "tags": []
     },
     "output_type": "execute_result"
    }
   ],
   "source": [
    "# sum the count of all bathroom values\n",
    "train_df.groupby('bathrooms').count().sum()"
   ]
  },
  {
   "cell_type": "markdown",
   "metadata": {
    "colab_type": "text",
    "id": "F5p8dftgwKnF"
   },
   "source": [
    "Again, we found no missing values for bathrooms by the same technique as bedrooms. We found 313 places with with 0 bathrooms but this can be normal for places with a shared bathroom on a floor. "
   ]
  },
  {
   "cell_type": "markdown",
   "metadata": {
    "colab_type": "text",
    "id": "gKRgYP9AwKnF"
   },
   "source": [
    "### Building ID"
   ]
  },
  {
   "cell_type": "code",
   "execution_count": 18,
   "metadata": {
    "colab": {
     "base_uri": "https://localhost:8080/",
     "height": 34
    },
    "colab_type": "code",
    "id": "SY0DN2VKwKnH",
    "outputId": "15d47873-a237-4566-e02a-4bcbe3f380a0"
   },
   "outputs": [
    {
     "name": "stdout",
     "output_type": "stream",
     "text": [
      "number of missing values:  8286\n"
     ]
    }
   ],
   "source": [
    "whichrow = 0\n",
    "count = 0\n",
    "for row in train_df['building_id']:\n",
    "    if row=='0' or any(c.isalpha() for c in row) == False:\n",
    "        count+=1\n",
    "        whichrow+=1\n",
    "    else:\n",
    "        whichrow += 1\n",
    "print (\"number of missing values: \", count)\n",
    "#train_df.head(30)"
   ]
  },
  {
   "cell_type": "markdown",
   "metadata": {
    "colab_type": "text",
    "id": "mU2t3JY3wKnJ"
   },
   "source": [
    "It's unlikely that building ID has any effect on the interest level of a listing since it is a random number that has no meaningful numerical value other than to identify the listing. We left these values since it is unlikely we will be training with this feature."
   ]
  },
  {
   "cell_type": "markdown",
   "metadata": {
    "colab_type": "text",
    "id": "5wGDc6OrwKnK"
   },
   "source": [
    "### Description"
   ]
  },
  {
   "cell_type": "code",
   "execution_count": 19,
   "metadata": {
    "colab": {
     "base_uri": "https://localhost:8080/",
     "height": 34
    },
    "colab_type": "code",
    "id": "hcWywTB_wKnL",
    "outputId": "4c57b967-fc99-4094-f4b7-691768a6a7eb",
    "scrolled": true
   },
   "outputs": [
    {
     "name": "stdout",
     "output_type": "stream",
     "text": [
      "number of missing values:  3336\n"
     ]
    }
   ],
   "source": [
    "whichrow = 0\n",
    "count = 0\n",
    "for row in train_df['description']:\n",
    "    if  any(c.isalpha() for c in row) == False:\n",
    "        count+=1\n",
    "        whichrow+=1\n",
    "    else:\n",
    "        whichrow += 1\n",
    "print (\"number of missing values: \", count)\n",
    "#train_df.head(50)"
   ]
  },
  {
   "cell_type": "markdown",
   "metadata": {
    "colab_type": "text",
    "id": "Trhk7Y0BwKnO"
   },
   "source": [
    "We left these values because having no description can also affect the interest level of a buyer."
   ]
  },
  {
   "cell_type": "markdown",
   "metadata": {
    "colab_type": "text",
    "id": "nqWbkzyzwKnP"
   },
   "source": [
    "### Features"
   ]
  },
  {
   "cell_type": "code",
   "execution_count": 20,
   "metadata": {
    "colab": {
     "base_uri": "https://localhost:8080/",
     "height": 34
    },
    "colab_type": "code",
    "id": "UZpj5melwKnQ",
    "outputId": "40ac86f3-b184-4b5b-e408-129737d4c9d9",
    "scrolled": true
   },
   "outputs": [
    {
     "name": "stdout",
     "output_type": "stream",
     "text": [
      "number of missing values:  3218\n"
     ]
    }
   ],
   "source": [
    "whichrow = 0\n",
    "count = 0\n",
    "for row in train_df['features']:\n",
    "    if row==[]:\n",
    "        count+=1\n",
    "        whichrow+=1\n",
    "    else:\n",
    "        whichrow += 1\n",
    "print (\"number of missing values: \", count)\n",
    "#train_df.head(50)"
   ]
  },
  {
   "cell_type": "markdown",
   "metadata": {
    "colab_type": "text",
    "id": "vHtTCgnLwKnS"
   },
   "source": [
    "We left these values because having no features listed can also affect the interest level of a buyer."
   ]
  },
  {
   "cell_type": "markdown",
   "metadata": {
    "colab_type": "text",
    "id": "Iqv9mAA4wKnS"
   },
   "source": [
    "### Created"
   ]
  },
  {
   "cell_type": "code",
   "execution_count": 21,
   "metadata": {
    "colab": {
     "base_uri": "https://localhost:8080/",
     "height": 34
    },
    "colab_type": "code",
    "id": "RHPb4hzGwKnT",
    "outputId": "868803f8-5782-47cf-8ba1-e1018a833499",
    "scrolled": true
   },
   "outputs": [
    {
     "name": "stdout",
     "output_type": "stream",
     "text": [
      "number of missing values:  49352\n"
     ]
    }
   ],
   "source": [
    "import datetime\n",
    "\n",
    "whichrow = 0\n",
    "count = 0\n",
    "for row in train_df['created']:\n",
    "    if isinstance(row, datetime.datetime) == False:\n",
    "        count+=1\n",
    "        whichrow+=1\n",
    "    else:\n",
    "        whichrow += 1\n",
    "print (\"number of missing values: \", count)"
   ]
  },
  {
   "cell_type": "markdown",
   "metadata": {
    "colab_type": "text",
    "id": "6LFUuISUwKnV"
   },
   "source": [
    "### Display Address"
   ]
  },
  {
   "cell_type": "code",
   "execution_count": 22,
   "metadata": {
    "colab": {
     "base_uri": "https://localhost:8080/",
     "height": 34
    },
    "colab_type": "code",
    "id": "tMdc05rtwKnW",
    "outputId": "5c5576f2-4b42-4ef4-d392-8c065ef26c65",
    "scrolled": true
   },
   "outputs": [
    {
     "name": "stdout",
     "output_type": "stream",
     "text": [
      "number of missing values:  141\n"
     ]
    }
   ],
   "source": [
    "whichrow = 0\n",
    "count = 0\n",
    "for row in train_df['display_address']:\n",
    "    if any(c.isalpha() for c in row) == False:\n",
    "        train_df.loc[train_df.index[whichrow], 'display_address'] = np.nan\n",
    "        count+=1\n",
    "        whichrow+=1\n",
    "    else:\n",
    "        whichrow += 1\n",
    "print (\"number of missing values: \", count)"
   ]
  },
  {
   "cell_type": "markdown",
   "metadata": {
    "colab_type": "text",
    "id": "E2xJXsc_wKnY"
   },
   "source": [
    "Since there are relatively few missing values and an address is important to have, we removed these values by changing them to NAN and dropping every row with a NAN."
   ]
  },
  {
   "cell_type": "markdown",
   "metadata": {
    "colab_type": "text",
    "id": "mD012lbmwKnZ"
   },
   "source": [
    "### Street Address"
   ]
  },
  {
   "cell_type": "code",
   "execution_count": 23,
   "metadata": {
    "colab": {
     "base_uri": "https://localhost:8080/",
     "height": 34
    },
    "colab_type": "code",
    "id": "aPa_XnWFwKnZ",
    "outputId": "5e8df032-9951-484b-f045-df2b9bdf3b98"
   },
   "outputs": [
    {
     "name": "stdout",
     "output_type": "stream",
     "text": [
      "number of missing values:  13\n"
     ]
    }
   ],
   "source": [
    "whichrow = 0\n",
    "count = 0\n",
    "for row in train_df['street_address']:\n",
    "    if any(c.isalpha() for c in row) == False :\n",
    "        train_df.loc[train_df.index[whichrow], 'street_address'] = np.nan\n",
    "        count+=1\n",
    "        whichrow+=1\n",
    "    else:\n",
    "        whichrow += 1\n",
    "print (\"number of missing values: \", count)"
   ]
  },
  {
   "cell_type": "markdown",
   "metadata": {
    "colab_type": "text",
    "id": "6OEEylUEwKnc"
   },
   "source": [
    "Since there are relatively few missing values and an address is important to have, we removed these values by changing them to NAN and dropping every row with a NAN."
   ]
  },
  {
   "cell_type": "markdown",
   "metadata": {
    "colab_type": "text",
    "id": "tVGt6PHNwKnc"
   },
   "source": [
    "### Latitude"
   ]
  },
  {
   "cell_type": "code",
   "execution_count": 24,
   "metadata": {
    "colab": {
     "base_uri": "https://localhost:8080/",
     "height": 34
    },
    "colab_type": "code",
    "id": "t4JHbPQwwKnd",
    "outputId": "3ec76e2f-07c3-42d6-a1a4-2da9a8146d1e",
    "scrolled": true
   },
   "outputs": [
    {
     "name": "stdout",
     "output_type": "stream",
     "text": [
      "number of missing values:  12\n"
     ]
    }
   ],
   "source": [
    "whichrow = 0\n",
    "count = 0\n",
    "for row in train_df['latitude']:\n",
    "    if row==0:\n",
    "        train_df.loc[train_df.index[whichrow], 'latitude'] = np.nan\n",
    "        count+=1\n",
    "        whichrow+=1\n",
    "    else:\n",
    "        whichrow += 1\n",
    "print (\"number of missing values: \", count)"
   ]
  },
  {
   "cell_type": "markdown",
   "metadata": {
    "colab_type": "text",
    "id": "dRV81IgowKnh"
   },
   "source": [
    "Since there are relatively few missing values and an coordinates are important to have, we removed these values by changing them to NAN and dropping every row with a NAN."
   ]
  },
  {
   "cell_type": "markdown",
   "metadata": {
    "colab_type": "text",
    "id": "meAwlS8LwKnh"
   },
   "source": [
    "### Listing ID"
   ]
  },
  {
   "cell_type": "code",
   "execution_count": 25,
   "metadata": {
    "colab": {
     "base_uri": "https://localhost:8080/",
     "height": 34
    },
    "colab_type": "code",
    "id": "zDyx_hEHwKni",
    "outputId": "b9736d2d-155e-4812-ad48-b6e1e0efdfdb"
   },
   "outputs": [
    {
     "name": "stdout",
     "output_type": "stream",
     "text": [
      "number of missing values:  0\n"
     ]
    }
   ],
   "source": [
    "whichrow = 0\n",
    "count = 0\n",
    "for row in train_df['listing_id']:\n",
    "    if row==0 or row==None:\n",
    "        count+=1\n",
    "        whichrow+=1\n",
    "    else:\n",
    "        whichrow += 1\n",
    "print (\"number of missing values: \", count)"
   ]
  },
  {
   "cell_type": "markdown",
   "metadata": {
    "colab_type": "text",
    "id": "pVdIrT-8wKnl"
   },
   "source": [
    "### Longitude"
   ]
  },
  {
   "cell_type": "code",
   "execution_count": 26,
   "metadata": {
    "colab": {
     "base_uri": "https://localhost:8080/",
     "height": 34
    },
    "colab_type": "code",
    "id": "q0ZMvVs-wKnl",
    "outputId": "9d33533e-5d06-4c32-b1ae-2f8a05d160dd",
    "scrolled": true
   },
   "outputs": [
    {
     "name": "stdout",
     "output_type": "stream",
     "text": [
      "number of missing values:  12\n"
     ]
    }
   ],
   "source": [
    "whichrow = 0\n",
    "count = 0\n",
    "for row in train_df['longitude']:\n",
    "    if row==0:\n",
    "        train_df.loc[train_df.index[whichrow], 'longitude'] = np.nan\n",
    "        count+=1\n",
    "        whichrow+=1\n",
    "    else:\n",
    "        whichrow += 1\n",
    "print (\"number of missing values: \", count)"
   ]
  },
  {
   "cell_type": "markdown",
   "metadata": {
    "colab_type": "text",
    "id": "HXSYxRBPwKnn"
   },
   "source": [
    "Since there are relatively few missing values and an coordinates are important to have, we removed these values by changing them to NAN and dropping every row with a NAN."
   ]
  },
  {
   "cell_type": "markdown",
   "metadata": {
    "colab_type": "text",
    "id": "xB5mgCXawKno"
   },
   "source": [
    "### Manager ID"
   ]
  },
  {
   "cell_type": "code",
   "execution_count": 27,
   "metadata": {
    "colab": {
     "base_uri": "https://localhost:8080/",
     "height": 34
    },
    "colab_type": "code",
    "id": "4_KJ_WiDwKnp",
    "outputId": "374fdcc2-4819-45dd-c429-1fe1a753679e",
    "scrolled": true
   },
   "outputs": [
    {
     "name": "stdout",
     "output_type": "stream",
     "text": [
      "number of missing values:  0\n"
     ]
    }
   ],
   "source": [
    "whichrow = 0\n",
    "count = 0\n",
    "for row in train_df['manager_id']:\n",
    "    if  row==0 or row =='0' or any(c.isalpha() for c in row) == False:\n",
    "        count+=1\n",
    "        whichrow+=1\n",
    "    else:\n",
    "        whichrow += 1\n",
    "print (\"number of missing values: \", count)"
   ]
  },
  {
   "cell_type": "markdown",
   "metadata": {
    "colab_type": "text",
    "id": "57ilRPBnwKns"
   },
   "source": [
    "### Photos"
   ]
  },
  {
   "cell_type": "code",
   "execution_count": 28,
   "metadata": {
    "colab": {
     "base_uri": "https://localhost:8080/",
     "height": 34
    },
    "colab_type": "code",
    "id": "J0s4XkM1wKnt",
    "outputId": "e77b1610-b17a-4211-848e-ea8cde1cd86d"
   },
   "outputs": [
    {
     "name": "stdout",
     "output_type": "stream",
     "text": [
      "number of missing values:  3615\n"
     ]
    }
   ],
   "source": [
    "whichrow = 0\n",
    "count = 0\n",
    "for row in train_df['photos']:\n",
    "    if  any(isinstance(c,str) for c in row) == False:\n",
    "        count+=1\n",
    "        whichrow+=1\n",
    "    else:\n",
    "        whichrow += 1\n",
    "print (\"number of missing values: \", count)"
   ]
  },
  {
   "cell_type": "markdown",
   "metadata": {
    "colab_type": "text",
    "id": "MDH1SFkIwKnx"
   },
   "source": [
    "Since we won't be using this feature in later milestones, we left these missing values."
   ]
  },
  {
   "cell_type": "markdown",
   "metadata": {
    "colab_type": "text",
    "id": "iaLA3gr6wKnx"
   },
   "source": [
    "### Price"
   ]
  },
  {
   "cell_type": "code",
   "execution_count": 29,
   "metadata": {
    "colab": {
     "base_uri": "https://localhost:8080/",
     "height": 34
    },
    "colab_type": "code",
    "id": "8LSs-nRhwKny",
    "outputId": "4e7d92c6-0461-4a7d-d419-f158f2a73a48",
    "scrolled": true
   },
   "outputs": [
    {
     "name": "stdout",
     "output_type": "stream",
     "text": [
      "number of missing values:  0\n"
     ]
    }
   ],
   "source": [
    "whichrow = 0\n",
    "count = 0\n",
    "for row in train_df['price']:\n",
    "    if row==0:\n",
    "        count+=1\n",
    "        whichrow+=1\n",
    "    else:\n",
    "        whichrow += 1\n",
    "print (\"number of missing values: \", count)"
   ]
  },
  {
   "cell_type": "code",
   "execution_count": null,
   "metadata": {
    "colab": {},
    "colab_type": "code",
    "id": "jf6rKCK8wKn1"
   },
   "outputs": [],
   "source": [
    "#double check missing values\n",
    "train_df.groupby('price').count().sum();"
   ]
  },
  {
   "cell_type": "markdown",
   "metadata": {
    "colab_type": "text",
    "id": "7YZCu2oVwKn3"
   },
   "source": [
    "### Interest Level"
   ]
  },
  {
   "cell_type": "code",
   "execution_count": 31,
   "metadata": {
    "colab": {
     "base_uri": "https://localhost:8080/",
     "height": 34
    },
    "colab_type": "code",
    "id": "99dOH-PkwKn4",
    "outputId": "ee6442da-7d95-4d03-eac2-7b9af01af05b",
    "scrolled": true
   },
   "outputs": [
    {
     "name": "stdout",
     "output_type": "stream",
     "text": [
      "number of missing values:  0\n"
     ]
    }
   ],
   "source": [
    "whichrow = 0\n",
    "count = 0\n",
    "list= [\"low\", \"medium\", \"high\"]\n",
    "for row in train_df['interest_level']:\n",
    "    if row not in list :\n",
    "        count+=1\n",
    "        whichrow+=1\n",
    "    else:\n",
    "        whichrow += 1\n",
    "print (\"number of missing values: \", count)"
   ]
  },
  {
   "cell_type": "code",
   "execution_count": null,
   "metadata": {
    "colab": {},
    "colab_type": "code",
    "id": "YFYeOjWpwKn6"
   },
   "outputs": [],
   "source": [
    "#remove selected rows with few missing values\n",
    "train_df = train_df.dropna()"
   ]
  },
  {
   "cell_type": "markdown",
   "metadata": {
    "colab_type": "text",
    "id": "g_iu6axswKn_"
   },
   "source": [
    "## Handling outliers\n",
    "\n",
    "### Prices"
   ]
  },
  {
   "cell_type": "code",
   "execution_count": 33,
   "metadata": {
    "colab": {
     "base_uri": "https://localhost:8080/",
     "height": 34
    },
    "colab_type": "code",
    "id": "cdeXt8VBwKoB",
    "outputId": "0e8ffd46-4d30-49ad-ddca-18f91fbefd48",
    "scrolled": true
   },
   "outputs": [
    {
     "name": "stdout",
     "output_type": "stream",
     "text": [
      "number of extreme outliers: 1220\n"
     ]
    }
   ],
   "source": [
    "q25, q75 = np.percentile(train_df['price'].values, 25), np.percentile(train_df['price'].values, 75)\n",
    "iqr = q75-q25\n",
    "cutoff = iqr * 3\n",
    "lower, upper = q25 - cutoff, q75 + cutoff\n",
    "outliers = [x for x in train_df['price'].values if x > upper or x < lower]\n",
    "print (\"number of extreme outliers:\", len(outliers))\n",
    "#print(lower,upper)"
   ]
  },
  {
   "cell_type": "code",
   "execution_count": 34,
   "metadata": {
    "colab": {
     "base_uri": "https://localhost:8080/",
     "height": 34
    },
    "colab_type": "code",
    "id": "CkCUIUD1wKoE",
    "outputId": "4fe8c901-3c20-4da7-ad19-adae5a7d08be",
    "scrolled": true
   },
   "outputs": [
    {
     "name": "stdout",
     "output_type": "stream",
     "text": [
      "number of mild outliers: 2783\n"
     ]
    }
   ],
   "source": [
    "q25, q75 = np.percentile(train_df['price'].values, 25), np.percentile(train_df['price'].values, 75)\n",
    "iqr = q75-q25\n",
    "cutoff = iqr * 1.5\n",
    "lower, upper = q25 - cutoff, q75 + cutoff\n",
    "outliers = [x for x in train_df['price'].values if x > upper or x < lower]\n",
    "print (\"number of mild outliers:\", len(outliers))\n",
    "#print(lower,upper)"
   ]
  },
  {
   "cell_type": "markdown",
   "metadata": {
    "colab_type": "text",
    "id": "r_jmeh4awKoG"
   },
   "source": [
    "#### Before Handling"
   ]
  },
  {
   "cell_type": "code",
   "execution_count": null,
   "metadata": {
    "colab": {},
    "colab_type": "code",
    "id": "lS8EJIjZwKoH",
    "scrolled": true
   },
   "outputs": [],
   "source": [
    "# sns.boxplot(y=train_df['price'])"
   ]
  },
  {
   "cell_type": "markdown",
   "metadata": {
    "colab_type": "text",
    "id": "wb-PpXRpwKoL"
   },
   "source": [
    "#### After Handling"
   ]
  },
  {
   "cell_type": "code",
   "execution_count": 36,
   "metadata": {
    "colab": {
     "base_uri": "https://localhost:8080/",
     "height": 71
    },
    "colab_type": "code",
    "id": "Cx-hf1OVwKoM",
    "outputId": "49d28324-e1ca-4840-e8ad-ee3bca9e989d",
    "scrolled": true
   },
   "outputs": [
    {
     "name": "stderr",
     "output_type": "stream",
     "text": [
      "/usr/local/lib/python3.6/dist-packages/ipykernel_launcher.py:12: DeprecationWarning: scipy.nanmean is deprecated and will be removed in SciPy 2.0.0, use numpy.nanmean instead\n",
      "  if sys.path[0] == '':\n"
     ]
    }
   ],
   "source": [
    "from scipy import nanmean\n",
    "import math\n",
    "\n",
    "whichrow = 0\n",
    "for row in train_df['price']:\n",
    "    if row>upper or row<lower:\n",
    "        train_df.loc[train_df.index[whichrow], 'price'] = np.nan\n",
    "        whichrow+=1\n",
    "    else:\n",
    "        whichrow += 1\n",
    "        \n",
    "mean_val =round(nanmean(train_df['price']),2)\n",
    "\n",
    "whichrow = 0\n",
    "for row in train_df['price']:\n",
    "    if math.isnan(row):\n",
    "        train_df.loc[train_df.index[whichrow],'price'] = mean_val\n",
    "        whichrow+=1\n",
    "    else:\n",
    "        whichrow+=1\n",
    "\n",
    "# sns.boxplot(y=train_df['price'], whis = [0,100])"
   ]
  },
  {
   "cell_type": "markdown",
   "metadata": {
    "colab_type": "text",
    "id": "zsZZcLjswKoQ"
   },
   "source": [
    "We found the Tukey inner and outer fences to find the mild and extreme outliers. Extreme fences included a cutoff that left listings with a negative price range. We decided to only remove the mild outliers instead.  We replaced them with the mean value 3272.00 of so we have more data points to train with. The upper fence cutoff was 6,500 and the lower cutoff was 100. This dealt with outliers such as listings prices at 4,490,000, 43, and negative numbers, which are unrealistic. The new minimum price is 401 and the maximum is now 6,500."
   ]
  },
  {
   "cell_type": "markdown",
   "metadata": {
    "colab_type": "text",
    "id": "dTXrk_OmwKoR"
   },
   "source": [
    "### Latitude"
   ]
  },
  {
   "cell_type": "markdown",
   "metadata": {
    "colab_type": "text",
    "id": "8LYP9PJkwKoR"
   },
   "source": [
    "#### Before Handling"
   ]
  },
  {
   "cell_type": "code",
   "execution_count": 37,
   "metadata": {
    "colab": {
     "base_uri": "https://localhost:8080/",
     "height": 34
    },
    "colab_type": "code",
    "id": "Ulrvp4H-wKoS",
    "outputId": "04f17c75-f761-4943-81da-44b421ab9a00"
   },
   "outputs": [
    {
     "name": "stdout",
     "output_type": "stream",
     "text": [
      "number of mild outliers: 1910\n"
     ]
    }
   ],
   "source": [
    "q25, q75 = np.percentile(train_df['latitude'].values, 25), np.percentile(train_df['latitude'].values, 75)\n",
    "iqr = q75-q25\n",
    "cutoff = iqr * 1.5\n",
    "lower, upper = q25 - cutoff, q75 + cutoff\n",
    "outliers = [x for x in train_df['latitude'].values if x > upper or x < lower]\n",
    "print (\"number of mild outliers:\", len(outliers))\n",
    "#print(lower, upper)"
   ]
  },
  {
   "cell_type": "code",
   "execution_count": 38,
   "metadata": {
    "colab": {
     "base_uri": "https://localhost:8080/",
     "height": 34
    },
    "colab_type": "code",
    "id": "BIh68c-CwKoW",
    "outputId": "2eb6ac20-ecb1-4aa0-b1a5-f8774377f856"
   },
   "outputs": [
    {
     "name": "stdout",
     "output_type": "stream",
     "text": [
      "number of extreme outliers: 135\n"
     ]
    }
   ],
   "source": [
    "q25, q75 = np.percentile(train_df['latitude'].values, 25), np.percentile(train_df['latitude'].values, 75)\n",
    "iqr = q75-q25\n",
    "cutoff = iqr * 3\n",
    "lower, upper = q25 - cutoff, q75 + cutoff\n",
    "outliers = [x for x in train_df['latitude'].values if x > upper or x < lower]\n",
    "print (\"number of extreme outliers:\", len(outliers))\n",
    "#print(lower, upper)"
   ]
  },
  {
   "cell_type": "code",
   "execution_count": null,
   "metadata": {
    "colab": {},
    "colab_type": "code",
    "id": "wyew8eJdwKoZ",
    "scrolled": true
   },
   "outputs": [],
   "source": [
    "# sns.boxplot(y=train_df['latitude'])"
   ]
  },
  {
   "cell_type": "markdown",
   "metadata": {
    "colab_type": "text",
    "id": "nnd-w8ehwKob"
   },
   "source": [
    "#### After Handling"
   ]
  },
  {
   "cell_type": "code",
   "execution_count": 40,
   "metadata": {
    "colab": {
     "base_uri": "https://localhost:8080/",
     "height": 71
    },
    "colab_type": "code",
    "id": "OCBGBpM7wKoc",
    "outputId": "fa2cf121-caeb-456b-d2cd-309284774cf4",
    "scrolled": true
   },
   "outputs": [
    {
     "name": "stderr",
     "output_type": "stream",
     "text": [
      "/usr/local/lib/python3.6/dist-packages/ipykernel_launcher.py:9: DeprecationWarning: scipy.nanmean is deprecated and will be removed in SciPy 2.0.0, use numpy.nanmean instead\n",
      "  if __name__ == '__main__':\n"
     ]
    }
   ],
   "source": [
    "whichrow = 0\n",
    "for row in train_df['latitude']:\n",
    "    if row>upper or row<lower:\n",
    "        train_df.loc[train_df.index[whichrow], 'latitude'] = np.nan\n",
    "        whichrow+=1\n",
    "    else:\n",
    "        whichrow += 1\n",
    "        \n",
    "mean_val = nanmean(train_df['latitude'])\n",
    "#print(mean_val)\n",
    "whichrow = 0\n",
    "for row in train_df['latitude']:\n",
    "    if math.isnan(row):\n",
    "        train_df.loc[train_df.index[whichrow],'latitude'] = mean_val\n",
    "        whichrow+=1\n",
    "    else:\n",
    "        whichrow+=1\n",
    "\n",
    "# sns.boxplot(y=train_df['latitude'], whis = [0,100])"
   ]
  },
  {
   "cell_type": "markdown",
   "metadata": {
    "colab_type": "text",
    "id": "7cFwKD24wKoe"
   },
   "source": [
    "We found the Tukey inner and outer fences to find the mild and extreme outliers. The inner fences still included listings that were within the NYC bounds, accoding to Google Maps. So we decided to only deal with the extreme outliers that were a little further out than NYC vicinity. We replaced with the mean value  of 40.7513098874893 so we have more data points to train with. The fence cutoffs we used were 40.5903 and 40.912299999999995. This dealt with outliers such as listings located in LA because we wanted to keep the listings within NYC. The new maximum and minimum longitude and latitude are now 40.9121 and 40.5904, respectively."
   ]
  },
  {
   "cell_type": "markdown",
   "metadata": {
    "colab_type": "text",
    "id": "_ozCvN5pwKof"
   },
   "source": [
    "### Longitude"
   ]
  },
  {
   "cell_type": "code",
   "execution_count": 41,
   "metadata": {
    "colab": {
     "base_uri": "https://localhost:8080/",
     "height": 34
    },
    "colab_type": "code",
    "id": "yVLoUglowKog",
    "outputId": "61c06e92-3571-48c7-a22e-9f519eba44d2"
   },
   "outputs": [
    {
     "name": "stdout",
     "output_type": "stream",
     "text": [
      "number of extreme outliers: 399\n"
     ]
    }
   ],
   "source": [
    "q25, q75 = np.percentile(train_df['longitude'].values, 25), np.percentile(train_df['longitude'].values, 75)\n",
    "iqr = q75-q25\n",
    "cutoff = iqr * 3\n",
    "lower, upper = q25 - cutoff, q75 + cutoff\n",
    "outliers = [x for x in train_df['longitude'].values if x > upper or x < lower]\n",
    "print (\"number of extreme outliers:\", len(outliers))\n",
    "#print(lower, upper)"
   ]
  },
  {
   "cell_type": "code",
   "execution_count": 42,
   "metadata": {
    "colab": {
     "base_uri": "https://localhost:8080/",
     "height": 34
    },
    "colab_type": "code",
    "id": "gD7xfgqTwKoj",
    "outputId": "fd55eb80-40ba-490e-9df5-24c12d7c93c7"
   },
   "outputs": [
    {
     "name": "stdout",
     "output_type": "stream",
     "text": [
      "number of mild outliers: 1087\n"
     ]
    }
   ],
   "source": [
    "q25, q75 = np.percentile(train_df['longitude'].values, 25), np.percentile(train_df['longitude'].values, 75)\n",
    "iqr = q75-q25\n",
    "cutoff = iqr * 1.5\n",
    "lower, upper = q25 - cutoff, q75 + cutoff\n",
    "outliers = [x for x in train_df['longitude'].values if x > upper or x < lower]\n",
    "print (\"number of mild outliers:\", len(outliers))\n",
    "#print(lower, upper)"
   ]
  },
  {
   "cell_type": "markdown",
   "metadata": {
    "colab_type": "text",
    "id": "pZ28gMYwwKol"
   },
   "source": [
    "#### Before Handling"
   ]
  },
  {
   "cell_type": "code",
   "execution_count": null,
   "metadata": {
    "colab": {},
    "colab_type": "code",
    "id": "bPUjQEg_wKom"
   },
   "outputs": [],
   "source": [
    "# sns.boxplot(y=train_df['longitude'])"
   ]
  },
  {
   "cell_type": "markdown",
   "metadata": {
    "colab_type": "text",
    "id": "dhNrAgASwKon"
   },
   "source": [
    "#### After Handling"
   ]
  },
  {
   "cell_type": "code",
   "execution_count": 44,
   "metadata": {
    "colab": {
     "base_uri": "https://localhost:8080/",
     "height": 88
    },
    "colab_type": "code",
    "id": "6N3uYXFvwKon",
    "outputId": "97b30152-07cd-455c-f081-c52940f4b6a8"
   },
   "outputs": [
    {
     "name": "stderr",
     "output_type": "stream",
     "text": [
      "/usr/local/lib/python3.6/dist-packages/ipykernel_launcher.py:9: DeprecationWarning: scipy.nanmean is deprecated and will be removed in SciPy 2.0.0, use numpy.nanmean instead\n",
      "  if __name__ == '__main__':\n"
     ]
    },
    {
     "name": "stdout",
     "output_type": "stream",
     "text": [
      "-73.97499519850344\n"
     ]
    }
   ],
   "source": [
    "whichrow = 0\n",
    "for row in train_df['longitude']:\n",
    "    if row>upper or row<lower:\n",
    "        train_df.loc[train_df.index[whichrow], 'longitude'] = np.nan\n",
    "        whichrow+=1\n",
    "    else:\n",
    "        whichrow += 1\n",
    "        \n",
    "mean_val = nanmean(train_df['longitude'])\n",
    "print(mean_val)\n",
    "\n",
    "whichrow = 0\n",
    "for row in train_df['longitude']:\n",
    "    if math.isnan(row):\n",
    "        train_df.loc[train_df.index[whichrow],'longitude'] = mean_val\n",
    "        whichrow+=1\n",
    "    else:\n",
    "        whichrow+=1\n",
    "\n",
    "# sns.boxplot(y=train_df['longitude'] , whis = [0,100])"
   ]
  },
  {
   "cell_type": "markdown",
   "metadata": {
    "colab_type": "text",
    "id": "kijVewxgwKop"
   },
   "source": [
    "We found the Tukey inner and outer fences to find the mild and extreme outliers. The outer fences still included listings that were within the NYC borough bounds, accoding to Google Maps. The very bottom tip of New York the island is around -74.01 and -73.88 is in the Bronx. So we decided to only deal with the mild outliers that encompassed this. We replaced with the mean value  of 40.7513098874893 so we have more data points to train with. The fence cutoffs we used were -74.04704999999998 and -73.89945000000003. This dealt with outliers such as listings located in LA because we wanted to keep the listings within NYC. The new minimum and maximum longitude and latitude are now -74.0454 and -73.8995, respectively."
   ]
  },
  {
   "cell_type": "markdown",
   "metadata": {
    "colab_type": "text",
    "id": "ROwCTQ4iwKop"
   },
   "source": [
    "### Bedrooms"
   ]
  },
  {
   "cell_type": "code",
   "execution_count": 45,
   "metadata": {
    "colab": {
     "base_uri": "https://localhost:8080/",
     "height": 51
    },
    "colab_type": "code",
    "id": "7A920fOowKoq",
    "outputId": "697aeea3-8bb6-4be8-be5b-0ce84e05ff48"
   },
   "outputs": [
    {
     "name": "stdout",
     "output_type": "stream",
     "text": [
      "number of mild outliers: 2220\n",
      "-0.5 3.5\n"
     ]
    }
   ],
   "source": [
    "q25, q75 = np.percentile(train_df['bedrooms'].values, 25), np.percentile(train_df['bedrooms'].values, 75)\n",
    "iqr = q75-q25\n",
    "cutoff = iqr * 1.5\n",
    "lower, upper = q25 - cutoff, q75 + cutoff\n",
    "outliers = [x for x in train_df['bedrooms'].values if x > upper or x < lower]\n",
    "print (\"number of mild outliers:\", len(outliers))\n",
    "print(lower, upper)"
   ]
  },
  {
   "cell_type": "code",
   "execution_count": 46,
   "metadata": {
    "colab": {
     "base_uri": "https://localhost:8080/",
     "height": 51
    },
    "colab_type": "code",
    "id": "nqrpKtFEwKor",
    "outputId": "2d07ee40-0597-4364-f68f-67eacb2c319c"
   },
   "outputs": [
    {
     "name": "stdout",
     "output_type": "stream",
     "text": [
      "number of mild outliers: 49\n",
      "-2.0 5.0\n"
     ]
    }
   ],
   "source": [
    "q25, q75 = np.percentile(train_df['bedrooms'].values, 25), np.percentile(train_df['bedrooms'].values, 75)\n",
    "iqr = q75-q25\n",
    "cutoff = iqr * 3\n",
    "lower, upper = q25 - cutoff, q75 + cutoff\n",
    "outliers = [x for x in train_df['bedrooms'].values if x > upper or x < lower]\n",
    "print (\"number of mild outliers:\", len(outliers))\n",
    "print(lower, upper)"
   ]
  },
  {
   "cell_type": "markdown",
   "metadata": {
    "colab_type": "text",
    "id": "OUWW0S0rwKot"
   },
   "source": [
    "#### Before Handling"
   ]
  },
  {
   "cell_type": "code",
   "execution_count": null,
   "metadata": {
    "colab": {},
    "colab_type": "code",
    "id": "gGMwsxA1wKou"
   },
   "outputs": [],
   "source": [
    "# sns.boxplot(y=train_df['bedrooms'])"
   ]
  },
  {
   "cell_type": "markdown",
   "metadata": {
    "colab_type": "text",
    "id": "-8MI9CBrwKox"
   },
   "source": [
    "We found the Tukey inner and outer fences to find the mild and extreme outliers. There were 'outliers' but looking at the values, they seem to make sense, given the prices of our listings. It would make sense for a penthouse or large properties to have many bedrooms so a value like 8 isn't an error. We decided to leave this many values unchanged."
   ]
  },
  {
   "cell_type": "markdown",
   "metadata": {
    "colab_type": "text",
    "id": "IWywuFEbwKoy"
   },
   "source": [
    "### Bathroom"
   ]
  },
  {
   "cell_type": "code",
   "execution_count": 48,
   "metadata": {
    "colab": {
     "base_uri": "https://localhost:8080/",
     "height": 51
    },
    "colab_type": "code",
    "id": "gYipA4JMwKoz",
    "outputId": "2462abab-1877-4edc-9bf9-706734a10cf0"
   },
   "outputs": [
    {
     "name": "stdout",
     "output_type": "stream",
     "text": [
      "number of mild outliers: 9911\n",
      "1.0 1.0\n"
     ]
    }
   ],
   "source": [
    "q25, q75 = np.percentile(train_df['bathrooms'].values, 25), np.percentile(train_df['bathrooms'].values, 75)\n",
    "iqr = q75-q25\n",
    "cutoff = iqr * 1.5\n",
    "lower, upper = q25 - cutoff, q75 + cutoff\n",
    "outliers = [x for x in train_df['bathrooms'].values if x > upper or x < lower]\n",
    "print (\"number of mild outliers:\", len(outliers))\n",
    "print(lower,upper)"
   ]
  },
  {
   "cell_type": "code",
   "execution_count": 49,
   "metadata": {
    "colab": {
     "base_uri": "https://localhost:8080/",
     "height": 51
    },
    "colab_type": "code",
    "id": "pbsbJHj1wKo1",
    "outputId": "0fb6313f-916b-47a7-f3f4-d7345a1d3141"
   },
   "outputs": [
    {
     "name": "stdout",
     "output_type": "stream",
     "text": [
      "number of mild outliers: 9911\n",
      "1.0 1.0\n"
     ]
    }
   ],
   "source": [
    "q25, q75 = np.percentile(train_df['bathrooms'].values, 25), np.percentile(train_df['bathrooms'].values, 75)\n",
    "iqr = q75-q25\n",
    "cutoff = iqr * 3\n",
    "lower, upper = q25 - cutoff, q75 + cutoff\n",
    "outliers = [x for x in train_df['bathrooms'].values if x > upper or x < lower]\n",
    "print (\"number of mild outliers:\", len(outliers))\n",
    "print(lower,upper)"
   ]
  },
  {
   "cell_type": "code",
   "execution_count": null,
   "metadata": {
    "colab": {},
    "colab_type": "code",
    "id": "-VCFt2DPwKo2"
   },
   "outputs": [],
   "source": [
    "# sns.boxplot(y=train_df['bathrooms'])"
   ]
  },
  {
   "cell_type": "markdown",
   "metadata": {
    "colab_type": "text",
    "id": "xHI5QzRzwKo4"
   },
   "source": [
    "We found the Tukey inner and outer fences to find the mild and extreme outliers. A quarter of the data seem to be 'outliers' because the distriution is so largge, the upper and lower cutoffs were both 1. It doesn't make sense to remove a quarter of our data. Looking at the values, they seem to make sense, given the prices of our listings. It would make sense for a penthouse or large properties to have many bathrooms. We decided to leave this many values unchanged because this is unlikely due to noise."
   ]
  },
  {
   "cell_type": "markdown",
   "metadata": {
    "colab_type": "text",
    "id": "AZjClDYMwKo4"
   },
   "source": [
    "<!-- ### Bathroom and Bedrooms\n",
    "\n",
    "Outlier detection for bathrooms and bedrooms isn't meaningful because all values fall within a tidy distribution. All bathroom values lie between 0-4 and all bedroom values lie between 0-3, which makes sense for studio apartments and shared bathrooms. -->\n",
    "\n",
    "### Created\n",
    "\n",
    "Since no missing values were found, it doesn't seem meaningful to detect outliers since the only outlier values would be missing values or dates that don't exist (not one of 365 days in a year).\n",
    "\n",
    "### Building ID, Manager ID, Listing ID\n",
    "\n",
    "Again, not meaningful for outliers because there is no real meaning to these values, other than to identify the listing.\n",
    "\n",
    "### Photos, Description, Features, Addresses\n",
    "\n",
    "No discernable way to identify outliers until we are able to extract these features. Outliers would probably be photos of objects other than the listing, and text that doesn't relate, or an address outside of New York."
   ]
  },
  {
   "cell_type": "markdown",
   "metadata": {
    "colab_type": "text",
    "id": "bW8bnm3twKo5"
   },
   "source": [
    "## Text feature extraction"
   ]
  },
  {
   "cell_type": "markdown",
   "metadata": {
    "colab_type": "text",
    "id": "rVkqe3RIwKo5"
   },
   "source": [
    "Here we expore the text in two meaningful features of the listings: features and description. We use the TFIDF to tokenize the words found in each feature. Common stop words were excluded and we defined each word 2+ characters because there were some words found such as 'xx' and other random strings. Since the features are actually lists in this column, we concatenated them to string before tokenize. After tokenization, we vectorize each feature into new columns. "
   ]
  },
  {
   "cell_type": "code",
   "execution_count": null,
   "metadata": {
    "colab": {},
    "colab_type": "code",
    "id": "X5PeIO4xwKo6"
   },
   "outputs": [],
   "source": [
    "# #description\n",
    "# vectorizer = TfidfVectorizer(analyzer='word', stop_words='english', token_pattern=r'^[a-zA-Z][a-zA-Z]+')\n",
    "# vectorizer.fit(train_df['description'].values);\n",
    "# train_df['desc_vect'] = train_df['description'].apply(lambda x: vectorizer.transform([x]))\n",
    "# # vectorizer.vocabulary_  #shows all tokens"
   ]
  },
  {
   "cell_type": "code",
   "execution_count": null,
   "metadata": {
    "colab": {},
    "colab_type": "code",
    "id": "0PcZgwakwKo9"
   },
   "outputs": [],
   "source": [
    "# convert features list to string\n",
    "train_df['features'] = train_df['features'].apply(lambda x: ' '.join(x))"
   ]
  },
  {
   "cell_type": "code",
   "execution_count": null,
   "metadata": {
    "colab": {},
    "colab_type": "code",
    "id": "siGC3nc2wKo_"
   },
   "outputs": [],
   "source": [
    "# # #features\n",
    "# vectorizer = TfidfVectorizer(analyzer='word', stop_words='english', token_pattern=r'^[a-zA-Z][a-zA-Z]+')\n",
    "# vectorizer.fit(train_df['features']);\n",
    "# train_df['feat_vect'] = train_df['features'].apply(lambda x: vectorizer.transform([x]))\n",
    "# # train_df['feat_vect'] = train_df['feat_vect'].apply(lambda x: x.toarray())\n",
    "# # train_df['feat_vect'] = train_df['features'].apply(lambda x: vectorizer.transform(x).toarray())\n",
    "# # # vectorizer.vocabulary_  #shows all tokens"
   ]
  },
  {
   "cell_type": "code",
   "execution_count": null,
   "metadata": {
    "colab": {},
    "colab_type": "code",
    "id": "70hGVU55Jgz-"
   },
   "outputs": [],
   "source": [
    "vectorizer = TfidfVectorizer(analyzer='word', stop_words='english', token_pattern=r'^[a-zA-Z][a-zA-Z]+')\n",
    "# vectorizer = CountVectorizer(analyzer='word', stop_words='english', token_pattern=r'^[a-zA-Z][a-zA-Z]+')\n",
    "w = vectorizer.fit_transform(train_df['features']);\n",
    "# z = w.toarray()\n",
    "# s = np.array(z)\n",
    "# train_df['feat_vect'] = train_df.apply(lambda x: tuple(x), axis=1).apply(w)\n",
    "# train_df.insert('feat_vect', w.toarray())\n",
    "tempd = pd.DataFrame(w.toarray(), columns=vectorizer.get_feature_names())\n",
    "train_df.reset_index(inplace=True, drop=True)\n",
    "train_df = pd.concat([train_df, tempd], axis=1)"
   ]
  },
  {
   "cell_type": "code",
   "execution_count": null,
   "metadata": {
    "colab": {},
    "colab_type": "code",
    "id": "vAh6RhIfJpXs"
   },
   "outputs": [],
   "source": []
  },
  {
   "cell_type": "markdown",
   "metadata": {
    "colab_type": "text",
    "id": "X0FYt2YtwKpD"
   },
   "source": [
    "## SVM"
   ]
  },
  {
   "cell_type": "code",
   "execution_count": 55,
   "metadata": {
    "colab": {
     "base_uri": "https://localhost:8080/",
     "height": 627
    },
    "colab_type": "code",
    "id": "CAfNjgEHwKpE",
    "outputId": "4ec9e941-bdd7-4829-f434-63f9d7e66067"
   },
   "outputs": [
    {
     "data": {
      "text/html": [
       "<div>\n",
       "<style scoped>\n",
       "    .dataframe tbody tr th:only-of-type {\n",
       "        vertical-align: middle;\n",
       "    }\n",
       "\n",
       "    .dataframe tbody tr th {\n",
       "        vertical-align: top;\n",
       "    }\n",
       "\n",
       "    .dataframe thead th {\n",
       "        text-align: right;\n",
       "    }\n",
       "</style>\n",
       "<table border=\"1\" class=\"dataframe\">\n",
       "  <thead>\n",
       "    <tr style=\"text-align: right;\">\n",
       "      <th></th>\n",
       "      <th>bathrooms</th>\n",
       "      <th>bedrooms</th>\n",
       "      <th>building_id</th>\n",
       "      <th>created</th>\n",
       "      <th>description</th>\n",
       "      <th>display_address</th>\n",
       "      <th>features</th>\n",
       "      <th>latitude</th>\n",
       "      <th>listing_id</th>\n",
       "      <th>longitude</th>\n",
       "      <th>manager_id</th>\n",
       "      <th>photos</th>\n",
       "      <th>price</th>\n",
       "      <th>street_address</th>\n",
       "      <th>interest_level</th>\n",
       "      <th>absolute</th>\n",
       "      <th>actual</th>\n",
       "      <th>air</th>\n",
       "      <th>assigned</th>\n",
       "      <th>available</th>\n",
       "      <th>balcony</th>\n",
       "      <th>bike</th>\n",
       "      <th>brand</th>\n",
       "      <th>building</th>\n",
       "      <th>cable</th>\n",
       "      <th>cats</th>\n",
       "      <th>childrens</th>\n",
       "      <th>close</th>\n",
       "      <th>common</th>\n",
       "      <th>courtyard</th>\n",
       "      <th>deck</th>\n",
       "      <th>deco</th>\n",
       "      <th>decorative</th>\n",
       "      <th>dining</th>\n",
       "      <th>dishwasher</th>\n",
       "      <th>dogs</th>\n",
       "      <th>doorman</th>\n",
       "      <th>duplex</th>\n",
       "      <th>dw</th>\n",
       "      <th>eat</th>\n",
       "      <th>...</th>\n",
       "      <th>hardwood</th>\n",
       "      <th>high</th>\n",
       "      <th>laundry</th>\n",
       "      <th>live</th>\n",
       "      <th>loft</th>\n",
       "      <th>low</th>\n",
       "      <th>multi</th>\n",
       "      <th>new</th>\n",
       "      <th>newly</th>\n",
       "      <th>nyu</th>\n",
       "      <th>offering</th>\n",
       "      <th>outdoor</th>\n",
       "      <th>parking</th>\n",
       "      <th>patio</th>\n",
       "      <th>pets</th>\n",
       "      <th>pool</th>\n",
       "      <th>postwar</th>\n",
       "      <th>pre</th>\n",
       "      <th>prewar</th>\n",
       "      <th>private</th>\n",
       "      <th>queen</th>\n",
       "      <th>recreational</th>\n",
       "      <th>reduced</th>\n",
       "      <th>renovated</th>\n",
       "      <th>residents</th>\n",
       "      <th>roof</th>\n",
       "      <th>short</th>\n",
       "      <th>stainless</th>\n",
       "      <th>storage</th>\n",
       "      <th>swimming</th>\n",
       "      <th>terrace</th>\n",
       "      <th>townhouse</th>\n",
       "      <th>triplex</th>\n",
       "      <th>view</th>\n",
       "      <th>walk</th>\n",
       "      <th>washer</th>\n",
       "      <th>wifi</th>\n",
       "      <th>wonderful</th>\n",
       "      <th>wood</th>\n",
       "      <th>yard</th>\n",
       "    </tr>\n",
       "  </thead>\n",
       "  <tbody>\n",
       "    <tr>\n",
       "      <th>0</th>\n",
       "      <td>1.0</td>\n",
       "      <td>1</td>\n",
       "      <td>8579a0b0d54db803821a35a4a615e97a</td>\n",
       "      <td>2016-06-16 05:55:27</td>\n",
       "      <td>Spacious 1 Bedroom 1 Bathroom in Williamsburg!...</td>\n",
       "      <td>145 Borinquen Place</td>\n",
       "      <td>Dining Room Pre-War Laundry in Building Dishwa...</td>\n",
       "      <td>40.7108</td>\n",
       "      <td>7170325</td>\n",
       "      <td>-73.9539</td>\n",
       "      <td>a10db4590843d78c784171a107bdacb4</td>\n",
       "      <td>[https://photos.renthop.com/2/7170325_3bb5ac84...</td>\n",
       "      <td>2400.0</td>\n",
       "      <td>145 Borinquen Place</td>\n",
       "      <td>medium</td>\n",
       "      <td>0.0</td>\n",
       "      <td>0.0</td>\n",
       "      <td>0.0</td>\n",
       "      <td>0.0</td>\n",
       "      <td>0.0</td>\n",
       "      <td>0.0</td>\n",
       "      <td>0.0</td>\n",
       "      <td>0.0</td>\n",
       "      <td>0.0</td>\n",
       "      <td>0.0</td>\n",
       "      <td>0.0</td>\n",
       "      <td>0.0</td>\n",
       "      <td>0.0</td>\n",
       "      <td>0.0</td>\n",
       "      <td>0.0</td>\n",
       "      <td>0.0</td>\n",
       "      <td>0.0</td>\n",
       "      <td>0.0</td>\n",
       "      <td>1.0</td>\n",
       "      <td>0.0</td>\n",
       "      <td>0.0</td>\n",
       "      <td>0.0</td>\n",
       "      <td>0.0</td>\n",
       "      <td>0.0</td>\n",
       "      <td>0.0</td>\n",
       "      <td>...</td>\n",
       "      <td>0.0</td>\n",
       "      <td>0.0</td>\n",
       "      <td>0.0</td>\n",
       "      <td>0.0</td>\n",
       "      <td>0.0</td>\n",
       "      <td>0.0</td>\n",
       "      <td>0.0</td>\n",
       "      <td>0.0</td>\n",
       "      <td>0.0</td>\n",
       "      <td>0.0</td>\n",
       "      <td>0.0</td>\n",
       "      <td>0.0</td>\n",
       "      <td>0.0</td>\n",
       "      <td>0.0</td>\n",
       "      <td>0.0</td>\n",
       "      <td>0.0</td>\n",
       "      <td>0.0</td>\n",
       "      <td>0.0</td>\n",
       "      <td>0.0</td>\n",
       "      <td>0.0</td>\n",
       "      <td>0.0</td>\n",
       "      <td>0.0</td>\n",
       "      <td>0.0</td>\n",
       "      <td>0.0</td>\n",
       "      <td>0.0</td>\n",
       "      <td>0.0</td>\n",
       "      <td>0.0</td>\n",
       "      <td>0.0</td>\n",
       "      <td>0.0</td>\n",
       "      <td>0.0</td>\n",
       "      <td>0.0</td>\n",
       "      <td>0.0</td>\n",
       "      <td>0.0</td>\n",
       "      <td>0.0</td>\n",
       "      <td>0.0</td>\n",
       "      <td>0.0</td>\n",
       "      <td>0.0</td>\n",
       "      <td>0.0</td>\n",
       "      <td>0.0</td>\n",
       "      <td>0.0</td>\n",
       "    </tr>\n",
       "    <tr>\n",
       "      <th>1</th>\n",
       "      <td>1.0</td>\n",
       "      <td>2</td>\n",
       "      <td>b8e75fc949a6cd8225b455648a951712</td>\n",
       "      <td>2016-06-01 05:44:33</td>\n",
       "      <td>BRAND NEW GUT RENOVATED TRUE 2 BEDROOMFind you...</td>\n",
       "      <td>East 44th</td>\n",
       "      <td>Doorman Elevator Laundry in Building Dishwashe...</td>\n",
       "      <td>40.7513</td>\n",
       "      <td>7092344</td>\n",
       "      <td>-73.9722</td>\n",
       "      <td>955db33477af4f40004820b4aed804a0</td>\n",
       "      <td>[https://photos.renthop.com/2/7092344_7663c19a...</td>\n",
       "      <td>3800.0</td>\n",
       "      <td>230 East 44th</td>\n",
       "      <td>low</td>\n",
       "      <td>0.0</td>\n",
       "      <td>0.0</td>\n",
       "      <td>0.0</td>\n",
       "      <td>0.0</td>\n",
       "      <td>0.0</td>\n",
       "      <td>0.0</td>\n",
       "      <td>0.0</td>\n",
       "      <td>0.0</td>\n",
       "      <td>0.0</td>\n",
       "      <td>0.0</td>\n",
       "      <td>0.0</td>\n",
       "      <td>0.0</td>\n",
       "      <td>0.0</td>\n",
       "      <td>0.0</td>\n",
       "      <td>0.0</td>\n",
       "      <td>0.0</td>\n",
       "      <td>0.0</td>\n",
       "      <td>0.0</td>\n",
       "      <td>0.0</td>\n",
       "      <td>0.0</td>\n",
       "      <td>0.0</td>\n",
       "      <td>1.0</td>\n",
       "      <td>0.0</td>\n",
       "      <td>0.0</td>\n",
       "      <td>0.0</td>\n",
       "      <td>...</td>\n",
       "      <td>0.0</td>\n",
       "      <td>0.0</td>\n",
       "      <td>0.0</td>\n",
       "      <td>0.0</td>\n",
       "      <td>0.0</td>\n",
       "      <td>0.0</td>\n",
       "      <td>0.0</td>\n",
       "      <td>0.0</td>\n",
       "      <td>0.0</td>\n",
       "      <td>0.0</td>\n",
       "      <td>0.0</td>\n",
       "      <td>0.0</td>\n",
       "      <td>0.0</td>\n",
       "      <td>0.0</td>\n",
       "      <td>0.0</td>\n",
       "      <td>0.0</td>\n",
       "      <td>0.0</td>\n",
       "      <td>0.0</td>\n",
       "      <td>0.0</td>\n",
       "      <td>0.0</td>\n",
       "      <td>0.0</td>\n",
       "      <td>0.0</td>\n",
       "      <td>0.0</td>\n",
       "      <td>0.0</td>\n",
       "      <td>0.0</td>\n",
       "      <td>0.0</td>\n",
       "      <td>0.0</td>\n",
       "      <td>0.0</td>\n",
       "      <td>0.0</td>\n",
       "      <td>0.0</td>\n",
       "      <td>0.0</td>\n",
       "      <td>0.0</td>\n",
       "      <td>0.0</td>\n",
       "      <td>0.0</td>\n",
       "      <td>0.0</td>\n",
       "      <td>0.0</td>\n",
       "      <td>0.0</td>\n",
       "      <td>0.0</td>\n",
       "      <td>0.0</td>\n",
       "      <td>0.0</td>\n",
       "    </tr>\n",
       "    <tr>\n",
       "      <th>2</th>\n",
       "      <td>1.0</td>\n",
       "      <td>2</td>\n",
       "      <td>cd759a988b8f23924b5a2058d5ab2b49</td>\n",
       "      <td>2016-06-14 15:19:59</td>\n",
       "      <td>**FLEX 2 BEDROOM WITH FULL PRESSURIZED WALL**L...</td>\n",
       "      <td>East 56th Street</td>\n",
       "      <td>Doorman Elevator Laundry in Building Laundry i...</td>\n",
       "      <td>40.7575</td>\n",
       "      <td>7158677</td>\n",
       "      <td>-73.9625</td>\n",
       "      <td>c8b10a317b766204f08e613cef4ce7a0</td>\n",
       "      <td>[https://photos.renthop.com/2/7158677_c897a134...</td>\n",
       "      <td>3495.0</td>\n",
       "      <td>405 East 56th Street</td>\n",
       "      <td>medium</td>\n",
       "      <td>0.0</td>\n",
       "      <td>0.0</td>\n",
       "      <td>0.0</td>\n",
       "      <td>0.0</td>\n",
       "      <td>0.0</td>\n",
       "      <td>0.0</td>\n",
       "      <td>0.0</td>\n",
       "      <td>0.0</td>\n",
       "      <td>0.0</td>\n",
       "      <td>0.0</td>\n",
       "      <td>0.0</td>\n",
       "      <td>0.0</td>\n",
       "      <td>0.0</td>\n",
       "      <td>0.0</td>\n",
       "      <td>0.0</td>\n",
       "      <td>0.0</td>\n",
       "      <td>0.0</td>\n",
       "      <td>0.0</td>\n",
       "      <td>0.0</td>\n",
       "      <td>0.0</td>\n",
       "      <td>0.0</td>\n",
       "      <td>1.0</td>\n",
       "      <td>0.0</td>\n",
       "      <td>0.0</td>\n",
       "      <td>0.0</td>\n",
       "      <td>...</td>\n",
       "      <td>0.0</td>\n",
       "      <td>0.0</td>\n",
       "      <td>0.0</td>\n",
       "      <td>0.0</td>\n",
       "      <td>0.0</td>\n",
       "      <td>0.0</td>\n",
       "      <td>0.0</td>\n",
       "      <td>0.0</td>\n",
       "      <td>0.0</td>\n",
       "      <td>0.0</td>\n",
       "      <td>0.0</td>\n",
       "      <td>0.0</td>\n",
       "      <td>0.0</td>\n",
       "      <td>0.0</td>\n",
       "      <td>0.0</td>\n",
       "      <td>0.0</td>\n",
       "      <td>0.0</td>\n",
       "      <td>0.0</td>\n",
       "      <td>0.0</td>\n",
       "      <td>0.0</td>\n",
       "      <td>0.0</td>\n",
       "      <td>0.0</td>\n",
       "      <td>0.0</td>\n",
       "      <td>0.0</td>\n",
       "      <td>0.0</td>\n",
       "      <td>0.0</td>\n",
       "      <td>0.0</td>\n",
       "      <td>0.0</td>\n",
       "      <td>0.0</td>\n",
       "      <td>0.0</td>\n",
       "      <td>0.0</td>\n",
       "      <td>0.0</td>\n",
       "      <td>0.0</td>\n",
       "      <td>0.0</td>\n",
       "      <td>0.0</td>\n",
       "      <td>0.0</td>\n",
       "      <td>0.0</td>\n",
       "      <td>0.0</td>\n",
       "      <td>0.0</td>\n",
       "      <td>0.0</td>\n",
       "    </tr>\n",
       "    <tr>\n",
       "      <th>3</th>\n",
       "      <td>1.5</td>\n",
       "      <td>3</td>\n",
       "      <td>53a5b119ba8f7b61d4e010512e0dfc85</td>\n",
       "      <td>2016-06-24 07:54:24</td>\n",
       "      <td>A Brand New 3 Bedroom 1.5 bath ApartmentEnjoy ...</td>\n",
       "      <td>Metropolitan Avenue</td>\n",
       "      <td></td>\n",
       "      <td>40.7145</td>\n",
       "      <td>7211212</td>\n",
       "      <td>-73.9425</td>\n",
       "      <td>5ba989232d0489da1b5f2c45f6688adc</td>\n",
       "      <td>[https://photos.renthop.com/2/7211212_1ed4542e...</td>\n",
       "      <td>3000.0</td>\n",
       "      <td>792 Metropolitan Avenue</td>\n",
       "      <td>medium</td>\n",
       "      <td>0.0</td>\n",
       "      <td>0.0</td>\n",
       "      <td>0.0</td>\n",
       "      <td>0.0</td>\n",
       "      <td>0.0</td>\n",
       "      <td>0.0</td>\n",
       "      <td>0.0</td>\n",
       "      <td>0.0</td>\n",
       "      <td>0.0</td>\n",
       "      <td>0.0</td>\n",
       "      <td>0.0</td>\n",
       "      <td>0.0</td>\n",
       "      <td>0.0</td>\n",
       "      <td>0.0</td>\n",
       "      <td>0.0</td>\n",
       "      <td>0.0</td>\n",
       "      <td>0.0</td>\n",
       "      <td>0.0</td>\n",
       "      <td>0.0</td>\n",
       "      <td>0.0</td>\n",
       "      <td>0.0</td>\n",
       "      <td>0.0</td>\n",
       "      <td>0.0</td>\n",
       "      <td>0.0</td>\n",
       "      <td>0.0</td>\n",
       "      <td>...</td>\n",
       "      <td>0.0</td>\n",
       "      <td>0.0</td>\n",
       "      <td>0.0</td>\n",
       "      <td>0.0</td>\n",
       "      <td>0.0</td>\n",
       "      <td>0.0</td>\n",
       "      <td>0.0</td>\n",
       "      <td>0.0</td>\n",
       "      <td>0.0</td>\n",
       "      <td>0.0</td>\n",
       "      <td>0.0</td>\n",
       "      <td>0.0</td>\n",
       "      <td>0.0</td>\n",
       "      <td>0.0</td>\n",
       "      <td>0.0</td>\n",
       "      <td>0.0</td>\n",
       "      <td>0.0</td>\n",
       "      <td>0.0</td>\n",
       "      <td>0.0</td>\n",
       "      <td>0.0</td>\n",
       "      <td>0.0</td>\n",
       "      <td>0.0</td>\n",
       "      <td>0.0</td>\n",
       "      <td>0.0</td>\n",
       "      <td>0.0</td>\n",
       "      <td>0.0</td>\n",
       "      <td>0.0</td>\n",
       "      <td>0.0</td>\n",
       "      <td>0.0</td>\n",
       "      <td>0.0</td>\n",
       "      <td>0.0</td>\n",
       "      <td>0.0</td>\n",
       "      <td>0.0</td>\n",
       "      <td>0.0</td>\n",
       "      <td>0.0</td>\n",
       "      <td>0.0</td>\n",
       "      <td>0.0</td>\n",
       "      <td>0.0</td>\n",
       "      <td>0.0</td>\n",
       "      <td>0.0</td>\n",
       "    </tr>\n",
       "    <tr>\n",
       "      <th>4</th>\n",
       "      <td>1.0</td>\n",
       "      <td>0</td>\n",
       "      <td>bfb9405149bfff42a92980b594c28234</td>\n",
       "      <td>2016-06-28 03:50:23</td>\n",
       "      <td>Over-sized Studio w abundant closets. Availabl...</td>\n",
       "      <td>East 34th Street</td>\n",
       "      <td>Doorman Elevator Fitness Center Laundry in Bui...</td>\n",
       "      <td>40.7439</td>\n",
       "      <td>7225292</td>\n",
       "      <td>-73.9743</td>\n",
       "      <td>2c3b41f588fbb5234d8a1e885a436cfa</td>\n",
       "      <td>[https://photos.renthop.com/2/7225292_901f1984...</td>\n",
       "      <td>2795.0</td>\n",
       "      <td>340 East 34th Street</td>\n",
       "      <td>low</td>\n",
       "      <td>0.0</td>\n",
       "      <td>0.0</td>\n",
       "      <td>0.0</td>\n",
       "      <td>0.0</td>\n",
       "      <td>0.0</td>\n",
       "      <td>0.0</td>\n",
       "      <td>0.0</td>\n",
       "      <td>0.0</td>\n",
       "      <td>0.0</td>\n",
       "      <td>0.0</td>\n",
       "      <td>0.0</td>\n",
       "      <td>0.0</td>\n",
       "      <td>0.0</td>\n",
       "      <td>0.0</td>\n",
       "      <td>0.0</td>\n",
       "      <td>0.0</td>\n",
       "      <td>0.0</td>\n",
       "      <td>0.0</td>\n",
       "      <td>0.0</td>\n",
       "      <td>0.0</td>\n",
       "      <td>0.0</td>\n",
       "      <td>1.0</td>\n",
       "      <td>0.0</td>\n",
       "      <td>0.0</td>\n",
       "      <td>0.0</td>\n",
       "      <td>...</td>\n",
       "      <td>0.0</td>\n",
       "      <td>0.0</td>\n",
       "      <td>0.0</td>\n",
       "      <td>0.0</td>\n",
       "      <td>0.0</td>\n",
       "      <td>0.0</td>\n",
       "      <td>0.0</td>\n",
       "      <td>0.0</td>\n",
       "      <td>0.0</td>\n",
       "      <td>0.0</td>\n",
       "      <td>0.0</td>\n",
       "      <td>0.0</td>\n",
       "      <td>0.0</td>\n",
       "      <td>0.0</td>\n",
       "      <td>0.0</td>\n",
       "      <td>0.0</td>\n",
       "      <td>0.0</td>\n",
       "      <td>0.0</td>\n",
       "      <td>0.0</td>\n",
       "      <td>0.0</td>\n",
       "      <td>0.0</td>\n",
       "      <td>0.0</td>\n",
       "      <td>0.0</td>\n",
       "      <td>0.0</td>\n",
       "      <td>0.0</td>\n",
       "      <td>0.0</td>\n",
       "      <td>0.0</td>\n",
       "      <td>0.0</td>\n",
       "      <td>0.0</td>\n",
       "      <td>0.0</td>\n",
       "      <td>0.0</td>\n",
       "      <td>0.0</td>\n",
       "      <td>0.0</td>\n",
       "      <td>0.0</td>\n",
       "      <td>0.0</td>\n",
       "      <td>0.0</td>\n",
       "      <td>0.0</td>\n",
       "      <td>0.0</td>\n",
       "      <td>0.0</td>\n",
       "      <td>0.0</td>\n",
       "    </tr>\n",
       "  </tbody>\n",
       "</table>\n",
       "<p>5 rows × 94 columns</p>\n",
       "</div>"
      ],
      "text/plain": [
       "   bathrooms  bedrooms                       building_id  ... wonderful wood yard\n",
       "0        1.0         1  8579a0b0d54db803821a35a4a615e97a  ...       0.0  0.0  0.0\n",
       "1        1.0         2  b8e75fc949a6cd8225b455648a951712  ...       0.0  0.0  0.0\n",
       "2        1.0         2  cd759a988b8f23924b5a2058d5ab2b49  ...       0.0  0.0  0.0\n",
       "3        1.5         3  53a5b119ba8f7b61d4e010512e0dfc85  ...       0.0  0.0  0.0\n",
       "4        1.0         0  bfb9405149bfff42a92980b594c28234  ...       0.0  0.0  0.0\n",
       "\n",
       "[5 rows x 94 columns]"
      ]
     },
     "execution_count": 55,
     "metadata": {
      "tags": []
     },
     "output_type": "execute_result"
    }
   ],
   "source": [
    "train_df.head()"
   ]
  },
  {
   "cell_type": "code",
   "execution_count": 56,
   "metadata": {
    "colab": {
     "base_uri": "https://localhost:8080/",
     "height": 627
    },
    "colab_type": "code",
    "id": "SLJ9pGLYwKpG",
    "outputId": "81e2f725-435a-41ed-debf-a4ff6fa01a68"
   },
   "outputs": [
    {
     "data": {
      "text/html": [
       "<div>\n",
       "<style scoped>\n",
       "    .dataframe tbody tr th:only-of-type {\n",
       "        vertical-align: middle;\n",
       "    }\n",
       "\n",
       "    .dataframe tbody tr th {\n",
       "        vertical-align: top;\n",
       "    }\n",
       "\n",
       "    .dataframe thead th {\n",
       "        text-align: right;\n",
       "    }\n",
       "</style>\n",
       "<table border=\"1\" class=\"dataframe\">\n",
       "  <thead>\n",
       "    <tr style=\"text-align: right;\">\n",
       "      <th></th>\n",
       "      <th>bathrooms</th>\n",
       "      <th>bedrooms</th>\n",
       "      <th>building_id</th>\n",
       "      <th>created</th>\n",
       "      <th>description</th>\n",
       "      <th>display_address</th>\n",
       "      <th>features</th>\n",
       "      <th>latitude</th>\n",
       "      <th>listing_id</th>\n",
       "      <th>longitude</th>\n",
       "      <th>manager_id</th>\n",
       "      <th>photos</th>\n",
       "      <th>price</th>\n",
       "      <th>street_address</th>\n",
       "      <th>interest_level</th>\n",
       "      <th>absolute</th>\n",
       "      <th>actual</th>\n",
       "      <th>air</th>\n",
       "      <th>assigned</th>\n",
       "      <th>available</th>\n",
       "      <th>balcony</th>\n",
       "      <th>bike</th>\n",
       "      <th>brand</th>\n",
       "      <th>building</th>\n",
       "      <th>cable</th>\n",
       "      <th>cats</th>\n",
       "      <th>childrens</th>\n",
       "      <th>close</th>\n",
       "      <th>common</th>\n",
       "      <th>courtyard</th>\n",
       "      <th>deck</th>\n",
       "      <th>deco</th>\n",
       "      <th>decorative</th>\n",
       "      <th>dining</th>\n",
       "      <th>dishwasher</th>\n",
       "      <th>dogs</th>\n",
       "      <th>doorman</th>\n",
       "      <th>duplex</th>\n",
       "      <th>dw</th>\n",
       "      <th>eat</th>\n",
       "      <th>...</th>\n",
       "      <th>high</th>\n",
       "      <th>laundry</th>\n",
       "      <th>live</th>\n",
       "      <th>loft</th>\n",
       "      <th>low</th>\n",
       "      <th>multi</th>\n",
       "      <th>new</th>\n",
       "      <th>newly</th>\n",
       "      <th>nyu</th>\n",
       "      <th>offering</th>\n",
       "      <th>outdoor</th>\n",
       "      <th>parking</th>\n",
       "      <th>patio</th>\n",
       "      <th>pets</th>\n",
       "      <th>pool</th>\n",
       "      <th>postwar</th>\n",
       "      <th>pre</th>\n",
       "      <th>prewar</th>\n",
       "      <th>private</th>\n",
       "      <th>queen</th>\n",
       "      <th>recreational</th>\n",
       "      <th>reduced</th>\n",
       "      <th>renovated</th>\n",
       "      <th>residents</th>\n",
       "      <th>roof</th>\n",
       "      <th>short</th>\n",
       "      <th>stainless</th>\n",
       "      <th>storage</th>\n",
       "      <th>swimming</th>\n",
       "      <th>terrace</th>\n",
       "      <th>townhouse</th>\n",
       "      <th>triplex</th>\n",
       "      <th>view</th>\n",
       "      <th>walk</th>\n",
       "      <th>washer</th>\n",
       "      <th>wifi</th>\n",
       "      <th>wonderful</th>\n",
       "      <th>wood</th>\n",
       "      <th>yard</th>\n",
       "      <th>target</th>\n",
       "    </tr>\n",
       "  </thead>\n",
       "  <tbody>\n",
       "    <tr>\n",
       "      <th>0</th>\n",
       "      <td>1.0</td>\n",
       "      <td>1</td>\n",
       "      <td>8579a0b0d54db803821a35a4a615e97a</td>\n",
       "      <td>2016-06-16 05:55:27</td>\n",
       "      <td>Spacious 1 Bedroom 1 Bathroom in Williamsburg!...</td>\n",
       "      <td>145 Borinquen Place</td>\n",
       "      <td>Dining Room Pre-War Laundry in Building Dishwa...</td>\n",
       "      <td>40.7108</td>\n",
       "      <td>7170325</td>\n",
       "      <td>-73.9539</td>\n",
       "      <td>a10db4590843d78c784171a107bdacb4</td>\n",
       "      <td>[https://photos.renthop.com/2/7170325_3bb5ac84...</td>\n",
       "      <td>2400.0</td>\n",
       "      <td>145 Borinquen Place</td>\n",
       "      <td>medium</td>\n",
       "      <td>0.0</td>\n",
       "      <td>0.0</td>\n",
       "      <td>0.0</td>\n",
       "      <td>0.0</td>\n",
       "      <td>0.0</td>\n",
       "      <td>0.0</td>\n",
       "      <td>0.0</td>\n",
       "      <td>0.0</td>\n",
       "      <td>0.0</td>\n",
       "      <td>0.0</td>\n",
       "      <td>0.0</td>\n",
       "      <td>0.0</td>\n",
       "      <td>0.0</td>\n",
       "      <td>0.0</td>\n",
       "      <td>0.0</td>\n",
       "      <td>0.0</td>\n",
       "      <td>0.0</td>\n",
       "      <td>0.0</td>\n",
       "      <td>1.0</td>\n",
       "      <td>0.0</td>\n",
       "      <td>0.0</td>\n",
       "      <td>0.0</td>\n",
       "      <td>0.0</td>\n",
       "      <td>0.0</td>\n",
       "      <td>0.0</td>\n",
       "      <td>...</td>\n",
       "      <td>0.0</td>\n",
       "      <td>0.0</td>\n",
       "      <td>0.0</td>\n",
       "      <td>0.0</td>\n",
       "      <td>0.0</td>\n",
       "      <td>0.0</td>\n",
       "      <td>0.0</td>\n",
       "      <td>0.0</td>\n",
       "      <td>0.0</td>\n",
       "      <td>0.0</td>\n",
       "      <td>0.0</td>\n",
       "      <td>0.0</td>\n",
       "      <td>0.0</td>\n",
       "      <td>0.0</td>\n",
       "      <td>0.0</td>\n",
       "      <td>0.0</td>\n",
       "      <td>0.0</td>\n",
       "      <td>0.0</td>\n",
       "      <td>0.0</td>\n",
       "      <td>0.0</td>\n",
       "      <td>0.0</td>\n",
       "      <td>0.0</td>\n",
       "      <td>0.0</td>\n",
       "      <td>0.0</td>\n",
       "      <td>0.0</td>\n",
       "      <td>0.0</td>\n",
       "      <td>0.0</td>\n",
       "      <td>0.0</td>\n",
       "      <td>0.0</td>\n",
       "      <td>0.0</td>\n",
       "      <td>0.0</td>\n",
       "      <td>0.0</td>\n",
       "      <td>0.0</td>\n",
       "      <td>0.0</td>\n",
       "      <td>0.0</td>\n",
       "      <td>0.0</td>\n",
       "      <td>0.0</td>\n",
       "      <td>0.0</td>\n",
       "      <td>0.0</td>\n",
       "      <td>2</td>\n",
       "    </tr>\n",
       "    <tr>\n",
       "      <th>1</th>\n",
       "      <td>1.0</td>\n",
       "      <td>2</td>\n",
       "      <td>b8e75fc949a6cd8225b455648a951712</td>\n",
       "      <td>2016-06-01 05:44:33</td>\n",
       "      <td>BRAND NEW GUT RENOVATED TRUE 2 BEDROOMFind you...</td>\n",
       "      <td>East 44th</td>\n",
       "      <td>Doorman Elevator Laundry in Building Dishwashe...</td>\n",
       "      <td>40.7513</td>\n",
       "      <td>7092344</td>\n",
       "      <td>-73.9722</td>\n",
       "      <td>955db33477af4f40004820b4aed804a0</td>\n",
       "      <td>[https://photos.renthop.com/2/7092344_7663c19a...</td>\n",
       "      <td>3800.0</td>\n",
       "      <td>230 East 44th</td>\n",
       "      <td>low</td>\n",
       "      <td>0.0</td>\n",
       "      <td>0.0</td>\n",
       "      <td>0.0</td>\n",
       "      <td>0.0</td>\n",
       "      <td>0.0</td>\n",
       "      <td>0.0</td>\n",
       "      <td>0.0</td>\n",
       "      <td>0.0</td>\n",
       "      <td>0.0</td>\n",
       "      <td>0.0</td>\n",
       "      <td>0.0</td>\n",
       "      <td>0.0</td>\n",
       "      <td>0.0</td>\n",
       "      <td>0.0</td>\n",
       "      <td>0.0</td>\n",
       "      <td>0.0</td>\n",
       "      <td>0.0</td>\n",
       "      <td>0.0</td>\n",
       "      <td>0.0</td>\n",
       "      <td>0.0</td>\n",
       "      <td>0.0</td>\n",
       "      <td>1.0</td>\n",
       "      <td>0.0</td>\n",
       "      <td>0.0</td>\n",
       "      <td>0.0</td>\n",
       "      <td>...</td>\n",
       "      <td>0.0</td>\n",
       "      <td>0.0</td>\n",
       "      <td>0.0</td>\n",
       "      <td>0.0</td>\n",
       "      <td>0.0</td>\n",
       "      <td>0.0</td>\n",
       "      <td>0.0</td>\n",
       "      <td>0.0</td>\n",
       "      <td>0.0</td>\n",
       "      <td>0.0</td>\n",
       "      <td>0.0</td>\n",
       "      <td>0.0</td>\n",
       "      <td>0.0</td>\n",
       "      <td>0.0</td>\n",
       "      <td>0.0</td>\n",
       "      <td>0.0</td>\n",
       "      <td>0.0</td>\n",
       "      <td>0.0</td>\n",
       "      <td>0.0</td>\n",
       "      <td>0.0</td>\n",
       "      <td>0.0</td>\n",
       "      <td>0.0</td>\n",
       "      <td>0.0</td>\n",
       "      <td>0.0</td>\n",
       "      <td>0.0</td>\n",
       "      <td>0.0</td>\n",
       "      <td>0.0</td>\n",
       "      <td>0.0</td>\n",
       "      <td>0.0</td>\n",
       "      <td>0.0</td>\n",
       "      <td>0.0</td>\n",
       "      <td>0.0</td>\n",
       "      <td>0.0</td>\n",
       "      <td>0.0</td>\n",
       "      <td>0.0</td>\n",
       "      <td>0.0</td>\n",
       "      <td>0.0</td>\n",
       "      <td>0.0</td>\n",
       "      <td>0.0</td>\n",
       "      <td>1</td>\n",
       "    </tr>\n",
       "    <tr>\n",
       "      <th>2</th>\n",
       "      <td>1.0</td>\n",
       "      <td>2</td>\n",
       "      <td>cd759a988b8f23924b5a2058d5ab2b49</td>\n",
       "      <td>2016-06-14 15:19:59</td>\n",
       "      <td>**FLEX 2 BEDROOM WITH FULL PRESSURIZED WALL**L...</td>\n",
       "      <td>East 56th Street</td>\n",
       "      <td>Doorman Elevator Laundry in Building Laundry i...</td>\n",
       "      <td>40.7575</td>\n",
       "      <td>7158677</td>\n",
       "      <td>-73.9625</td>\n",
       "      <td>c8b10a317b766204f08e613cef4ce7a0</td>\n",
       "      <td>[https://photos.renthop.com/2/7158677_c897a134...</td>\n",
       "      <td>3495.0</td>\n",
       "      <td>405 East 56th Street</td>\n",
       "      <td>medium</td>\n",
       "      <td>0.0</td>\n",
       "      <td>0.0</td>\n",
       "      <td>0.0</td>\n",
       "      <td>0.0</td>\n",
       "      <td>0.0</td>\n",
       "      <td>0.0</td>\n",
       "      <td>0.0</td>\n",
       "      <td>0.0</td>\n",
       "      <td>0.0</td>\n",
       "      <td>0.0</td>\n",
       "      <td>0.0</td>\n",
       "      <td>0.0</td>\n",
       "      <td>0.0</td>\n",
       "      <td>0.0</td>\n",
       "      <td>0.0</td>\n",
       "      <td>0.0</td>\n",
       "      <td>0.0</td>\n",
       "      <td>0.0</td>\n",
       "      <td>0.0</td>\n",
       "      <td>0.0</td>\n",
       "      <td>0.0</td>\n",
       "      <td>1.0</td>\n",
       "      <td>0.0</td>\n",
       "      <td>0.0</td>\n",
       "      <td>0.0</td>\n",
       "      <td>...</td>\n",
       "      <td>0.0</td>\n",
       "      <td>0.0</td>\n",
       "      <td>0.0</td>\n",
       "      <td>0.0</td>\n",
       "      <td>0.0</td>\n",
       "      <td>0.0</td>\n",
       "      <td>0.0</td>\n",
       "      <td>0.0</td>\n",
       "      <td>0.0</td>\n",
       "      <td>0.0</td>\n",
       "      <td>0.0</td>\n",
       "      <td>0.0</td>\n",
       "      <td>0.0</td>\n",
       "      <td>0.0</td>\n",
       "      <td>0.0</td>\n",
       "      <td>0.0</td>\n",
       "      <td>0.0</td>\n",
       "      <td>0.0</td>\n",
       "      <td>0.0</td>\n",
       "      <td>0.0</td>\n",
       "      <td>0.0</td>\n",
       "      <td>0.0</td>\n",
       "      <td>0.0</td>\n",
       "      <td>0.0</td>\n",
       "      <td>0.0</td>\n",
       "      <td>0.0</td>\n",
       "      <td>0.0</td>\n",
       "      <td>0.0</td>\n",
       "      <td>0.0</td>\n",
       "      <td>0.0</td>\n",
       "      <td>0.0</td>\n",
       "      <td>0.0</td>\n",
       "      <td>0.0</td>\n",
       "      <td>0.0</td>\n",
       "      <td>0.0</td>\n",
       "      <td>0.0</td>\n",
       "      <td>0.0</td>\n",
       "      <td>0.0</td>\n",
       "      <td>0.0</td>\n",
       "      <td>2</td>\n",
       "    </tr>\n",
       "    <tr>\n",
       "      <th>3</th>\n",
       "      <td>1.5</td>\n",
       "      <td>3</td>\n",
       "      <td>53a5b119ba8f7b61d4e010512e0dfc85</td>\n",
       "      <td>2016-06-24 07:54:24</td>\n",
       "      <td>A Brand New 3 Bedroom 1.5 bath ApartmentEnjoy ...</td>\n",
       "      <td>Metropolitan Avenue</td>\n",
       "      <td></td>\n",
       "      <td>40.7145</td>\n",
       "      <td>7211212</td>\n",
       "      <td>-73.9425</td>\n",
       "      <td>5ba989232d0489da1b5f2c45f6688adc</td>\n",
       "      <td>[https://photos.renthop.com/2/7211212_1ed4542e...</td>\n",
       "      <td>3000.0</td>\n",
       "      <td>792 Metropolitan Avenue</td>\n",
       "      <td>medium</td>\n",
       "      <td>0.0</td>\n",
       "      <td>0.0</td>\n",
       "      <td>0.0</td>\n",
       "      <td>0.0</td>\n",
       "      <td>0.0</td>\n",
       "      <td>0.0</td>\n",
       "      <td>0.0</td>\n",
       "      <td>0.0</td>\n",
       "      <td>0.0</td>\n",
       "      <td>0.0</td>\n",
       "      <td>0.0</td>\n",
       "      <td>0.0</td>\n",
       "      <td>0.0</td>\n",
       "      <td>0.0</td>\n",
       "      <td>0.0</td>\n",
       "      <td>0.0</td>\n",
       "      <td>0.0</td>\n",
       "      <td>0.0</td>\n",
       "      <td>0.0</td>\n",
       "      <td>0.0</td>\n",
       "      <td>0.0</td>\n",
       "      <td>0.0</td>\n",
       "      <td>0.0</td>\n",
       "      <td>0.0</td>\n",
       "      <td>0.0</td>\n",
       "      <td>...</td>\n",
       "      <td>0.0</td>\n",
       "      <td>0.0</td>\n",
       "      <td>0.0</td>\n",
       "      <td>0.0</td>\n",
       "      <td>0.0</td>\n",
       "      <td>0.0</td>\n",
       "      <td>0.0</td>\n",
       "      <td>0.0</td>\n",
       "      <td>0.0</td>\n",
       "      <td>0.0</td>\n",
       "      <td>0.0</td>\n",
       "      <td>0.0</td>\n",
       "      <td>0.0</td>\n",
       "      <td>0.0</td>\n",
       "      <td>0.0</td>\n",
       "      <td>0.0</td>\n",
       "      <td>0.0</td>\n",
       "      <td>0.0</td>\n",
       "      <td>0.0</td>\n",
       "      <td>0.0</td>\n",
       "      <td>0.0</td>\n",
       "      <td>0.0</td>\n",
       "      <td>0.0</td>\n",
       "      <td>0.0</td>\n",
       "      <td>0.0</td>\n",
       "      <td>0.0</td>\n",
       "      <td>0.0</td>\n",
       "      <td>0.0</td>\n",
       "      <td>0.0</td>\n",
       "      <td>0.0</td>\n",
       "      <td>0.0</td>\n",
       "      <td>0.0</td>\n",
       "      <td>0.0</td>\n",
       "      <td>0.0</td>\n",
       "      <td>0.0</td>\n",
       "      <td>0.0</td>\n",
       "      <td>0.0</td>\n",
       "      <td>0.0</td>\n",
       "      <td>0.0</td>\n",
       "      <td>2</td>\n",
       "    </tr>\n",
       "    <tr>\n",
       "      <th>4</th>\n",
       "      <td>1.0</td>\n",
       "      <td>0</td>\n",
       "      <td>bfb9405149bfff42a92980b594c28234</td>\n",
       "      <td>2016-06-28 03:50:23</td>\n",
       "      <td>Over-sized Studio w abundant closets. Availabl...</td>\n",
       "      <td>East 34th Street</td>\n",
       "      <td>Doorman Elevator Fitness Center Laundry in Bui...</td>\n",
       "      <td>40.7439</td>\n",
       "      <td>7225292</td>\n",
       "      <td>-73.9743</td>\n",
       "      <td>2c3b41f588fbb5234d8a1e885a436cfa</td>\n",
       "      <td>[https://photos.renthop.com/2/7225292_901f1984...</td>\n",
       "      <td>2795.0</td>\n",
       "      <td>340 East 34th Street</td>\n",
       "      <td>low</td>\n",
       "      <td>0.0</td>\n",
       "      <td>0.0</td>\n",
       "      <td>0.0</td>\n",
       "      <td>0.0</td>\n",
       "      <td>0.0</td>\n",
       "      <td>0.0</td>\n",
       "      <td>0.0</td>\n",
       "      <td>0.0</td>\n",
       "      <td>0.0</td>\n",
       "      <td>0.0</td>\n",
       "      <td>0.0</td>\n",
       "      <td>0.0</td>\n",
       "      <td>0.0</td>\n",
       "      <td>0.0</td>\n",
       "      <td>0.0</td>\n",
       "      <td>0.0</td>\n",
       "      <td>0.0</td>\n",
       "      <td>0.0</td>\n",
       "      <td>0.0</td>\n",
       "      <td>0.0</td>\n",
       "      <td>0.0</td>\n",
       "      <td>1.0</td>\n",
       "      <td>0.0</td>\n",
       "      <td>0.0</td>\n",
       "      <td>0.0</td>\n",
       "      <td>...</td>\n",
       "      <td>0.0</td>\n",
       "      <td>0.0</td>\n",
       "      <td>0.0</td>\n",
       "      <td>0.0</td>\n",
       "      <td>0.0</td>\n",
       "      <td>0.0</td>\n",
       "      <td>0.0</td>\n",
       "      <td>0.0</td>\n",
       "      <td>0.0</td>\n",
       "      <td>0.0</td>\n",
       "      <td>0.0</td>\n",
       "      <td>0.0</td>\n",
       "      <td>0.0</td>\n",
       "      <td>0.0</td>\n",
       "      <td>0.0</td>\n",
       "      <td>0.0</td>\n",
       "      <td>0.0</td>\n",
       "      <td>0.0</td>\n",
       "      <td>0.0</td>\n",
       "      <td>0.0</td>\n",
       "      <td>0.0</td>\n",
       "      <td>0.0</td>\n",
       "      <td>0.0</td>\n",
       "      <td>0.0</td>\n",
       "      <td>0.0</td>\n",
       "      <td>0.0</td>\n",
       "      <td>0.0</td>\n",
       "      <td>0.0</td>\n",
       "      <td>0.0</td>\n",
       "      <td>0.0</td>\n",
       "      <td>0.0</td>\n",
       "      <td>0.0</td>\n",
       "      <td>0.0</td>\n",
       "      <td>0.0</td>\n",
       "      <td>0.0</td>\n",
       "      <td>0.0</td>\n",
       "      <td>0.0</td>\n",
       "      <td>0.0</td>\n",
       "      <td>0.0</td>\n",
       "      <td>1</td>\n",
       "    </tr>\n",
       "  </tbody>\n",
       "</table>\n",
       "<p>5 rows × 95 columns</p>\n",
       "</div>"
      ],
      "text/plain": [
       "   bathrooms  bedrooms                       building_id  ... wood yard target\n",
       "0        1.0         1  8579a0b0d54db803821a35a4a615e97a  ...  0.0  0.0      2\n",
       "1        1.0         2  b8e75fc949a6cd8225b455648a951712  ...  0.0  0.0      1\n",
       "2        1.0         2  cd759a988b8f23924b5a2058d5ab2b49  ...  0.0  0.0      2\n",
       "3        1.5         3  53a5b119ba8f7b61d4e010512e0dfc85  ...  0.0  0.0      2\n",
       "4        1.0         0  bfb9405149bfff42a92980b594c28234  ...  0.0  0.0      1\n",
       "\n",
       "[5 rows x 95 columns]"
      ]
     },
     "execution_count": 56,
     "metadata": {
      "tags": []
     },
     "output_type": "execute_result"
    }
   ],
   "source": [
    "train_df['interest_level'] = train_df['interest_level'].astype('category')\n",
    "train_df['target'] = train_df['interest_level'].cat.codes\n",
    "train_df.head()"
   ]
  },
  {
   "cell_type": "code",
   "execution_count": null,
   "metadata": {
    "colab": {},
    "colab_type": "code",
    "id": "5YYc_b4lwKpH"
   },
   "outputs": [],
   "source": [
    "from sklearn.model_selection import train_test_split\n",
    "from sklearn.model_selection import KFold\n",
    "from sklearn.svm import SVC\n",
    "from sklearn.metrics import classification_report, confusion_matrix\n",
    "from sklearn.metrics import accuracy_score\n",
    "from sklearn.metrics import log_loss\n",
    "from sklearn.preprocessing import MinMaxScaler\n",
    "from sklearn.preprocessing import MaxAbsScaler\n",
    "from sklearn.preprocessing import Normalizer\n",
    "from sklearn.decomposition import PCA\n",
    "from sklearn.utils import shuffle\n",
    "\n",
    "scaling = MinMaxScaler()\n",
    "scaling2 = MaxAbsScaler()\n",
    "scaling3 = Normalizer()\n",
    "pca = PCA(n_components=1)"
   ]
  },
  {
   "cell_type": "code",
   "execution_count": 58,
   "metadata": {
    "colab": {
     "base_uri": "https://localhost:8080/",
     "height": 221
    },
    "colab_type": "code",
    "id": "qdsDcdEkrCbu",
    "outputId": "f10078d9-1073-4e70-8e20-e816900ff48f"
   },
   "outputs": [
    {
     "name": "stdout",
     "output_type": "stream",
     "text": [
      "price \n",
      "\n",
      "log_loss:  0.7883159655023315\n",
      "bedrooms, bathrooms \n",
      "\n",
      "log_loss:  0.7883299169907907\n",
      "latitude, longitude \n",
      "\n",
      "log_loss:  0.7887565146847447\n",
      "PCA_Tfid \n",
      "\n",
      "log_loss:  1.5678428502994486\n"
     ]
    }
   ],
   "source": [
    "## Determine which features are more important for weighting \n",
    "\n",
    "x = train_df[['price']]\n",
    "y = train_df['target']\n",
    "x_train, x_test, y_train, y_test = train_test_split(x,y, test_size = 0.5, stratify=y) \n",
    "x_train = scaling3.fit_transform(x_train)\n",
    "x_test = scaling3.fit_transform(x_test)\n",
    "abc = SVC(kernel='linear', decision_function_shape = 'ovo', probability = True, cache_size=1000)\n",
    "abc.fit(x_train, y_train)\n",
    "y_pred = abc.predict(x_test)\n",
    "y_pred2 = abc.predict_proba(x_test)\n",
    "print('price \\n')\n",
    "print('log_loss: ',log_loss(y_test,y_pred2))\n",
    "\n",
    "x = train_df[['bedrooms', 'bathrooms']]\n",
    "y = train_df['target']\n",
    "x_train, x_test, y_train, y_test = train_test_split(x,y, test_size = 0.5, stratify=y) \n",
    "x_train = scaling2.fit_transform(x_train)\n",
    "x_test =  scaling2.fit_transform(x_test)\n",
    "# train.transform(x_train)\n",
    "# test.transform(x_test)\n",
    "# x_train = scaling.fit_transform(x_train)\n",
    "# x_test = scaling.fit_transform(x_test)\n",
    "abc = SVC(kernel='linear', probability = True, cache_size=1000)\n",
    "abc.fit(x_train, y_train)\n",
    "y_pred = abc.predict(x_test)\n",
    "y_pred2 = abc.predict_proba(x_test)\n",
    "print('bedrooms, bathrooms \\n')\n",
    "print('log_loss: ',log_loss(y_test,y_pred2))\n",
    "\n",
    "x = train_df[['latitude', 'longitude']]\n",
    "y = train_df['target']\n",
    "x_train, x_test, y_train, y_test = train_test_split(x,y, test_size = 0.5, stratify=y) \n",
    "x_train = scaling2.fit_transform(x_train)\n",
    "x_test =  scaling2.fit_transform(x_test)\n",
    "# x_train = scaling.fit_transform(x_train)\n",
    "# x_test = scaling.fit_transform(x_test)\n",
    "abc = SVC(kernel='linear', probability = True, cache_size=1000)\n",
    "abc.fit(x_train, y_train)\n",
    "y_pred = abc.predict(x_test)\n",
    "y_pred2 = abc.predict_proba(x_test)\n",
    "print('latitude, longitude \\n')\n",
    "print('log_loss: ',log_loss(y_test,y_pred2))\n",
    "\n",
    "feat_d = ['interest_level','building_id','created', 'description','display_address','features', 'listing_id','manager_id','photos', 'street_address', 'target','price','bedrooms','bathrooms','longitude','latitude' ]\n",
    "x = train_df.drop(feat_d, axis=1)\n",
    "y = train_df['target']\n",
    "x_train, x_test, y_train, y_test = train_test_split(x,y, test_size = 0.5, stratify=y) \n",
    "x_train = scaling2.fit_transform(x_train)\n",
    "x_test =  scaling2.fit_transform(x_test)\n",
    "x_train = pca.fit_transform(x_train)\n",
    "x_test = pca.transform(x_test)\n",
    "abc = SVC(kernel='linear', decision_function_shape = 'ovo', probability = True, cache_size=1000)\n",
    "abc.fit(x_train, y_train)\n",
    "y_pred = abc.predict(x_test)\n",
    "y_pred2 = abc.predict_proba(x_test)\n",
    "print('PCA_Tfid \\n')\n",
    "print('log_loss: ',log_loss(y_test,y_pred2))\n"
   ]
  },
  {
   "cell_type": "markdown",
   "metadata": {
    "colab_type": "text",
    "id": "iANLO-JD4aF4"
   },
   "source": [
    "# PCA_Tfid has terrible log_loss and therefore removed."
   ]
  },
  {
   "cell_type": "code",
   "execution_count": null,
   "metadata": {
    "colab": {},
    "colab_type": "code",
    "id": "gL0wA0MWN9G-"
   },
   "outputs": [],
   "source": [
    "\n",
    "# ## reduce majority sample\n",
    "\n",
    "# train_df.reset_index(drop=True, inplace=True)\n",
    "# # print(train_df)\n",
    "# minority1 = train_df[train_df['interest_level'] == 'high']\n",
    "# minority2 = train_df[train_df['interest_level'] == 'medium']\n",
    "# majority = train_df[train_df['interest_level'] == 'low']\n",
    "\n",
    "# print(minority1.shape)\n",
    "# print(minority2.shape)\n",
    "# print(majority.shape)\n",
    "\n",
    "# # remove_n1 = 11490*2\n",
    "# remove_n1 = 30362\n",
    "# # remove_n2 = 3690\n",
    "# remove_n2 = 7381\n",
    "# drop_indices1 = np.random.choice(majority.index, remove_n1, replace=False)\n",
    "# drop_indices2 = np.random.choice(minority2.index, remove_n2, replace=False)\n",
    "# train_df = train_df.drop(drop_indices1)\n",
    "# train_df = train_df.drop(drop_indices2)\n",
    "# print(train_df.shape)"
   ]
  },
  {
   "cell_type": "code",
   "execution_count": null,
   "metadata": {
    "colab": {},
    "colab_type": "code",
    "id": "_zaS3YInwKpP"
   },
   "outputs": [],
   "source": [
    "# train_df.reset_index(drop=True, inplace=True)\n",
    "# # print(train_df)\n",
    "# minority1 = train_df[train_df['interest_level'] == 'high']\n",
    "# minority2 = train_df[train_df['interest_level'] == 'medium']\n",
    "# majority = train_df[train_df['interest_level'] == 'low']\n",
    "\n",
    "# print(minority1.shape)\n",
    "# print(minority2.shape)\n",
    "# print(majority.shape)\n",
    "\n",
    "# # remove_n1 = 11490*2\n",
    "# remove_n1 = 30362\n",
    "# # remove_n2 = 3690\n",
    "# remove_n2 = 7381\n",
    "# drop_indices1 = np.random.choice(majority.index, remove_n1, replace=False)\n",
    "# drop_indices2 = np.random.choice(minority2.index, remove_n2, replace=False)\n",
    "# train_df = train_df.drop(drop_indices1)\n",
    "# train_df = train_df.drop(drop_indices2)\n",
    "\n",
    "# print(train_df.shape)\n",
    "# feat = ['price','bedrooms','bathrooms','longitude','latitude', 'feat_vect']\n",
    "# x = train_df[feat]\n",
    "# feat1 = ['interest_level','building_id','created', 'description','display_address','features', 'listing_id','manager_id','photos', 'street_address', 'target' ]\n",
    "\n",
    "\n",
    "feat = ['price','bedrooms','bathrooms','longitude','latitude']\n",
    "x= train_df[feat]\n",
    "# x = train_df.drop(feat1,axis=1)\n",
    "y = train_df['target']\n",
    "\n",
    "# x_train, x_test, y_train, y_test = train_test_split(x,y, test_size = 0.2, stratify=y) \n",
    "# x_train, x_test = x.loc[ctrain_index[0]:ctrain_index[-1]], x.loc[ctest_index[0]:ctest_index[-1]]\n",
    "# y_train, y_test = y.loc[ctrain_index[0]:ctrain_index[-1]], y.loc[ctest_index[0]:ctest_index[-1]]\n",
    "# x_train.shape\n",
    "# print(y_train)\n",
    "# print(x_train.shape)"
   ]
  },
  {
   "cell_type": "code",
   "execution_count": 71,
   "metadata": {
    "colab": {
     "base_uri": "https://localhost:8080/",
     "height": 85
    },
    "colab_type": "code",
    "id": "EirA02BMwKpQ",
    "outputId": "6a9a0892-fbf6-4212-9406-aa9a6781eb0d"
   },
   "outputs": [
    {
     "data": {
      "text/plain": [
       "SVC(C=1.0, break_ties=False, cache_size=1000, class_weight=None, coef0=0.0,\n",
       "    decision_function_shape='ovr', degree=3, gamma='scale', kernel='poly',\n",
       "    max_iter=-1, probability=True, random_state=None, shrinking=True, tol=0.001,\n",
       "    verbose=False)"
      ]
     },
     "execution_count": 71,
     "metadata": {
      "tags": []
     },
     "output_type": "execute_result"
    }
   ],
   "source": [
    "# feat2 = ['price','bedrooms','bathrooms','longitude','latitude']\n",
    "# x_train[feat2]=scaling.fit_transform(x_train[feat2])\n",
    "# x_test[feat2]=scaling.fit_transform(x_test[feat2])\n",
    "\n",
    "x = scaling2.fit_transform(x)\n",
    "# x_train = scaling2.fit_transform(x_train)\n",
    "# x_test = scaling2.fit_transform(x_test)\n",
    "\n",
    "# pca = PCA(n_components=6)\n",
    "# x = pca.fit_transform(x)\n",
    "# x_train = pca.fit_transform(x_train)\n",
    "# x_test = pca.transform(x_test)\n",
    "\n",
    "# quantile_transformer = QuantileTransformer(random_state=0)\n",
    "# x_train = quantile_transformer.fit_transform(x_train)\n",
    "# x_test = quantile_transformer.fit_transform(x_test)\n",
    "\n",
    "# t1 = RobustScaler().fit(x_train)\n",
    "# t2 = RobustScaler().fit(x_test)\n",
    "# x_train = t1.transform(x_train)\n",
    "# x_test = t2.transform(x_test)\n",
    "\n",
    "# print(x_train.size)\n",
    "# print(x_train)\n",
    "svc_class = SVC(kernel='poly', probability = True, cache_size=1000)\n",
    "\n",
    "# probability = True\n",
    "# svc_class.fit(x_train, y_train)\n",
    "svc_class.fit(x, y)"
   ]
  },
  {
   "cell_type": "code",
   "execution_count": null,
   "metadata": {
    "colab": {},
    "colab_type": "code",
    "id": "SHanSc4iwKpR"
   },
   "outputs": [],
   "source": [
    "# y_pred = svc_class.predict(x_test)\n",
    "# y_pred2 = svc_class.predict_proba(x_test)\n",
    "# y_pred"
   ]
  },
  {
   "cell_type": "code",
   "execution_count": null,
   "metadata": {
    "colab": {},
    "colab_type": "code",
    "id": "rlrWvntdwKpX"
   },
   "outputs": [],
   "source": [
    "# print(\"SVM Accuracy Score -> \",accuracy_score(y_pred, y_test)*100)\n",
    "# print('log_loss: ',log_loss(y_test,y_pred2))\n",
    "# print(confusion_matrix(y_test,y_pred))\n",
    "# print(classification_report(y_test,y_pred))"
   ]
  },
  {
   "cell_type": "code",
   "execution_count": 75,
   "metadata": {
    "colab": {
     "base_uri": "https://localhost:8080/",
     "height": 1000
    },
    "colab_type": "code",
    "id": "_mVHU8piwKpZ",
    "outputId": "7436fb01-98f4-43cd-cb61-f87ab7d9f9aa"
   },
   "outputs": [
    {
     "name": "stdout",
     "output_type": "stream",
     "text": [
      "log_loss for  1  :  0.765016612088071 \n",
      "\n",
      "              precision    recall  f1-score   support\n",
      "\n",
      "           0       0.00      0.00      0.00       757\n",
      "           1       0.70      1.00      0.82      6891\n",
      "           2       0.00      0.00      0.00      2192\n",
      "\n",
      "    accuracy                           0.70      9840\n",
      "   macro avg       0.23      0.33      0.27      9840\n",
      "weighted avg       0.49      0.70      0.58      9840\n",
      "\n",
      "SVM Accuracy Score ->  70.03048780487805 for  1 \n",
      "\n"
     ]
    },
    {
     "name": "stderr",
     "output_type": "stream",
     "text": [
      "/usr/local/lib/python3.6/dist-packages/sklearn/metrics/_classification.py:1272: UndefinedMetricWarning: Precision and F-score are ill-defined and being set to 0.0 in labels with no predicted samples. Use `zero_division` parameter to control this behavior.\n",
      "  _warn_prf(average, modifier, msg_start, len(result))\n"
     ]
    },
    {
     "name": "stdout",
     "output_type": "stream",
     "text": [
      "log_loss for  2  :  0.7669702644637562 \n",
      "\n",
      "              precision    recall  f1-score   support\n",
      "\n",
      "           0       0.00      0.00      0.00       758\n",
      "           1       0.70      1.00      0.82      6842\n",
      "           2       0.00      0.00      0.00      2240\n",
      "\n",
      "    accuracy                           0.70      9840\n",
      "   macro avg       0.23      0.33      0.27      9840\n",
      "weighted avg       0.48      0.70      0.57      9840\n",
      "\n",
      "SVM Accuracy Score ->  69.53252032520325 for  2 \n",
      "\n"
     ]
    },
    {
     "name": "stderr",
     "output_type": "stream",
     "text": [
      "/usr/local/lib/python3.6/dist-packages/sklearn/metrics/_classification.py:1272: UndefinedMetricWarning: Precision and F-score are ill-defined and being set to 0.0 in labels with no predicted samples. Use `zero_division` parameter to control this behavior.\n",
      "  _warn_prf(average, modifier, msg_start, len(result))\n"
     ]
    },
    {
     "name": "stdout",
     "output_type": "stream",
     "text": [
      "log_loss for  3  :  0.7796954307238331 \n",
      "\n",
      "              precision    recall  f1-score   support\n",
      "\n",
      "           0       0.00      0.00      0.00       801\n",
      "           1       0.69      1.00      0.82      6787\n",
      "           2       0.00      0.00      0.00      2251\n",
      "\n",
      "    accuracy                           0.69      9839\n",
      "   macro avg       0.23      0.33      0.27      9839\n",
      "weighted avg       0.48      0.69      0.56      9839\n",
      "\n",
      "SVM Accuracy Score ->  68.98058745807501 for  3 \n",
      "\n"
     ]
    },
    {
     "name": "stderr",
     "output_type": "stream",
     "text": [
      "/usr/local/lib/python3.6/dist-packages/sklearn/metrics/_classification.py:1272: UndefinedMetricWarning: Precision and F-score are ill-defined and being set to 0.0 in labels with no predicted samples. Use `zero_division` parameter to control this behavior.\n",
      "  _warn_prf(average, modifier, msg_start, len(result))\n"
     ]
    },
    {
     "name": "stdout",
     "output_type": "stream",
     "text": [
      "log_loss for  4  :  0.7640896048820202 \n",
      "\n",
      "              precision    recall  f1-score   support\n",
      "\n",
      "           0       0.00      0.00      0.00       751\n",
      "           1       0.70      1.00      0.82      6882\n",
      "           2       0.00      0.00      0.00      2206\n",
      "\n",
      "    accuracy                           0.70      9839\n",
      "   macro avg       0.23      0.33      0.27      9839\n",
      "weighted avg       0.49      0.70      0.58      9839\n",
      "\n",
      "SVM Accuracy Score ->  69.94613273706678 for  4 \n",
      "\n"
     ]
    },
    {
     "name": "stderr",
     "output_type": "stream",
     "text": [
      "/usr/local/lib/python3.6/dist-packages/sklearn/metrics/_classification.py:1272: UndefinedMetricWarning: Precision and F-score are ill-defined and being set to 0.0 in labels with no predicted samples. Use `zero_division` parameter to control this behavior.\n",
      "  _warn_prf(average, modifier, msg_start, len(result))\n"
     ]
    },
    {
     "name": "stdout",
     "output_type": "stream",
     "text": [
      "log_loss for  5  :  0.776359916469529 \n",
      "\n",
      "              precision    recall  f1-score   support\n",
      "\n",
      "           0       0.00      0.00      0.00       751\n",
      "           1       0.69      1.00      0.82      6778\n",
      "           2       0.00      0.00      0.00      2310\n",
      "\n",
      "    accuracy                           0.69      9839\n",
      "   macro avg       0.23      0.33      0.27      9839\n",
      "weighted avg       0.47      0.69      0.56      9839\n",
      "\n",
      "SVM Accuracy Score ->  68.88911474743368 for  5 \n",
      "\n",
      "log_loss average evaluation results of 5 classifiers:  0.7704263657254419 \n",
      "\n"
     ]
    },
    {
     "name": "stderr",
     "output_type": "stream",
     "text": [
      "/usr/local/lib/python3.6/dist-packages/sklearn/metrics/_classification.py:1272: UndefinedMetricWarning: Precision and F-score are ill-defined and being set to 0.0 in labels with no predicted samples. Use `zero_division` parameter to control this behavior.\n",
      "  _warn_prf(average, modifier, msg_start, len(result))\n"
     ]
    }
   ],
   "source": [
    "## Cross Validation\n",
    "\n",
    "scaling = MinMaxScaler()\n",
    "\n",
    "# train_df = train_df.sample(frac=1).reset_index(drop=True)\n",
    "train_df = shuffle(train_df)\n",
    "train_df.reset_index(inplace=True, drop=True)\n",
    "# x = train_df.drop(feat1, axis=1)\n",
    "x = train_df[feat]\n",
    "# x = train_df[feat]\n",
    "y = train_df['target']\n",
    "# feat = ['price','bedrooms','bathrooms','longitude','latitude']\n",
    "# x = train_df.loc[:, feat].values\n",
    "# y = train_df.loc[:, ['target']].values\n",
    "\n",
    "kf = KFold(n_splits=5)\n",
    "i=1\n",
    "# clf = SVC(kernel='linear', probability = True)\n",
    "bestloss = 100\n",
    "tsum = 0\n",
    "for train_index, test_index in kf.split(x):\n",
    "    # print(\"TRAIN:\", train_index, \"TEST:\", test_index)\n",
    "    x_train, x_test = x.loc[train_index[0]:train_index[-1]], x.loc[test_index[0]:test_index[-1]]\n",
    "    y_train, y_test = y.loc[train_index[0]:train_index[-1]], y.loc[test_index[0]:test_index[-1]]\n",
    "#     x_train = quantile_transformer.fit_transform(x_train)\n",
    "#     x_test = quantile_transformer.fit_transform(x_test)\n",
    "    x_train = scaling2.fit_transform(x_train)\n",
    "    x_test = scaling2.fit_transform(x_test)\n",
    "    # pca = PCA(n_components=6)\n",
    "    # x_train = pca.fit_transform(x_train)\n",
    "    # x_test = pca.transform(x_test)\n",
    "    clf = SVC(kernel='poly', probability = True, cache_size=1000)\n",
    "    clf.fit(x_train, y_train)\n",
    "    y_pred = clf.predict(x_test)\n",
    "    y_pred2 = clf.predict_proba(x_test)\n",
    "    print('log_loss for ',i, ' : ', log_loss(y_test,y_pred2),'\\n')\n",
    "    # print(confusion_matrix(y_test,y_pred))\n",
    "    print(classification_report(y_test,y_pred))\n",
    "    # if log_loss(y_test,y_pred) <= bestloss:\n",
    "    #   bestloss = log_loss(y_test,y_pred)\n",
    "    #   ctrain_index = train_index\n",
    "    #   ctest_index = test_index\n",
    "    print(\"SVM Accuracy Score -> \",accuracy_score(y_pred, y_test)*100, 'for ', i, '\\n')\n",
    "    i=i+1\n",
    "    tsum = tsum + log_loss(y_test,y_pred2)\n",
    "# print('chosen train: ', ctrain_index, 'chosen test: ', ctest_index,'\\n' )   \n",
    "print('log_loss average evaluation results of 5 classifiers: ', tsum/5 , \"\\n\")"
   ]
  },
  {
   "cell_type": "code",
   "execution_count": null,
   "metadata": {
    "colab": {},
    "colab_type": "code",
    "id": "d-_3AU4VwKpa"
   },
   "outputs": [],
   "source": [
    "# Too expensive to run\n",
    "\n",
    "# from sklearn.model_selection import cross_val_score\n",
    "# scores = cross_val_score(svc_class,x,y,cv=5, scoring = 'neg_log_loss')\n",
    "# print(\"Cross-validated scores: \", scores)"
   ]
  },
  {
   "cell_type": "markdown",
   "metadata": {
    "colab_type": "text",
    "id": "_WazZPlOz3ZB"
   },
   "source": [
    "## Test Data"
   ]
  },
  {
   "cell_type": "code",
   "execution_count": 76,
   "metadata": {
    "colab": {
     "base_uri": "https://localhost:8080/",
     "height": 598
    },
    "colab_type": "code",
    "id": "BNFWuIU_z9Sm",
    "outputId": "2887a13b-cc7e-42c0-d014-d4310a0ae415"
   },
   "outputs": [
    {
     "data": {
      "text/html": [
       "<div>\n",
       "<style scoped>\n",
       "    .dataframe tbody tr th:only-of-type {\n",
       "        vertical-align: middle;\n",
       "    }\n",
       "\n",
       "    .dataframe tbody tr th {\n",
       "        vertical-align: top;\n",
       "    }\n",
       "\n",
       "    .dataframe thead th {\n",
       "        text-align: right;\n",
       "    }\n",
       "</style>\n",
       "<table border=\"1\" class=\"dataframe\">\n",
       "  <thead>\n",
       "    <tr style=\"text-align: right;\">\n",
       "      <th></th>\n",
       "      <th>bathrooms</th>\n",
       "      <th>bedrooms</th>\n",
       "      <th>building_id</th>\n",
       "      <th>created</th>\n",
       "      <th>description</th>\n",
       "      <th>display_address</th>\n",
       "      <th>features</th>\n",
       "      <th>latitude</th>\n",
       "      <th>listing_id</th>\n",
       "      <th>longitude</th>\n",
       "      <th>manager_id</th>\n",
       "      <th>photos</th>\n",
       "      <th>price</th>\n",
       "      <th>street_address</th>\n",
       "    </tr>\n",
       "  </thead>\n",
       "  <tbody>\n",
       "    <tr>\n",
       "      <th>0</th>\n",
       "      <td>1.0</td>\n",
       "      <td>1</td>\n",
       "      <td>79780be1514f645d7e6be99a3de696c5</td>\n",
       "      <td>2016-06-11 05:29:41</td>\n",
       "      <td>Large with awesome terrace--accessible via bed...</td>\n",
       "      <td>Suffolk Street</td>\n",
       "      <td>[Elevator, Laundry in Building, Laundry in Uni...</td>\n",
       "      <td>40.7185</td>\n",
       "      <td>7142618</td>\n",
       "      <td>-73.9865</td>\n",
       "      <td>b1b1852c416d78d7765d746cb1b8921f</td>\n",
       "      <td>[https://photos.renthop.com/2/7142618_1c45a2c8...</td>\n",
       "      <td>2950</td>\n",
       "      <td>99 Suffolk Street</td>\n",
       "    </tr>\n",
       "    <tr>\n",
       "      <th>1</th>\n",
       "      <td>1.0</td>\n",
       "      <td>2</td>\n",
       "      <td>0</td>\n",
       "      <td>2016-06-24 06:36:34</td>\n",
       "      <td>Prime Soho - between Bleecker and Houston - Ne...</td>\n",
       "      <td>Thompson Street</td>\n",
       "      <td>[Pre-War, Dogs Allowed, Cats Allowed]</td>\n",
       "      <td>40.7278</td>\n",
       "      <td>7210040</td>\n",
       "      <td>-74.0000</td>\n",
       "      <td>d0b5648017832b2427eeb9956d966a14</td>\n",
       "      <td>[https://photos.renthop.com/2/7210040_d824cc71...</td>\n",
       "      <td>2850</td>\n",
       "      <td>176 Thompson Street</td>\n",
       "    </tr>\n",
       "    <tr>\n",
       "      <th>2</th>\n",
       "      <td>1.0</td>\n",
       "      <td>0</td>\n",
       "      <td>0</td>\n",
       "      <td>2016-06-17 01:23:39</td>\n",
       "      <td>Spacious studio in Prime Location. Cleanbuildi...</td>\n",
       "      <td>Sullivan Street</td>\n",
       "      <td>[Pre-War, Dogs Allowed, Cats Allowed]</td>\n",
       "      <td>40.7260</td>\n",
       "      <td>7174566</td>\n",
       "      <td>-74.0026</td>\n",
       "      <td>e6472c7237327dd3903b3d6f6a94515a</td>\n",
       "      <td>[https://photos.renthop.com/2/7174566_ba3a35c5...</td>\n",
       "      <td>2295</td>\n",
       "      <td>115 Sullivan Street</td>\n",
       "    </tr>\n",
       "    <tr>\n",
       "      <th>3</th>\n",
       "      <td>1.0</td>\n",
       "      <td>2</td>\n",
       "      <td>f9c826104b91d868e69bd25746448c0c</td>\n",
       "      <td>2016-06-21 05:06:02</td>\n",
       "      <td>For immediate access call Bryan.&lt;br /&gt;&lt;br /&gt;Bo...</td>\n",
       "      <td>Jones Street</td>\n",
       "      <td>[Hardwood Floors, Dogs Allowed, Cats Allowed]</td>\n",
       "      <td>40.7321</td>\n",
       "      <td>7191391</td>\n",
       "      <td>-74.0028</td>\n",
       "      <td>41735645e0f8f13993c42894023f8e58</td>\n",
       "      <td>[https://photos.renthop.com/2/7191391_8c2f2d49...</td>\n",
       "      <td>2900</td>\n",
       "      <td>23 Jones Street</td>\n",
       "    </tr>\n",
       "    <tr>\n",
       "      <th>5</th>\n",
       "      <td>1.0</td>\n",
       "      <td>1</td>\n",
       "      <td>81062936e12ee5fa6cd2b965698e17d5</td>\n",
       "      <td>2016-06-16 07:24:27</td>\n",
       "      <td>Beautiful TRUE 1 bedroom in a luxury building ...</td>\n",
       "      <td>Exchange Place</td>\n",
       "      <td>[Roof Deck, Doorman, Elevator, Fitness Center,...</td>\n",
       "      <td>40.7054</td>\n",
       "      <td>7171695</td>\n",
       "      <td>-74.0095</td>\n",
       "      <td>a742cf7dd3b2627d83417bc3a1b3ec96</td>\n",
       "      <td>[https://photos.renthop.com/2/7171695_089ffee2...</td>\n",
       "      <td>3254</td>\n",
       "      <td>20 Exchange Place</td>\n",
       "    </tr>\n",
       "  </tbody>\n",
       "</table>\n",
       "</div>"
      ],
      "text/plain": [
       "   bathrooms  bedrooms  ... price       street_address\n",
       "0        1.0         1  ...  2950    99 Suffolk Street\n",
       "1        1.0         2  ...  2850  176 Thompson Street\n",
       "2        1.0         0  ...  2295  115 Sullivan Street\n",
       "3        1.0         2  ...  2900      23 Jones Street\n",
       "5        1.0         1  ...  3254    20 Exchange Place\n",
       "\n",
       "[5 rows x 14 columns]"
      ]
     },
     "execution_count": 76,
     "metadata": {
      "tags": []
     },
     "output_type": "execute_result"
    }
   ],
   "source": [
    "test_df = pd.read_json(\"test.json\")\n",
    "test_df.head()"
   ]
  },
  {
   "cell_type": "code",
   "execution_count": null,
   "metadata": {
    "colab": {},
    "colab_type": "code",
    "id": "8zokRV5hAORx"
   },
   "outputs": [],
   "source": [
    "test_df['features'] = test_df['features'].apply(lambda x: ' '.join(x))\n",
    "# vectorizer = TfidfVectorizer(analyzer='word', stop_words='english', token_pattern=r'^[a-zA-Z][a-zA-Z]+')\n",
    "# w = vectorizer.fit_transform(test_df['features']);\n",
    "w = vectorizer.transform(test_df['features'])\n",
    "tempd = pd.DataFrame(w.toarray(), columns=vectorizer.get_feature_names())\n",
    "test_df.reset_index(inplace=True, drop=True)\n",
    "test_df = pd.concat([test_df, tempd], axis=1)\n",
    "feat2 = ['building_id','created', 'description','display_address','features', 'listing_id','manager_id','photos', 'street_address']"
   ]
  },
  {
   "cell_type": "code",
   "execution_count": 78,
   "metadata": {
    "colab": {
     "base_uri": "https://localhost:8080/",
     "height": 204
    },
    "colab_type": "code",
    "id": "KJeV2iES1hRq",
    "outputId": "26845e58-406b-4fc5-a4c6-ba5c7c9b7ba3"
   },
   "outputs": [
    {
     "data": {
      "text/html": [
       "<div>\n",
       "<style scoped>\n",
       "    .dataframe tbody tr th:only-of-type {\n",
       "        vertical-align: middle;\n",
       "    }\n",
       "\n",
       "    .dataframe tbody tr th {\n",
       "        vertical-align: top;\n",
       "    }\n",
       "\n",
       "    .dataframe thead th {\n",
       "        text-align: right;\n",
       "    }\n",
       "</style>\n",
       "<table border=\"1\" class=\"dataframe\">\n",
       "  <thead>\n",
       "    <tr style=\"text-align: right;\">\n",
       "      <th></th>\n",
       "      <th>price</th>\n",
       "      <th>bedrooms</th>\n",
       "      <th>bathrooms</th>\n",
       "      <th>longitude</th>\n",
       "      <th>latitude</th>\n",
       "    </tr>\n",
       "  </thead>\n",
       "  <tbody>\n",
       "    <tr>\n",
       "      <th>0</th>\n",
       "      <td>2950</td>\n",
       "      <td>1</td>\n",
       "      <td>1.0</td>\n",
       "      <td>-73.9865</td>\n",
       "      <td>40.7185</td>\n",
       "    </tr>\n",
       "    <tr>\n",
       "      <th>1</th>\n",
       "      <td>2850</td>\n",
       "      <td>2</td>\n",
       "      <td>1.0</td>\n",
       "      <td>-74.0000</td>\n",
       "      <td>40.7278</td>\n",
       "    </tr>\n",
       "    <tr>\n",
       "      <th>2</th>\n",
       "      <td>2295</td>\n",
       "      <td>0</td>\n",
       "      <td>1.0</td>\n",
       "      <td>-74.0026</td>\n",
       "      <td>40.7260</td>\n",
       "    </tr>\n",
       "    <tr>\n",
       "      <th>3</th>\n",
       "      <td>2900</td>\n",
       "      <td>2</td>\n",
       "      <td>1.0</td>\n",
       "      <td>-74.0028</td>\n",
       "      <td>40.7321</td>\n",
       "    </tr>\n",
       "    <tr>\n",
       "      <th>4</th>\n",
       "      <td>3254</td>\n",
       "      <td>1</td>\n",
       "      <td>1.0</td>\n",
       "      <td>-74.0095</td>\n",
       "      <td>40.7054</td>\n",
       "    </tr>\n",
       "  </tbody>\n",
       "</table>\n",
       "</div>"
      ],
      "text/plain": [
       "   price  bedrooms  bathrooms  longitude  latitude\n",
       "0   2950         1        1.0   -73.9865   40.7185\n",
       "1   2850         2        1.0   -74.0000   40.7278\n",
       "2   2295         0        1.0   -74.0026   40.7260\n",
       "3   2900         2        1.0   -74.0028   40.7321\n",
       "4   3254         1        1.0   -74.0095   40.7054"
      ]
     },
     "execution_count": 78,
     "metadata": {
      "tags": []
     },
     "output_type": "execute_result"
    }
   ],
   "source": [
    "testing = test_df[['price','bedrooms','bathrooms', 'longitude', 'latitude']]\n",
    "# testing = test_df.drop(feat2, axis=1)\n",
    "testing.head()"
   ]
  },
  {
   "cell_type": "code",
   "execution_count": null,
   "metadata": {
    "colab": {},
    "colab_type": "code",
    "id": "LWBdJFhG2SVZ"
   },
   "outputs": [],
   "source": [
    "testing = scaling2.fit_transform(testing)\n",
    "# pca = PCA(n_components=6)\n",
    "# testing = pca.fit_transform(testing)"
   ]
  },
  {
   "cell_type": "code",
   "execution_count": 80,
   "metadata": {
    "colab": {
     "base_uri": "https://localhost:8080/",
     "height": 136
    },
    "colab_type": "code",
    "id": "fA89DYOE25i5",
    "outputId": "38c72ae4-630b-4d89-9552-fb66044d546f"
   },
   "outputs": [
    {
     "data": {
      "text/plain": [
       "array([[0.04058366, 0.70489535, 0.25452098],\n",
       "       [0.07263402, 0.69724677, 0.23011921],\n",
       "       [0.01959993, 0.73443482, 0.24596526],\n",
       "       ...,\n",
       "       [0.01955601, 0.73451161, 0.24593238],\n",
       "       [0.07294412, 0.69640474, 0.23065115],\n",
       "       [0.18745976, 0.63291355, 0.17962669]])"
      ]
     },
     "execution_count": 80,
     "metadata": {
      "tags": []
     },
     "output_type": "execute_result"
    }
   ],
   "source": [
    "prediction = svc_class.predict_proba(testing)\n",
    "prediction"
   ]
  },
  {
   "cell_type": "code",
   "execution_count": 81,
   "metadata": {
    "colab": {
     "base_uri": "https://localhost:8080/",
     "height": 204
    },
    "colab_type": "code",
    "id": "j6RrpjUm2-VX",
    "outputId": "8388e7ee-423a-41a8-9ffb-6e1228522c04"
   },
   "outputs": [
    {
     "data": {
      "text/html": [
       "<div>\n",
       "<style scoped>\n",
       "    .dataframe tbody tr th:only-of-type {\n",
       "        vertical-align: middle;\n",
       "    }\n",
       "\n",
       "    .dataframe tbody tr th {\n",
       "        vertical-align: top;\n",
       "    }\n",
       "\n",
       "    .dataframe thead th {\n",
       "        text-align: right;\n",
       "    }\n",
       "</style>\n",
       "<table border=\"1\" class=\"dataframe\">\n",
       "  <thead>\n",
       "    <tr style=\"text-align: right;\">\n",
       "      <th></th>\n",
       "      <th>listing_id</th>\n",
       "      <th>high</th>\n",
       "      <th>medium</th>\n",
       "      <th>low</th>\n",
       "    </tr>\n",
       "  </thead>\n",
       "  <tbody>\n",
       "    <tr>\n",
       "      <th>0</th>\n",
       "      <td>7142618</td>\n",
       "      <td>0.040584</td>\n",
       "      <td>0.254521</td>\n",
       "      <td>0.704895</td>\n",
       "    </tr>\n",
       "    <tr>\n",
       "      <th>1</th>\n",
       "      <td>7210040</td>\n",
       "      <td>0.072634</td>\n",
       "      <td>0.230119</td>\n",
       "      <td>0.697247</td>\n",
       "    </tr>\n",
       "    <tr>\n",
       "      <th>2</th>\n",
       "      <td>7174566</td>\n",
       "      <td>0.019600</td>\n",
       "      <td>0.245965</td>\n",
       "      <td>0.734435</td>\n",
       "    </tr>\n",
       "    <tr>\n",
       "      <th>3</th>\n",
       "      <td>7191391</td>\n",
       "      <td>0.072621</td>\n",
       "      <td>0.230122</td>\n",
       "      <td>0.697257</td>\n",
       "    </tr>\n",
       "    <tr>\n",
       "      <th>4</th>\n",
       "      <td>7171695</td>\n",
       "      <td>0.040493</td>\n",
       "      <td>0.254544</td>\n",
       "      <td>0.704963</td>\n",
       "    </tr>\n",
       "  </tbody>\n",
       "</table>\n",
       "</div>"
      ],
      "text/plain": [
       "   listing_id      high    medium       low\n",
       "0     7142618  0.040584  0.254521  0.704895\n",
       "1     7210040  0.072634  0.230119  0.697247\n",
       "2     7174566  0.019600  0.245965  0.734435\n",
       "3     7191391  0.072621  0.230122  0.697257\n",
       "4     7171695  0.040493  0.254544  0.704963"
      ]
     },
     "execution_count": 81,
     "metadata": {
      "tags": []
     },
     "output_type": "execute_result"
    }
   ],
   "source": [
    "result = pd.DataFrame({'listing_id': test_df['listing_id'], 'high': prediction[:,0], 'medium': prediction[:,2], 'low': prediction[:,1] })\n",
    "result.head()"
   ]
  },
  {
   "cell_type": "code",
   "execution_count": null,
   "metadata": {
    "colab": {},
    "colab_type": "code",
    "id": "oik9T-TQ9QOh"
   },
   "outputs": [],
   "source": [
    "result.to_csv('result.csv', index=False) "
   ]
  },
  {
   "cell_type": "code",
   "execution_count": 83,
   "metadata": {
    "colab": {
     "base_uri": "https://localhost:8080/",
     "height": 34
    },
    "colab_type": "code",
    "id": "5C8IjIJU-qHC",
    "outputId": "fc9cded9-76cc-4dea-fd1f-d764d7d160c1"
   },
   "outputs": [
    {
     "data": {
      "text/plain": [
       "['first_model.joblib']"
      ]
     },
     "execution_count": 83,
     "metadata": {
      "tags": []
     },
     "output_type": "execute_result"
    }
   ],
   "source": [
    "from joblib import dump, load\n",
    "dump(svc_class, 'first_model.joblib')\n",
    "# clf=load('first_model.joblib')"
   ]
  }
 ],
 "metadata": {
  "accelerator": "GPU",
  "colab": {
   "collapsed_sections": [
    "57ilRPBnwKns",
    "iaLA3gr6wKnx",
    "7YZCu2oVwKn3",
    "g_iu6axswKn_",
    "r_jmeh4awKoG",
    "wb-PpXRpwKoL",
    "dTXrk_OmwKoR",
    "8LYP9PJkwKoR",
    "nnd-w8ehwKob",
    "_ozCvN5pwKof",
    "pZ28gMYwwKol",
    "dhNrAgASwKon",
    "ROwCTQ4iwKop",
    "OUWW0S0rwKot",
    "IWywuFEbwKoy",
    "AZjClDYMwKo4"
   ],
   "name": "data_mining.ipynb",
   "provenance": []
  },
  "kernelspec": {
   "display_name": "Python 3",
   "language": "python",
   "name": "python3"
  },
  "language_info": {
   "codemirror_mode": {
    "name": "ipython",
    "version": 3
   },
   "file_extension": ".py",
   "mimetype": "text/x-python",
   "name": "python",
   "nbconvert_exporter": "python",
   "pygments_lexer": "ipython3",
   "version": "3.7.4"
  }
 },
 "nbformat": 4,
 "nbformat_minor": 4
}
