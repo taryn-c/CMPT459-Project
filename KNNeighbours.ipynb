{
  "nbformat": 4,
  "nbformat_minor": 0,
  "metadata": {
    "colab": {
      "name": "KNNeighbours.ipynb",
      "provenance": [],
      "collapsed_sections": []
    },
    "kernelspec": {
      "name": "python3",
      "display_name": "Python 3"
    }
  },
  "cells": [
    {
      "cell_type": "code",
      "metadata": {
        "id": "yVkREbxRsSR0",
        "colab_type": "code",
        "colab": {}
      },
      "source": [
        "import pandas as pd\n",
        "import numpy as np\n",
        "from sklearn import preprocessing\n",
        "import matplotlib.pyplot as plt\n",
        "from sklearn.model_selection import train_test_split\n",
        "import seaborn as sns\n",
        "from sklearn import metrics\n",
        "from sklearn.metrics import log_loss\n",
        "from sklearn.metrics import accuracy_score\n",
        "from sklearn.metrics import classification_report\n",
        "#from sklearn.ensemble import AdaBoostClassifier\n",
        "from sklearn.neighbors import KNeighborsClassifier\n",
        "from sklearn import model_selection\n",
        "train_df = pd.read_json(\"train.json\")\n",
        "test_df = pd.read_json(\"test.json\")"
      ],
      "execution_count": 0,
      "outputs": []
    },
    {
      "cell_type": "code",
      "metadata": {
        "id": "yEqLztM5tUTT",
        "colab_type": "code",
        "outputId": "4ab26e26-eec3-4744-e8dd-25a9ef303968",
        "colab": {
          "base_uri": "https://localhost:8080/",
          "height": 419
        }
      },
      "source": [
        "# train_df[\"created\"] = pd.to_datetime(train_df[\"created\"])\n",
        "# train_df[\"created_year\"] = train_df[\"created\"].dt.year\n",
        "# train_df[\"created_month\"] = train_df[\"created\"].dt.month\n",
        "# train_df[\"created_day\"] = train_df[\"created\"].dt.day\n",
        "# train_df[\"created_hour\"] = train_df[\"created\"].dt.hour\n",
        "# train_df[\"num_features\"] = train_df[\"features\"].apply(len)\n",
        "# train_df[\"num_photos\"] = train_df[\"photos\"].apply(len)\n",
        "train_df.drop(columns=['created', 'display_address', 'description', 'street_address', 'photos'], inplace=True)\n",
        "train_df.drop(columns=['building_id', 'manager_id', 'listing_id'], inplace=True)\n",
        "train_df.drop(columns=['features'], inplace=True)\n",
        "train_df"
      ],
      "execution_count": 2,
      "outputs": [
        {
          "output_type": "execute_result",
          "data": {
            "text/html": [
              "<div>\n",
              "<style scoped>\n",
              "    .dataframe tbody tr th:only-of-type {\n",
              "        vertical-align: middle;\n",
              "    }\n",
              "\n",
              "    .dataframe tbody tr th {\n",
              "        vertical-align: top;\n",
              "    }\n",
              "\n",
              "    .dataframe thead th {\n",
              "        text-align: right;\n",
              "    }\n",
              "</style>\n",
              "<table border=\"1\" class=\"dataframe\">\n",
              "  <thead>\n",
              "    <tr style=\"text-align: right;\">\n",
              "      <th></th>\n",
              "      <th>bathrooms</th>\n",
              "      <th>bedrooms</th>\n",
              "      <th>latitude</th>\n",
              "      <th>longitude</th>\n",
              "      <th>price</th>\n",
              "      <th>interest_level</th>\n",
              "    </tr>\n",
              "  </thead>\n",
              "  <tbody>\n",
              "    <tr>\n",
              "      <th>4</th>\n",
              "      <td>1.0</td>\n",
              "      <td>1</td>\n",
              "      <td>40.7108</td>\n",
              "      <td>-73.9539</td>\n",
              "      <td>2400</td>\n",
              "      <td>medium</td>\n",
              "    </tr>\n",
              "    <tr>\n",
              "      <th>6</th>\n",
              "      <td>1.0</td>\n",
              "      <td>2</td>\n",
              "      <td>40.7513</td>\n",
              "      <td>-73.9722</td>\n",
              "      <td>3800</td>\n",
              "      <td>low</td>\n",
              "    </tr>\n",
              "    <tr>\n",
              "      <th>9</th>\n",
              "      <td>1.0</td>\n",
              "      <td>2</td>\n",
              "      <td>40.7575</td>\n",
              "      <td>-73.9625</td>\n",
              "      <td>3495</td>\n",
              "      <td>medium</td>\n",
              "    </tr>\n",
              "    <tr>\n",
              "      <th>10</th>\n",
              "      <td>1.5</td>\n",
              "      <td>3</td>\n",
              "      <td>40.7145</td>\n",
              "      <td>-73.9425</td>\n",
              "      <td>3000</td>\n",
              "      <td>medium</td>\n",
              "    </tr>\n",
              "    <tr>\n",
              "      <th>15</th>\n",
              "      <td>1.0</td>\n",
              "      <td>0</td>\n",
              "      <td>40.7439</td>\n",
              "      <td>-73.9743</td>\n",
              "      <td>2795</td>\n",
              "      <td>low</td>\n",
              "    </tr>\n",
              "    <tr>\n",
              "      <th>...</th>\n",
              "      <td>...</td>\n",
              "      <td>...</td>\n",
              "      <td>...</td>\n",
              "      <td>...</td>\n",
              "      <td>...</td>\n",
              "      <td>...</td>\n",
              "    </tr>\n",
              "    <tr>\n",
              "      <th>124000</th>\n",
              "      <td>1.0</td>\n",
              "      <td>3</td>\n",
              "      <td>40.8433</td>\n",
              "      <td>-73.9396</td>\n",
              "      <td>2800</td>\n",
              "      <td>low</td>\n",
              "    </tr>\n",
              "    <tr>\n",
              "      <th>124002</th>\n",
              "      <td>1.0</td>\n",
              "      <td>2</td>\n",
              "      <td>40.8198</td>\n",
              "      <td>-73.9578</td>\n",
              "      <td>2395</td>\n",
              "      <td>medium</td>\n",
              "    </tr>\n",
              "    <tr>\n",
              "      <th>124004</th>\n",
              "      <td>1.0</td>\n",
              "      <td>1</td>\n",
              "      <td>40.5765</td>\n",
              "      <td>-73.9554</td>\n",
              "      <td>1850</td>\n",
              "      <td>medium</td>\n",
              "    </tr>\n",
              "    <tr>\n",
              "      <th>124008</th>\n",
              "      <td>1.0</td>\n",
              "      <td>2</td>\n",
              "      <td>40.7448</td>\n",
              "      <td>-74.0017</td>\n",
              "      <td>4195</td>\n",
              "      <td>medium</td>\n",
              "    </tr>\n",
              "    <tr>\n",
              "      <th>124009</th>\n",
              "      <td>1.0</td>\n",
              "      <td>3</td>\n",
              "      <td>40.7594</td>\n",
              "      <td>-73.9712</td>\n",
              "      <td>4280</td>\n",
              "      <td>high</td>\n",
              "    </tr>\n",
              "  </tbody>\n",
              "</table>\n",
              "<p>49352 rows × 6 columns</p>\n",
              "</div>"
            ],
            "text/plain": [
              "        bathrooms  bedrooms  latitude  longitude  price interest_level\n",
              "4             1.0         1   40.7108   -73.9539   2400         medium\n",
              "6             1.0         2   40.7513   -73.9722   3800            low\n",
              "9             1.0         2   40.7575   -73.9625   3495         medium\n",
              "10            1.5         3   40.7145   -73.9425   3000         medium\n",
              "15            1.0         0   40.7439   -73.9743   2795            low\n",
              "...           ...       ...       ...        ...    ...            ...\n",
              "124000        1.0         3   40.8433   -73.9396   2800            low\n",
              "124002        1.0         2   40.8198   -73.9578   2395         medium\n",
              "124004        1.0         1   40.5765   -73.9554   1850         medium\n",
              "124008        1.0         2   40.7448   -74.0017   4195         medium\n",
              "124009        1.0         3   40.7594   -73.9712   4280           high\n",
              "\n",
              "[49352 rows x 6 columns]"
            ]
          },
          "metadata": {
            "tags": []
          },
          "execution_count": 2
        }
      ]
    },
    {
      "cell_type": "code",
      "metadata": {
        "id": "B98c8J3ntY5-",
        "colab_type": "code",
        "outputId": "960a8ff1-3a46-465b-defe-8ac96b8f3e7d",
        "colab": {
          "base_uri": "https://localhost:8080/",
          "height": 419
        }
      },
      "source": [
        "test_df2 = test_df.copy()\n",
        "# test_df2[\"created\"] = pd.to_datetime(test_df2[\"created\"])\n",
        "# test_df2[\"created_year\"] = test_df2[\"created\"].dt.year\n",
        "# test_df2[\"created_month\"] = test_df2[\"created\"].dt.month\n",
        "# test_df2[\"created_day\"] = test_df2[\"created\"].dt.day\n",
        "# test_df2[\"created_hour\"] = test_df2[\"created\"].dt.hour\n",
        "# test_df2[\"num_features\"] = test_df2[\"features\"].apply(len)\n",
        "# test_df2[\"num_photos\"] = test_df2[\"photos\"].apply(len)\n",
        "test_df2.drop(columns=['created', 'display_address', 'description', 'street_address', 'photos'], inplace=True)\n",
        "test_df2.drop(columns=['building_id', 'manager_id', 'listing_id'], inplace=True)\n",
        "test_df2.drop(columns=['features'], inplace=True)\n",
        "test_df2"
      ],
      "execution_count": 3,
      "outputs": [
        {
          "output_type": "execute_result",
          "data": {
            "text/html": [
              "<div>\n",
              "<style scoped>\n",
              "    .dataframe tbody tr th:only-of-type {\n",
              "        vertical-align: middle;\n",
              "    }\n",
              "\n",
              "    .dataframe tbody tr th {\n",
              "        vertical-align: top;\n",
              "    }\n",
              "\n",
              "    .dataframe thead th {\n",
              "        text-align: right;\n",
              "    }\n",
              "</style>\n",
              "<table border=\"1\" class=\"dataframe\">\n",
              "  <thead>\n",
              "    <tr style=\"text-align: right;\">\n",
              "      <th></th>\n",
              "      <th>bathrooms</th>\n",
              "      <th>bedrooms</th>\n",
              "      <th>latitude</th>\n",
              "      <th>longitude</th>\n",
              "      <th>price</th>\n",
              "    </tr>\n",
              "  </thead>\n",
              "  <tbody>\n",
              "    <tr>\n",
              "      <th>0</th>\n",
              "      <td>1.0</td>\n",
              "      <td>1</td>\n",
              "      <td>40.7185</td>\n",
              "      <td>-73.9865</td>\n",
              "      <td>2950</td>\n",
              "    </tr>\n",
              "    <tr>\n",
              "      <th>1</th>\n",
              "      <td>1.0</td>\n",
              "      <td>2</td>\n",
              "      <td>40.7278</td>\n",
              "      <td>-74.0000</td>\n",
              "      <td>2850</td>\n",
              "    </tr>\n",
              "    <tr>\n",
              "      <th>2</th>\n",
              "      <td>1.0</td>\n",
              "      <td>0</td>\n",
              "      <td>40.7260</td>\n",
              "      <td>-74.0026</td>\n",
              "      <td>2295</td>\n",
              "    </tr>\n",
              "    <tr>\n",
              "      <th>3</th>\n",
              "      <td>1.0</td>\n",
              "      <td>2</td>\n",
              "      <td>40.7321</td>\n",
              "      <td>-74.0028</td>\n",
              "      <td>2900</td>\n",
              "    </tr>\n",
              "    <tr>\n",
              "      <th>5</th>\n",
              "      <td>1.0</td>\n",
              "      <td>1</td>\n",
              "      <td>40.7054</td>\n",
              "      <td>-74.0095</td>\n",
              "      <td>3254</td>\n",
              "    </tr>\n",
              "    <tr>\n",
              "      <th>...</th>\n",
              "      <td>...</td>\n",
              "      <td>...</td>\n",
              "      <td>...</td>\n",
              "      <td>...</td>\n",
              "      <td>...</td>\n",
              "    </tr>\n",
              "    <tr>\n",
              "      <th>124003</th>\n",
              "      <td>1.0</td>\n",
              "      <td>1</td>\n",
              "      <td>40.7925</td>\n",
              "      <td>-73.9454</td>\n",
              "      <td>1700</td>\n",
              "    </tr>\n",
              "    <tr>\n",
              "      <th>124005</th>\n",
              "      <td>1.0</td>\n",
              "      <td>2</td>\n",
              "      <td>40.7456</td>\n",
              "      <td>-73.9797</td>\n",
              "      <td>4195</td>\n",
              "    </tr>\n",
              "    <tr>\n",
              "      <th>124006</th>\n",
              "      <td>1.0</td>\n",
              "      <td>0</td>\n",
              "      <td>40.7416</td>\n",
              "      <td>-73.9829</td>\n",
              "      <td>2400</td>\n",
              "    </tr>\n",
              "    <tr>\n",
              "      <th>124007</th>\n",
              "      <td>2.0</td>\n",
              "      <td>2</td>\n",
              "      <td>40.7485</td>\n",
              "      <td>-73.9800</td>\n",
              "      <td>6895</td>\n",
              "    </tr>\n",
              "    <tr>\n",
              "      <th>124010</th>\n",
              "      <td>1.0</td>\n",
              "      <td>3</td>\n",
              "      <td>40.7447</td>\n",
              "      <td>-73.9741</td>\n",
              "      <td>4695</td>\n",
              "    </tr>\n",
              "  </tbody>\n",
              "</table>\n",
              "<p>74659 rows × 5 columns</p>\n",
              "</div>"
            ],
            "text/plain": [
              "        bathrooms  bedrooms  latitude  longitude  price\n",
              "0             1.0         1   40.7185   -73.9865   2950\n",
              "1             1.0         2   40.7278   -74.0000   2850\n",
              "2             1.0         0   40.7260   -74.0026   2295\n",
              "3             1.0         2   40.7321   -74.0028   2900\n",
              "5             1.0         1   40.7054   -74.0095   3254\n",
              "...           ...       ...       ...        ...    ...\n",
              "124003        1.0         1   40.7925   -73.9454   1700\n",
              "124005        1.0         2   40.7456   -73.9797   4195\n",
              "124006        1.0         0   40.7416   -73.9829   2400\n",
              "124007        2.0         2   40.7485   -73.9800   6895\n",
              "124010        1.0         3   40.7447   -73.9741   4695\n",
              "\n",
              "[74659 rows x 5 columns]"
            ]
          },
          "metadata": {
            "tags": []
          },
          "execution_count": 3
        }
      ]
    },
    {
      "cell_type": "code",
      "metadata": {
        "id": "9jWPDeKztb-M",
        "colab_type": "code",
        "colab": {}
      },
      "source": [
        "target_map = {'high':0, 'medium':1, 'low':2}\n",
        "X = train_df[train_df.columns.difference(['interest_level'])]\n",
        "y = np.array(train_df['interest_level'].apply(lambda x: target_map[x]))\n",
        "X_train, X_val, y_train, y_val = train_test_split(X, y, test_size=0.33)\n",
        "kfold = model_selection.KFold(n_splits=5)\n",
        "# ada = AdaBoostClassifier(n_estimators=100, random_state=0, learning_rate=0.1)\n",
        "# ada.fit(X_train, y_train)\n",
        "# y_val_pred = ada.predict_proba(X_val)\n",
        "# y_val_pred_acc = ada.predict(X_val)\n",
        "knn = KNeighborsClassifier(n_neighbors=275)\n",
        "knn.fit(X_train, y_train)\n",
        "y_val_pred = knn.predict_proba(X_val)\n",
        "y_val_pred_acc = knn.predict(X_val)"
      ],
      "execution_count": 0,
      "outputs": []
    },
    {
      "cell_type": "markdown",
      "metadata": {
        "id": "Peb4btd8A964",
        "colab_type": "text"
      },
      "source": [
        ""
      ]
    },
    {
      "cell_type": "code",
      "metadata": {
        "id": "zUH9sIu4vb3f",
        "colab_type": "code",
        "outputId": "265ac102-1b9b-4c6c-f4f7-52e50ffc8052",
        "colab": {
          "base_uri": "https://localhost:8080/",
          "height": 34
        }
      },
      "source": [
        "results = model_selection.cross_val_score(knn, X, y, cv=kfold)\n",
        "results.mean()"
      ],
      "execution_count": 5,
      "outputs": [
        {
          "output_type": "execute_result",
          "data": {
            "text/plain": [
              "0.6980870350110139"
            ]
          },
          "metadata": {
            "tags": []
          },
          "execution_count": 5
        }
      ]
    },
    {
      "cell_type": "code",
      "metadata": {
        "id": "UDvHKeXmtfXD",
        "colab_type": "code",
        "outputId": "f18f4d21-3d8a-402a-ae52-c0ad7e4c1889",
        "colab": {
          "base_uri": "https://localhost:8080/",
          "height": 34
        }
      },
      "source": [
        "logloss = log_loss(y_val, y_val_pred)\n",
        "logloss"
      ],
      "execution_count": 6,
      "outputs": [
        {
          "output_type": "execute_result",
          "data": {
            "text/plain": [
              "0.743334004121507"
            ]
          },
          "metadata": {
            "tags": []
          },
          "execution_count": 6
        }
      ]
    },
    {
      "cell_type": "code",
      "metadata": {
        "id": "lMEiUvFrtjDF",
        "colab_type": "code",
        "outputId": "d7fa98b7-a4a4-4ee8-ceaf-e53d15bd905c",
        "colab": {
          "base_uri": "https://localhost:8080/",
          "height": 34
        }
      },
      "source": [
        "accuracy = metrics.accuracy_score(y_val, y_val_pred_acc)\n",
        "accuracy"
      ],
      "execution_count": 7,
      "outputs": [
        {
          "output_type": "execute_result",
          "data": {
            "text/plain": [
              "0.696936206790692"
            ]
          },
          "metadata": {
            "tags": []
          },
          "execution_count": 7
        }
      ]
    },
    {
      "cell_type": "code",
      "metadata": {
        "id": "tgS61QUH2ctb",
        "colab_type": "code",
        "outputId": "d26a0057-d48c-42ef-974a-7f14c3f58c20",
        "colab": {
          "base_uri": "https://localhost:8080/",
          "height": 241
        }
      },
      "source": [
        "print(classification_report(y_val, y_val_pred_acc, target_names=['high', 'medium','low']))"
      ],
      "execution_count": 8,
      "outputs": [
        {
          "output_type": "stream",
          "text": [
            "              precision    recall  f1-score   support\n",
            "\n",
            "        high       0.54      0.09      0.15      1299\n",
            "      medium       0.00      0.00      0.00      3704\n",
            "         low       0.70      1.00      0.82     11284\n",
            "\n",
            "    accuracy                           0.70     16287\n",
            "   macro avg       0.41      0.36      0.32     16287\n",
            "weighted avg       0.53      0.70      0.58     16287\n",
            "\n"
          ],
          "name": "stdout"
        },
        {
          "output_type": "stream",
          "text": [
            "/usr/local/lib/python3.6/dist-packages/sklearn/metrics/_classification.py:1272: UndefinedMetricWarning: Precision and F-score are ill-defined and being set to 0.0 in labels with no predicted samples. Use `zero_division` parameter to control this behavior.\n",
            "  _warn_prf(average, modifier, msg_start, len(result))\n"
          ],
          "name": "stderr"
        }
      ]
    },
    {
      "cell_type": "code",
      "metadata": {
        "id": "rGUS9kO6tmXL",
        "colab_type": "code",
        "colab": {}
      },
      "source": [
        "X_test = test_df2\n",
        "y_test = knn.predict_proba(X_test)\n",
        "sub = pd.DataFrame()\n",
        "sub['listing_id'] = test_df['listing_id']\n",
        "for label in ['high', 'medium', 'low']:\n",
        "  sub[label] = y_test[:, target_map[label]]\n",
        "sub.to_csv(\"submission.csv\", index=False)"
      ],
      "execution_count": 0,
      "outputs": []
    }
  ]
}